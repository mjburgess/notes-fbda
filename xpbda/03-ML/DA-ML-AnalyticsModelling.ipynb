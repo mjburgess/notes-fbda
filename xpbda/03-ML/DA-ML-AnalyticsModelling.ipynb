{
 "cells": [
  {
   "cell_type": "code",
   "execution_count": 1,
   "metadata": {},
   "outputs": [],
   "source": [
    "from sklearn import datasets"
   ]
  },
  {
   "cell_type": "code",
   "execution_count": 3,
   "metadata": {},
   "outputs": [],
   "source": [
    "dir(datasets);"
   ]
  },
  {
   "cell_type": "markdown",
   "metadata": {},
   "source": [
    "# Machine Learning\n",
    "## Modelling for Data Analytics\n",
    "\n",
    "### Question 1: Regression\n",
    "* Find the sklearn diabetes regression example using the sklearn documentation\n",
    "\n",
    "* Create your own notebook of this example, partition each step into its own cell & inspect the relevant variables to understand the process\n",
    "\n",
    "* When this is complete, investigate sklearn datasets\n",
    "\n",
    "* Choose a different dataset (eg., breast cancer) and perform the same regression\n",
    "    * you'll need to import it\n",
    "    * choose some columns of the data set for your X\n",
    "        * these will come from dataset.data\n",
    "    * the target (y) is always dataset.target\n",
    "        * this is an sklearn dataset convention\n",
    "\n",
    "* EXTRA:\n",
    "    * Choose more than one column from the features (dataset.data)\n",
    "    * Investigate `train_test_split` and therefore use a better splitting strategy\n",
    "    "
   ]
  },
  {
   "cell_type": "markdown",
   "metadata": {},
   "source": [
    "### Question 2: Classification"
   ]
  },
  {
   "cell_type": "markdown",
   "metadata": {},
   "source": [
    "* Simulate your own classification data set, ie., define an X and a y\n",
    "* Train a KNeighborsClassifier and predict for unknown X\n",
    "\n",
    "* NOTE:\n",
    "    * X should be an array (/list) of multi-column arrays (/list)\n",
    "    * y should be a single-column sequence\n",
    "    * A single unknown X will therefore be a array of one array entry"
   ]
  },
  {
   "cell_type": "code",
   "execution_count": 14,
   "metadata": {},
   "outputs": [
    {
     "name": "stdout",
     "output_type": "stream",
     "text": [
      "[1 1]\n",
      "[[0.33333333 0.66666667]\n",
      " [0.33333333 0.66666667]]\n"
     ]
    }
   ],
   "source": [
    "X = [[18, 7], [30, 8], [40, 5], [50, 2]]\n",
    "y = [1, 1, 0, 0] # classification <- groups\n",
    "\n",
    "from sklearn.neighbors import KNeighborsClassifier\n",
    "\n",
    "neigh = KNeighborsClassifier(n_neighbors=3)\n",
    "neigh.fit(X, y) \n",
    "\n",
    "print(neigh.predict([[22, 8], [31, 5]]))\n",
    "print(neigh.predict_proba([[22, 8], [32, 3]]))"
   ]
  },
  {
   "cell_type": "markdown",
   "metadata": {},
   "source": [
    "## Question 3: Tunining"
   ]
  },
  {
   "cell_type": "markdown",
   "metadata": {},
   "source": [
    "* Try this approach with your own dataset"
   ]
  },
  {
   "cell_type": "code",
   "execution_count": 68,
   "metadata": {},
   "outputs": [
    {
     "name": "stdout",
     "output_type": "stream",
     "text": [
      "0.98 {'n_neighbors': 6}\n",
      "x = [6.3 3.3 6.  2.5] y_guess = [2] answer = 2\n"
     ]
    }
   ],
   "source": [
    "import numpy as np\n",
    "from sklearn.model_selection import GridSearchCV\n",
    "from sklearn.datasets import load_iris\n",
    "from sklearn.neighbors import KNeighborsClassifier\n",
    "\n",
    "iris = load_iris()\n",
    "X = iris.data\n",
    "y = iris.target\n",
    "\n",
    "n = np.arange(1, 31) # n = n[n % 2 == 1]\n",
    "\n",
    "hypers = { 'n_neighbors': n }\n",
    "grid = GridSearchCV(KNeighborsClassifier(), hypers, cv = 5, scoring = 'accuracy')\n",
    "grid.fit(X,y)\n",
    "\n",
    "model = grid.best_estimator_\n",
    "print(grid.best_score_, grid.best_params_)\n",
    "print('x =', X[100], 'y_guess =', model.predict([ X[100] ]), 'answer =', y[100])"
   ]
  },
  {
   "cell_type": "code",
   "execution_count": 66,
   "metadata": {},
   "outputs": [
    {
     "data": {
      "image/png": "[encoded data removed]",
      "text/plain": [
       "<Figure size 432x288 with 1 Axes>"
      ]
     },
     "metadata": {
      "needs_background": "light"
     },
     "output_type": "display_data"
    }
   ],
   "source": [
    "import seaborn as sns\n",
    "sns.lineplot(n, grid.cv_results_['mean_test_score']);"
   ]
  },
  {
   "cell_type": "markdown",
   "metadata": {},
   "source": [
    "## Question 4: Evaluation"
   ]
  },
  {
   "cell_type": "code",
   "execution_count": 94,
   "metadata": {},
   "outputs": [
    {
     "name": "stdout",
     "output_type": "stream",
     "text": [
      "Eval Score:  0.9466666666666667\n",
      "Seen Score on Seen:  0.98\n"
     ]
    }
   ],
   "source": [
    "import numpy as np\n",
    "from sklearn.model_selection import GridSearchCV, train_test_split\n",
    "from sklearn.datasets import load_iris\n",
    "from sklearn.neighbors import KNeighborsClassifier\n",
    "\n",
    "# Data Prep\n",
    "iris = load_iris()\n",
    "X = iris.data\n",
    "y = iris.target\n",
    "\n",
    "X_train, X_test, y_train, y_test = train_test_split(X,y,test_size=0.5)\n",
    "\n",
    "## Modelling\n",
    "n = np.arange(1, 31) # n = n[n % 2 == 1]\n",
    "hypers = { 'n_neighbors': n }\n",
    "grid = GridSearchCV(KNeighborsClassifier(), hypers, cv = 5, scoring = 'accuracy')\n",
    "grid.fit(X_train, y_train)\n",
    "\n",
    "\n",
    "# ------------\n",
    "\n",
    "## Evaluate\n",
    "model = grid.best_estimator_\n",
    "print('Eval Score: ', model.score(X_test, y_test)) \n",
    "#esp. using custom eval metric \n",
    "\n",
    "# -------------\n",
    "\n",
    "## Deploy (retrain)\n",
    "best = KNeighborsClassifier(**grid.best_params_)\n",
    "best.fit(X, y)\n",
    "\n",
    "print('Seen Score on Seen: ', best.score(X, y))"
   ]
  },
  {
   "cell_type": "markdown",
   "metadata": {},
   "source": [
    "## 'Real Evaluation'"
   ]
  },
  {
   "cell_type": "code",
   "execution_count": 90,
   "metadata": {},
   "outputs": [],
   "source": [
    "def loss(y_pred, y_obsv): # 0 1\n",
    "    scores = [ [0, 2],  [-2 * 100 , 0]]\n",
    "    pass"
   ]
  },
  {
   "cell_type": "code",
   "execution_count": 86,
   "metadata": {},
   "outputs": [],
   "source": [
    "def loss(y_pred, y_obsv):\n",
    "    if (y_pred - y_obsv) < 0:\n",
    "        return 1000 * (y_pred - y_obsv)**2\n",
    "    else:\n",
    "        return (y_pred - y_obsv)**2"
   ]
  },
  {
   "cell_type": "code",
   "execution_count": 87,
   "metadata": {},
   "outputs": [
    {
     "data": {
      "text/plain": [
       "4"
      ]
     },
     "execution_count": 87,
     "metadata": {},
     "output_type": "execute_result"
    }
   ],
   "source": [
    "loss(10, 8)"
   ]
  },
  {
   "cell_type": "code",
   "execution_count": 88,
   "metadata": {},
   "outputs": [
    {
     "data": {
      "text/plain": [
       "4000"
      ]
     },
     "execution_count": 88,
     "metadata": {},
     "output_type": "execute_result"
    }
   ],
   "source": [
    "loss(8, 10)"
   ]
  }
 ],
 "metadata": {
  "kernelspec": {
   "display_name": "Python 3",
   "language": "python",
   "name": "python3"
  },
  "language_info": {
   "codemirror_mode": {
    "name": "ipython",
    "version": 3
   },
   "file_extension": ".py",
   "mimetype": "text/x-python",
   "name": "python",
   "nbconvert_exporter": "python",
   "pygments_lexer": "ipython3",
   "version": "3.7.7"
  }
 },
 "nbformat": 4,
 "nbformat_minor": 4
}
