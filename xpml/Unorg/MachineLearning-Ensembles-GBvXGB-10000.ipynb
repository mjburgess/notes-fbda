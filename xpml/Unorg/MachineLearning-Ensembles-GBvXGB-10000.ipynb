{
 "cells": [
  {
   "cell_type": "markdown",
   "metadata": {},
   "source": [
    "# MachineLearning: Ensembles: GB vs XGB"
   ]
  },
  {
   "cell_type": "markdown",
   "metadata": {},
   "source": [
    "#### Illustration: GradientBoostingClassifier vs XGBClassifier: compare: time and accuracy"
   ]
  },
  {
   "cell_type": "code",
   "execution_count": 1,
   "metadata": {
    "collapsed": true
   },
   "outputs": [],
   "source": [
    "from sklearn.datasets import fetch_openml\n",
    "\n",
    "# Load data from https://www.openml.org/d/554\n",
    "X, y = fetch_openml('mnist_784', version=1, return_X_y=True)\n",
    "\n",
    "X_train, X_test = X[:60000], X[60000:]\n",
    "y_train, y_test = y[:60000], y[60000:]\n",
    "\n",
    "from sklearn.utils import shuffle\n",
    "X_train, y_train = shuffle(X_train, y_train)"
   ]
  },
  {
   "cell_type": "code",
   "execution_count": 2,
   "metadata": {},
   "outputs": [
    {
     "data": {
      "text/plain": [
       "0.9368"
      ]
     },
     "execution_count": 2,
     "metadata": {},
     "output_type": "execute_result"
    }
   ],
   "source": [
    "from xgboost import XGBClassifier\n",
    "xgb = XGBClassifier()\n",
    "xgb.fit(X_train, y_train)\n",
    "xgb.score(X_test, y_test)"
   ]
  },
  {
   "cell_type": "code",
   "execution_count": 3,
   "metadata": {},
   "outputs": [
    {
     "name": "stdout",
     "output_type": "stream",
     "text": [
      "10\n",
      "100\n",
      "1000\n",
      "10000\n"
     ]
    }
   ],
   "source": [
    "from time import time\n",
    "\n",
    "times_xgb = []\n",
    "acc_xgb = []\n",
    "times_sklearn = []\n",
    "acc_sklearn = []\n",
    "n_samples_ = [10, 100, 1000, 10000]\n",
    "\n",
    "from sklearn.ensemble import GradientBoostingClassifier\n",
    "\n",
    "for n_samples in n_samples_:\n",
    "    print(n_samples)\n",
    "    # both do 100 trees, 0.1 learning rate by default\n",
    "    xgb = XGBClassifier()\n",
    "    tick = time()\n",
    "    xgb.fit(X_train[:n_samples], y_train[:n_samples])\n",
    "    times_xgb.append(time() - tick)\n",
    "    acc_xgb.append(xgb.score(X_test, y_test))\n",
    "    \n",
    "    gbrt = GradientBoostingClassifier()\n",
    "    tick = time()\n",
    "    gbrt.fit(X_train[:n_samples], y_train[:n_samples])\n",
    "    times_sklearn.append(time() - tick)\n",
    "    acc_sklearn.append(gbrt.score(X_test, y_test))"
   ]
  },
  {
   "cell_type": "code",
   "execution_count": 4,
   "metadata": {},
   "outputs": [
    {
     "name": "stdout",
     "output_type": "stream",
     "text": [
      "10\n",
      "100\n",
      "1000\n",
      "10000\n"
     ]
    }
   ],
   "source": [
    "from time import time\n",
    "times_xgb_hist = []\n",
    "acc_xgb_hist = []\n",
    "n_samples_ = [10, 100, 1000, 10000]\n",
    "for n_samples in n_samples_:\n",
    "    print(n_samples)\n",
    "    # both do 100 trees, 0.1 learning rate by default\n",
    "    xgb = XGBClassifier(tree_method=\"hist\")\n",
    "    tick = time()\n",
    "    xgb.fit(X_train[:n_samples], y_train[:n_samples])\n",
    "    times_xgb_hist.append(time() - tick)\n",
    "    acc_xgb_hist.append(xgb.score(X_test, y_test))"
   ]
  },
  {
   "cell_type": "code",
   "execution_count": 5,
   "metadata": {},
   "outputs": [
    {
     "data": {
      "image/png": "[encoded data removed]",
      "text/plain": [
       "<matplotlib.figure.Figure at 0x16d66305b00>"
      ]
     },
     "metadata": {},
     "output_type": "display_data"
    }
   ],
   "source": [
    "import matplotlib.pyplot as plt\n",
    "\n",
    "tx, = plt.plot(n_samples_, times_xgb, label=\"time xgb\")\n",
    "tsk, = plt.plot(n_samples_, times_sklearn, label=\"time sklearn\")\n",
    "plt.ylabel(\"training time\")\n",
    "plt.xlabel(\"number of samples\")\n",
    "plt.twinx()\n",
    "ax, = plt.plot(n_samples_, acc_xgb, '--', label=\"acc xgb\")\n",
    "ask, = plt.plot(n_samples_, acc_sklearn, '--', label=\"acc sklearn\")\n",
    "plt.ylabel(\"test accuracy\")\n",
    "\n",
    "plt.xscale(\"log\")\n",
    "plt.legend((tx, tsk, ax, ask), ('time xgb', 'time sklearn', 'acc xgb', 'acc sklearn'))\n",
    "plt.savefig(\"images/xgboost_sklearn_bench.png\")\n",
    "\n",
    "plt.show()"
   ]
  },
  {
   "cell_type": "markdown",
   "metadata": {},
   "source": [
    "* as the number of samples increases => runtime increases\n",
    "\n",
    "XGBoost:\n",
    "\n",
    "* similar accuracy\n",
    "* faster performance"
   ]
  }
 ],
 "metadata": {
  "kernelspec": {
   "display_name": "Python 3",
   "language": "python",
   "name": "python3"
  },
  "language_info": {
   "codemirror_mode": {
    "name": "ipython",
    "version": 3
   },
   "file_extension": ".py",
   "mimetype": "text/x-python",
   "name": "python",
   "nbconvert_exporter": "python",
   "pygments_lexer": "ipython3",
   "version": "3.6.3"
  }
 },
 "nbformat": 4,
 "nbformat_minor": 2
}
