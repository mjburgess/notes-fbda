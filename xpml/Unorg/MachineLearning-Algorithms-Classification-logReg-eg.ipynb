{
 "cells": [
  {
   "cell_type": "markdown",
   "metadata": {},
   "source": [
    "# Classification: Logistic Regression: Example"
   ]
  },
  {
   "cell_type": "markdown",
   "metadata": {},
   "source": [
    "## Simulation of credit data"
   ]
  },
  {
   "cell_type": "code",
   "execution_count": 1,
   "metadata": {},
   "outputs": [
    {
     "data": {
      "text/html": [
       "<div>\n",
       "<style scoped>\n",
       "    .dataframe tbody tr th:only-of-type {\n",
       "        vertical-align: middle;\n",
       "    }\n",
       "\n",
       "    .dataframe tbody tr th {\n",
       "        vertical-align: top;\n",
       "    }\n",
       "\n",
       "    .dataframe thead th {\n",
       "        text-align: right;\n",
       "    }\n",
       "</style>\n",
       "<table border=\"1\" class=\"dataframe\">\n",
       "  <thead>\n",
       "    <tr style=\"text-align: right;\">\n",
       "      <th></th>\n",
       "      <th>CustomerID</th>\n",
       "      <th>Income</th>\n",
       "      <th>Monthly</th>\n",
       "      <th>Default</th>\n",
       "      <th>Excess</th>\n",
       "    </tr>\n",
       "  </thead>\n",
       "  <tbody>\n",
       "    <tr>\n",
       "      <td>0</td>\n",
       "      <td>1</td>\n",
       "      <td>22812</td>\n",
       "      <td>1371</td>\n",
       "      <td>0</td>\n",
       "      <td>529</td>\n",
       "    </tr>\n",
       "    <tr>\n",
       "      <td>1</td>\n",
       "      <td>2</td>\n",
       "      <td>27441</td>\n",
       "      <td>1554</td>\n",
       "      <td>0</td>\n",
       "      <td>732</td>\n",
       "    </tr>\n",
       "    <tr>\n",
       "      <td>2</td>\n",
       "      <td>3</td>\n",
       "      <td>17336</td>\n",
       "      <td>1002</td>\n",
       "      <td>0</td>\n",
       "      <td>442</td>\n",
       "    </tr>\n",
       "    <tr>\n",
       "      <td>3</td>\n",
       "      <td>4</td>\n",
       "      <td>21698</td>\n",
       "      <td>1280</td>\n",
       "      <td>0</td>\n",
       "      <td>527</td>\n",
       "    </tr>\n",
       "    <tr>\n",
       "      <td>4</td>\n",
       "      <td>5</td>\n",
       "      <td>26703</td>\n",
       "      <td>2181</td>\n",
       "      <td>0</td>\n",
       "      <td>43</td>\n",
       "    </tr>\n",
       "  </tbody>\n",
       "</table>\n",
       "</div>"
      ],
      "text/plain": [
       "   CustomerID  Income  Monthly  Default  Excess\n",
       "0           1   22812     1371        0     529\n",
       "1           2   27441     1554        0     732\n",
       "2           3   17336     1002        0     442\n",
       "3           4   21698     1280        0     527\n",
       "4           5   26703     2181        0      43"
      ]
     },
     "execution_count": 1,
     "metadata": {},
     "output_type": "execute_result"
    }
   ],
   "source": [
    "import numpy as np\n",
    "import pandas as pd\n",
    "import seaborn as sns\n",
    "%matplotlib inline\n",
    "import sklearn.linear_model as lm\n",
    "\n",
    "num_customers = 2000\n",
    "salary_mean = 24000 # annual after tax\n",
    "salary_sd = 3000\n",
    "\n",
    "monthly_mean = 1500 # monthly outgoings\n",
    "monthly_sd = 300\n",
    "\n",
    "p_low_default = 0.65 # probability of default on loan for low income people\n",
    "p_high_default = 0.05\n",
    "\n",
    "# Start Data Frame with random distribution of values centred as above\n",
    "credit_data = pd.DataFrame({\n",
    "    \"CustomerID\": range(1, num_customers + 1),\n",
    "    \"Income\": np.random.normal(salary_mean, salary_sd, num_customers),\n",
    "    \"Monthly\": np.random.normal(monthly_mean, monthly_sd, num_customers),\n",
    "    \"Default\": [1] * num_customers\n",
    "})\n",
    "\n",
    "# Create Excess column (hidden variable which is real correlate of defaults)\n",
    "credit_data[\"Excess\"] = credit_data[\"Income\"]/12.0 - credit_data[\"Monthly\"]\n",
    "\n",
    "# Generate Defaults from Excess, with a low income group and a high income group\n",
    "\n",
    "# select low income\n",
    "low_income = (credit_data[\"Excess\"] < monthly_sd)\n",
    "num_high, num_low = low_income.value_counts()\n",
    "\n",
    "# low income have a p_low_default chance of default\n",
    "credit_data.loc[low_income, \"Default\"] = np.random.choice([1, 0], num_low , p=[p_low_default, 1 - p_low_default])\n",
    "\n",
    "# high income have a p_high_default chance of default\n",
    "credit_data.loc[~low_income , \"Default\"] = np.random.choice([1, 0], num_high, p=[p_high_default, 1 - p_high_default])\n",
    "\n",
    "\n",
    "# discretize everything to make data more readable and imprecise \n",
    "credit_data = credit_data.astype(int)\n",
    "\n",
    "credit_data.head()"
   ]
  },
  {
   "cell_type": "markdown",
   "metadata": {},
   "source": [
    "### let's see the generated data"
   ]
  },
  {
   "cell_type": "code",
   "execution_count": 2,
   "metadata": {},
   "outputs": [
    {
     "data": {
      "text/plain": [
       "<matplotlib.axes._subplots.AxesSubplot at 0x1a6a5a14438>"
      ]
     },
     "execution_count": 2,
     "metadata": {},
     "output_type": "execute_result"
    },
    {
     "data": {
      "image/png": "[encoded data removed]",
      "text/plain": [
       "<matplotlib.figure.Figure at 0x1a6a5a14278>"
      ]
     },
     "metadata": {},
     "output_type": "display_data"
    }
   ],
   "source": [
    "sns.scatterplot(y=\"Default\", x=\"Excess\", data=credit_data)"
   ]
  },
  {
   "cell_type": "markdown",
   "metadata": {},
   "source": [
    "### Logistic Regression"
   ]
  },
  {
   "cell_type": "code",
   "execution_count": 3,
   "metadata": {},
   "outputs": [
    {
     "data": {
      "text/plain": [
       "LogisticRegression(C=100000.0, class_weight=None, dual=False,\n",
       "                   fit_intercept=True, intercept_scaling=1, l1_ratio=None,\n",
       "                   max_iter=100, multi_class='warn', n_jobs=None, penalty='l2',\n",
       "                   random_state=None, solver='lbfgs', tol=0.0001, verbose=0,\n",
       "                   warm_start=False)"
      ]
     },
     "execution_count": 3,
     "metadata": {},
     "output_type": "execute_result"
    }
   ],
   "source": [
    "X = credit_data[[\"Excess\"]]\n",
    "y = credit_data[[\"Default\"]].values.ravel()\n",
    "\n",
    "clf = lm.LogisticRegression(C=1e5, solver='lbfgs')\n",
    "clf.fit(X, y)"
   ]
  },
  {
   "cell_type": "code",
   "execution_count": 4,
   "metadata": {},
   "outputs": [
    {
     "data": {
      "image/png": "[encoded data removed]",
      "text/plain": [
       "<matplotlib.figure.Figure at 0x1a6b1d70d30>"
      ]
     },
     "metadata": {},
     "output_type": "display_data"
    }
   ],
   "source": [
    "X = np.linspace(-2000, 2000, 300).reshape(-1,1)\n",
    "plot = sns.scatterplot(y=\"Default\", x=\"Excess\", data=credit_data)\n",
    "plot = sns.lineplot(X.ravel(), clf.predict_proba(X)[:, 1].ravel())  # probability curve\n",
    "plot = sns.lineplot(X.ravel(), clf.predict(X).ravel())  # prediction line"
   ]
  },
  {
   "cell_type": "code",
   "execution_count": 5,
   "metadata": {},
   "outputs": [
    {
     "name": "stdout",
     "output_type": "stream",
     "text": [
      "0.38581696220521494\n"
     ]
    }
   ],
   "source": [
    "my_excess_income = 200\n",
    "\n",
    "p_settle, p_default = clf.predict_proba([[my_excess_income]])[0]\n",
    "\n",
    "print(p_default)"
   ]
  },
  {
   "cell_type": "markdown",
   "metadata": {},
   "source": [
    "* Vertical axis is P(Default | Execess)\n",
    "* Probability goes from near 1 at Excess ~= -500  to near 0 at Excess ~= 1500\n",
    "* Model predicts Default when Excess < aprox. 100\n",
    "* Model uses P(Default | Excess) = 0.5 to predict {0, 1}\n",
    "* Most observations Default at  Excess < -300\n",
    "* Most observations NoDefault at Excess > 1300"
   ]
  }
 ],
 "metadata": {
  "kernelspec": {
   "display_name": "Python 3",
   "language": "python",
   "name": "python3"
  },
  "language_info": {
   "codemirror_mode": {
    "name": "ipython",
    "version": 3
   },
   "file_extension": ".py",
   "mimetype": "text/x-python",
   "name": "python",
   "nbconvert_exporter": "python",
   "pygments_lexer": "ipython3",
   "version": "3.7.3"
  }
 },
 "nbformat": 4,
 "nbformat_minor": 2
}
