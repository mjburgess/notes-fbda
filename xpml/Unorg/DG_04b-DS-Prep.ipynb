{
 "cells": [
  {
   "cell_type": "markdown",
   "metadata": {},
   "source": [
    "# Machine Learning: Adult Census Case Study"
   ]
  },
  {
   "cell_type": "markdown",
   "metadata": {},
   "source": [
    "## Notes on Method"
   ]
  },
  {
   "cell_type": "markdown",
   "metadata": {},
   "source": [
    "* NumPy\n",
    "    * python is slow\n",
    "    * optimized and written in C and FORTRAN\n",
    "    \n",
    "    * array()\n",
    "        * data type\n",
    "        * shape = (no. rows, no. cols, no. matrices, ..)\n",
    "        \n",
    "        * (x, y, c, i)"
   ]
  },
  {
   "cell_type": "markdown",
   "metadata": {},
   "source": [
    "* Pandas\n",
    "    * Dataframe = convenient wrapper on an array\n",
    "    * Feature Engineer = Adding a column\n",
    "    * Tabluar "
   ]
  },
  {
   "cell_type": "markdown",
   "metadata": {},
   "source": [
    "* Matplotlib -- a mess for visualizatioin\n",
    "\n",
    "* Seaborn -- almost not a mess, for visualization"
   ]
  },
  {
   "cell_type": "markdown",
   "metadata": {},
   "source": [
    "* Numbers:\n",
    "    * Real  $  \\in \\textbf{R}$\n",
    "       * 0.1 and 0.2\n",
    "       * Height\n",
    "       * Weight\n",
    "       * Distance\n",
    "    \n",
    "    * Imaginary = a pair of numbers that satifisfy +/-/* \n",
    "    \n",
    "    * Binary {0, 1}\n",
    "        * Two-category problem\n",
    "        * fraud/not fraud\n",
    "        * <50, >=50\n",
    "     \n",
    "        \n",
    "    * Categorical\n",
    "        * integers without addition, mult, meanv\n",
    "        \n",
    "    * Ordinal\n",
    "        * categorical + ordering \n",
    "        * rank\n",
    "        * year\n",
    "        \n",
    "    * \n",
    "    * Rational: Ration\n",
    "        * 0.5, 1/2\n",
    "        * continous/real\n",
    "    "
   ]
  },
  {
   "cell_type": "code",
   "execution_count": null,
   "metadata": {},
   "outputs": [],
   "source": []
  },
  {
   "cell_type": "markdown",
   "metadata": {},
   "source": [
    "http://archive.ics.uci.edu/ml/datasets/Adult"
   ]
  },
  {
   "cell_type": "code",
   "execution_count": 26,
   "metadata": {},
   "outputs": [],
   "source": [
    "import pandas as pd\n",
    "import numpy as np\n",
    "import seaborn as sns\n",
    "import matplotlib.pyplot as plt"
   ]
  },
  {
   "cell_type": "code",
   "execution_count": 27,
   "metadata": {
    "scrolled": false
   },
   "outputs": [
    {
     "data": {
      "text/html": [
       "<div>\n",
       "<style scoped>\n",
       "    .dataframe tbody tr th:only-of-type {\n",
       "        vertical-align: middle;\n",
       "    }\n",
       "\n",
       "    .dataframe tbody tr th {\n",
       "        vertical-align: top;\n",
       "    }\n",
       "\n",
       "    .dataframe thead th {\n",
       "        text-align: right;\n",
       "    }\n",
       "</style>\n",
       "<table border=\"1\" class=\"dataframe\">\n",
       "  <thead>\n",
       "    <tr style=\"text-align: right;\">\n",
       "      <th></th>\n",
       "      <th>age</th>\n",
       "      <th>workclass</th>\n",
       "      <th>fnlwgt</th>\n",
       "      <th>education</th>\n",
       "      <th>education-num</th>\n",
       "      <th>marital-status</th>\n",
       "      <th>occupation</th>\n",
       "      <th>relationship</th>\n",
       "      <th>race</th>\n",
       "      <th>sex</th>\n",
       "      <th>capital-gain</th>\n",
       "      <th>capital-loss</th>\n",
       "      <th>hours-per-week</th>\n",
       "      <th>native-country</th>\n",
       "      <th>income</th>\n",
       "    </tr>\n",
       "  </thead>\n",
       "  <tbody>\n",
       "    <tr>\n",
       "      <th>0</th>\n",
       "      <td>39</td>\n",
       "      <td>State-gov</td>\n",
       "      <td>77516</td>\n",
       "      <td>Bachelors</td>\n",
       "      <td>13</td>\n",
       "      <td>Never-married</td>\n",
       "      <td>Adm-clerical</td>\n",
       "      <td>Not-in-family</td>\n",
       "      <td>White</td>\n",
       "      <td>Male</td>\n",
       "      <td>2174</td>\n",
       "      <td>0</td>\n",
       "      <td>40</td>\n",
       "      <td>United-States</td>\n",
       "      <td>&lt;=50K</td>\n",
       "    </tr>\n",
       "    <tr>\n",
       "      <th>1</th>\n",
       "      <td>50</td>\n",
       "      <td>Self-emp-not-inc</td>\n",
       "      <td>83311</td>\n",
       "      <td>Bachelors</td>\n",
       "      <td>13</td>\n",
       "      <td>Married-civ-spouse</td>\n",
       "      <td>Exec-managerial</td>\n",
       "      <td>Husband</td>\n",
       "      <td>White</td>\n",
       "      <td>Male</td>\n",
       "      <td>0</td>\n",
       "      <td>0</td>\n",
       "      <td>13</td>\n",
       "      <td>United-States</td>\n",
       "      <td>&lt;=50K</td>\n",
       "    </tr>\n",
       "    <tr>\n",
       "      <th>2</th>\n",
       "      <td>38</td>\n",
       "      <td>Private</td>\n",
       "      <td>215646</td>\n",
       "      <td>HS-grad</td>\n",
       "      <td>9</td>\n",
       "      <td>Divorced</td>\n",
       "      <td>Handlers-cleaners</td>\n",
       "      <td>Not-in-family</td>\n",
       "      <td>White</td>\n",
       "      <td>Male</td>\n",
       "      <td>0</td>\n",
       "      <td>0</td>\n",
       "      <td>40</td>\n",
       "      <td>United-States</td>\n",
       "      <td>&lt;=50K</td>\n",
       "    </tr>\n",
       "    <tr>\n",
       "      <th>3</th>\n",
       "      <td>53</td>\n",
       "      <td>Private</td>\n",
       "      <td>234721</td>\n",
       "      <td>11th</td>\n",
       "      <td>7</td>\n",
       "      <td>Married-civ-spouse</td>\n",
       "      <td>Handlers-cleaners</td>\n",
       "      <td>Husband</td>\n",
       "      <td>Black</td>\n",
       "      <td>Male</td>\n",
       "      <td>0</td>\n",
       "      <td>0</td>\n",
       "      <td>40</td>\n",
       "      <td>United-States</td>\n",
       "      <td>&lt;=50K</td>\n",
       "    </tr>\n",
       "    <tr>\n",
       "      <th>4</th>\n",
       "      <td>28</td>\n",
       "      <td>Private</td>\n",
       "      <td>338409</td>\n",
       "      <td>Bachelors</td>\n",
       "      <td>13</td>\n",
       "      <td>Married-civ-spouse</td>\n",
       "      <td>Prof-specialty</td>\n",
       "      <td>Wife</td>\n",
       "      <td>Black</td>\n",
       "      <td>Female</td>\n",
       "      <td>0</td>\n",
       "      <td>0</td>\n",
       "      <td>40</td>\n",
       "      <td>Cuba</td>\n",
       "      <td>&lt;=50K</td>\n",
       "    </tr>\n",
       "  </tbody>\n",
       "</table>\n",
       "</div>"
      ],
      "text/plain": [
       "   age          workclass  fnlwgt   education  education-num  \\\n",
       "0   39          State-gov   77516   Bachelors             13   \n",
       "1   50   Self-emp-not-inc   83311   Bachelors             13   \n",
       "2   38            Private  215646     HS-grad              9   \n",
       "3   53            Private  234721        11th              7   \n",
       "4   28            Private  338409   Bachelors             13   \n",
       "\n",
       "        marital-status          occupation    relationship    race      sex  \\\n",
       "0        Never-married        Adm-clerical   Not-in-family   White     Male   \n",
       "1   Married-civ-spouse     Exec-managerial         Husband   White     Male   \n",
       "2             Divorced   Handlers-cleaners   Not-in-family   White     Male   \n",
       "3   Married-civ-spouse   Handlers-cleaners         Husband   Black     Male   \n",
       "4   Married-civ-spouse      Prof-specialty            Wife   Black   Female   \n",
       "\n",
       "   capital-gain  capital-loss  hours-per-week  native-country  income  \n",
       "0          2174             0              40   United-States   <=50K  \n",
       "1             0             0              13   United-States   <=50K  \n",
       "2             0             0              40   United-States   <=50K  \n",
       "3             0             0              40   United-States   <=50K  \n",
       "4             0             0              40            Cuba   <=50K  "
      ]
     },
     "execution_count": 27,
     "metadata": {},
     "output_type": "execute_result"
    }
   ],
   "source": [
    "url = 'http://archive.ics.uci.edu/ml/machine-learning-databases/adult/'\n",
    "\n",
    "cnames = [ \n",
    "    'age', 'workclass', 'fnlwgt', \n",
    "    'education', 'education-num',\n",
    "    'marital-status', 'occupation',\n",
    "    'relationship', 'race', 'sex',\n",
    "    'capital-gain', 'capital-loss',\n",
    "    'hours-per-week', 'native-country', \n",
    "    'income'\n",
    "]\n",
    "\n",
    "df = pd.read_csv(url + 'adult.data', names=cnames)\n",
    "\n",
    "df.head()"
   ]
  },
  {
   "cell_type": "code",
   "execution_count": 28,
   "metadata": {},
   "outputs": [
    {
     "data": {
      "text/plain": [
       "((32561, 14), (32561,))"
      ]
     },
     "execution_count": 28,
     "metadata": {},
     "output_type": "execute_result"
    }
   ],
   "source": [
    "X = df.drop('income', axis=1)\n",
    "y = df['income']\n",
    "\n",
    "X.shape, y.shape"
   ]
  },
  {
   "cell_type": "markdown",
   "metadata": {},
   "source": [
    "## Data Exploration"
   ]
  },
  {
   "cell_type": "code",
   "execution_count": 29,
   "metadata": {},
   "outputs": [
    {
     "data": {
      "text/plain": [
       "0           Adm-clerical\n",
       "1        Exec-managerial\n",
       "2      Handlers-cleaners\n",
       "3         Prof-specialty\n",
       "4          Other-service\n",
       "5                  Sales\n",
       "6           Craft-repair\n",
       "7       Transport-moving\n",
       "8        Farming-fishing\n",
       "9      Machine-op-inspct\n",
       "10          Tech-support\n",
       "11                     ?\n",
       "12       Protective-serv\n",
       "13          Armed-Forces\n",
       "14       Priv-house-serv\n",
       "dtype: object"
      ]
     },
     "execution_count": 29,
     "metadata": {},
     "output_type": "execute_result"
    }
   ],
   "source": [
    "pd.Series(df['occupation'].unique())"
   ]
  },
  {
   "cell_type": "markdown",
   "metadata": {},
   "source": [
    "## Data Preparation: Sketching"
   ]
  },
  {
   "cell_type": "code",
   "execution_count": 30,
   "metadata": {},
   "outputs": [
    {
     "data": {
      "text/plain": [
       "age                  0\n",
       "workclass         1836\n",
       "fnlwgt               0\n",
       "education            0\n",
       "education-num        0\n",
       "marital-status       0\n",
       "occupation        1843\n",
       "relationship         0\n",
       "race                 0\n",
       "sex                  0\n",
       "capital-gain         0\n",
       "capital-loss         0\n",
       "hours-per-week       0\n",
       "native-country     583\n",
       "dtype: int64"
      ]
     },
     "execution_count": 30,
     "metadata": {},
     "output_type": "execute_result"
    }
   ],
   "source": [
    "X = X.replace({' ?': np.nan})\n",
    "X.isna().sum()"
   ]
  },
  {
   "cell_type": "code",
   "execution_count": 31,
   "metadata": {},
   "outputs": [
    {
     "data": {
      "text/plain": [
       "{'age': dtype('int64'),\n",
       " 'workclass': dtype('O'),\n",
       " 'fnlwgt': dtype('int64'),\n",
       " 'education': dtype('O'),\n",
       " 'education-num': dtype('int64'),\n",
       " 'marital-status': dtype('O'),\n",
       " 'occupation': dtype('O'),\n",
       " 'relationship': dtype('O'),\n",
       " 'race': dtype('O'),\n",
       " 'sex': dtype('O'),\n",
       " 'capital-gain': dtype('int64'),\n",
       " 'capital-loss': dtype('int64'),\n",
       " 'hours-per-week': dtype('int64'),\n",
       " 'native-country': dtype('O')}"
      ]
     },
     "execution_count": 31,
     "metadata": {},
     "output_type": "execute_result"
    }
   ],
   "source": [
    "{c: X[c].dtype for c in X.columns}"
   ]
  },
  {
   "cell_type": "code",
   "execution_count": 32,
   "metadata": {},
   "outputs": [
    {
     "data": {
      "text/plain": [
       "Index(['workclass', 'education', 'marital-status', 'occupation',\n",
       "       'relationship', 'race', 'sex', 'native-country', 'income'],\n",
       "      dtype='object')"
      ]
     },
     "execution_count": 32,
     "metadata": {},
     "output_type": "execute_result"
    }
   ],
   "source": [
    "df.select_dtypes(include=['O']).columns"
   ]
  },
  {
   "cell_type": "code",
   "execution_count": 33,
   "metadata": {
    "scrolled": true
   },
   "outputs": [
    {
     "data": {
      "text/plain": [
       "{'workclass': LabelEncoder(),\n",
       " 'education': LabelEncoder(),\n",
       " 'marital-status': LabelEncoder(),\n",
       " 'occupation': LabelEncoder(),\n",
       " 'relationship': LabelEncoder(),\n",
       " 'race': LabelEncoder(),\n",
       " 'sex': LabelEncoder(),\n",
       " 'native-country': LabelEncoder(),\n",
       " 'income': LabelEncoder()}"
      ]
     },
     "execution_count": 33,
     "metadata": {},
     "output_type": "execute_result"
    }
   ],
   "source": [
    "from sklearn.preprocessing import LabelEncoder\n",
    "\n",
    "unlabelled = df.select_dtypes(include=['O']).columns\n",
    "encoders = { c: LabelEncoder().fit(df[c]) for c in unlabelled }\n",
    "\n",
    "\n",
    "encoders"
   ]
  },
  {
   "cell_type": "markdown",
   "metadata": {},
   "source": [
    "## Data Preparation"
   ]
  },
  {
   "cell_type": "markdown",
   "metadata": {},
   "source": [
    "### Sketching: Encoders, NaNs, Splitting"
   ]
  },
  {
   "cell_type": "code",
   "execution_count": 34,
   "metadata": {},
   "outputs": [],
   "source": [
    "from sklearn.model_selection import train_test_split\n",
    "\n",
    "train_X, test_X, train_y, test_y = train_test_split(\n",
    "    X,\n",
    "    y,\n",
    "    test_size = 0.3,\n",
    "    random_state = 3\n",
    ")"
   ]
  },
  {
   "cell_type": "code",
   "execution_count": 35,
   "metadata": {},
   "outputs": [],
   "source": [
    "train_df = train_X.join(train_y).replace({' ?': np.nan}).dropna()\n",
    "test_df = test_X.join(test_y).replace({' ?': np.nan}).dropna()"
   ]
  },
  {
   "cell_type": "code",
   "execution_count": 36,
   "metadata": {},
   "outputs": [
    {
     "data": {
      "text/html": [
       "<div>\n",
       "<style scoped>\n",
       "    .dataframe tbody tr th:only-of-type {\n",
       "        vertical-align: middle;\n",
       "    }\n",
       "\n",
       "    .dataframe tbody tr th {\n",
       "        vertical-align: top;\n",
       "    }\n",
       "\n",
       "    .dataframe thead th {\n",
       "        text-align: right;\n",
       "    }\n",
       "</style>\n",
       "<table border=\"1\" class=\"dataframe\">\n",
       "  <thead>\n",
       "    <tr style=\"text-align: right;\">\n",
       "      <th></th>\n",
       "      <th>age</th>\n",
       "      <th>workclass</th>\n",
       "      <th>fnlwgt</th>\n",
       "      <th>education</th>\n",
       "      <th>education-num</th>\n",
       "      <th>marital-status</th>\n",
       "      <th>occupation</th>\n",
       "      <th>relationship</th>\n",
       "      <th>race</th>\n",
       "      <th>sex</th>\n",
       "      <th>capital-gain</th>\n",
       "      <th>capital-loss</th>\n",
       "      <th>hours-per-week</th>\n",
       "      <th>native-country</th>\n",
       "      <th>income</th>\n",
       "    </tr>\n",
       "  </thead>\n",
       "  <tbody>\n",
       "    <tr>\n",
       "      <th>21591</th>\n",
       "      <td>43</td>\n",
       "      <td>4</td>\n",
       "      <td>281138</td>\n",
       "      <td>11</td>\n",
       "      <td>9</td>\n",
       "      <td>5</td>\n",
       "      <td>7</td>\n",
       "      <td>1</td>\n",
       "      <td>4</td>\n",
       "      <td>0</td>\n",
       "      <td>0</td>\n",
       "      <td>0</td>\n",
       "      <td>40</td>\n",
       "      <td>39</td>\n",
       "      <td>0</td>\n",
       "    </tr>\n",
       "    <tr>\n",
       "      <th>23500</th>\n",
       "      <td>31</td>\n",
       "      <td>4</td>\n",
       "      <td>241885</td>\n",
       "      <td>11</td>\n",
       "      <td>9</td>\n",
       "      <td>2</td>\n",
       "      <td>8</td>\n",
       "      <td>0</td>\n",
       "      <td>4</td>\n",
       "      <td>1</td>\n",
       "      <td>0</td>\n",
       "      <td>0</td>\n",
       "      <td>40</td>\n",
       "      <td>39</td>\n",
       "      <td>0</td>\n",
       "    </tr>\n",
       "    <tr>\n",
       "      <th>20830</th>\n",
       "      <td>33</td>\n",
       "      <td>4</td>\n",
       "      <td>188352</td>\n",
       "      <td>12</td>\n",
       "      <td>14</td>\n",
       "      <td>4</td>\n",
       "      <td>10</td>\n",
       "      <td>1</td>\n",
       "      <td>2</td>\n",
       "      <td>1</td>\n",
       "      <td>0</td>\n",
       "      <td>0</td>\n",
       "      <td>50</td>\n",
       "      <td>39</td>\n",
       "      <td>0</td>\n",
       "    </tr>\n",
       "    <tr>\n",
       "      <th>6345</th>\n",
       "      <td>42</td>\n",
       "      <td>5</td>\n",
       "      <td>369781</td>\n",
       "      <td>5</td>\n",
       "      <td>4</td>\n",
       "      <td>0</td>\n",
       "      <td>3</td>\n",
       "      <td>4</td>\n",
       "      <td>4</td>\n",
       "      <td>1</td>\n",
       "      <td>0</td>\n",
       "      <td>0</td>\n",
       "      <td>25</td>\n",
       "      <td>39</td>\n",
       "      <td>0</td>\n",
       "    </tr>\n",
       "    <tr>\n",
       "      <th>32177</th>\n",
       "      <td>43</td>\n",
       "      <td>4</td>\n",
       "      <td>133584</td>\n",
       "      <td>15</td>\n",
       "      <td>10</td>\n",
       "      <td>2</td>\n",
       "      <td>7</td>\n",
       "      <td>0</td>\n",
       "      <td>4</td>\n",
       "      <td>1</td>\n",
       "      <td>0</td>\n",
       "      <td>0</td>\n",
       "      <td>40</td>\n",
       "      <td>39</td>\n",
       "      <td>0</td>\n",
       "    </tr>\n",
       "  </tbody>\n",
       "</table>\n",
       "</div>"
      ],
      "text/plain": [
       "       age  workclass  fnlwgt  education  education-num  marital-status  \\\n",
       "21591   43          4  281138         11              9               5   \n",
       "23500   31          4  241885         11              9               2   \n",
       "20830   33          4  188352         12             14               4   \n",
       "6345    42          5  369781          5              4               0   \n",
       "32177   43          4  133584         15             10               2   \n",
       "\n",
       "       occupation  relationship  race  sex  capital-gain  capital-loss  \\\n",
       "21591           7             1     4    0             0             0   \n",
       "23500           8             0     4    1             0             0   \n",
       "20830          10             1     2    1             0             0   \n",
       "6345            3             4     4    1             0             0   \n",
       "32177           7             0     4    1             0             0   \n",
       "\n",
       "       hours-per-week  native-country  income  \n",
       "21591              40              39       0  \n",
       "23500              40              39       0  \n",
       "20830              50              39       0  \n",
       "6345               25              39       0  \n",
       "32177              40              39       0  "
      ]
     },
     "execution_count": 36,
     "metadata": {},
     "output_type": "execute_result"
    }
   ],
   "source": [
    "for c in encoders:\n",
    "    train_df[c] = encoders[c].transform(train_df[c])\n",
    "    test_df[c] = encoders[c].transform(test_df[c])\n",
    "    \n",
    "train_df.head()"
   ]
  },
  {
   "cell_type": "code",
   "execution_count": 37,
   "metadata": {
    "scrolled": true
   },
   "outputs": [
    {
     "data": {
      "text/plain": [
       "age               0.991788\n",
       "workclass         0.096669\n",
       "fnlwgt            0.920012\n",
       "education         0.190251\n",
       "education-num     0.713303\n",
       "marital-status    0.017984\n",
       "occupation        0.327789\n",
       "relationship      0.634100\n",
       "race              0.582117\n",
       "sex               0.742670\n",
       "capital-gain      0.335890\n",
       "capital-loss      0.719606\n",
       "hours-per-week    0.160184\n",
       "native-country    0.363897\n",
       "income            0.208701\n",
       "dtype: float64"
      ]
     },
     "execution_count": 37,
     "metadata": {},
     "output_type": "execute_result"
    }
   ],
   "source": [
    "from scipy.stats import ttest_ind\n",
    "\n",
    "\n",
    "pd.Series({ c: ttest_ind(train_df[c], test_df[c]).pvalue for c in train_df.columns })"
   ]
  },
  {
   "cell_type": "markdown",
   "metadata": {},
   "source": [
    "### Sketching: Scaler Features"
   ]
  },
  {
   "cell_type": "code",
   "execution_count": 38,
   "metadata": {},
   "outputs": [
    {
     "data": {
      "text/html": [
       "<div>\n",
       "<style scoped>\n",
       "    .dataframe tbody tr th:only-of-type {\n",
       "        vertical-align: middle;\n",
       "    }\n",
       "\n",
       "    .dataframe tbody tr th {\n",
       "        vertical-align: top;\n",
       "    }\n",
       "\n",
       "    .dataframe thead th {\n",
       "        text-align: right;\n",
       "    }\n",
       "</style>\n",
       "<table border=\"1\" class=\"dataframe\">\n",
       "  <thead>\n",
       "    <tr style=\"text-align: right;\">\n",
       "      <th></th>\n",
       "      <th>age</th>\n",
       "      <th>workclass</th>\n",
       "      <th>fnlwgt</th>\n",
       "      <th>education</th>\n",
       "      <th>education-num</th>\n",
       "      <th>marital-status</th>\n",
       "      <th>occupation</th>\n",
       "      <th>relationship</th>\n",
       "      <th>race</th>\n",
       "      <th>sex</th>\n",
       "      <th>capital-gain</th>\n",
       "      <th>capital-loss</th>\n",
       "      <th>hours-per-week</th>\n",
       "      <th>native-country</th>\n",
       "      <th>income</th>\n",
       "    </tr>\n",
       "  </thead>\n",
       "  <tbody>\n",
       "    <tr>\n",
       "      <th>15921</th>\n",
       "      <td>0.725210</td>\n",
       "      <td>-0.081043</td>\n",
       "      <td>-0.385033</td>\n",
       "      <td>0.170470</td>\n",
       "      <td>-0.439582</td>\n",
       "      <td>1.612497</td>\n",
       "      <td>-0.984115</td>\n",
       "      <td>1.611356</td>\n",
       "      <td>-2.003850</td>\n",
       "      <td>0.691894</td>\n",
       "      <td>-0.145898</td>\n",
       "      <td>-0.21874</td>\n",
       "      <td>0.345479</td>\n",
       "      <td>0.267722</td>\n",
       "      <td>-0.572547</td>\n",
       "    </tr>\n",
       "    <tr>\n",
       "      <th>9911</th>\n",
       "      <td>0.042594</td>\n",
       "      <td>-0.081043</td>\n",
       "      <td>-0.236049</td>\n",
       "      <td>0.170470</td>\n",
       "      <td>-0.439582</td>\n",
       "      <td>-0.397637</td>\n",
       "      <td>-0.984115</td>\n",
       "      <td>-0.888037</td>\n",
       "      <td>0.386129</td>\n",
       "      <td>0.691894</td>\n",
       "      <td>-0.145898</td>\n",
       "      <td>-0.21874</td>\n",
       "      <td>-0.072577</td>\n",
       "      <td>0.267722</td>\n",
       "      <td>-0.572547</td>\n",
       "    </tr>\n",
       "    <tr>\n",
       "      <th>14079</th>\n",
       "      <td>-1.626022</td>\n",
       "      <td>-0.081043</td>\n",
       "      <td>-1.105565</td>\n",
       "      <td>-2.462375</td>\n",
       "      <td>-1.226102</td>\n",
       "      <td>0.942452</td>\n",
       "      <td>1.244258</td>\n",
       "      <td>0.986508</td>\n",
       "      <td>0.386129</td>\n",
       "      <td>0.691894</td>\n",
       "      <td>-0.145898</td>\n",
       "      <td>-0.21874</td>\n",
       "      <td>-1.744802</td>\n",
       "      <td>0.267722</td>\n",
       "      <td>-0.572547</td>\n",
       "    </tr>\n",
       "    <tr>\n",
       "      <th>5266</th>\n",
       "      <td>-0.564175</td>\n",
       "      <td>-0.081043</td>\n",
       "      <td>0.721292</td>\n",
       "      <td>-0.356099</td>\n",
       "      <td>1.133456</td>\n",
       "      <td>0.942452</td>\n",
       "      <td>1.244258</td>\n",
       "      <td>-0.263189</td>\n",
       "      <td>0.386129</td>\n",
       "      <td>0.691894</td>\n",
       "      <td>-0.145898</td>\n",
       "      <td>-0.21874</td>\n",
       "      <td>-0.072577</td>\n",
       "      <td>0.267722</td>\n",
       "      <td>-0.572547</td>\n",
       "    </tr>\n",
       "    <tr>\n",
       "      <th>3095</th>\n",
       "      <td>-0.943406</td>\n",
       "      <td>-0.081043</td>\n",
       "      <td>0.156173</td>\n",
       "      <td>0.170470</td>\n",
       "      <td>-0.439582</td>\n",
       "      <td>0.942452</td>\n",
       "      <td>-1.479309</td>\n",
       "      <td>0.986508</td>\n",
       "      <td>-2.003850</td>\n",
       "      <td>0.691894</td>\n",
       "      <td>-0.145898</td>\n",
       "      <td>-0.21874</td>\n",
       "      <td>-0.072577</td>\n",
       "      <td>0.267722</td>\n",
       "      <td>-0.572547</td>\n",
       "    </tr>\n",
       "    <tr>\n",
       "      <th>4965</th>\n",
       "      <td>1.028595</td>\n",
       "      <td>0.795959</td>\n",
       "      <td>-1.028661</td>\n",
       "      <td>0.960324</td>\n",
       "      <td>1.919975</td>\n",
       "      <td>-0.397637</td>\n",
       "      <td>1.244258</td>\n",
       "      <td>-0.888037</td>\n",
       "      <td>0.386129</td>\n",
       "      <td>0.691894</td>\n",
       "      <td>-0.145898</td>\n",
       "      <td>-0.21874</td>\n",
       "      <td>-0.072577</td>\n",
       "      <td>0.267722</td>\n",
       "      <td>1.746581</td>\n",
       "    </tr>\n",
       "  </tbody>\n",
       "</table>\n",
       "</div>"
      ],
      "text/plain": [
       "            age  workclass    fnlwgt  education  education-num  \\\n",
       "15921  0.725210  -0.081043 -0.385033   0.170470      -0.439582   \n",
       "9911   0.042594  -0.081043 -0.236049   0.170470      -0.439582   \n",
       "14079 -1.626022  -0.081043 -1.105565  -2.462375      -1.226102   \n",
       "5266  -0.564175  -0.081043  0.721292  -0.356099       1.133456   \n",
       "3095  -0.943406  -0.081043  0.156173   0.170470      -0.439582   \n",
       "4965   1.028595   0.795959 -1.028661   0.960324       1.919975   \n",
       "\n",
       "       marital-status  occupation  relationship      race       sex  \\\n",
       "15921        1.612497   -0.984115      1.611356 -2.003850  0.691894   \n",
       "9911        -0.397637   -0.984115     -0.888037  0.386129  0.691894   \n",
       "14079        0.942452    1.244258      0.986508  0.386129  0.691894   \n",
       "5266         0.942452    1.244258     -0.263189  0.386129  0.691894   \n",
       "3095         0.942452   -1.479309      0.986508 -2.003850  0.691894   \n",
       "4965        -0.397637    1.244258     -0.888037  0.386129  0.691894   \n",
       "\n",
       "       capital-gain  capital-loss  hours-per-week  native-country    income  \n",
       "15921     -0.145898      -0.21874        0.345479        0.267722 -0.572547  \n",
       "9911      -0.145898      -0.21874       -0.072577        0.267722 -0.572547  \n",
       "14079     -0.145898      -0.21874       -1.744802        0.267722 -0.572547  \n",
       "5266      -0.145898      -0.21874       -0.072577        0.267722 -0.572547  \n",
       "3095      -0.145898      -0.21874       -0.072577        0.267722 -0.572547  \n",
       "4965      -0.145898      -0.21874       -0.072577        0.267722  1.746581  "
      ]
     },
     "execution_count": 38,
     "metadata": {},
     "output_type": "execute_result"
    }
   ],
   "source": [
    "from sklearn.preprocessing import StandardScaler\n",
    "\n",
    "scaler = StandardScaler()\n",
    "\n",
    "pd.DataFrame(\n",
    "    scaler.fit_transform(train_df.astype(float)),\n",
    "    columns = train_df.columns\n",
    ").sample(6)"
   ]
  },
  {
   "cell_type": "markdown",
   "metadata": {},
   "source": [
    "### Feature Selection"
   ]
  },
  {
   "cell_type": "code",
   "execution_count": 39,
   "metadata": {
    "scrolled": true
   },
   "outputs": [
    {
     "data": {
      "text/plain": [
       "<matplotlib.axes._subplots.AxesSubplot at 0x1b4c25f4be0>"
      ]
     },
     "execution_count": 39,
     "metadata": {},
     "output_type": "execute_result"
    },
    {
     "data": {
      "image/png": "[encoded data removed]",
      "text/plain": [
       "<Figure size 432x288 with 1 Axes>"
      ]
     },
     "metadata": {
      "needs_background": "light"
     },
     "output_type": "display_data"
    }
   ],
   "source": [
    "plt.xticks(rotation=90)\n",
    "sns.countplot(\n",
    "    data = df,\n",
    "    x = 'workclass',\n",
    "    hue = 'income'\n",
    ")"
   ]
  },
  {
   "cell_type": "code",
   "execution_count": 40,
   "metadata": {
    "scrolled": true
   },
   "outputs": [
    {
     "data": {
      "text/plain": [
       "<matplotlib.axes._subplots.AxesSubplot at 0x1b4c2660860>"
      ]
     },
     "execution_count": 40,
     "metadata": {},
     "output_type": "execute_result"
    },
    {
     "data": {
      "image/png": "[encoded data removed]",
      "text/plain": [
       "<Figure size 432x288 with 1 Axes>"
      ]
     },
     "metadata": {
      "needs_background": "light"
     },
     "output_type": "display_data"
    }
   ],
   "source": [
    "plt.xticks(rotation=90)\n",
    "sns.countplot(\n",
    "    data = df,\n",
    "    x = 'occupation',\n",
    "    hue = 'income'\n",
    ")"
   ]
  },
  {
   "cell_type": "code",
   "execution_count": 41,
   "metadata": {
    "scrolled": true
   },
   "outputs": [
    {
     "data": {
      "text/plain": [
       "<matplotlib.axes._subplots.AxesSubplot at 0x1b4c306b940>"
      ]
     },
     "execution_count": 41,
     "metadata": {},
     "output_type": "execute_result"
    },
    {
     "data": {
      "image/png": "[encoded data removed]",
      "text/plain": [
       "<Figure size 432x288 with 1 Axes>"
      ]
     },
     "metadata": {
      "needs_background": "light"
     },
     "output_type": "display_data"
    }
   ],
   "source": [
    "plt.xticks(rotation=90)\n",
    "sns.countplot(\n",
    "    data = df,\n",
    "    x = 'native-country',\n",
    "    hue = 'income'\n",
    ")"
   ]
  },
  {
   "cell_type": "code",
   "execution_count": 42,
   "metadata": {},
   "outputs": [],
   "source": [
    "X = X.drop(['workclass', 'occupation', 'native-country', 'capital-gain'], axis=1)"
   ]
  },
  {
   "cell_type": "markdown",
   "metadata": {},
   "source": [
    "## Defining the Pipeline "
   ]
  },
  {
   "cell_type": "code",
   "execution_count": 43,
   "metadata": {},
   "outputs": [],
   "source": [
    "from sklearn.base import TransformerMixin\n",
    "\n",
    "class ToNaN(TransformerMixin):\n",
    "    def fit(self, X): return self\n",
    "    \n",
    "    def transform(self, X):\n",
    "        return X.replace({' ?': np.nan})"
   ]
  },
  {
   "cell_type": "code",
   "execution_count": 44,
   "metadata": {},
   "outputs": [],
   "source": [
    "class ToCleaned(TransformerMixin):\n",
    "    def fit(self, X): return self\n",
    "    \n",
    "    def transform(self, X):\n",
    "        return X.dropna(axis=0)"
   ]
  },
  {
   "cell_type": "code",
   "execution_count": 45,
   "metadata": {},
   "outputs": [],
   "source": [
    "class ToEncoded(TransformerMixin):\n",
    "    def fit(self, X):\n",
    "        labels = X.select_dtypes(include=['O']).columns\n",
    "        self.encoders = { c: LabelEncoder().fit(X[c]) for c in labels }\n",
    "        return self\n",
    "    \n",
    "    def transform(self, X):\n",
    "        for c in self.encoders:\n",
    "            X[c] = self.encoders[c].transform(X[c])\n",
    "        \n",
    "        return X"
   ]
  },
  {
   "cell_type": "code",
   "execution_count": 46,
   "metadata": {},
   "outputs": [],
   "source": [
    "class ToScaled(TransformerMixin):       \n",
    "    def fit(self, X):\n",
    "        self.scaler = StandardScaler()\n",
    "        self.scaler.fit(X.astype(float))\n",
    "        \n",
    "        return self\n",
    "    \n",
    "    def transform(self, X):\n",
    "        df = pd.DataFrame(\n",
    "            self.scaler.transform(X),\n",
    "            columns = X.columns\n",
    "        )\n",
    "        \n",
    "        df['income'] = X['income']\n",
    "        return df"
   ]
  },
  {
   "cell_type": "code",
   "execution_count": 47,
   "metadata": {},
   "outputs": [],
   "source": [
    "class ToSelected(TransformerMixin):\n",
    "    def fit(self, X): return self\n",
    "    \n",
    "    def transform(self, X):\n",
    "        return X.drop(['workclass', 'occupation', 'native-country', 'capital-gain'], axis=1)"
   ]
  },
  {
   "cell_type": "code",
   "execution_count": 48,
   "metadata": {},
   "outputs": [],
   "source": [
    "from sklearn.pipeline import Pipeline\n",
    "\n",
    "adult_pipeline = Pipeline([\n",
    "    ('SelectFeatures', ToSelected()),\n",
    "    ('ReplaceNaN', ToNaN()),\n",
    "    ('RemoveNaN', ToCleaned()),\n",
    "    ('EncodeNumeric', ToEncoded()),\n",
    "    ('ScaleNumeric', ToScaled())\n",
    "])"
   ]
  },
  {
   "cell_type": "markdown",
   "metadata": {},
   "source": [
    "## Data Preparation"
   ]
  },
  {
   "cell_type": "code",
   "execution_count": 49,
   "metadata": {
    "scrolled": true
   },
   "outputs": [
    {
     "name": "stderr",
     "output_type": "stream",
     "text": [
      "C:\\ProgramData\\Anaconda3\\lib\\site-packages\\ipykernel_launcher.py:10: DataConversionWarning: Data with input dtype int32, int64 were all converted to float64 by StandardScaler.\n",
      "  # Remove the CWD from sys.path while we load stuff.\n"
     ]
    },
    {
     "data": {
      "text/html": [
       "<div>\n",
       "<style scoped>\n",
       "    .dataframe tbody tr th:only-of-type {\n",
       "        vertical-align: middle;\n",
       "    }\n",
       "\n",
       "    .dataframe tbody tr th {\n",
       "        vertical-align: top;\n",
       "    }\n",
       "\n",
       "    .dataframe thead th {\n",
       "        text-align: right;\n",
       "    }\n",
       "</style>\n",
       "<table border=\"1\" class=\"dataframe\">\n",
       "  <thead>\n",
       "    <tr style=\"text-align: right;\">\n",
       "      <th></th>\n",
       "      <th>age</th>\n",
       "      <th>fnlwgt</th>\n",
       "      <th>education</th>\n",
       "      <th>education-num</th>\n",
       "      <th>marital-status</th>\n",
       "      <th>relationship</th>\n",
       "      <th>race</th>\n",
       "      <th>sex</th>\n",
       "      <th>capital-loss</th>\n",
       "      <th>hours-per-week</th>\n",
       "      <th>income</th>\n",
       "    </tr>\n",
       "  </thead>\n",
       "  <tbody>\n",
       "    <tr>\n",
       "      <th>16769</th>\n",
       "      <td>-1.142331</td>\n",
       "      <td>0.243155</td>\n",
       "      <td>1.214869</td>\n",
       "      <td>-0.031360</td>\n",
       "      <td>0.921634</td>\n",
       "      <td>-0.277805</td>\n",
       "      <td>0.393668</td>\n",
       "      <td>0.703071</td>\n",
       "      <td>-0.21666</td>\n",
       "      <td>-2.060174</td>\n",
       "      <td>0</td>\n",
       "    </tr>\n",
       "    <tr>\n",
       "      <th>30977</th>\n",
       "      <td>0.397233</td>\n",
       "      <td>0.559911</td>\n",
       "      <td>-0.335437</td>\n",
       "      <td>1.134739</td>\n",
       "      <td>-1.734058</td>\n",
       "      <td>-0.277805</td>\n",
       "      <td>0.393668</td>\n",
       "      <td>0.703071</td>\n",
       "      <td>-0.21666</td>\n",
       "      <td>0.774468</td>\n",
       "      <td>0</td>\n",
       "    </tr>\n",
       "    <tr>\n",
       "      <th>7084</th>\n",
       "      <td>0.397233</td>\n",
       "      <td>0.609840</td>\n",
       "      <td>0.439716</td>\n",
       "      <td>1.523438</td>\n",
       "      <td>-0.406212</td>\n",
       "      <td>-0.900181</td>\n",
       "      <td>0.393668</td>\n",
       "      <td>0.703071</td>\n",
       "      <td>-0.21666</td>\n",
       "      <td>-0.035429</td>\n",
       "      <td>1</td>\n",
       "    </tr>\n",
       "    <tr>\n",
       "      <th>25626</th>\n",
       "      <td>-1.215643</td>\n",
       "      <td>0.193150</td>\n",
       "      <td>1.214869</td>\n",
       "      <td>-0.031360</td>\n",
       "      <td>0.921634</td>\n",
       "      <td>-0.277805</td>\n",
       "      <td>0.393668</td>\n",
       "      <td>0.703071</td>\n",
       "      <td>-0.21666</td>\n",
       "      <td>-0.035429</td>\n",
       "      <td>0</td>\n",
       "    </tr>\n",
       "    <tr>\n",
       "      <th>4282</th>\n",
       "      <td>-0.555830</td>\n",
       "      <td>1.098204</td>\n",
       "      <td>1.214869</td>\n",
       "      <td>-0.031360</td>\n",
       "      <td>-0.406212</td>\n",
       "      <td>2.211698</td>\n",
       "      <td>-1.962621</td>\n",
       "      <td>-1.422331</td>\n",
       "      <td>-0.21666</td>\n",
       "      <td>-0.035429</td>\n",
       "      <td>0</td>\n",
       "    </tr>\n",
       "    <tr>\n",
       "      <th>2900</th>\n",
       "      <td>0.617171</td>\n",
       "      <td>3.636292</td>\n",
       "      <td>0.181332</td>\n",
       "      <td>-0.420060</td>\n",
       "      <td>-0.406212</td>\n",
       "      <td>-0.900181</td>\n",
       "      <td>0.393668</td>\n",
       "      <td>0.703071</td>\n",
       "      <td>-0.21666</td>\n",
       "      <td>0.612489</td>\n",
       "      <td>1</td>\n",
       "    </tr>\n",
       "  </tbody>\n",
       "</table>\n",
       "</div>"
      ],
      "text/plain": [
       "            age    fnlwgt  education  education-num  marital-status  \\\n",
       "16769 -1.142331  0.243155   1.214869      -0.031360        0.921634   \n",
       "30977  0.397233  0.559911  -0.335437       1.134739       -1.734058   \n",
       "7084   0.397233  0.609840   0.439716       1.523438       -0.406212   \n",
       "25626 -1.215643  0.193150   1.214869      -0.031360        0.921634   \n",
       "4282  -0.555830  1.098204   1.214869      -0.031360       -0.406212   \n",
       "2900   0.617171  3.636292   0.181332      -0.420060       -0.406212   \n",
       "\n",
       "       relationship      race       sex  capital-loss  hours-per-week  income  \n",
       "16769     -0.277805  0.393668  0.703071      -0.21666       -2.060174       0  \n",
       "30977     -0.277805  0.393668  0.703071      -0.21666        0.774468       0  \n",
       "7084      -0.900181  0.393668  0.703071      -0.21666       -0.035429       1  \n",
       "25626     -0.277805  0.393668  0.703071      -0.21666       -0.035429       0  \n",
       "4282       2.211698 -1.962621 -1.422331      -0.21666       -0.035429       0  \n",
       "2900      -0.900181  0.393668  0.703071      -0.21666        0.612489       1  "
      ]
     },
     "execution_count": 49,
     "metadata": {},
     "output_type": "execute_result"
    }
   ],
   "source": [
    "adult_df = adult_pipeline.fit_transform(df)\n",
    "adult_df.sample(6)"
   ]
  },
  {
   "cell_type": "code",
   "execution_count": 50,
   "metadata": {},
   "outputs": [],
   "source": [
    "X = adult_df.drop('income', axis=1)\n",
    "y = adult_df['income']\n",
    "\n",
    "train_X, test_X, train_y, test_y = train_test_split(\n",
    "    X,\n",
    "    y,\n",
    "    test_size = 0.3,\n",
    "    random_state = 2\n",
    ")"
   ]
  },
  {
   "cell_type": "markdown",
   "metadata": {},
   "source": [
    "## Modelling\n"
   ]
  },
  {
   "cell_type": "code",
   "execution_count": 51,
   "metadata": {},
   "outputs": [
    {
     "data": {
      "text/plain": [
       "DecisionTreeClassifier(class_weight=None, criterion='gini', max_depth=9,\n",
       "            max_features=None, max_leaf_nodes=None,\n",
       "            min_impurity_decrease=0.0, min_impurity_split=None,\n",
       "            min_samples_leaf=1, min_samples_split=2,\n",
       "            min_weight_fraction_leaf=0.0, presort=False, random_state=None,\n",
       "            splitter='best')"
      ]
     },
     "execution_count": 51,
     "metadata": {},
     "output_type": "execute_result"
    }
   ],
   "source": [
    "from sklearn.tree import DecisionTreeClassifier\n",
    "\n",
    "model = DecisionTreeClassifier(\n",
    "    max_depth = 9\n",
    ")\n",
    "\n",
    "model.fit(train_X, train_y)"
   ]
  },
  {
   "cell_type": "markdown",
   "metadata": {},
   "source": [
    "## Prediction"
   ]
  },
  {
   "cell_type": "code",
   "execution_count": 198,
   "metadata": {},
   "outputs": [
    {
     "data": {
      "text/plain": [
       "array([0, 0, 1, 0, 0])"
      ]
     },
     "execution_count": 198,
     "metadata": {},
     "output_type": "execute_result"
    }
   ],
   "source": [
    "predicted_y = model.predict(test_X)\n",
    "predicted_y[:5]"
   ]
  },
  {
   "cell_type": "markdown",
   "metadata": {},
   "source": [
    "## Evaluation"
   ]
  },
  {
   "cell_type": "code",
   "execution_count": 23,
   "metadata": {},
   "outputs": [],
   "source": [
    "from sklearn.metrics import confusion_matrix, classification_report"
   ]
  },
  {
   "cell_type": "code",
   "execution_count": 199,
   "metadata": {},
   "outputs": [
    {
     "data": {
      "text/plain": [
       "array([[6763,  597],\n",
       "       [1089, 1320]])"
      ]
     },
     "execution_count": 199,
     "metadata": {},
     "output_type": "execute_result"
    }
   ],
   "source": [
    "confusion_matrix(test_y, predicted_y)"
   ]
  },
  {
   "cell_type": "code",
   "execution_count": 68,
   "metadata": {},
   "outputs": [
    {
     "name": "stdout",
     "output_type": "stream",
     "text": [
      "              precision    recall  f1-score   support\n",
      "\n",
      "           0       0.86      0.92      0.89      7360\n",
      "           1       0.69      0.54      0.61      2409\n",
      "\n",
      "   micro avg       0.83      0.83      0.83      9769\n",
      "   macro avg       0.77      0.73      0.75      9769\n",
      "weighted avg       0.82      0.83      0.82      9769\n",
      "\n"
     ]
    }
   ],
   "source": [
    "l = adult_pipeline.steps[3][1].encoders['income'].classes_\n",
    "\n",
    "print(classification_report(test_y, model.predict(test_X)))"
   ]
  },
  {
   "cell_type": "code",
   "execution_count": 64,
   "metadata": {},
   "outputs": [
    {
     "name": "stdout",
     "output_type": "stream",
     "text": [
      "Help on function classification_report in module sklearn.metrics.classification:\n",
      "\n",
      "classification_report(y_true, y_pred, labels=None, target_names=None, sample_weight=None, digits=2, output_dict=False)\n",
      "    Build a text report showing the main classification metrics\n",
      "    \n",
      "    Read more in the :ref:`User Guide <classification_report>`.\n",
      "    \n",
      "    Parameters\n",
      "    ----------\n",
      "    y_true : 1d array-like, or label indicator array / sparse matrix\n",
      "        Ground truth (correct) target values.\n",
      "    \n",
      "    y_pred : 1d array-like, or label indicator array / sparse matrix\n",
      "        Estimated targets as returned by a classifier.\n",
      "    \n",
      "    labels : array, shape = [n_labels]\n",
      "        Optional list of label indices to include in the report.\n",
      "    \n",
      "    target_names : list of strings\n",
      "        Optional display names matching the labels (same order).\n",
      "    \n",
      "    sample_weight : array-like of shape = [n_samples], optional\n",
      "        Sample weights.\n",
      "    \n",
      "    digits : int\n",
      "        Number of digits for formatting output floating point values.\n",
      "        When ``output_dict`` is ``True``, this will be ignored and the\n",
      "        returned values will not be rounded.\n",
      "    \n",
      "    output_dict : bool (default = False)\n",
      "        If True, return output as dict\n",
      "    \n",
      "    Returns\n",
      "    -------\n",
      "    report : string / dict\n",
      "        Text summary of the precision, recall, F1 score for each class.\n",
      "        Dictionary returned if output_dict is True. Dictionary has the\n",
      "        following structure::\n",
      "    \n",
      "            {'label 1': {'precision':0.5,\n",
      "                         'recall':1.0,\n",
      "                         'f1-score':0.67,\n",
      "                         'support':1},\n",
      "             'label 2': { ... },\n",
      "              ...\n",
      "            }\n",
      "    \n",
      "        The reported averages include micro average (averaging the\n",
      "        total true positives, false negatives and false positives), macro\n",
      "        average (averaging the unweighted mean per label), weighted average\n",
      "        (averaging the support-weighted mean per label) and sample average\n",
      "        (only for multilabel classification). See also\n",
      "        :func:`precision_recall_fscore_support` for more details on averages.\n",
      "    \n",
      "        Note that in binary classification, recall of the positive class\n",
      "        is also known as \"sensitivity\"; recall of the negative class is\n",
      "        \"specificity\".\n",
      "    \n",
      "    Examples\n",
      "    --------\n",
      "    >>> from sklearn.metrics import classification_report\n",
      "    >>> y_true = [0, 1, 2, 2, 2]\n",
      "    >>> y_pred = [0, 0, 2, 2, 1]\n",
      "    >>> target_names = ['class 0', 'class 1', 'class 2']\n",
      "    >>> print(classification_report(y_true, y_pred, target_names=target_names))\n",
      "                  precision    recall  f1-score   support\n",
      "    <BLANKLINE>\n",
      "         class 0       0.50      1.00      0.67         1\n",
      "         class 1       0.00      0.00      0.00         1\n",
      "         class 2       1.00      0.67      0.80         3\n",
      "    <BLANKLINE>\n",
      "       micro avg       0.60      0.60      0.60         5\n",
      "       macro avg       0.50      0.56      0.49         5\n",
      "    weighted avg       0.70      0.60      0.61         5\n",
      "    <BLANKLINE>\n",
      "\n"
     ]
    }
   ],
   "source": [
    "help(classification_report)"
   ]
  },
  {
   "cell_type": "markdown",
   "metadata": {},
   "source": [
    "## Improvements"
   ]
  },
  {
   "cell_type": "code",
   "execution_count": 204,
   "metadata": {},
   "outputs": [
    {
     "data": {
      "text/plain": [
       "RandomForestClassifier(bootstrap=True, class_weight={0: 1, 1: 1},\n",
       "            criterion='gini', max_depth=7, max_features='auto',\n",
       "            max_leaf_nodes=None, min_impurity_decrease=0.0,\n",
       "            min_impurity_split=None, min_samples_leaf=1,\n",
       "            min_samples_split=2, min_weight_fraction_leaf=0.0,\n",
       "            n_estimators=20, n_jobs=None, oob_score=False,\n",
       "            random_state=None, verbose=0, warm_start=False)"
      ]
     },
     "execution_count": 204,
     "metadata": {},
     "output_type": "execute_result"
    }
   ],
   "source": [
    "from sklearn.ensemble import RandomForestClassifier\n",
    "\n",
    "\n",
    "model = RandomForestClassifier(\n",
    "     max_depth = 7,\n",
    "     n_estimators = 20,\n",
    "     class_weight = {0:1, 1:1}\n",
    ")\n",
    "\n",
    "model.fit(train_X, train_y)"
   ]
  },
  {
   "cell_type": "code",
   "execution_count": 205,
   "metadata": {},
   "outputs": [
    {
     "name": "stdout",
     "output_type": "stream",
     "text": [
      "              precision    recall  f1-score   support\n",
      "\n",
      "           0       0.84      0.94      0.89      7360\n",
      "           1       0.73      0.46      0.57      2409\n",
      "\n",
      "   micro avg       0.83      0.83      0.83      9769\n",
      "   macro avg       0.79      0.70      0.73      9769\n",
      "weighted avg       0.82      0.83      0.81      9769\n",
      "\n"
     ]
    }
   ],
   "source": [
    "print(classification_report(test_y, model.predict(test_X)))"
   ]
  },
  {
   "cell_type": "code",
   "execution_count": 211,
   "metadata": {},
   "outputs": [
    {
     "name": "stderr",
     "output_type": "stream",
     "text": [
      "/Users/mjburgess/anaconda3/lib/python3.7/site-packages/sklearn/model_selection/_split.py:2053: FutureWarning: You should specify a value for 'cv' instead of relying on the default value. The default value will change from 3 to 5 in version 0.22.\n",
      "  warnings.warn(CV_WARNING, FutureWarning)\n"
     ]
    },
    {
     "data": {
      "text/plain": [
       "RandomForestClassifier(bootstrap=True, class_weight={0: 1, 1: 1},\n",
       "            criterion='gini', max_depth=15, max_features='auto',\n",
       "            max_leaf_nodes=None, min_impurity_decrease=0.0,\n",
       "            min_impurity_split=None, min_samples_leaf=1,\n",
       "            min_samples_split=2, min_weight_fraction_leaf=0.0,\n",
       "            n_estimators=150, n_jobs=None, oob_score=False,\n",
       "            random_state=None, verbose=0, warm_start=False)"
      ]
     },
     "execution_count": 211,
     "metadata": {},
     "output_type": "execute_result"
    }
   ],
   "source": [
    "from sklearn.model_selection import GridSearchCV\n",
    "\n",
    "params = {'max_depth': [5,9,15], \n",
    "          'n_estimators': [10, 50, 100, 150]}\n",
    "\n",
    "model = GridSearchCV(\n",
    "    RandomForestClassifier(class_weight = {0:1, 1:1}),\n",
    "    params,\n",
    "    scoring = 'f1_macro'\n",
    ")\n",
    "\n",
    "model.fit(X, y)\n",
    "model.best_estimator_"
   ]
  },
  {
   "cell_type": "code",
   "execution_count": 212,
   "metadata": {},
   "outputs": [
    {
     "name": "stdout",
     "output_type": "stream",
     "text": [
      "              precision    recall  f1-score   support\n",
      "\n",
      "           0       0.90      0.95      0.93      7360\n",
      "           1       0.82      0.69      0.75      2409\n",
      "\n",
      "   micro avg       0.89      0.89      0.89      9769\n",
      "   macro avg       0.86      0.82      0.84      9769\n",
      "weighted avg       0.88      0.89      0.88      9769\n",
      "\n"
     ]
    }
   ],
   "source": [
    "print(classification_report(test_y, model.best_estimator_.predict(test_X)))"
   ]
  }
 ],
 "metadata": {
  "kernelspec": {
   "display_name": "Python 3",
   "language": "python",
   "name": "python3"
  },
  "language_info": {
   "codemirror_mode": {
    "name": "ipython",
    "version": 3
   },
   "file_extension": ".py",
   "mimetype": "text/x-python",
   "name": "python",
   "nbconvert_exporter": "python",
   "pygments_lexer": "ipython3",
   "version": "3.6.6"
  }
 },
 "nbformat": 4,
 "nbformat_minor": 2
}
