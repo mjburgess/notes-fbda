{
 "cells": [
  {
   "cell_type": "markdown",
   "metadata": {},
   "source": [
    "# Classification: Naive Bayes"
   ]
  },
  {
   "cell_type": "markdown",
   "metadata": {},
   "source": [
    "## Bayesian classification\n",
    "\n",
    "* finding $P(L~|~{\\rm features})$, the **probability of a label given some observed features**\n",
    "\n",
    "* relies on **Bayes Theorem**"
   ]
  },
  {
   "cell_type": "markdown",
   "metadata": {},
   "source": [
    "## Naive Bayes model:\n",
    "\n",
    "* generative model for each label\n",
    "* assumes predictors are independent (\"NAIVE\") \"class conditional independence\"\n",
    "\n",
    "    * i.e. the presence/effect of a particular feature in a class is unrelated to the presence of any other feature\n",
    "    \n",
    "    * e.g. a fruit may be classified as an apple if it is red, round, and approx 5 cm in diameter\n",
    "        * these features may depend on each other or upon the existence of the other features\n",
    "        * all of these properties independently contribute to the probability that this fruit is an apple => NAIVE\n",
    "\n",
    "    * e.g. a loan applicant is desirable or not depending on his/her income, previous loan and transaction history, age, and location\n",
    "        * Even if these features are interdependent, these features are still considered independently"
   ]
  },
  {
   "cell_type": "markdown",
   "metadata": {},
   "source": [
    "### Steps:\n",
    "\n",
    "1. Calculate the prior probability for given class labels\n",
    "* Find Likelihood probability with each attribute for each class (i.e. via mean and standard devation)\n",
    "* Put these value in Bayes Formula and calculate posterior probability.\n",
    "* See which class has a higher probability, given the input belongs to the higher probability class."
   ]
  },
  {
   "cell_type": "markdown",
   "metadata": {},
   "source": [
    "### Benefits/Advantages: \n",
    "\n",
    "* **simple** generative model \n",
    "* extremely **fast** and simple classification algorithm \n",
    "* suitable for very **high-dimensional** datasets\n",
    "* few tunable parameters, they end up being very useful as a \"quickanddirty\" baseline for a classification problem\n",
    "\n",
    "### Disadvantages:\n",
    "\n",
    "* In practice, it is almost impossible that model will get a set of predictors which are entirely independent."
   ]
  },
  {
   "cell_type": "markdown",
   "metadata": {},
   "source": [
    "### Applications\n",
    "\n",
    "* spam filtering\n",
    "* text classification\n",
    "* sentiment analysis\n",
    "* recommender systems"
   ]
  },
  {
   "cell_type": "markdown",
   "metadata": {},
   "source": [
    "**Multinomial Naive Bayes**\n",
    "\n",
    "    This is mostly used for document classification problem,\n",
    "    i.e whether a document belongs to the category of sports, politics, technology etc. \n",
    "    The features/predictors used by the classifier are the frequency of the words present in the document.\n",
    "\n",
    "**Bernoulli Naive Bayes**\n",
    "\n",
    "    This is similar to the multinomial naive bayes but the predictors are boolean variables. \n",
    "    The parameters that we use to predict the class variable take up only values yes or no, for example if a word occurs in the text or not.\n",
    "\n",
    "**Gaussian Naive Bayes**\n",
    "\n",
    "    When the predictors take up a continuous value and are not discrete, \n",
    "    we assume that these values are sampled from a gaussian distribution."
   ]
  },
  {
   "cell_type": "markdown",
   "metadata": {},
   "source": [
    "* further reading: https://scikit-learn.org/stable/modules/naive_bayes.html"
   ]
  }
 ],
 "metadata": {
  "kernelspec": {
   "display_name": "Python 3",
   "language": "python",
   "name": "python3"
  },
  "language_info": {
   "codemirror_mode": {
    "name": "ipython",
    "version": 3
   },
   "file_extension": ".py",
   "mimetype": "text/x-python",
   "name": "python",
   "nbconvert_exporter": "python",
   "pygments_lexer": "ipython3",
   "version": "3.6.3"
  }
 },
 "nbformat": 4,
 "nbformat_minor": 2
}
