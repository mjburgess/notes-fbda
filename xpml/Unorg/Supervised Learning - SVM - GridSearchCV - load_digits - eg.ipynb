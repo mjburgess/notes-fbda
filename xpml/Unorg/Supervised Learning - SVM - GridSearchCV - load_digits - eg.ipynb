{
 "cells": [
  {
   "cell_type": "markdown",
   "metadata": {},
   "source": [
    "# Supervised Learning: Support Vector Machines: SVMs\n",
    "\n",
    "# GridSearchCV: load_digits"
   ]
  },
  {
   "cell_type": "code",
   "execution_count": 1,
   "metadata": {},
   "outputs": [
    {
     "data": {
      "image/png": "[encoded data removed]",
      "text/plain": [
       "<matplotlib.figure.Figure at 0x129cf12fa90>"
      ]
     },
     "metadata": {},
     "output_type": "display_data"
    }
   ],
   "source": [
    "import numpy as np\n",
    "import matplotlib.pyplot as plt\n",
    "%matplotlib inline\n",
    "\n",
    "from sklearn.datasets import load_digits\n",
    "digits = load_digits()\n",
    "\n",
    "from sklearn.model_selection import train_test_split\n",
    "X_train, X_test, y_train, y_test = train_test_split(\n",
    "    digits.data, digits.target, stratify=digits.target, random_state=0)\n",
    "\n",
    "fig, axes = plt.subplots(4, 4)\n",
    "for x, y, ax in zip(X_train, y_train, axes.ravel()):\n",
    "    ax.set_title(y)\n",
    "    ax.imshow(x.reshape(8, 8), cmap=\"gray_r\")\n",
    "    ax.set_xticks(())\n",
    "    ax.set_yticks(())\n",
    "plt.tight_layout()"
   ]
  },
  {
   "cell_type": "code",
   "execution_count": 2,
   "metadata": {
    "scrolled": false
   },
   "outputs": [
    {
     "name": "stderr",
     "output_type": "stream",
     "text": [
      "C:\\Users\\KUNAL\\Anaconda3\\lib\\site-packages\\sklearn\\svm\\base.py:193: FutureWarning: The default value of gamma will change from 'auto' to 'scale' in version 0.22 to account better for unscaled features. Set gamma explicitly to 'auto' or 'scale' to avoid this warning.\n",
      "  \"avoid this warning.\", FutureWarning)\n",
      "C:\\Users\\KUNAL\\Anaconda3\\lib\\site-packages\\sklearn\\svm\\base.py:193: FutureWarning: The default value of gamma will change from 'auto' to 'scale' in version 0.22 to account better for unscaled features. Set gamma explicitly to 'auto' or 'scale' to avoid this warning.\n",
      "  \"avoid this warning.\", FutureWarning)\n",
      "C:\\Users\\KUNAL\\Anaconda3\\lib\\site-packages\\sklearn\\svm\\base.py:193: FutureWarning: The default value of gamma will change from 'auto' to 'scale' in version 0.22 to account better for unscaled features. Set gamma explicitly to 'auto' or 'scale' to avoid this warning.\n",
      "  \"avoid this warning.\", FutureWarning)\n",
      "C:\\Users\\KUNAL\\Anaconda3\\lib\\site-packages\\sklearn\\svm\\base.py:193: FutureWarning: The default value of gamma will change from 'auto' to 'scale' in version 0.22 to account better for unscaled features. Set gamma explicitly to 'auto' or 'scale' to avoid this warning.\n",
      "  \"avoid this warning.\", FutureWarning)\n",
      "C:\\Users\\KUNAL\\Anaconda3\\lib\\site-packages\\sklearn\\svm\\base.py:193: FutureWarning: The default value of gamma will change from 'auto' to 'scale' in version 0.22 to account better for unscaled features. Set gamma explicitly to 'auto' or 'scale' to avoid this warning.\n",
      "  \"avoid this warning.\", FutureWarning)\n",
      "C:\\Users\\KUNAL\\Anaconda3\\lib\\site-packages\\sklearn\\svm\\base.py:193: FutureWarning: The default value of gamma will change from 'auto' to 'scale' in version 0.22 to account better for unscaled features. Set gamma explicitly to 'auto' or 'scale' to avoid this warning.\n",
      "  \"avoid this warning.\", FutureWarning)\n",
      "C:\\Users\\KUNAL\\Anaconda3\\lib\\site-packages\\sklearn\\svm\\base.py:193: FutureWarning: The default value of gamma will change from 'auto' to 'scale' in version 0.22 to account better for unscaled features. Set gamma explicitly to 'auto' or 'scale' to avoid this warning.\n",
      "  \"avoid this warning.\", FutureWarning)\n",
      "C:\\Users\\KUNAL\\Anaconda3\\lib\\site-packages\\sklearn\\svm\\base.py:193: FutureWarning: The default value of gamma will change from 'auto' to 'scale' in version 0.22 to account better for unscaled features. Set gamma explicitly to 'auto' or 'scale' to avoid this warning.\n",
      "  \"avoid this warning.\", FutureWarning)\n",
      "C:\\Users\\KUNAL\\Anaconda3\\lib\\site-packages\\sklearn\\svm\\base.py:193: FutureWarning: The default value of gamma will change from 'auto' to 'scale' in version 0.22 to account better for unscaled features. Set gamma explicitly to 'auto' or 'scale' to avoid this warning.\n",
      "  \"avoid this warning.\", FutureWarning)\n",
      "C:\\Users\\KUNAL\\Anaconda3\\lib\\site-packages\\sklearn\\svm\\base.py:193: FutureWarning: The default value of gamma will change from 'auto' to 'scale' in version 0.22 to account better for unscaled features. Set gamma explicitly to 'auto' or 'scale' to avoid this warning.\n",
      "  \"avoid this warning.\", FutureWarning)\n"
     ]
    },
    {
     "name": "stdout",
     "output_type": "stream",
     "text": [
      "0.5782822352987651\n"
     ]
    },
    {
     "name": "stderr",
     "output_type": "stream",
     "text": [
      "C:\\Users\\KUNAL\\Anaconda3\\lib\\site-packages\\sklearn\\svm\\base.py:193: FutureWarning: The default value of gamma will change from 'auto' to 'scale' in version 0.22 to account better for unscaled features. Set gamma explicitly to 'auto' or 'scale' to avoid this warning.\n",
      "  \"avoid this warning.\", FutureWarning)\n",
      "C:\\Users\\KUNAL\\Anaconda3\\lib\\site-packages\\sklearn\\svm\\base.py:193: FutureWarning: The default value of gamma will change from 'auto' to 'scale' in version 0.22 to account better for unscaled features. Set gamma explicitly to 'auto' or 'scale' to avoid this warning.\n",
      "  \"avoid this warning.\", FutureWarning)\n",
      "C:\\Users\\KUNAL\\Anaconda3\\lib\\site-packages\\sklearn\\svm\\base.py:193: FutureWarning: The default value of gamma will change from 'auto' to 'scale' in version 0.22 to account better for unscaled features. Set gamma explicitly to 'auto' or 'scale' to avoid this warning.\n",
      "  \"avoid this warning.\", FutureWarning)\n",
      "C:\\Users\\KUNAL\\Anaconda3\\lib\\site-packages\\sklearn\\svm\\base.py:193: FutureWarning: The default value of gamma will change from 'auto' to 'scale' in version 0.22 to account better for unscaled features. Set gamma explicitly to 'auto' or 'scale' to avoid this warning.\n",
      "  \"avoid this warning.\", FutureWarning)\n",
      "C:\\Users\\KUNAL\\Anaconda3\\lib\\site-packages\\sklearn\\svm\\base.py:193: FutureWarning: The default value of gamma will change from 'auto' to 'scale' in version 0.22 to account better for unscaled features. Set gamma explicitly to 'auto' or 'scale' to avoid this warning.\n",
      "  \"avoid this warning.\", FutureWarning)\n",
      "C:\\Users\\KUNAL\\Anaconda3\\lib\\site-packages\\sklearn\\svm\\base.py:193: FutureWarning: The default value of gamma will change from 'auto' to 'scale' in version 0.22 to account better for unscaled features. Set gamma explicitly to 'auto' or 'scale' to avoid this warning.\n",
      "  \"avoid this warning.\", FutureWarning)\n",
      "C:\\Users\\KUNAL\\Anaconda3\\lib\\site-packages\\sklearn\\svm\\base.py:193: FutureWarning: The default value of gamma will change from 'auto' to 'scale' in version 0.22 to account better for unscaled features. Set gamma explicitly to 'auto' or 'scale' to avoid this warning.\n",
      "  \"avoid this warning.\", FutureWarning)\n",
      "C:\\Users\\KUNAL\\Anaconda3\\lib\\site-packages\\sklearn\\svm\\base.py:193: FutureWarning: The default value of gamma will change from 'auto' to 'scale' in version 0.22 to account better for unscaled features. Set gamma explicitly to 'auto' or 'scale' to avoid this warning.\n",
      "  \"avoid this warning.\", FutureWarning)\n",
      "C:\\Users\\KUNAL\\Anaconda3\\lib\\site-packages\\sklearn\\svm\\base.py:193: FutureWarning: The default value of gamma will change from 'auto' to 'scale' in version 0.22 to account better for unscaled features. Set gamma explicitly to 'auto' or 'scale' to avoid this warning.\n",
      "  \"avoid this warning.\", FutureWarning)\n",
      "C:\\Users\\KUNAL\\Anaconda3\\lib\\site-packages\\sklearn\\svm\\base.py:193: FutureWarning: The default value of gamma will change from 'auto' to 'scale' in version 0.22 to account better for unscaled features. Set gamma explicitly to 'auto' or 'scale' to avoid this warning.\n",
      "  \"avoid this warning.\", FutureWarning)\n"
     ]
    },
    {
     "name": "stdout",
     "output_type": "stream",
     "text": [
      "0.9784508061691609\n"
     ]
    }
   ],
   "source": [
    "from sklearn.pipeline import make_pipeline\n",
    "from sklearn.svm import SVC\n",
    "from sklearn.preprocessing import StandardScaler\n",
    "scaled_svc = make_pipeline(StandardScaler(), SVC())\n",
    "\n",
    "from sklearn.model_selection import cross_val_score\n",
    "print(np.mean(cross_val_score(SVC(), X_train, y_train, cv=10)))\n",
    "print(np.mean(cross_val_score(scaled_svc, X_train, y_train, cv=10)))"
   ]
  },
  {
   "cell_type": "code",
   "execution_count": 3,
   "metadata": {},
   "outputs": [
    {
     "name": "stdout",
     "output_type": "stream",
     "text": [
      "0.9864804109275003\n"
     ]
    }
   ],
   "source": [
    "# X_train.std() is also good for global scaling - if the features were on the same scale.\n",
    "# this dataset is very atypical.\n",
    "print(np.mean(cross_val_score(SVC(gamma=(1. / (X_train.shape[1] * X_train.var()))), X_train, y_train, cv=10)))"
   ]
  },
  {
   "cell_type": "code",
   "execution_count": 4,
   "metadata": {},
   "outputs": [
    {
     "data": {
      "text/plain": [
       "{'svc__C': array([  0.001,   0.01 ,   0.1  ,   1.   ,  10.   , 100.   ]),\n",
       " 'svc__gamma': array([0.000001, 0.000007, 0.000074, 0.000742, 0.007424, 0.074239])}"
      ]
     },
     "execution_count": 4,
     "metadata": {},
     "output_type": "execute_result"
    }
   ],
   "source": [
    "np.set_printoptions(precision=6, suppress=True)\n",
    "# using pipeline of scaler and SVC. Could also use SVC and rescale gamma\n",
    "param_grid = {'svc__C': np.logspace(-3, 2, 6),\n",
    "              'svc__gamma': np.logspace(-3, 2, 6) / X_train.shape[0]}\n",
    "param_grid"
   ]
  },
  {
   "cell_type": "code",
   "execution_count": 5,
   "metadata": {},
   "outputs": [
    {
     "name": "stderr",
     "output_type": "stream",
     "text": [
      "C:\\Users\\KUNAL\\Anaconda3\\lib\\site-packages\\sklearn\\model_selection\\_search.py:814: DeprecationWarning: The default of the `iid` parameter will change from True to False in version 0.22 and will be removed in 0.24. This will change numeric results when test-set sizes are unequal.\n",
      "  DeprecationWarning)\n"
     ]
    },
    {
     "data": {
      "text/plain": [
       "GridSearchCV(cv=10, error_score='raise-deprecating',\n",
       "             estimator=Pipeline(memory=None,\n",
       "                                steps=[('standardscaler',\n",
       "                                        StandardScaler(copy=True,\n",
       "                                                       with_mean=True,\n",
       "                                                       with_std=True)),\n",
       "                                       ('svc',\n",
       "                                        SVC(C=1.0, cache_size=200,\n",
       "                                            class_weight=None, coef0=0.0,\n",
       "                                            decision_function_shape='ovr',\n",
       "                                            degree=3, gamma='auto_deprecated',\n",
       "                                            kernel='rbf', max_iter=-1,\n",
       "                                            probability=False,\n",
       "                                            random_state=None, shrinking=True,\n",
       "                                            tol=0.001, verbose=False))],\n",
       "                                verbose=False),\n",
       "             iid='warn', n_jobs=None,\n",
       "             param_grid={'svc__C': array([  0.001,   0.01 ,   0.1  ,   1.   ,  10.   , 100.   ]),\n",
       "                         'svc__gamma': array([0.000001, 0.000007, 0.000074, 0.000742, 0.007424, 0.074239])},\n",
       "             pre_dispatch='2*n_jobs', refit=True, return_train_score=True,\n",
       "             scoring=None, verbose=0)"
      ]
     },
     "execution_count": 5,
     "metadata": {},
     "output_type": "execute_result"
    }
   ],
   "source": [
    "from sklearn.model_selection import GridSearchCV\n",
    "grid = GridSearchCV(scaled_svc, param_grid=param_grid, cv=10, \n",
    "                    return_train_score=True)\n",
    "                    # not strictly required \n",
    "                    # to select the parameters \n",
    "                    # that yield \n",
    "                    # the best generalization performance\n",
    "grid.fit(X_train, y_train)"
   ]
  },
  {
   "cell_type": "code",
   "execution_count": 6,
   "metadata": {},
   "outputs": [
    {
     "data": {
      "text/html": [
       "<div>\n",
       "<style scoped>\n",
       "    .dataframe tbody tr th:only-of-type {\n",
       "        vertical-align: middle;\n",
       "    }\n",
       "\n",
       "    .dataframe tbody tr th {\n",
       "        vertical-align: top;\n",
       "    }\n",
       "\n",
       "    .dataframe thead th {\n",
       "        text-align: right;\n",
       "    }\n",
       "</style>\n",
       "<table border=\"1\" class=\"dataframe\">\n",
       "  <thead>\n",
       "    <tr style=\"text-align: right;\">\n",
       "      <th></th>\n",
       "      <th>mean_fit_time</th>\n",
       "      <th>std_fit_time</th>\n",
       "      <th>mean_score_time</th>\n",
       "      <th>std_score_time</th>\n",
       "      <th>param_svc__C</th>\n",
       "      <th>param_svc__gamma</th>\n",
       "      <th>params</th>\n",
       "      <th>split0_test_score</th>\n",
       "      <th>split1_test_score</th>\n",
       "      <th>split2_test_score</th>\n",
       "      <th>...</th>\n",
       "      <th>split2_train_score</th>\n",
       "      <th>split3_train_score</th>\n",
       "      <th>split4_train_score</th>\n",
       "      <th>split5_train_score</th>\n",
       "      <th>split6_train_score</th>\n",
       "      <th>split7_train_score</th>\n",
       "      <th>split8_train_score</th>\n",
       "      <th>split9_train_score</th>\n",
       "      <th>mean_train_score</th>\n",
       "      <th>std_train_score</th>\n",
       "    </tr>\n",
       "  </thead>\n",
       "  <tbody>\n",
       "    <tr>\n",
       "      <td>0</td>\n",
       "      <td>0.467931</td>\n",
       "      <td>0.060823</td>\n",
       "      <td>0.025885</td>\n",
       "      <td>0.007059</td>\n",
       "      <td>0.001</td>\n",
       "      <td>7.4239e-07</td>\n",
       "      <td>{'svc__C': 0.001, 'svc__gamma': 7.423904974016...</td>\n",
       "      <td>0.1</td>\n",
       "      <td>0.100719</td>\n",
       "      <td>0.100719</td>\n",
       "      <td>...</td>\n",
       "      <td>0.101821</td>\n",
       "      <td>0.101653</td>\n",
       "      <td>0.101569</td>\n",
       "      <td>0.101485</td>\n",
       "      <td>0.476974</td>\n",
       "      <td>0.10189</td>\n",
       "      <td>0.10189</td>\n",
       "      <td>0.10189</td>\n",
       "      <td>0.139290</td>\n",
       "      <td>0.112561</td>\n",
       "    </tr>\n",
       "    <tr>\n",
       "      <td>1</td>\n",
       "      <td>0.486522</td>\n",
       "      <td>0.053632</td>\n",
       "      <td>0.025886</td>\n",
       "      <td>0.007323</td>\n",
       "      <td>0.001</td>\n",
       "      <td>7.4239e-06</td>\n",
       "      <td>{'svc__C': 0.001, 'svc__gamma': 7.423904974016...</td>\n",
       "      <td>0.1</td>\n",
       "      <td>0.100719</td>\n",
       "      <td>0.100719</td>\n",
       "      <td>...</td>\n",
       "      <td>0.101821</td>\n",
       "      <td>0.101653</td>\n",
       "      <td>0.101569</td>\n",
       "      <td>0.101485</td>\n",
       "      <td>0.476974</td>\n",
       "      <td>0.10189</td>\n",
       "      <td>0.10189</td>\n",
       "      <td>0.10189</td>\n",
       "      <td>0.139290</td>\n",
       "      <td>0.112561</td>\n",
       "    </tr>\n",
       "    <tr>\n",
       "      <td>2</td>\n",
       "      <td>0.515805</td>\n",
       "      <td>0.116077</td>\n",
       "      <td>0.026484</td>\n",
       "      <td>0.005422</td>\n",
       "      <td>0.001</td>\n",
       "      <td>7.4239e-05</td>\n",
       "      <td>{'svc__C': 0.001, 'svc__gamma': 7.423904974016...</td>\n",
       "      <td>0.1</td>\n",
       "      <td>0.100719</td>\n",
       "      <td>0.100719</td>\n",
       "      <td>...</td>\n",
       "      <td>0.101821</td>\n",
       "      <td>0.101653</td>\n",
       "      <td>0.101569</td>\n",
       "      <td>0.101485</td>\n",
       "      <td>0.476974</td>\n",
       "      <td>0.10189</td>\n",
       "      <td>0.10189</td>\n",
       "      <td>0.10189</td>\n",
       "      <td>0.139290</td>\n",
       "      <td>0.112561</td>\n",
       "    </tr>\n",
       "    <tr>\n",
       "      <td>3</td>\n",
       "      <td>0.512009</td>\n",
       "      <td>0.107784</td>\n",
       "      <td>0.028883</td>\n",
       "      <td>0.009208</td>\n",
       "      <td>0.001</td>\n",
       "      <td>0.00074239</td>\n",
       "      <td>{'svc__C': 0.001, 'svc__gamma': 0.000742390497...</td>\n",
       "      <td>0.1</td>\n",
       "      <td>0.100719</td>\n",
       "      <td>0.100719</td>\n",
       "      <td>...</td>\n",
       "      <td>0.101821</td>\n",
       "      <td>0.101653</td>\n",
       "      <td>0.101569</td>\n",
       "      <td>0.101485</td>\n",
       "      <td>0.477796</td>\n",
       "      <td>0.10189</td>\n",
       "      <td>0.10189</td>\n",
       "      <td>0.10189</td>\n",
       "      <td>0.139372</td>\n",
       "      <td>0.112808</td>\n",
       "    </tr>\n",
       "    <tr>\n",
       "      <td>4</td>\n",
       "      <td>0.469130</td>\n",
       "      <td>0.024763</td>\n",
       "      <td>0.032982</td>\n",
       "      <td>0.011394</td>\n",
       "      <td>0.001</td>\n",
       "      <td>0.0074239</td>\n",
       "      <td>{'svc__C': 0.001, 'svc__gamma': 0.007423904974...</td>\n",
       "      <td>0.1</td>\n",
       "      <td>0.100719</td>\n",
       "      <td>0.100719</td>\n",
       "      <td>...</td>\n",
       "      <td>0.101821</td>\n",
       "      <td>0.101653</td>\n",
       "      <td>0.101569</td>\n",
       "      <td>0.101485</td>\n",
       "      <td>0.486020</td>\n",
       "      <td>0.10189</td>\n",
       "      <td>0.10189</td>\n",
       "      <td>0.10189</td>\n",
       "      <td>0.140194</td>\n",
       "      <td>0.115275</td>\n",
       "    </tr>\n",
       "  </tbody>\n",
       "</table>\n",
       "<p>5 rows × 32 columns</p>\n",
       "</div>"
      ],
      "text/plain": [
       "   mean_fit_time  std_fit_time  mean_score_time  std_score_time param_svc__C  \\\n",
       "0       0.467931      0.060823         0.025885        0.007059        0.001   \n",
       "1       0.486522      0.053632         0.025886        0.007323        0.001   \n",
       "2       0.515805      0.116077         0.026484        0.005422        0.001   \n",
       "3       0.512009      0.107784         0.028883        0.009208        0.001   \n",
       "4       0.469130      0.024763         0.032982        0.011394        0.001   \n",
       "\n",
       "  param_svc__gamma                                             params  \\\n",
       "0       7.4239e-07  {'svc__C': 0.001, 'svc__gamma': 7.423904974016...   \n",
       "1       7.4239e-06  {'svc__C': 0.001, 'svc__gamma': 7.423904974016...   \n",
       "2       7.4239e-05  {'svc__C': 0.001, 'svc__gamma': 7.423904974016...   \n",
       "3       0.00074239  {'svc__C': 0.001, 'svc__gamma': 0.000742390497...   \n",
       "4        0.0074239  {'svc__C': 0.001, 'svc__gamma': 0.007423904974...   \n",
       "\n",
       "   split0_test_score  split1_test_score  split2_test_score  ...  \\\n",
       "0                0.1           0.100719           0.100719  ...   \n",
       "1                0.1           0.100719           0.100719  ...   \n",
       "2                0.1           0.100719           0.100719  ...   \n",
       "3                0.1           0.100719           0.100719  ...   \n",
       "4                0.1           0.100719           0.100719  ...   \n",
       "\n",
       "   split2_train_score  split3_train_score  split4_train_score  \\\n",
       "0            0.101821            0.101653            0.101569   \n",
       "1            0.101821            0.101653            0.101569   \n",
       "2            0.101821            0.101653            0.101569   \n",
       "3            0.101821            0.101653            0.101569   \n",
       "4            0.101821            0.101653            0.101569   \n",
       "\n",
       "   split5_train_score  split6_train_score  split7_train_score  \\\n",
       "0            0.101485            0.476974             0.10189   \n",
       "1            0.101485            0.476974             0.10189   \n",
       "2            0.101485            0.476974             0.10189   \n",
       "3            0.101485            0.477796             0.10189   \n",
       "4            0.101485            0.486020             0.10189   \n",
       "\n",
       "   split8_train_score  split9_train_score  mean_train_score  std_train_score  \n",
       "0             0.10189             0.10189          0.139290         0.112561  \n",
       "1             0.10189             0.10189          0.139290         0.112561  \n",
       "2             0.10189             0.10189          0.139290         0.112561  \n",
       "3             0.10189             0.10189          0.139372         0.112808  \n",
       "4             0.10189             0.10189          0.140194         0.115275  \n",
       "\n",
       "[5 rows x 32 columns]"
      ]
     },
     "execution_count": 6,
     "metadata": {},
     "output_type": "execute_result"
    }
   ],
   "source": [
    "import pandas as pd\n",
    "results = pd.DataFrame(grid.cv_results_)\n",
    "#df = pd.DataFrame(grid.cv_results_)[['params', 'mean_train_score', 'mean_test_score']]\n",
    "results.head()"
   ]
  },
  {
   "cell_type": "code",
   "execution_count": 7,
   "metadata": {},
   "outputs": [
    {
     "data": {
      "text/plain": [
       "<matplotlib.colorbar.Colorbar at 0x129db849278>"
      ]
     },
     "execution_count": 7,
     "metadata": {},
     "output_type": "execute_result"
    },
    {
     "data": {
      "image/png": "[encoded data removed]",
      "text/plain": [
       "<matplotlib.figure.Figure at 0x129db7c66a0>"
      ]
     },
     "metadata": {},
     "output_type": "display_data"
    }
   ],
   "source": [
    "plt.title(\"testing accuracy\")\n",
    "plt.imshow(results.mean_test_score.values.reshape(6, 6))\n",
    "plt.yticks(range(len(param_grid['svc__C'])), param_grid['svc__C'])\n",
    "plt.ylabel(\"C\")\n",
    "plt.xticks(range(len(param_grid['svc__gamma'])), [\"{:.6f}\".format(g) for g in param_grid['svc__gamma']], rotation=40, ha=\"right\")\n",
    "plt.xlabel(\"gamma\")\n",
    "plt.colorbar()"
   ]
  },
  {
   "cell_type": "code",
   "execution_count": 8,
   "metadata": {},
   "outputs": [
    {
     "data": {
      "text/plain": [
       "<matplotlib.colorbar.Colorbar at 0x129db9084e0>"
      ]
     },
     "execution_count": 8,
     "metadata": {},
     "output_type": "execute_result"
    },
    {
     "data": {
      "image/png": "[encoded data removed]",
      "text/plain": [
       "<matplotlib.figure.Figure at 0x129db80ef28>"
      ]
     },
     "metadata": {},
     "output_type": "display_data"
    }
   ],
   "source": [
    "plt.title(\"training accuracy\")\n",
    "plt.imshow(results.mean_train_score.values.reshape(6, 6))\n",
    "plt.yticks(range(len(param_grid['svc__C'])), param_grid['svc__C'])\n",
    "plt.ylabel(\"C\")\n",
    "plt.xticks(range(len(param_grid['svc__gamma'])), [\"{:.6f}\".format(g) for g in param_grid['svc__gamma']], rotation=40, ha=\"right\")\n",
    "plt.xlabel(\"gamma\")\n",
    "plt.colorbar()"
   ]
  }
 ],
 "metadata": {
  "kernelspec": {
   "display_name": "Python 3",
   "language": "python",
   "name": "python3"
  },
  "language_info": {
   "codemirror_mode": {
    "name": "ipython",
    "version": 3
   },
   "file_extension": ".py",
   "mimetype": "text/x-python",
   "name": "python",
   "nbconvert_exporter": "python",
   "pygments_lexer": "ipython3",
   "version": "3.6.3"
  }
 },
 "nbformat": 4,
 "nbformat_minor": 2
}
