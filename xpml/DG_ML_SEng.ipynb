{
 "cells": [
  {
   "cell_type": "markdown",
   "metadata": {},
   "source": [
    "# Developing Machine Learning Software\n",
    "### Software Engineering, Production and Deployment\n",
    "\n",
    "*nb. solutions for exercises in this notebook are contained in `projects/software`*"
   ]
  },
  {
   "cell_type": "markdown",
   "metadata": {},
   "source": [
    "## Code Sharing"
   ]
  },
  {
   "cell_type": "markdown",
   "metadata": {},
   "source": [
    "### Problems with Jupyter\n",
    "\n",
    "* Run-order by developer != run order of output\n",
    "    * **state** of notebook not reporducible\n",
    "    * $\\therefore$ Not reporducible\n",
    "\n",
    "* Not (software-) versionable\n",
    "    * Source of a notebooks is json which includes output...\n",
    "\n",
    "* Notebooks cannot sit within a live execution enviornemnt\n",
    "    * not programs\n",
    "\n",
    "* Poor support for intergration with other tools\n",
    "    * debugging\n",
    "    \n",
    "* Does not integrate well with **python**!\n",
    "    * notebooks cannot be imported\n",
    "    * notebooks cannot be shared, partioned, refactored\n",
    "    "
   ]
  },
  {
   "cell_type": "markdown",
   "metadata": {},
   "source": [
    "#### Run order"
   ]
  },
  {
   "cell_type": "code",
   "execution_count": 4,
   "metadata": {},
   "outputs": [
    {
     "name": "stdout",
     "output_type": "stream",
     "text": [
      "5\n"
     ]
    }
   ],
   "source": [
    "print(x)"
   ]
  },
  {
   "cell_type": "code",
   "execution_count": 3,
   "metadata": {},
   "outputs": [],
   "source": [
    "x = 5"
   ]
  },
  {
   "cell_type": "markdown",
   "metadata": {},
   "source": [
    "### Libraries & Utilities"
   ]
  },
  {
   "cell_type": "markdown",
   "metadata": {},
   "source": [
    "* `def`, parameters should be variables in reigion of common code which can vary\n",
    "    * default arguments for all fixed literals\n",
    "        * col=0\n",
    "    * and for conditions\n",
    "    \n",
    "* lift defs into their module\n",
    "    * & import"
   ]
  },
  {
   "cell_type": "markdown",
   "metadata": {},
   "source": [
    "* Notebookks should read as *descriptions* of the problme\n",
    "    * the solution (algorithm) is irrelevant\n",
    "    * "
   ]
  },
  {
   "cell_type": "code",
   "execution_count": 111,
   "metadata": {},
   "outputs": [
    {
     "data": {
      "text/markdown": [
       "\n",
       "```python\n",
       "import seaborn as sns\n",
       "import numpy as np\n",
       "\n",
       "def plot_compare(df, features, target):\n",
       "    X = df[features].values\n",
       "    y = df[target].values\n",
       "\n",
       "    sns.distplot(X, hist=False, label='All')\n",
       "    \n",
       "    for e in np.unique(y):\n",
       "        sns.distplot(X[ y == e ], hist=False, label=e)\n",
       "```\n"
      ],
      "text/plain": [
       "<IPython.core.display.Markdown object>"
      ]
     },
     "execution_count": 111,
     "metadata": {},
     "output_type": "execute_result"
    }
   ],
   "source": [
    "from IPython.display import Markdown\n",
    "\n",
    "Markdown(f'''\n",
    "```python\n",
    "{ open('eda.py').read() }\n",
    "```\n",
    "''')"
   ]
  },
  {
   "cell_type": "code",
   "execution_count": 29,
   "metadata": {
    "scrolled": true
   },
   "outputs": [
    {
     "data": {
      "image/png": "[encoded data removed]",
      "text/plain": [
       "<Figure size 432x288 with 1 Axes>"
      ]
     },
     "metadata": {
      "needs_background": "light"
     },
     "output_type": "display_data"
    }
   ],
   "source": [
    "import seaborn as sns\n",
    "import eda\n",
    "\n",
    "eda.plot_compare(sns.load_dataset('tips'), 'tip', 'day')"
   ]
  },
  {
   "cell_type": "markdown",
   "metadata": {},
   "source": [
    "#### sys.argv"
   ]
  },
  {
   "cell_type": "markdown",
   "metadata": {},
   "source": [
    "Python scripts (`python myscript.py arg1 arg2`) may receive arguments.\n",
    "\n",
    "The `sys.argv[0]` argument contains the file name, `1` and above correspond to arguments passed when the script was executed. \n"
   ]
  },
  {
   "cell_type": "code",
   "execution_count": 1,
   "metadata": {},
   "outputs": [
    {
     "data": {
      "text/plain": [
       "['/anaconda/envs/py36/lib/python3.6/site-packages/ipykernel/__main__.py',\n",
       " '-f',\n",
       " '/data/home/mjb/.local/share/jupyter/runtime/kernel-97024261-bdbc-4521-aa34-4e217d0006e9.json']"
      ]
     },
     "execution_count": 1,
     "metadata": {},
     "output_type": "execute_result"
    }
   ],
   "source": [
    "import sys\n",
    "\n",
    "sys.argv"
   ]
  },
  {
   "cell_type": "markdown",
   "metadata": {},
   "source": [
    "### Execise\n",
    "\n",
    "* create a python file `train.py` which trains a model & predicts using features aquired from `sys.argv`"
   ]
  },
  {
   "cell_type": "markdown",
   "metadata": {},
   "source": [
    "## Model Sharing"
   ]
  },
  {
   "cell_type": "markdown",
   "metadata": {},
   "source": [
    "#### Pickle"
   ]
  },
  {
   "cell_type": "markdown",
   "metadata": {},
   "source": [
    "* pickle can serialize aboitary data structures in python\n",
    "    * complex data memeory structure\n",
    "    * made into sequence of bytes\n",
    "    * and from those bytes, reassmebles"
   ]
  },
  {
   "cell_type": "code",
   "execution_count": 65,
   "metadata": {},
   "outputs": [],
   "source": [
    "import pickle"
   ]
  },
  {
   "cell_type": "code",
   "execution_count": 66,
   "metadata": {},
   "outputs": [
    {
     "data": {
      "text/plain": [
       "b'\\x80\\x03}q\\x00(X\\x03\\x00\\x00\\x00ageq\\x01K\\x12X\\x04\\x00\\x00\\x00nameq\\x02X\\x07\\x00\\x00\\x00Michealq\\x03u.'"
      ]
     },
     "execution_count": 66,
     "metadata": {},
     "output_type": "execute_result"
    }
   ],
   "source": [
    "dbytes = pickle.dumps({\n",
    "    'age': 18,\n",
    "    'name': 'Micheal'\n",
    "})\n",
    "\n",
    "dbytes"
   ]
  },
  {
   "cell_type": "code",
   "execution_count": 67,
   "metadata": {},
   "outputs": [
    {
     "data": {
      "text/plain": [
       "{'age': 18, 'name': 'Micheal'}"
      ]
     },
     "execution_count": 67,
     "metadata": {},
     "output_type": "execute_result"
    }
   ],
   "source": [
    "pickle.loads(dbytes)"
   ]
  },
  {
   "cell_type": "code",
   "execution_count": 13,
   "metadata": {
    "scrolled": true
   },
   "outputs": [
    {
     "data": {
      "text/plain": [
       "0.7406426641094095"
      ]
     },
     "execution_count": 13,
     "metadata": {},
     "output_type": "execute_result"
    }
   ],
   "source": [
    "from sklearn.linear_model import LinearRegression\n",
    "from sklearn import datasets\n",
    "\n",
    "X, y = datasets.load_boston(True)\n",
    "\n",
    "model = LinearRegression().fit(X, y)  \n",
    "\n",
    "model.score(X, y)"
   ]
  },
  {
   "cell_type": "code",
   "execution_count": 69,
   "metadata": {},
   "outputs": [
    {
     "data": {
      "text/plain": [
       "b'\\x80\\x03csklearn'"
      ]
     },
     "execution_count": 69,
     "metadata": {},
     "output_type": "execute_result"
    }
   ],
   "source": [
    "pickle.dumps(clf)[:10]"
   ]
  },
  {
   "cell_type": "code",
   "execution_count": 70,
   "metadata": {},
   "outputs": [],
   "source": [
    "pickle.dump(clf, open('saved_model.pkl', 'wb'))"
   ]
  },
  {
   "cell_type": "code",
   "execution_count": 71,
   "metadata": {
    "collapsed": true,
    "jupyter": {
     "outputs_hidden": true
    },
    "scrolled": true
   },
   "outputs": [
    {
     "data": {
      "text/plain": [
       "['iris_logreg_weights.pkl', 'saved_model.pkl']"
      ]
     },
     "execution_count": 71,
     "metadata": {},
     "output_type": "execute_result"
    }
   ],
   "source": [
    "from glob import glob as showfiles\n",
    "\n",
    "showfiles('*.pkl')"
   ]
  },
  {
   "cell_type": "code",
   "execution_count": 72,
   "metadata": {},
   "outputs": [],
   "source": [
    "model = pickle.load(open('saved_model.pkl', 'rb'))"
   ]
  },
  {
   "cell_type": "code",
   "execution_count": 74,
   "metadata": {},
   "outputs": [
    {
     "data": {
      "text/plain": [
       "0.7406426641094095"
      ]
     },
     "execution_count": 74,
     "metadata": {},
     "output_type": "execute_result"
    }
   ],
   "source": [
    "model.score(X, y)"
   ]
  },
  {
   "cell_type": "markdown",
   "metadata": {},
   "source": [
    "### Exericse:\n",
    "\n",
    "* In your `train.py` file save the model you've trained\n",
    "* Create `main.py` which loads the model and performs a prediction using `sys.argv` features"
   ]
  },
  {
   "cell_type": "markdown",
   "metadata": {},
   "source": [
    "## User Inferfaces"
   ]
  },
  {
   "cell_type": "markdown",
   "metadata": {},
   "source": [
    "### Command Line & Notebook Input"
   ]
  },
  {
   "cell_type": "code",
   "execution_count": 6,
   "metadata": {},
   "outputs": [],
   "source": [
    "features = [\n",
    "    'Crime', 'Planning', \n",
    "    'Residential%', 'Riverside', \n",
    "    'Pollution', 'Rooms', \n",
    "    'Pre1940%', 'EmploymentDist', \n",
    "    'HighwayDist', 'Tax', 'TeacherRatio', \n",
    "    'RacialMix', 'Poor%'\n",
    "]\n",
    "\n",
    "target = ['HousePrice']"
   ]
  },
  {
   "cell_type": "code",
   "execution_count": 7,
   "metadata": {
    "scrolled": true
   },
   "outputs": [
    {
     "data": {
      "text/plain": [
       "([0.02731, 0.0, 7.07, 0.0, 0.469], 21.6)"
      ]
     },
     "execution_count": 7,
     "metadata": {},
     "output_type": "execute_result"
    }
   ],
   "source": [
    "x = list(X[1, :])\n",
    "x[:5], y[1]"
   ]
  },
  {
   "cell_type": "code",
   "execution_count": 8,
   "metadata": {},
   "outputs": [
    {
     "name": "stdin",
     "output_type": "stream",
     "text": [
      "Crime [0.02731]?  0.03\n",
      "Planning [0.0]?  \n",
      "Residential% [7.07]?  \n",
      "Riverside [0.0]?  \n",
      "Pollution [0.469]?  \n",
      "Rooms [6.421]?  \n",
      "Pre1940% [78.9]?  \n",
      "EmploymentDist [4.9671]?  \n",
      "HighwayDist [2.0]?  \n",
      "Tax [242.0]?  \n",
      "TeacherRatio [17.8]?  \n",
      "RacialMix [396.9]?  \n",
      "Poor% [9.14]?  \n"
     ]
    }
   ],
   "source": [
    "x = [input(f'{q} [{x[i]}]? ') or x[i] for i, q in enumerate(features)]"
   ]
  },
  {
   "cell_type": "code",
   "execution_count": 9,
   "metadata": {},
   "outputs": [
    {
     "data": {
      "text/plain": [
       "['0.03', 0.0, 7.07, 0.0, 0.469]"
      ]
     },
     "execution_count": 9,
     "metadata": {},
     "output_type": "execute_result"
    }
   ],
   "source": [
    "x[:5]"
   ]
  },
  {
   "cell_type": "markdown",
   "metadata": {},
   "source": [
    "Prepare `x` for use with the model..."
   ]
  },
  {
   "cell_type": "code",
   "execution_count": 10,
   "metadata": {},
   "outputs": [],
   "source": [
    "x = list(map(float, x))"
   ]
  },
  {
   "cell_type": "code",
   "execution_count": 14,
   "metadata": {},
   "outputs": [
    {
     "name": "stdout",
     "output_type": "stream",
     "text": [
      "$25,000.0\n"
     ]
    }
   ],
   "source": [
    "yhat,  = model.predict([x]).round()\n",
    "\n",
    "print(f'${yhat * 1000:,}')"
   ]
  },
  {
   "cell_type": "markdown",
   "metadata": {},
   "source": [
    "### Web Interfaces"
   ]
  },
  {
   "cell_type": "markdown",
   "metadata": {},
   "source": [
    "#### HTML Forms to Obtain Features"
   ]
  },
  {
   "cell_type": "code",
   "execution_count": 154,
   "metadata": {},
   "outputs": [
    {
     "data": {
      "text/html": [
       "\n",
       "<div id=\"html-form-example\">\n",
       "    <h4> Housing Form </h4>\n",
       "    <p style=\"margin:1em\"><em>complete the form for a house price estimate</em></p>\n",
       "    <form action=\"/\" method=\"post\", onsubmit=\"return false;\">\n",
       "        <label>Crime?<input style=\"position: absolute; left: 300px\" value=\"0.02731\"/></label><br/><label>Planning?<input style=\"position: absolute; left: 300px\" value=\"0.0\"/></label><br/><label>Residential%?<input style=\"position: absolute; left: 300px\" value=\"7.07\"/></label><br/><label>Riverside?<input style=\"position: absolute; left: 300px\" value=\"0.0\"/></label><br/><label>Pollution?<input style=\"position: absolute; left: 300px\" value=\"0.469\"/></label><br/><label>Rooms?<input style=\"position: absolute; left: 300px\" value=\"6.421\"/></label><br/><label>Pre1940%?<input style=\"position: absolute; left: 300px\" value=\"78.9\"/></label><br/><label>EmploymentDist?<input style=\"position: absolute; left: 300px\" value=\"4.9671\"/></label><br/><label>HighwayDist?<input style=\"position: absolute; left: 300px\" value=\"2.0\"/></label><br/><label>Tax?<input style=\"position: absolute; left: 300px\" value=\"242.0\"/></label><br/><label>TeacherRatio?<input style=\"position: absolute; left: 300px\" value=\"17.8\"/></label><br/><label>RacialMix?<input style=\"position: absolute; left: 300px\" value=\"396.9\"/></label><br/><label>Poor%?<input style=\"position: absolute; left: 300px\" value=\"9.14\"/></label>\n",
       "        <div><button type=\"submit\">Predict</button></div>\n",
       "    </form>\n",
       "</div>\n"
      ],
      "text/plain": [
       "<IPython.core.display.HTML object>"
      ]
     },
     "execution_count": 154,
     "metadata": {},
     "output_type": "execute_result"
    }
   ],
   "source": [
    "from IPython.display import HTML\n",
    "\n",
    "questions = [\n",
    "    f'<label>{q}?<input style=\"position: absolute; left: 300px\" value=\"{x[i]}\"/></label>' \n",
    "     for i, q in enumerate(features)\n",
    "]    \n",
    "    \n",
    "HTML(f'''\n",
    "<div id=\"html-form-example\">\n",
    "    <h4> Housing Form </h4>\n",
    "    <p style=\"margin:1em\"><em>complete the form for a house price estimate</em></p>\n",
    "    <form action=\"/\" method=\"post\", onsubmit=\"return false;\">\n",
    "        {str.join('<br/>', questions)}\n",
    "        <div><button type=\"submit\">Predict</button></div>\n",
    "    </form>\n",
    "</div>\n",
    "''')"
   ]
  },
  {
   "cell_type": "markdown",
   "metadata": {},
   "source": [
    "#### Web Servers\n",
    "\n",
    "A browser and web server is needed for a web form to provide information to a python script. The webserver is the program which sends the browser the form for display, and the browser sends the form content back.\n",
    "\n",
    "The machine which runs the webserver program also hosts your python script and enables this script to receive the form data."
   ]
  },
  {
   "cell_type": "markdown",
   "metadata": {},
   "source": [
    "### Exercise\n",
    "\n",
    "* In `main.py`, create a command line interface (using `input()`) to collect features\n",
    "    * create `prepare.py` which contains a `def prep` which accepts `input()`'d strings\n",
    "    * create `ui.py` which contains a `def ask` which runs `input()` and `prepare()`'s the result\n",
    "    \n",
    "* EXTRA: \n",
    "    * create a web-form version"
   ]
  },
  {
   "cell_type": "markdown",
   "metadata": {},
   "source": [
    "## Unit Testing"
   ]
  },
  {
   "cell_type": "code",
   "execution_count": 28,
   "metadata": {},
   "outputs": [],
   "source": [
    "assert True"
   ]
  },
  {
   "cell_type": "code",
   "execution_count": 30,
   "metadata": {},
   "outputs": [
    {
     "ename": "AssertionError",
     "evalue": "Condition was False",
     "output_type": "error",
     "traceback": [
      "\u001b[0;31m---------------------------------------------------------------------------\u001b[0m",
      "\u001b[0;31mAssertionError\u001b[0m                            Traceback (most recent call last)",
      "\u001b[0;32m<ipython-input-30-3662f8de4451>\u001b[0m in \u001b[0;36m<module>\u001b[0;34m\u001b[0m\n\u001b[0;32m----> 1\u001b[0;31m \u001b[0;32massert\u001b[0m \u001b[0;32mFalse\u001b[0m\u001b[0;34m,\u001b[0m \u001b[0;34m\"Condition was False\"\u001b[0m\u001b[0;34m\u001b[0m\u001b[0;34m\u001b[0m\u001b[0m\n\u001b[0m",
      "\u001b[0;31mAssertionError\u001b[0m: Condition was False"
     ]
    }
   ],
   "source": [
    "assert False, \"Condition was False\""
   ]
  },
  {
   "cell_type": "code",
   "execution_count": 24,
   "metadata": {},
   "outputs": [],
   "source": [
    "assert 0 < model.predict([[0] * len(features)]) < 100"
   ]
  },
  {
   "cell_type": "code",
   "execution_count": 27,
   "metadata": {},
   "outputs": [],
   "source": [
    "assert all([isinstance(e, float) for e in x])"
   ]
  },
  {
   "cell_type": "markdown",
   "metadata": {},
   "source": [
    "### Exercise\n",
    "\n",
    "* Create a file called `verify.py`which \n",
    "    * loads your saved model and `assert`s key invarients and required conditions on good-behaviour\n",
    "    * loads your `prep` function and `assert`s key input->output expectations"
   ]
  },
  {
   "cell_type": "markdown",
   "metadata": {},
   "source": [
    "### Aside: Cross-Platform Deployment with ONNX\n"
   ]
  },
  {
   "cell_type": "markdown",
   "metadata": {},
   "source": [
    "ONNX for SciKit"
   ]
  },
  {
   "cell_type": "code",
   "execution_count": 50,
   "metadata": {},
   "outputs": [],
   "source": [
    "!pip install -q onnxmltools onnxruntime onnx skl2onnx"
   ]
  },
  {
   "cell_type": "markdown",
   "metadata": {},
   "source": [
    "Training Time:"
   ]
  },
  {
   "cell_type": "code",
   "execution_count": 34,
   "metadata": {},
   "outputs": [],
   "source": [
    "# Convert into ONNX format with onnxmltools\n",
    "from skl2onnx import convert_sklearn\n",
    "from skl2onnx.common.data_types import FloatTensorType\n",
    "\n",
    "X_shape = [('iris_features', FloatTensorType([1, 4]))]\n",
    "\n",
    "onx = convert_sklearn(clf, initial_types=X_shape)"
   ]
  },
  {
   "cell_type": "code",
   "execution_count": 35,
   "metadata": {},
   "outputs": [
    {
     "data": {
      "text/plain": [
       "706"
      ]
     },
     "execution_count": 35,
     "metadata": {},
     "output_type": "execute_result"
    }
   ],
   "source": [
    "open(\"rf_iris.onnx\", \"wb\").write(onx.SerializeToString())"
   ]
  },
  {
   "cell_type": "markdown",
   "metadata": {},
   "source": [
    "Prediction Time"
   ]
  },
  {
   "cell_type": "code",
   "execution_count": 45,
   "metadata": {},
   "outputs": [
    {
     "data": {
      "text/plain": [
       "array([5.1, 3.5, 1.4, 0.2])"
      ]
     },
     "execution_count": 45,
     "metadata": {},
     "output_type": "execute_result"
    }
   ],
   "source": [
    "X[0, 0:4]"
   ]
  },
  {
   "cell_type": "code",
   "execution_count": 48,
   "metadata": {},
   "outputs": [],
   "source": [
    "import onnxruntime as rt\n",
    "import numpy as np\n",
    "\n",
    "X_test = X[0, :].reshape(1, -1)\n",
    "\n",
    "sess = rt.InferenceSession(\"rf_iris.onnx\")\n",
    "\n",
    "input_name = sess.get_inputs()[0].name\n",
    "label_name = sess.get_outputs()[0].name\n",
    "\n",
    "pred_onx = sess.run([label_name], {\n",
    "    input_name: X_test.astype(np.float32)\n",
    "})[0]"
   ]
  },
  {
   "cell_type": "code",
   "execution_count": 49,
   "metadata": {
    "scrolled": true
   },
   "outputs": [
    {
     "data": {
      "text/plain": [
       "array([0], dtype=int64)"
      ]
     },
     "execution_count": 49,
     "metadata": {},
     "output_type": "execute_result"
    }
   ],
   "source": [
    "pred_onx"
   ]
  }
 ],
 "metadata": {
  "kernelspec": {
   "display_name": "Python 3.6 - AzureML",
   "language": "python",
   "name": "python3-azureml"
  },
  "language_info": {
   "codemirror_mode": {
    "name": "ipython",
    "version": 3
   },
   "file_extension": ".py",
   "mimetype": "text/x-python",
   "name": "python",
   "nbconvert_exporter": "python",
   "pygments_lexer": "ipython3",
   "version": "3.6.9"
  }
 },
 "nbformat": 4,
 "nbformat_minor": 4
}
