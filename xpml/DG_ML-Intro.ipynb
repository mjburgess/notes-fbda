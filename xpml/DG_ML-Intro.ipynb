{
 "cells": [
  {
   "cell_type": "markdown",
   "metadata": {},
   "source": [
    "# Machine Learning: Introduction I"
   ]
  },
  {
   "cell_type": "markdown",
   "metadata": {},
   "source": [
    "## Part 0: Prelude & Conventions\n",
    "\n",
    "This section describes conventions used in this notebook. Feel free to skip until, you've read more.\n",
    "\n",
    "* `x` -- an array which describes one feature (ie., a single statistical variable)\n",
    "* `y` -- an array which describes one target\n",
    "* `X` -- a multidimensional array (rows * columns) which describes several features\n",
    "* `yhat` -- a prediction for `y`\n"
   ]
  },
  {
   "cell_type": "code",
   "execution_count": 1,
   "metadata": {},
   "outputs": [],
   "source": [
    "from statistics import *"
   ]
  },
  {
   "cell_type": "code",
   "execution_count": 3,
   "metadata": {},
   "outputs": [],
   "source": [
    "import numpy as np\n",
    "import seaborn as sns"
   ]
  },
  {
   "cell_type": "code",
   "execution_count": 4,
   "metadata": {},
   "outputs": [],
   "source": [
    "from scipy.spatial.distance import euclidean as distance"
   ]
  },
  {
   "cell_type": "code",
   "execution_count": 127,
   "metadata": {},
   "outputs": [],
   "source": [
    "from sklearn.neighbors import KNeighborsClassifier"
   ]
  },
  {
   "cell_type": "code",
   "execution_count": 128,
   "metadata": {},
   "outputs": [],
   "source": [
    "from sklearn.cluster import KMeans\n",
    "from sklearn.decomposition import PCA\n",
    "from sklearn.linear_model import *\n",
    "from sklearn.model_selection import train_test_split\n",
    "from sklearn.model_selection import GridSearchCV\n",
    "from sklearn.preprocessing import PolynomialFeatures\n",
    "from sklearn.datasets import *\n",
    "from sklearn.metrics import *"
   ]
  },
  {
   "cell_type": "markdown",
   "metadata": {},
   "source": [
    "# Part 1: What is Machine Learning?"
   ]
  },
  {
   "cell_type": "markdown",
   "metadata": {},
   "source": [
    "## What is Learning?\n",
    "\n",
    "* Learning in animals \n",
    "    * intelligent response to a changing environment\n",
    "    * problem solving under one enviromental condition *generalizes* to others\n",
    "        * eg., learn to drive in wet weather still produces comptent driving in dry/snowy/etc. weather\n",
    "    * ie., general intelligence\n",
    "    \n",
    "* \"Learning\" in machines\n",
    "    * response comparable to \"intelligent\" response in highly stablized and fixed environment\n",
    "    * ie., an automated tool"
   ]
  },
  {
   "cell_type": "markdown",
   "metadata": {},
   "source": [
    "## What is Machine Learning & AI?\n",
    "\n",
    "* Machine Learning is\n",
    "    * Computational Statistical Inference\n",
    "    \n",
    "* Computational Statistical Inference is...\n",
    "    * Using computers\n",
    "    * to infer relationships\n",
    "    * between imperfectly known quantities\n",
    "    \n",
    "    \n",
    "* AI\n",
    "    * two definitions\n",
    "    * a. Strong (General) AI -- machines which emulate the general intelligence of animals\n",
    "    * b. Weak AI -- building machines which perform better than humans on highly specialized tasks\n",
    "    \n",
    "* History of (weak) AI:\n",
    "    * 40s -- logic programming \n",
    "        * (IF x > value THEN yes ELSE no)\n",
    "        * IF age > 18 THEN allow ELSE deny\n",
    "    * 80s -- expert rules\n",
    "        * IF x > expert_value THEN yes ELSE no)\n",
    "        * IF tumor_area > 10cm THEN malignant ELSE benign\n",
    "    * 00s -- machine learning\n",
    "        * (IF x > data_value THEN yes else no)\n",
    "        * IF tumor_metric > 0.876 THEN malignant ELSE benign\n",
    "    \n",
    "### Examples\n",
    "\n",
    "#### Regression\n",
    "* Suppose we know a person's...\n",
    "    * $x_0$: weekly food expenditure\n",
    "    * $x_1$: age\n",
    "    * $x_2$ location\n",
    "    \n",
    "* can we infer/guess their...\n",
    "    * $y$: salary?\n",
    "    \n",
    "#### Classification\n",
    "\n",
    "* Suppose we know a film's...\n",
    "    * $x_0$: director\n",
    "    * $x_1$: length\n",
    "    \n",
    "* can we classify it into...\n",
    "    * $y$: a genre?\n",
    "\n",
    "#### Clustering\n",
    "\n",
    "* Suppose we *only* know our employee's...\n",
    "    * $x_0$: IQ (cognitive intelligence)\n",
    "    * $x_1$: EQ (emotional intelligence)\n",
    "    \n",
    "* can we find how likely it is to find people...\n",
    "    * (low EQ, low IQ), (med EQ, high IQ), etc.\n",
    "    * ie., \n",
    "    \n",
    "    $P( eq_{low} < x_0 < eq_{high}, iq_{low} < x_1 < iq_{high})$ \n",
    "    \n",
    "    * are there reigions of $P(x_0, x_1)$ where a suprising number of observations are likely to occur?\n",
    "        * ie., are there clusters of people at partiuclar IQ/EQ ranges that we didn't expect?\n",
    "        * can we use our background knowledge to work out who they are?\n",
    "\n",
    "### Notation and Key Ideas\n",
    "\n",
    "* We imagine the world is such that knowable features of interest are \"really\" related to each other by a function...\n",
    "\n",
    "    $y = f(x)$\n",
    "\n",
    "* When predicting one from another... \n",
    "    * The known (statistical) variables are called features (denoted $x$)\n",
    "\n",
    "    * The unknown variable is called the target, denoted $y$\n",
    "\n",
    "* Our guess of the unknown's value is $\\hat{y}$\n",
    "\n",
    "* so the problem is to find a function $\\hat{f}$ ...\n",
    "\n",
    "    $\\hat{y} = \\hat{f}(x_0, ... x_n)$\n",
    "    \n",
    "* which best captures the real relationship,\n",
    "\n",
    "    $y = f(x_0, ... x_n)$\n",
    "    \n",
    "    \n",
    "#### Example\n",
    "\n",
    "* Suppose $x_{age}$ is exactly related to $y_{height}$ as \n",
    "\n",
    "$y = f(x) = 2x + 1$\n",
    "\n",
    "* Then we would like to find a function, $\\hat{f}$ which gets as close to this as possible,\n",
    "\n",
    "$\\hat{y} = \\hat{f}(x) = 1.9x + 1.3$\n",
    "\n",
    "* for, eg., an age of 10 the error (or loss, $l$) here is:\n",
    "\n",
    "$\\hat{y} = \\hat{f}(10) = 1.9*10 + 1.3 = 20.3$\n",
    "$y = f(10) = 2 * 10 + 1 = 21$\n",
    "\n",
    "$l(y, \\hat{y}) = 21 - 20.3 = 0.7$\n",
    "\n",
    "* \"Close\" here then means that we find $\\hat{f}$ so that the loss when compared to the real $f$ is minimal.\n",
    "\n",
    "\n",
    "### In Python\n",
    "    "
   ]
  },
  {
   "cell_type": "code",
   "execution_count": 99,
   "metadata": {},
   "outputs": [
    {
     "name": "stdout",
     "output_type": "stream",
     "text": [
      "\n",
      "for known x age: 10\n",
      "there is a real y height: 21\n",
      "and we guessed: 20.3\n",
      "with an error: 0.70\n",
      "\n"
     ]
    }
   ],
   "source": [
    "def f(x_age):\n",
    "    y_height = 2 * x_age + 1\n",
    "    return y_height\n",
    "\n",
    "def fhat(x_age, w1=1.9, w2=1.3):\n",
    "    yhat_height = w1 * x_age + w2\n",
    "    return yhat_height \n",
    "\n",
    "def loss(y, yhat):\n",
    "    return y - yhat\n",
    "\n",
    "x = 10\n",
    "y = f(x)\n",
    "\n",
    "yhat = fhat(x)\n",
    "l = loss(y, yhat)\n",
    "\n",
    "print(f\"\"\"\n",
    "for known x age: {x}\n",
    "there is a real y height: {y}\n",
    "and we guessed: {yhat}\n",
    "with an error: {l :.2f}\n",
    "\"\"\")\n",
    "    "
   ]
  },
  {
   "cell_type": "code",
   "execution_count": 238,
   "metadata": {},
   "outputs": [
    {
     "data": {
      "text/plain": [
       "[-0.30000000000000004,\n",
       " -0.20000000000000018,\n",
       " -0.09999999999999964,\n",
       " 8.881784197001252e-16,\n",
       " 0.09999999999999964,\n",
       " 0.1999999999999993,\n",
       " 0.3000000000000007]"
      ]
     },
     "execution_count": 238,
     "metadata": {},
     "output_type": "execute_result"
    }
   ],
   "source": [
    "[loss(f(i), fhat(i)) for i in range(0, 7)]"
   ]
  },
  {
   "cell_type": "markdown",
   "metadata": {},
   "source": [
    "### Exercise\n",
    "\n",
    "* define a function called total_loss() which computes the loss on many observations at once\n",
    "    * HINT: just `.sum()` the result of `loss()`\n",
    "\n",
    "* calculate the total loss for ages 0 to 7\n",
    "\n",
    "* what does this total loss tell you?\n",
    "\n",
    "* redefine `loss(y, yhat)` to be the squared distance and recompute the total loss\n",
    "    * HINT: (y - yhat) ** 2\n",
    "    \n",
    "* why is the total loss different?\n",
    "    * which is more accurate?\n",
    "    "
   ]
  },
  {
   "cell_type": "markdown",
   "metadata": {},
   "source": [
    "## Statistical Inference\n",
    "\n",
    "How do we find $\\hat{f}$ ?\n",
    "\n",
    "The first problem is that we *do not know* $f$... so we do not have the real relationship to start from. \n",
    "\n",
    "Suppose I'm trying to guess whether a person committed fraud on the basis of when they last purchased insurance and the size of their current claim ($x_0$ and $x_1$).\n",
    "\n",
    "We don't know \"really\" how much $x_0$ and $x_1$ tells us about whether a person committed fraud. We *can* look at historical examples...\n",
    "\n",
    "Calling the entire historical dataset H, we have... \n",
    "\n",
    "$H = \\{(x^0_0, x^0_1, y^0), ..., (x^n_1, x^n_2, y^n)\\}$\n",
    "\n",
    "Where the superscript is the observation id, and the subscript is the variable -- corresponding to a row id and column id in the array below."
   ]
  },
  {
   "cell_type": "code",
   "execution_count": 19,
   "metadata": {},
   "outputs": [],
   "source": [
    "H = np.array([\n",
    "  [30, 1000, +1] #purchased 30 days ago, claim £1000, known fraud\n",
    ", [300, 200, -1] # purchased 300 days ago, £200, known not fraud\n",
    "])"
   ]
  },
  {
   "cell_type": "code",
   "execution_count": 20,
   "metadata": {},
   "outputs": [
    {
     "data": {
      "text/plain": [
       "array([[  30, 1000,    1],\n",
       "       [ 300,  200,   -1]])"
      ]
     },
     "execution_count": 20,
     "metadata": {},
     "output_type": "execute_result"
    }
   ],
   "source": [
    "H"
   ]
  },
  {
   "cell_type": "code",
   "execution_count": 23,
   "metadata": {},
   "outputs": [
    {
     "data": {
      "text/plain": [
       "array([  30, 1000,    1])"
      ]
     },
     "execution_count": 23,
     "metadata": {},
     "output_type": "execute_result"
    }
   ],
   "source": [
    "H[0, :] "
   ]
  },
  {
   "cell_type": "markdown",
   "metadata": {},
   "source": [
    "Given these historical examples we can just find an $\\hat{f}$ that predicts their known $y$ from their known $x$... ie., we just try to look a (small) piece of historical and assume that this represents the real $f$."
   ]
  },
  {
   "cell_type": "code",
   "execution_count": 27,
   "metadata": {},
   "outputs": [
    {
     "name": "stdout",
     "output_type": "stream",
     "text": [
      "[ 1 -1]\n",
      "[[  30 1000]\n",
      " [ 300  200]]\n"
     ]
    }
   ],
   "source": [
    "y = H[:, -1] # all rows, last column in H\n",
    "x = H[:, 0:2] # all rows, first two columns in H\n",
    "\n",
    "print(y)\n",
    "print(x)"
   ]
  },
  {
   "cell_type": "markdown",
   "metadata": {},
   "source": [
    "Now let's guess an $\\hat{f}$, call it `f_guess`.."
   ]
  },
  {
   "cell_type": "markdown",
   "metadata": {},
   "source": [
    "$\\hat{f}_{guess}(x_1, x_2; w_1, w_2) = w_1x_1 + w_2x_2 = -1*x_1 + 0.2*x_2 = 0.2x_1 - x_2$ "
   ]
  },
  {
   "cell_type": "code",
   "execution_count": 39,
   "metadata": {},
   "outputs": [],
   "source": [
    "def f_guess(x, w1=-1, w2=0.1):\n",
    "    return np.sign(w1 * x[0] + w2 * x[1])"
   ]
  },
  {
   "cell_type": "code",
   "execution_count": 40,
   "metadata": {},
   "outputs": [],
   "source": [
    "y_terms = {1 : \"fraud\", -1 : \"not fraud\"}"
   ]
  },
  {
   "cell_type": "code",
   "execution_count": 41,
   "metadata": {},
   "outputs": [
    {
     "data": {
      "text/plain": [
       "'fraud'"
      ]
     },
     "execution_count": 41,
     "metadata": {},
     "output_type": "execute_result"
    }
   ],
   "source": [
    "yhat = f_guess([30, 1000])\n",
    "\n",
    "y_terms[yhat]"
   ]
  },
  {
   "cell_type": "code",
   "execution_count": 42,
   "metadata": {},
   "outputs": [
    {
     "data": {
      "text/plain": [
       "'not fraud'"
      ]
     },
     "execution_count": 42,
     "metadata": {},
     "output_type": "execute_result"
    }
   ],
   "source": [
    "yhat = f_guess([300, 200])\n",
    "\n",
    "y_terms[yhat]"
   ]
  },
  {
   "cell_type": "markdown",
   "metadata": {},
   "source": [
    "* According to our data set ($H$), `f_guess` is 100% accurate (ie., has zero loss on all examples).\n",
    "\n",
    "* Is this any good?"
   ]
  },
  {
   "cell_type": "code",
   "execution_count": 260,
   "metadata": {},
   "outputs": [
    {
     "data": {
      "text/plain": [
       "1.0"
      ]
     },
     "execution_count": 260,
     "metadata": {},
     "output_type": "execute_result"
    }
   ],
   "source": [
    "f_guess([400, 5000])"
   ]
  },
  {
   "cell_type": "code",
   "execution_count": 261,
   "metadata": {},
   "outputs": [
    {
     "data": {
      "text/plain": [
       "-1.0"
      ]
     },
     "execution_count": 261,
     "metadata": {},
     "output_type": "execute_result"
    }
   ],
   "source": [
    "f_guess([400, 50])"
   ]
  },
  {
   "cell_type": "markdown",
   "metadata": {},
   "source": [
    "### Exercise\n",
    "\n",
    "* what does the `f_guess` rule say in english?\n",
    "    * consider the mathematical version:\n",
    "\n",
    "$y = sign(\\frac{1}{10}x_{amount} - x_{days})$\n",
    "\n",
    "* consider film ratings (like/dislike), popcorn purchases and ticket prices:\n",
    "\n",
    "    * y = [-1, -1, +1, +1] : Rating\n",
    "    * x0 = [4, 5, 5, 8] : Popcorn Spend\n",
    "    * x1 = [11, 11, 9, 9] : Ticket Price\n",
    "    \n",
    "* by using `f_guess` above, and choosing a different `w1` and `w2` try to obtain y from x\n",
    "    * HINT: when does a combination of x0 and x1 go negative?"
   ]
  },
  {
   "cell_type": "markdown",
   "metadata": {},
   "source": [
    "## Limitations of Machine Learning\n",
    "\n",
    "### In-Sample vs. Out-Sample\n",
    "\n",
    "The *in-sample* is the historical dataset ($H$) we use to stand-in for the unknown $f$. \n",
    "\n",
    "If we imagine having $f$ then we could try every possible combination of $x_0, x_1 ...$ and find every possible $y$. \n",
    "\n",
    "This whole real-world data set is called the \"out-sample\". It's everything you will see once you actually try to predict anything, it's all the unobserved data. \n",
    "\n",
    "Give this, there are two cases when you can use ML:\n",
    "\n",
    "1. In-Sample *well represents* the Out-Sample\n",
    "    * ie., the model, $\\hat{f}$ will work well on unseen data because unseen is very similar to seen\n",
    "    \n",
    "2. In-Sample *poorly represents* the Out-Sample\n",
    "    * ie., the model will work poorly on unseen data because it's quite different to the observed set\n",
    "    \n",
    "In the first case ML systems can be used safely and predictably, eg. handwriting recognition.\n",
    "\n",
    "In handwriting recognition, letter shapes (eg., the shape of `a`) are essentially constant: no one is inventing a new way to draw a letter. With enough representative samples of how a letter is drawn, we can reliably \"learn\" its shape and predict it on new examples. \n",
    "\n",
    "In the second case ML systems are unsafe and unreliable. Eg., suppose we train an ML system to open and close doors, and to establish secure routes into and out of a building. In the case where we hadn't shown it a fire, and a fire occured, people would likely die. In the case where we show it examples of fires (and safe routes), it may still fail to work well under different kinds of fire conditions. \n",
    "\n",
    "And there are essentially an infinite permutation of \"fire conditions\" (eg., fire + flood, fire + building damage, fire + bomb, fire on topfloor, ...).\n",
    "\n",
    "In the second case we should use ML systems to assist humans, eg., to *priortize* cases of fraud rather than convicting people \"because the machine said so\". \n",
    "\n",
    "### The Semantic Gap\n",
    "\n",
    "The out-sample is *really* often *infinite* in size (1), and often *cannot* be understood as a function of a fixed number of variables (2). \n",
    "\n",
    "1. eg., There are an infinite number of ways to photograph all possible cats. Any image recongition system can, therefore, likely be fooled with a photograph that is quite different than the ones it's seen before (and it cannot see *all*!). \n",
    "\n",
    "2., eg., there is no way of taking any amount (even an infinite amount) of photographs and exactly predicting whether the photo depicts a cat. \n",
    "\n",
    "ie., there is no \"real\" function, $y_{iscat} = f(x_{photo})$\n",
    "\n",
    "because *that an animal is a cat* cannot be known from a 2D photograph. \n",
    "\n",
    "I can supply a photograph which is ambiguously either a cat or dog (or some other animal). \n",
    "\n",
    "In cases of these ambiguities a human would explore further (eg., look at the animal's behaviour). However an ML system has no mechanism of \"exploration\" -- it cannot acquire \"relevant new data\". It is **just** the use of some $\\hat{f}$.\n",
    "\n",
    "If there is no $f$ in the first place, the system may be easily fooled or unreliably misbehave. \n",
    "\n",
    "Suppose I gave the machine an infinite number of 2D photographs, because it has no 3D info, it can be fooled. Suppose I give it all 3D info. Now it has no behaviour info, and so can be fooled. Suppose I give it all possible videos of all relevant animals... and so on.\n",
    "\n",
    "The mere data supplied does not contain enough information, regardless of quantitiy, to actually determine the target. \n",
    "\n",
    "This is called \"the semantic gap\" -- the data does not \"mean\" cat. When I say \"cat\" I mean some object in the world, when the machine reads data it does not know of this object -- and this data is insufficient to describe it. \n"
   ]
  },
  {
   "cell_type": "markdown",
   "metadata": {},
   "source": [
    "## Types of Machine Learning \n",
    "\n",
    "There are two key types of machine learning: supervised and unsupervised learning. \n",
    "\n",
    "In supervised learning, the in-sample (historical dataset) contains both $(x, y)$ and so the machine can be \"supervised\" by telling it the right answer ($y$) for each case. \n",
    "\n",
    "In unsupervised learning, the in-sample does not contain the target ($y$) and so no *prediction* of $y$ is possible. In this case structural (, distributional) information about $x_0, ...x_n$ may be inferred to improve $x$ for later learning (feature engineering) or this information could be used as a guide for a data scientist to manually predict $y$.\n",
    "\n",
    "In the unsupervised case the function we learn $f(x)$ typically can be read as providing inferential information *about x*, eg., we can learn $P(x_{age} <= 18)$ or, how likely it is to observe a person with an age under 18. \n",
    "\n",
    "Supervised Learning is the key part of predictive learning, the unsupervised set is more a collection of disparate inferential techniques which tend to go along supervised learning.  \n",
    "\n",
    "* Supervised Learning\n",
    "    * Regression -- predicting a real (continuous) number\n",
    "        * Find $\\hat{y} = \\hat{f}(x)  \\in \\mathbb{R}$\n",
    "    * Classification -- predicting a label (discrete) number\n",
    "        * Find $\\hat{y} = \\hat{f}(x) \\in \\{0, 1.. n\\}$\n",
    "    \n",
    "\n",
    "* Unsupervised Learning\n",
    "    * Data Transformation\n",
    "        * Dimensionality Reduction\n",
    "    * Clustering\n",
    "    \n",
    "### Regression Examples\n",
    "\n",
    "* y : Age,  x : (Height, Weight)\n",
    "* y : Profit, x : (Clicks, ProductCategory)\n",
    "* y : Prognosis, x : (TumourSize, DaysSinceDiagonsis)\n",
    "* y : SleepQuality, x: (HeartRate, Time)\n",
    "\n",
    "### Classification Examples\n",
    "\n",
    "#### Binary Classification\n",
    "\n",
    "In binary classification, by convention $y \\in \\{-1, +1\\}$ ie., there are two cases a \"negative\" and \"positive\"\n",
    "    \n",
    "* y : IsFraud,  x: (Age, DaysSincePurchase, ..) \n",
    "* y : ShouldMarray, x: (Salary, EQ, IQ, ..)\n",
    "* y : IsDiabetes, x : (BloodSugar, FastingTime, ..)\n",
    "\n",
    "#### Multiclass Clasification\n",
    "\n",
    "* y : AnimalType, x: (FurLenght, SnoutLenght, ...)\n",
    "* y : BestPub, x: (PriceOfBeer, Size, ...)\n"
   ]
  },
  {
   "cell_type": "markdown",
   "metadata": {},
   "source": [
    "### Exercise\n",
    "\n",
    "* working in pairs...\n",
    "\n",
    "* define a regression and classification problem in each of the following:\n",
    "\n",
    "    * Retail\n",
    "    * Health\n",
    "    * Defence\n",
    "    * Marketing\n",
    "    * one area of your choice. \n",
    "  \n",
    "  \n",
    "* specify:\n",
    "    1. the problem being solved in english\n",
    "    2. the $y$, and several $x$ \n",
    "    3. the source of the historical data set $(y, x)$"
   ]
  },
  {
   "cell_type": "markdown",
   "metadata": {},
   "source": [
    "## Sci-Kit Learn"
   ]
  },
  {
   "cell_type": "markdown",
   "metadata": {},
   "source": [
    "### Exercise"
   ]
  },
  {
   "cell_type": "markdown",
   "metadata": {},
   "source": [
    "Load example dataset and use `.values` to obtain the numpy representatino. Then choose your target $y$ and your features $X = (x_1, x_2)$"
   ]
  },
  {
   "cell_type": "code",
   "execution_count": 55,
   "metadata": {},
   "outputs": [],
   "source": [
    "df = sns.load_dataset('tips')\n",
    "X = df[ ['total_bill', 'size']].values\n",
    "y = df['tip'].values"
   ]
  },
  {
   "cell_type": "code",
   "execution_count": 57,
   "metadata": {},
   "outputs": [
    {
     "name": "stdout",
     "output_type": "stream",
     "text": [
      "[[16.99  2.  ]\n",
      " [10.34  3.  ]]\n",
      "[1.01 1.66]\n"
     ]
    }
   ],
   "source": [
    "print(X[:2])\n",
    "print(y[:2])"
   ]
  },
  {
   "cell_type": "markdown",
   "metadata": {},
   "source": [
    "Define a linear prediction funciton, ie., an `fhat(x, w1,w2,w3)` which uses the weights to obtain a prediction.\n",
    "\n",
    "HINT: `w1 * x[:, 0] + ...`"
   ]
  },
  {
   "cell_type": "code",
   "execution_count": 19,
   "metadata": {},
   "outputs": [],
   "source": [
    "def fhat(x, w1, w2, w3):\n",
    "    return w1*x[:, 0] + w2*x[:, 1] + w3"
   ]
  },
  {
   "cell_type": "markdown",
   "metadata": {},
   "source": [
    "Define a `loss(y, yhat)` which is the square error.\n",
    "HINT: `(y - yhat)**2`"
   ]
  },
  {
   "cell_type": "code",
   "execution_count": 20,
   "metadata": {},
   "outputs": [],
   "source": [
    "def loss(y, yhat):\n",
    "    return (y - yhat) ** 2"
   ]
  },
  {
   "cell_type": "markdown",
   "metadata": {},
   "source": [
    "Define (and compute) a `total_loss(y, yhat)` which produces an interpretable figure, ie., define it to be the mean square error.\n",
    "\n",
    "\n",
    "HNIT: `.mean()` and `np.sqrt`"
   ]
  },
  {
   "cell_type": "code",
   "execution_count": 58,
   "metadata": {},
   "outputs": [],
   "source": [
    "def total_loss(y, yhat):\n",
    "    return np.sqrt(loss(y, yhat_bill).mean())"
   ]
  },
  {
   "cell_type": "code",
   "execution_count": 74,
   "metadata": {},
   "outputs": [
    {
     "name": "stdout",
     "output_type": "stream",
     "text": [
      "Avg Error: £ 2.59\n"
     ]
    }
   ],
   "source": [
    "yhat_bill = fhat(X, 0.01, 0.01, 5)\n",
    "\n",
    "print(f\"Avg Error: £ { total_loss(y, yhat_bill) :.2f}\")"
   ]
  },
  {
   "cell_type": "markdown",
   "metadata": {},
   "source": [
    "Show your first five predictions and their corresponding obsedved $y$.\n",
    "\n",
    "EXTRA: format this as a table using `pd.DataFrame`"
   ]
  },
  {
   "cell_type": "code",
   "execution_count": 76,
   "metadata": {},
   "outputs": [
    {
     "data": {
      "text/html": [
       "<div>\n",
       "<style scoped>\n",
       "    .dataframe tbody tr th:only-of-type {\n",
       "        vertical-align: middle;\n",
       "    }\n",
       "\n",
       "    .dataframe tbody tr th {\n",
       "        vertical-align: top;\n",
       "    }\n",
       "\n",
       "    .dataframe thead th {\n",
       "        text-align: right;\n",
       "    }\n",
       "</style>\n",
       "<table border=\"1\" class=\"dataframe\">\n",
       "  <thead>\n",
       "    <tr style=\"text-align: right;\">\n",
       "      <th></th>\n",
       "      <th>Tip Prediction</th>\n",
       "      <th>Tip Observation</th>\n",
       "      <th>Loss</th>\n",
       "    </tr>\n",
       "  </thead>\n",
       "  <tbody>\n",
       "    <tr>\n",
       "      <th>0</th>\n",
       "      <td>5.1899</td>\n",
       "      <td>1.01</td>\n",
       "      <td>4.1799</td>\n",
       "    </tr>\n",
       "    <tr>\n",
       "      <th>1</th>\n",
       "      <td>5.1334</td>\n",
       "      <td>1.66</td>\n",
       "      <td>3.4734</td>\n",
       "    </tr>\n",
       "    <tr>\n",
       "      <th>2</th>\n",
       "      <td>5.2401</td>\n",
       "      <td>3.50</td>\n",
       "      <td>1.7401</td>\n",
       "    </tr>\n",
       "    <tr>\n",
       "      <th>3</th>\n",
       "      <td>5.2568</td>\n",
       "      <td>3.31</td>\n",
       "      <td>1.9468</td>\n",
       "    </tr>\n",
       "    <tr>\n",
       "      <th>4</th>\n",
       "      <td>5.2859</td>\n",
       "      <td>3.61</td>\n",
       "      <td>1.6759</td>\n",
       "    </tr>\n",
       "  </tbody>\n",
       "</table>\n",
       "</div>"
      ],
      "text/plain": [
       "   Tip Prediction  Tip Observation    Loss\n",
       "0          5.1899             1.01  4.1799\n",
       "1          5.1334             1.66  3.4734\n",
       "2          5.2401             3.50  1.7401\n",
       "3          5.2568             3.31  1.9468\n",
       "4          5.2859             3.61  1.6759"
      ]
     },
     "execution_count": 76,
     "metadata": {},
     "output_type": "execute_result"
    }
   ],
   "source": [
    "pd.DataFrame({\n",
    "    'Tip Prediction': yhat_bill,\n",
    "    'Tip Observation': y,\n",
    "    'Loss': np.sqrt(loss(y, yhat_bill))\n",
    "}).head()"
   ]
  },
  {
   "cell_type": "markdown",
   "metadata": {},
   "source": [
    "#### Using Sci-Kit Learn"
   ]
  },
  {
   "cell_type": "code",
   "execution_count": 90,
   "metadata": {},
   "outputs": [],
   "source": [
    "from sklearn.linear_model import *\n",
    "\n",
    "model = LinearRegression().fit(X, y) # find best parameters"
   ]
  },
  {
   "cell_type": "code",
   "execution_count": 91,
   "metadata": {},
   "outputs": [
    {
     "data": {
      "text/plain": [
       "array([2.62933992, 2.20539403, 3.19464533, 3.24959215, 3.71915687])"
      ]
     },
     "execution_count": 91,
     "metadata": {},
     "output_type": "execute_result"
    }
   ],
   "source": [
    "model.predict(X[:5]) #predict"
   ]
  },
  {
   "cell_type": "code",
   "execution_count": 81,
   "metadata": {},
   "outputs": [
    {
     "data": {
      "text/plain": [
       "array([1.01, 1.66, 3.5 , 3.31, 3.61])"
      ]
     },
     "execution_count": 81,
     "metadata": {},
     "output_type": "execute_result"
    }
   ],
   "source": [
    "y[:5]"
   ]
  },
  {
   "cell_type": "code",
   "execution_count": 83,
   "metadata": {},
   "outputs": [
    {
     "data": {
      "text/plain": [
       "0.46786930879612587"
      ]
     },
     "execution_count": 83,
     "metadata": {},
     "output_type": "execute_result"
    }
   ],
   "source": [
    "model.score(X, y)"
   ]
  },
  {
   "cell_type": "code",
   "execution_count": 89,
   "metadata": {},
   "outputs": [
    {
     "data": {
      "text/plain": [
       "<matplotlib.axes._subplots.AxesSubplot at 0x1a8c1dbe908>"
      ]
     },
     "execution_count": 89,
     "metadata": {},
     "output_type": "execute_result"
    },
    {
     "data": {
      "image/png": "[encoded data removed]",
      "text/plain": [
       "<Figure size 432x288 with 1 Axes>"
      ]
     },
     "metadata": {
      "needs_background": "light"
     },
     "output_type": "display_data"
    }
   ],
   "source": [
    "sns.scatterplot(X[:, 0], y)\n",
    "sns.lineplot(X[:, 0], model.predict(X), color=\"red\")"
   ]
  },
  {
   "cell_type": "markdown",
   "metadata": {},
   "source": [
    "## Classifiers"
   ]
  },
  {
   "cell_type": "code",
   "execution_count": 112,
   "metadata": {},
   "outputs": [],
   "source": [
    "from sklearn.neighbors import KNeighborsClassifier\n",
    "\n",
    "X = df[ ['total_bill', 'tip'] ].values # extracts the underlying \n",
    "y = df[ 'sex' ]"
   ]
  },
  {
   "cell_type": "code",
   "execution_count": 113,
   "metadata": {},
   "outputs": [],
   "source": [
    "model = KNeighborsClassifier(3).fit(X, y)"
   ]
  },
  {
   "cell_type": "code",
   "execution_count": 114,
   "metadata": {},
   "outputs": [
    {
     "data": {
      "text/plain": [
       "array(['Male', 'Male', 'Female'], dtype=object)"
      ]
     },
     "execution_count": 114,
     "metadata": {},
     "output_type": "execute_result"
    }
   ],
   "source": [
    "model.predict([\n",
    "    [20, 5],\n",
    "    [15, 0.5],\n",
    "    [5, 0.5],\n",
    "])"
   ]
  },
  {
   "cell_type": "markdown",
   "metadata": {},
   "source": [
    "### Aside: Prediction as Preparatino"
   ]
  },
  {
   "cell_type": "code",
   "execution_count": 121,
   "metadata": {},
   "outputs": [],
   "source": [
    "## df.loc[np.random.randint(0, 100, 10), 'size'] = np.nan"
   ]
  },
  {
   "cell_type": "code",
   "execution_count": 1,
   "metadata": {},
   "outputs": [
    {
     "ename": "NameError",
     "evalue": "name 'df' is not defined",
     "output_type": "error",
     "traceback": [
      "\u001b[0;31m---------------------------------------------------------------------------\u001b[0m",
      "\u001b[0;31mNameError\u001b[0m                                 Traceback (most recent call last)",
      "\u001b[0;32m<ipython-input-1-c42a15b2c7cf>\u001b[0m in \u001b[0;36m<module>\u001b[0;34m()\u001b[0m\n\u001b[0;32m----> 1\u001b[0;31m \u001b[0mdf\u001b[0m\u001b[0;34m.\u001b[0m\u001b[0mhead\u001b[0m\u001b[0;34m(\u001b[0m\u001b[0;34m)\u001b[0m\u001b[0;34m\u001b[0m\u001b[0m\n\u001b[0m",
      "\u001b[0;31mNameError\u001b[0m: name 'df' is not defined"
     ]
    }
   ],
   "source": [
    "df.head()"
   ]
  },
  {
   "cell_type": "markdown",
   "metadata": {},
   "source": [
    "### Exercise\n",
    "\n",
    "* Starting with the titanic dataset (or another of interest)\n",
    "    * choose your $X$, $y$ (eg., surivial vs. class/age/etc.)\n",
    "    * train a KNN classifier\n",
    "    * predict for some example X of interest\n",
    "    \n",
    "* In your solution above:\n",
    "    * vary k -- what is the effect of a higher $k$ on your predictions?\n",
    "    * is there a *correct* value for $k$?\n",
    "    \n",
    "* Try `.predict_proba` instead of `.predict`\n",
    "    * How do you interpret this output?\n",
    "        * How is this computed?\n",
    "    * Create a second example with a multiclass column (ie., >2 labels)\n",
    "        * what is the output of predict_proba? \n",
    "        * what is the use of this function?\n",
    "        "
   ]
  },
  {
   "cell_type": "code",
   "execution_count": 111,
   "metadata": {},
   "outputs": [
    {
     "data": {
      "text/plain": [
       "array([[0.33333333, 0.66666667],\n",
       "       [0.        , 1.        ],\n",
       "       [1.        , 0.        ]])"
      ]
     },
     "execution_count": 111,
     "metadata": {},
     "output_type": "execute_result"
    }
   ],
   "source": [
    "model.predict_proba([\n",
    "    [20, 5],\n",
    "    [15, 0.5],\n",
    "    [5, 0.5],\n",
    "])"
   ]
  },
  {
   "cell_type": "code",
   "execution_count": 4,
   "metadata": {},
   "outputs": [],
   "source": [
    "from sklearn.model_selection import cross_validate"
   ]
  },
  {
   "cell_type": "code",
   "execution_count": 13,
   "metadata": {},
   "outputs": [],
   "source": [
    "import seaborn as sns\n",
    "\n",
    "df = sns.load_dataset('titanic')\n",
    "X = df[ ['fare', 'pclass'] ].values\n",
    "y = df['survived']"
   ]
  },
  {
   "cell_type": "code",
   "execution_count": 17,
   "metadata": {},
   "outputs": [
    {
     "data": {
      "text/plain": [
       "0.7710437710437711"
      ]
     },
     "execution_count": 17,
     "metadata": {},
     "output_type": "execute_result"
    }
   ],
   "source": [
    "KNeighborsClassifier(3).fit(X, y).score(X, y)"
   ]
  },
  {
   "cell_type": "code",
   "execution_count": 26,
   "metadata": {},
   "outputs": [],
   "source": [
    "from sklearn.neighbors import KNeighborsClassifier\n",
    "\n",
    "scores = {}\n",
    "scores[5] = cross_validate(KNeighborsClassifier(5), X, y, cv=5)['test_score'].mean()"
   ]
  },
  {
   "cell_type": "code",
   "execution_count": 27,
   "metadata": {},
   "outputs": [
    {
     "data": {
      "text/plain": [
       "{5: 0.6645052622769024}"
      ]
     },
     "execution_count": 27,
     "metadata": {},
     "output_type": "execute_result"
    }
   ],
   "source": [
    "scores"
   ]
  },
  {
   "cell_type": "markdown",
   "metadata": {},
   "source": [
    "# Exercise\n",
    "* obtain the `cross_validate` score for a choice of neighbors: 1, 3, 5, 7, 21, 41\n",
    "    * HINT: add lines, `score[3] = ... (3) ...` etc."
   ]
  },
  {
   "cell_type": "code",
   "execution_count": null,
   "metadata": {},
   "outputs": [],
   "source": []
  }
 ],
 "metadata": {
  "kernelspec": {
   "display_name": "Python 3",
   "language": "python",
   "name": "python3"
  },
  "language_info": {
   "codemirror_mode": {
    "name": "ipython",
    "version": 3
   },
   "file_extension": ".py",
   "mimetype": "text/x-python",
   "name": "python",
   "nbconvert_exporter": "python",
   "pygments_lexer": "ipython3",
   "version": "3.7.3"
  }
 },
 "nbformat": 4,
 "nbformat_minor": 4
}
