{
 "cells": [
  {
   "cell_type": "markdown",
   "metadata": {},
   "source": [
    "# Machine Learning: Modelling, Optimization and Loss"
   ]
  },
  {
   "cell_type": "markdown",
   "metadata": {},
   "source": [
    "* Machine Learning Review\n",
    "    * Data\n",
    "    * Models and Linear Models\n",
    "    * Loss\n",
    "        * Distance\n",
    "        * Regularization\n",
    "    * Optimization\n",
    "        * Gradients\n",
    "        * Learning Rate\n",
    "    * Explanatory vs. Statistical Approaches\n"
   ]
  },
  {
   "cell_type": "markdown",
   "metadata": {},
   "source": [
    "# Overview\n",
    "\n",
    "In this section we review the essential notation and conceptual foundations of machine learning. \n",
    "\n",
    "A grasp of notation is needed to fully engage with both the instructional (, educational) literature on ML; library documentation; and the broader community ecosystem.  \n"
   ]
  },
  {
   "cell_type": "markdown",
   "metadata": {},
   "source": [
    "# Data"
   ]
  },
  {
   "cell_type": "markdown",
   "metadata": {},
   "source": [
    "In a tabular view, a column represents a variable (, covariate, random variable, feature, target). The rows of that column are its observed values, each row corresponding to a particular example or data point. \n",
    "\n",
    "The observation index, i, is often given as a superscript or left off (ie., so we read x as an x rather than the whole dataset x). So that the subscript refers to different variables, ie., x1, x2, .. are different features of a single observation x. \n",
    "\n",
    "\n",
    "The entire data set is often split into test/training subsets. The training subset is used to solve the learning problem, and the test set to evaluate the quality (, performance) of that solution. \n"
   ]
  },
  {
   "cell_type": "markdown",
   "metadata": {},
   "source": [
    "### Example"
   ]
  },
  {
   "cell_type": "code",
   "execution_count": 158,
   "metadata": {},
   "outputs": [],
   "source": [
    "import numpy as np\n",
    "\n",
    "age = 18 + np.random.normal(10, 5, 10)//1\n",
    "iq = np.random.normal(100, 15, 10)//1\n",
    "rating = (5*(age/age.max()) + 3*(iq/iq.max()) + np.random.normal(1, 1, 10))//1"
   ]
  },
  {
   "cell_type": "code",
   "execution_count": 159,
   "metadata": {},
   "outputs": [],
   "source": [
    "X = np.c_[age, iq]\n",
    "y = rating"
   ]
  },
  {
   "cell_type": "code",
   "execution_count": 160,
   "metadata": {},
   "outputs": [
    {
     "data": {
      "text/plain": [
       "((10, 2), (10,))"
      ]
     },
     "execution_count": 160,
     "metadata": {},
     "output_type": "execute_result"
    }
   ],
   "source": [
    "X.shape, y.shape"
   ]
  },
  {
   "cell_type": "code",
   "execution_count": 161,
   "metadata": {},
   "outputs": [
    {
     "name": "stdout",
     "output_type": "stream",
     "text": [
      "[[ 23.  93.   4.]\n",
      " [ 30.  87.   7.]\n",
      " [ 20. 111.   6.]\n",
      " [ 31. 102.   8.]\n",
      " [ 28.  80.   7.]\n",
      " [ 27.  97.   6.]\n",
      " [ 30. 104.   6.]\n",
      " [ 38. 107.   9.]\n",
      " [ 26. 104.  10.]\n",
      " [ 28. 109.   7.]]\n"
     ]
    }
   ],
   "source": [
    "print(np.c_[X,y])"
   ]
  },
  {
   "cell_type": "markdown",
   "metadata": {},
   "source": [
    "### Exercise"
   ]
  },
  {
   "cell_type": "markdown",
   "metadata": {},
   "source": [
    "Model a dataset for a room with a temperature distribution. The heater is in the centre of the room (0, 0) and the temperature decreases from 20C outwards quadratically in each direction.\n",
    "\n",
    "ie. $temp(x_1, x_2) = 20 - 0.01(x_1 + x_2)^2 + e_i$\n",
    "where the errors $e_i$ are distributed normally \n",
    "\n",
    "* define two features and a target\n",
    "    * x_1 and x_2 should form a grid of positions, eg., via `linspace`"
   ]
  },
  {
   "cell_type": "markdown",
   "metadata": {},
   "source": [
    "# Models"
   ]
  },
  {
   "cell_type": "markdown",
   "metadata": {},
   "source": [
    "In general, we aim to find a model (estimate function) $\\hat{f}$ of a true function $f$. \n",
    "\n",
    "$\\hat{f} = \\underset{f} {\\mathrm{arg\\,max}} ~\\mathbb{E}_{unseen} \\, l(f(x), y)$\n",
    "\n",
    "via empirical loss minimization:\n",
    "\n",
    "$\\hat{f} = \\underset{f} {\\mathrm{arg\\,max}} ~\\frac{1}{N}\\Sigma_{training} \\, l(f(x), y)$\n",
    "\n",
    "### Linear Models\n",
    "In regression the estimate $\\hat{f}$ accepts features of a observation $x$ and provides a real number estimate for y,  ie., $\\hat{y}$.\n",
    "\n",
    "Linear regression models have the form\n",
    "\n",
    "$\\hat{f} = w_0x_0 + \\dots + w_nx_n + b = w \\cdot x = w^Tx$"
   ]
  },
  {
   "cell_type": "markdown",
   "metadata": {},
   "source": [
    "### Example"
   ]
  },
  {
   "cell_type": "code",
   "execution_count": 243,
   "metadata": {},
   "outputs": [
    {
     "name": "stdout",
     "output_type": "stream",
     "text": [
      "[5.9] [5.9]\n"
     ]
    }
   ],
   "source": [
    "def f(X, w, b):\n",
    "    return w @ X.T + b \n",
    "\n",
    "# or,\n",
    "def f_(X, w, b):\n",
    "    return w[0] * X[:,0] + w[1] * X[:, 1] + b\n",
    "\n",
    "\n",
    "w_trial = np.array([0.02, 0.05])\n",
    "b_trial = 0.5\n",
    "x_unseen = np.array([[20, 100]])\n",
    "\n",
    "print(\n",
    "    f(x_unseen, w_trial, b_trial),\n",
    "    f_(x_unseen, w_trial, b_trial)\n",
    ")"
   ]
  },
  {
   "cell_type": "markdown",
   "metadata": {},
   "source": [
    "### Exercise"
   ]
  },
  {
   "cell_type": "markdown",
   "metadata": {},
   "source": [
    "Write a suitable model, ie.,\n",
    "\n",
    "* $g(X; w, b) = b + w(X_0 + X_1)^2$"
   ]
  },
  {
   "cell_type": "markdown",
   "metadata": {},
   "source": [
    "* initialize a $w_{guess}$ and a $b_{guess}$ and calculate the temperature for $(0,0)$"
   ]
  },
  {
   "cell_type": "markdown",
   "metadata": {},
   "source": [
    "\n",
    "# Types of Learning\n",
    "\n",
    "In supervised learning, $\\hat{f}(x)$ is found by varying the model or its parameters until its estimates for y are the best according to some criterion formalized by the loss.\n",
    "\n",
    "To determine whether an estimate is good, we require known target values $y$ for each known observation $x$. \n",
    "\n",
    "In unsupervised learning we tend to be estimating $\\hat{f} = p(x_1, x_2, ...x_n)$, ie., the function to be learned is the joint probability of the dataset (roughly: how likely it is to observe $x_1$ *and* $x_2$ occuring).\n",
    "\n",
    "\n",
    "A distinction is sometimes made between classification: $\\hat{f} = ... p(x|y) ...$, and prediction: $\\hat{f} = ... p(y|x) ...$. Where in the former case the probability of observing a feature $x$, given a known label $y$ is the heart of the decision about what $x$ is. In the latter case, the estimate for $y$ is derived from how likely it is given $x$. \n",
    "\n",
    "Classification is concerned with the past in the sense that the estimating function is trained taking the target $y$ as a given (we known the complete domain of $y$ and the distribution of $y$ in the dataset biases the model). Prediction is concerned with the future in the sense that it is trained not assuming $y$ (the domain is open; the distribution of $y$ in training tends not to bias). In classification, we generalize from the known labels to the unknown features. In prediction, we generalize from known features to unknown targets. \n",
    "\n",
    "\n",
    "## Regression\n",
    "\n",
    "Regression is a supervised learning problem whose target is a real number. Eg., estimating the price of a car; the age of a student; the profit from an ad campaign; the probability of reoffence for a given crime.\n",
    "\n",
    "\n",
    "## Classification\n",
    "\n",
    "Classification is a supervised learning problem. The target, y, is a discrete number representing one of several labels. A binary classification problem usually has the target domain ${-1,+1}$ as the \"negative\" and \"positive\" outcomes. Binary classification is a model of many experiments and decision making processes (null hypothesis vs expected; yes vs no; pass vs play; etc.).\n",
    "\n",
    "In general classification is the labelling of some observation x with an estimated label $\\hat{y}$ via training a model on seen pairs $(x, y)$.\n",
    "\n",
    "## Classification as Regression\n",
    "\n",
    "A regression model is often the basis of solving a classification problem. In this case the real-number output of the model is interpreted as a score and mapped to a class. \n",
    "\n",
    "This map is called a decision function, eg., \n",
    "\n"
   ]
  },
  {
   "cell_type": "markdown",
   "metadata": {},
   "source": [
    "### Example"
   ]
  },
  {
   "cell_type": "code",
   "execution_count": 208,
   "metadata": {},
   "outputs": [
    {
     "data": {
      "text/plain": [
       "array([5.9])"
      ]
     },
     "execution_count": 208,
     "metadata": {},
     "output_type": "execute_result"
    }
   ],
   "source": [
    "f(x_unseen, w_trial, b_trial)"
   ]
  },
  {
   "cell_type": "code",
   "execution_count": 222,
   "metadata": {},
   "outputs": [
    {
     "name": "stdout",
     "output_type": "stream",
     "text": [
      "(0,0) ->  1\n",
      "(-10, -10) ->  -1\n"
     ]
    }
   ],
   "source": [
    "def classifier(x, w, b):\n",
    "    score = f(x, w, b)\n",
    "    return 1 if score >= 0  else -1\n",
    "\n",
    "print(\"(0,0) -> \", classifier(x_unseen, w_trial, b_trial))\n",
    "print(\"(-10, -10) -> \", classifier(np.array([-10, -10]), w_trial, b_trial))"
   ]
  },
  {
   "cell_type": "markdown",
   "metadata": {},
   "source": [
    "### Exercise"
   ]
  },
  {
   "cell_type": "code",
   "execution_count": 229,
   "metadata": {},
   "outputs": [
    {
     "data": {
      "text/plain": [
       "[0.6000000000000001, 2.6, -0.5]"
      ]
     },
     "execution_count": 229,
     "metadata": {},
     "output_type": "execute_result"
    }
   ],
   "source": [
    "def f_multi(x, w):\n",
    "    return [\n",
    "        w[0] @ x[0, :],\n",
    "        w[1] @ x[1, :], \n",
    "        w[2] @ x[2, :]\n",
    "    ]\n",
    "\n",
    "x_eg = np.array([\n",
    "    [2, 2],\n",
    "    [10, 4],\n",
    "    [0, 1]\n",
    "])\n",
    "\n",
    "w_eg = [(0.1, 0.2), (0.3, -0.1), (0.5, -0.5)]\n",
    "\n",
    "f_multi(x_eg, w_eg)"
   ]
  },
  {
   "cell_type": "markdown",
   "metadata": {},
   "source": [
    "* Define the softmax function\n",
    "    * `exp(x)/sum(exp(x))`\n",
    "* And hence, a decision function for f_mulit()\n",
    "    * report the label for the maximum softmax'd entry  (HINT: `np.argmax`)\n",
    "    * and report the probability "
   ]
  },
  {
   "cell_type": "markdown",
   "metadata": {},
   "source": [
    "# Explanatory and Associative Modelling"
   ]
  },
  {
   "cell_type": "markdown",
   "metadata": {},
   "source": [
    "## Explanatory Models\n",
    "\n",
    "Explanatory models are relations of causal variables, parameterised by the strength of effect of each variable. \n",
    "\n",
    "\n",
    "An explanatory model, eg. $dial \\xrightarrow[]{causes} temperature$\n",
    "\n",
    "May predict an observed association:\n",
    "\n",
    "$temperature(dial) = 16 + 3dial$\n",
    "\n",
    "A causal variable is one we may act upon and which, post-interaction, produces a change in a effect variable.\n",
    "\n",
    "Explanatory models describe all possible states of the world (, environment) under change of relevant variable: given complete (cause1, cause2, ... effect) variables described by the model, it should not be possible to observe a value for the effect untracked by the model.\n",
    "\n",
    "Insofar as explanatory models fail they do so because they are incomplete, or take the wrong form (eg., temperature is not merely caused by thermostat activity, but also, window-breeze; temperature is not linearly related to thermostat position). \n",
    "\n",
    "\n",
    "Explanatory models are gaurenteed to generalize from the training set (in-sample) to the unseen set (out-sample), in the sense that, if the explanatory model is complete and applicable, the same causal laws work in the both domains. "
   ]
  },
  {
   "cell_type": "code",
   "execution_count": 6,
   "metadata": {},
   "outputs": [],
   "source": [
    "import seaborn as sns"
   ]
  },
  {
   "cell_type": "code",
   "execution_count": 613,
   "metadata": {},
   "outputs": [
    {
     "data": {
      "image/png": "[encoded data removed]",
      "text/plain": [
       "<Figure size 432x288 with 1 Axes>"
      ]
     },
     "metadata": {
      "needs_background": "light"
     },
     "output_type": "display_data"
    }
   ],
   "source": [
    "def room_temperature(dial_setting):\n",
    "    model = [ np.random.normal(16 + 0.5*dial, 0.1*(1 + dial), 10) for dial in range(11) ]\n",
    "    return model[dial_setting]\n",
    "\n",
    "sns.distplot(room_temperature(5));"
   ]
  },
  {
   "cell_type": "code",
   "execution_count": 614,
   "metadata": {},
   "outputs": [
    {
     "data": {
      "image/png": "[encoded data removed]",
      "text/plain": [
       "<Figure size 432x288 with 1 Axes>"
      ]
     },
     "metadata": {
      "needs_background": "light"
     },
     "output_type": "display_data"
    }
   ],
   "source": [
    "sns.distplot(room_temperature(0));"
   ]
  },
  {
   "cell_type": "markdown",
   "metadata": {},
   "source": [
    "\n",
    "## Statistical-Associative Models\n",
    "\n",
    "Associative statistical modelling aims to find any function of any variable and parameters that tracks the variation in the target y as seen the training set $(x, y)$. Regardless of whether acting upon $x$, causes, $y$ to change. \n",
    "\n",
    "Eg., suppose in a room all the people in coats $(x = 1)$ sat closer to the door, and all people in t-shirts $(x = 2)$ further away, then\n",
    "\n",
    "$temperature(x) = 16 + 5x$\n",
    "\n",
    "So that the temperature near the t-shirt area is $16 + 10 = 26$; and near the coats $16 + 5 = 21$. \n",
    "\n",
    "This may perfectly predict the distribution of temperature, but taking off a coat does not cause the temperature to increase! Acting upon the variable x is not the same as observing a different value for it. An action produces discontinuous changes of association, ie., all data on the current association of a dial to a temperature lacks any predictive power when the dial is changed. \n",
    "\n",
    "I can obtain an infinite amount of data on how one angle of a dial maps to an infinite amount of variables of interest (eg., molecule velocity). An associative model trained on this infinity is still unpredictive when the dial angle is changed! \n",
    "\n",
    "The causal laws of a system produce abitarily-many such associations (every dial angle corresponds to a new total state of the room) -- it is therefore impossible to \"reverse\" a single associative model to produced a causal one.\n",
    "\n",
    "(Science finds causal models by generating many associative ones under action upon candidate causal variables, taking the pattern in the patterns, as causal variables change as a guide for theory building. Candidate explanatory models need to reporduce every such pattern and in addition predict novel ones to be found plausible).\n",
    "\n",
    "Consider also a image classifier,\n",
    "\n",
    "*classify(image) -> cat*\n",
    "\n",
    "Supppose this classifer tracks the presence of whiskers. Clipping whiskers on cat does not turn it into a dog. The parameters of the model conspire to increase the response to whisker-like patterns in images: this produces predictive acuracy with respect to a kind of pictoral dataset, but is still merely predictive.\n"
   ]
  },
  {
   "cell_type": "markdown",
   "metadata": {},
   "source": [
    "* Can we predict the temperature in an area where a person is wearing a coat?"
   ]
  },
  {
   "cell_type": "code",
   "execution_count": 617,
   "metadata": {},
   "outputs": [
    {
     "data": {
      "image/png": "[encoded data removed]",
      "text/plain": [
       "<Figure size 432x288 with 1 Axes>"
      ]
     },
     "metadata": {
      "needs_background": "light"
     },
     "output_type": "display_data"
    }
   ],
   "source": [
    "def coat_temperature(coat, dial=7):\n",
    "    return (1 + 0.1*coat)*room_temperature(dial) - 2*coat\n",
    "\n",
    "sns.distplot(coat_temperature(coat=True));"
   ]
  },
  {
   "cell_type": "code",
   "execution_count": 618,
   "metadata": {},
   "outputs": [
    {
     "data": {
      "image/png": "[encoded data removed]",
      "text/plain": [
       "<Figure size 432x288 with 1 Axes>"
      ]
     },
     "metadata": {
      "needs_background": "light"
     },
     "output_type": "display_data"
    }
   ],
   "source": [
    "sns.distplot(coat_temperature(coat=False));"
   ]
  },
  {
   "cell_type": "markdown",
   "metadata": {},
   "source": [
    "* Yes -- eg., 19 for Coat=True, 20 for Coat=False"
   ]
  },
  {
   "cell_type": "markdown",
   "metadata": {},
   "source": [
    "* However Coat-wearing is not the cause of temperature change\n",
    "* So the following assocation cannot be inferred from the data above:"
   ]
  },
  {
   "cell_type": "code",
   "execution_count": 620,
   "metadata": {},
   "outputs": [
    {
     "data": {
      "image/png": "[encoded data removed]",
      "text/plain": [
       "<Figure size 432x288 with 1 Axes>"
      ]
     },
     "metadata": {
      "needs_background": "light"
     },
     "output_type": "display_data"
    }
   ],
   "source": [
    "temps = [room_temperature(dial).mean() for dial in np.arange(0, 11)]\n",
    "sns.regplot(np.arange(0, 11), temps);"
   ]
  },
  {
   "cell_type": "markdown",
   "metadata": {},
   "source": [
    "* And therefore environmental change (ie., `dial=0`) produces an unpredicable distribution:"
   ]
  },
  {
   "cell_type": "code",
   "execution_count": 622,
   "metadata": {},
   "outputs": [
    {
     "data": {
      "image/png": "[encoded data removed]",
      "text/plain": [
       "<Figure size 432x288 with 1 Axes>"
      ]
     },
     "metadata": {
      "needs_background": "light"
     },
     "output_type": "display_data"
    }
   ],
   "source": [
    "sns.distplot(coat_temperature(coat=True, dial=0));"
   ]
  },
  {
   "cell_type": "markdown",
   "metadata": {},
   "source": [
    "* ie., the distribution for Coat=True under environmental change cannot be predicted from historical distributions. \n",
    "* The distributions for True|False only hold given static environmental conditions.\n",
    "\n",
    "\n",
    "* However the regression plot (temp  vs dial) describes behaviour *during* environmental change (ie., dial change)\n",
    "    * and therefore generalizes\n",
    "* Since dial change *causes* temperature change, historical distributions predict future distributions (ie., the laws of physics don't change). "
   ]
  },
  {
   "cell_type": "markdown",
   "metadata": {},
   "source": [
    "### Exercise"
   ]
  },
  {
   "cell_type": "markdown",
   "metadata": {},
   "source": [
    "* What does the following line calculate?\n",
    "\n",
    "> `temp1 = [room_temperature(dial).mean() for dial in np.arange(0, 31)]`\n",
    "\n",
    "* How would you obtain the data of `temp1` without knowing `room_temperature()` ?\n",
    "\n",
    "\n",
    "* What does the following line calculate?\n",
    "\n",
    "> `temp2 = (1 + 0.1*coat)*room_temperature(dial) - 2*coat`\n",
    "\n",
    "* Why do the entires of `temp1` differ? \n",
    "* Why do the entries of `temp2` differ?\n",
    " "
   ]
  },
  {
   "cell_type": "markdown",
   "metadata": {},
   "source": [
    "\n",
    "## Mere Predictive Models and The Semantic Gap\n",
    "\n",
    "A scientific theory comprises many explanatory models and explicit conceptual-variable connections, saying that, eg., our intuitive notion of \"falling\" is gravity and that gravity is tracked by a force term, etc.\n",
    "\n",
    "A goal of scientific enquirey is therefore to provide explanatory models and causal semantics for these models: a meaning for each of their terms which map them to, in principle, pieces of the environment that we may act upon.  \n",
    "\n",
    "A perfectly predictive statistical model fails in many more ways that a complete explanatory model. A merely predictive model is in a deep way essentially coincidental: it happened to be that coats/tshirts were so-laid-out. It happened to be that all images of cats had whiskers. These aren't inexplicable, but they cannot be relied upon to hold in general.\n",
    "\n",
    "We should therefore regard associative models as unsafe and unreliable without expert supervision, or additional systems to verify their applicability.\n",
    "\n",
    "An associative model is likely to fail in wholey unpredictable ways: because what we rely on for predictive intuitions is explantory models. When we misclassify an obstacle, we may crash. But we can explain in what circumstances we are likely to do so, because our models of obstacles are explanatory.\n",
    "\n",
    "Mere associative models are not necessarily parameterised by interpretable terms, and are therefore likely to misclassify, eg., road obstacles, in inexplicable scenarios.\n",
    "\n",
    "More precisely we rely on *theories*, that is, a wide class of explanatory models. When navigating a road, we model the behaviour of other drives via empathetic and cognitive systems that assign likely behaviour, thoughts, goals, intentions, etc. These estimates are constantly updated by, eg., a indicator light (or the failure to indicate). When navigating social environments, such as roads, we employ a \"Theory of Mind\".\n",
    "\n",
    "This leaves merely associative models worse than inexplicable, but essentially kinds of illusions. Even when they work we misattribute the mechanism of how they work. When we ask alexa to turn on the lights we assume there is some causal-semantic notion of \"lights\", \"on\", etc. These sets us up to confidently predict the successful operation of an associative system when in fact it will fail catestrophically. \n",
    "\n",
    "\n",
    "## Training and The Semantic Gap\n",
    "\n",
    "Training associative systems to \"overcome\" semantic gaps quickly runs into infinites. Suppose I wish to train a classifier on 2D images, even with an infinite number, I can make a dog \"look like\" a cat in 2D -- using, eg., lighting conditions, occlusion, fur fluffing, hair dressing, coat dying, etc.\n",
    "\n",
    "Ie., suppose I choose a 2D image labelled \"Cat\" in the infinite set -- I can at least photograph some dog to produce an identitical 2D image! \n",
    "\n",
    "Suppose then I add in infinities of 3D info, of skeleton structure, etc. Still the model only tracks coincidences-we-hope-generalize. The semantics of \"Cat\" are not captured by image data, eg., at least, DNA is relevant. \n",
    "\n",
    "The ability of a neural network to learn \"any function\" is often sold as some deeply magical ability which subtly implies an ability to overcome any semantic gap. As we see here however even learning the True Function over an infinity of 2D images, fails to learn the True Function separating Cat/Dog -- 2D images do not contain the pertinent explanatory information. \n",
    "\n",
    "Deploying and The Semantic Gap\n",
    "\n",
    "Given the problems with associative models, we should use them when:\n",
    "\n",
    "(1) the in-sample is guaranteed to look like the out-sample (eg., with handwriting analysis, it is unlikely letter shapes will change). \n",
    "\n",
    "(2) the in-sample will not look like the out-sample, and we have expert supervision (eg., in fraud analysis, the model suggests fraud to an investigator, rather than, convicts). \n",
    "\n",
    "(3) the in-sample will predictably fail to generalize from the out-sample and we have automatic control systems to monitor (eg.,  hard-coded thermostat rules can prevent catestrophic heating, etc.).  \n",
    "\n"
   ]
  },
  {
   "cell_type": "markdown",
   "metadata": {},
   "source": [
    "# Solutions"
   ]
  },
  {
   "cell_type": "markdown",
   "metadata": {},
   "source": [
    "### Solution 1"
   ]
  },
  {
   "cell_type": "code",
   "execution_count": 162,
   "metadata": {},
   "outputs": [],
   "source": [
    "import seaborn as sns\n",
    "\n",
    "def temp(x1, x2):\n",
    "    return 20 - 0.03*(x1 + x2)**2 + np.random.normal(2, 1, 1)[0]\n",
    "\n",
    "x1 = np.linspace(0, 10, 20)\n",
    "x2 = np.linspace(0, 10, 20)\n",
    "\n",
    "X_loc = np.c_[x1, x2]\n",
    "y_temp = [temp(a, b) for a, b in zip(x1, x2)]"
   ]
  },
  {
   "cell_type": "code",
   "execution_count": 163,
   "metadata": {},
   "outputs": [
    {
     "name": "stdout",
     "output_type": "stream",
     "text": [
      "[[ 0.          0.         20.68333845]\n",
      " [ 0.52631579  0.52631579 23.60238046]\n",
      " [ 1.05263158  1.05263158 22.03353045]\n",
      " [ 1.57894737  1.57894737 21.49600882]\n",
      " [ 2.10526316  2.10526316 23.07829816]\n",
      " [ 2.63157895  2.63157895 22.55977402]\n",
      " [ 3.15789474  3.15789474 23.43753054]\n",
      " [ 3.68421053  3.68421053 20.2620122 ]\n",
      " [ 4.21052632  4.21052632 20.16653772]\n",
      " [ 4.73684211  4.73684211 18.56253463]\n",
      " [ 5.26315789  5.26315789 18.5865171 ]\n",
      " [ 5.78947368  5.78947368 18.42284903]\n",
      " [ 6.31578947  6.31578947 17.41757468]\n",
      " [ 6.84210526  6.84210526 16.52142   ]\n",
      " [ 7.36842105  7.36842105 13.50277827]\n",
      " [ 7.89473684  7.89473684 16.56733979]\n",
      " [ 8.42105263  8.42105263 12.5197412 ]\n",
      " [ 8.94736842  8.94736842 11.5589957 ]\n",
      " [ 9.47368421  9.47368421 10.95669138]\n",
      " [10.         10.          8.65323046]]\n"
     ]
    }
   ],
   "source": [
    "print(np.c_[X_loc, y_temp])"
   ]
  },
  {
   "cell_type": "markdown",
   "metadata": {},
   "source": [
    "### Solution 2"
   ]
  },
  {
   "cell_type": "code",
   "execution_count": 165,
   "metadata": {},
   "outputs": [],
   "source": [
    "def g(X, w, b):\n",
    "    return b + w*(X[:, 0] + X[:, 1])**2"
   ]
  },
  {
   "cell_type": "code",
   "execution_count": 166,
   "metadata": {},
   "outputs": [
    {
     "data": {
      "text/plain": [
       "array([19.])"
      ]
     },
     "execution_count": 166,
     "metadata": {},
     "output_type": "execute_result"
    }
   ],
   "source": [
    "w_guess = 0.01\n",
    "b_guess = 19\n",
    "\n",
    "unseen = np.array([[0, 0]])\n",
    "g(unseen, w_guess, b_guess)"
   ]
  },
  {
   "cell_type": "markdown",
   "metadata": {},
   "source": [
    "### Solution 3"
   ]
  },
  {
   "cell_type": "code",
   "execution_count": 230,
   "metadata": {},
   "outputs": [],
   "source": [
    "def softmax(x):\n",
    "    return np.exp(x)/np.exp(x).sum()"
   ]
  },
  {
   "cell_type": "code",
   "execution_count": 231,
   "metadata": {},
   "outputs": [
    {
     "data": {
      "text/plain": [
       "array([0.11465356, 0.84718159, 0.03816485])"
      ]
     },
     "execution_count": 231,
     "metadata": {},
     "output_type": "execute_result"
    }
   ],
   "source": [
    "softmax(f_multi(x_eg, w_eg))"
   ]
  },
  {
   "cell_type": "code",
   "execution_count": 233,
   "metadata": {},
   "outputs": [
    {
     "data": {
      "text/plain": [
       "(1, 0.8471815854696965)"
      ]
     },
     "execution_count": 233,
     "metadata": {},
     "output_type": "execute_result"
    }
   ],
   "source": [
    "def classify_multi(x, w):\n",
    "    probs = softmax(f_multi(x, w))\n",
    "    label = np.argmax(probs)\n",
    "    \n",
    "    return (label, probs[label])\n",
    "\n",
    "classify_multi(x_eg, w_eg)"
   ]
  },
  {
   "cell_type": "markdown",
   "metadata": {},
   "source": [
    "### Solution 4"
   ]
  },
  {
   "cell_type": "code",
   "execution_count": 168,
   "metadata": {},
   "outputs": [],
   "source": [
    "def mab(y_pred, y_obsv):\n",
    "    return abs(y_pred - y_obsv).mean()\n",
    "\n",
    "def loss_abs(w, b):\n",
    "    return mab(y_temp, g(X_loc, w, b))"
   ]
  },
  {
   "cell_type": "code",
   "execution_count": 169,
   "metadata": {},
   "outputs": [
    {
     "data": {
      "text/plain": [
       "4.74486920019744"
      ]
     },
     "execution_count": 169,
     "metadata": {},
     "output_type": "execute_result"
    }
   ],
   "source": [
    "loss_abs(w_guess, b_guess)"
   ]
  },
  {
   "cell_type": "markdown",
   "metadata": {},
   "source": [
    "### Solution 5"
   ]
  },
  {
   "cell_type": "code",
   "execution_count": 178,
   "metadata": {},
   "outputs": [],
   "source": [
    "out = optimize.minimize(lambda x: loss_abs(*x), [w_guess, b_guess])\n",
    "w_opt, b_opt = out.x"
   ]
  },
  {
   "cell_type": "code",
   "execution_count": 190,
   "metadata": {},
   "outputs": [
    {
     "data": {
      "image/png": "[encoded data removed]",
      "text/plain": [
       "<Figure size 432x288 with 1 Axes>"
      ]
     },
     "metadata": {
      "needs_background": "light"
     },
     "output_type": "display_data"
    }
   ],
   "source": [
    "sns.scatterplot(X_loc[:, 0], y_temp, color=\"red\")\n",
    "sns.lineplot(X_loc[:, 0], g(X_loc, w_opt, b_opt), color=\"blue\");"
   ]
  },
  {
   "cell_type": "markdown",
   "metadata": {},
   "source": [
    "### Solution 6"
   ]
  },
  {
   "cell_type": "code",
   "execution_count": 198,
   "metadata": {},
   "outputs": [
    {
     "data": {
      "text/plain": [
       "(-0.03452583255198175, 22.614911696174783)"
      ]
     },
     "execution_count": 198,
     "metadata": {},
     "output_type": "execute_result"
    }
   ],
   "source": [
    "w_opt, b_opt"
   ]
  },
  {
   "cell_type": "code",
   "execution_count": 4,
   "metadata": {},
   "outputs": [
    {
     "ename": "NameError",
     "evalue": "name 'optimize' is not defined",
     "output_type": "error",
     "traceback": [
      "\u001b[1;31m---------------------------------------------------------------------------\u001b[0m",
      "\u001b[1;31mNameError\u001b[0m                                 Traceback (most recent call last)",
      "\u001b[1;32m<ipython-input-4-237b28efe368>\u001b[0m in \u001b[0;36m<module>\u001b[1;34m\u001b[0m\n\u001b[1;32m----> 1\u001b[1;33m \u001b[0mout\u001b[0m \u001b[1;33m=\u001b[0m \u001b[0moptimize\u001b[0m\u001b[1;33m.\u001b[0m\u001b[0mminimize\u001b[0m\u001b[1;33m(\u001b[0m\u001b[1;32mlambda\u001b[0m \u001b[0mx\u001b[0m\u001b[1;33m:\u001b[0m \u001b[0mloss_abs\u001b[0m\u001b[1;33m(\u001b[0m\u001b[1;33m*\u001b[0m\u001b[0mx\u001b[0m\u001b[1;33m)\u001b[0m \u001b[1;33m+\u001b[0m \u001b[1;36m0.5\u001b[0m\u001b[1;33m*\u001b[0m\u001b[0mabs\u001b[0m\u001b[1;33m(\u001b[0m\u001b[0mx\u001b[0m\u001b[1;33m[\u001b[0m\u001b[1;36m1\u001b[0m\u001b[1;33m]\u001b[0m\u001b[1;33m)\u001b[0m\u001b[1;33m,\u001b[0m \u001b[1;33m[\u001b[0m\u001b[0mw_guess\u001b[0m\u001b[1;33m,\u001b[0m \u001b[0mb_guess\u001b[0m\u001b[1;33m]\u001b[0m\u001b[1;33m)\u001b[0m\u001b[1;33m\u001b[0m\u001b[1;33m\u001b[0m\u001b[0m\n\u001b[0m\u001b[0;32m      2\u001b[0m \u001b[0mout\u001b[0m\u001b[1;33m.\u001b[0m\u001b[0mx\u001b[0m\u001b[1;33m\u001b[0m\u001b[1;33m\u001b[0m\u001b[0m\n",
      "\u001b[1;31mNameError\u001b[0m: name 'optimize' is not defined"
     ]
    }
   ],
   "source": [
    "out = optimize.minimize(lambda x: loss_abs(*x) + 0.5*abs(x[1]), [w_guess, b_guess])\n",
    "out.x"
   ]
  },
  {
   "cell_type": "code",
   "execution_count": 205,
   "metadata": {},
   "outputs": [
    {
     "data": {
      "image/png": "[encoded data removed]",
      "text/plain": [
       "<Figure size 432x288 with 1 Axes>"
      ]
     },
     "metadata": {
      "needs_background": "light"
     },
     "output_type": "display_data"
    }
   ],
   "source": [
    "sns.scatterplot(X_loc[:, 0], y_temp, color=\"red\")\n",
    "sns.lineplot(X_loc[:, 0], g(X_loc, out.x[0], out.x[1]), color=\"blue\");"
   ]
  }
 ],
 "metadata": {
  "kernelspec": {
   "display_name": "Python 3",
   "language": "python",
   "name": "python3"
  },
  "language_info": {
   "codemirror_mode": {
    "name": "ipython",
    "version": 3
   },
   "file_extension": ".py",
   "mimetype": "text/x-python",
   "name": "python",
   "nbconvert_exporter": "python",
   "pygments_lexer": "ipython3",
   "version": "3.7.3"
  }
 },
 "nbformat": 4,
 "nbformat_minor": 4
}
