{
 "cells": [
  {
   "cell_type": "code",
   "execution_count": 1,
   "metadata": {
    "collapsed": true
   },
   "outputs": [],
   "source": [
    "import numpy as np\n",
    "import seaborn as sns"
   ]
  },
  {
   "cell_type": "markdown",
   "metadata": {},
   "source": [
    "## Gradient Descent"
   ]
  },
  {
   "cell_type": "markdown",
   "metadata": {},
   "source": [
    "* minimise a \"loss\" function (which measures how bad a model performs compared to actual occurrences)\n",
    "    * step DOWN the slope of the function (i.e. gradient, or derivative)\n",
    "        * weight the size of the step by a factor $\\alpha$ (aka \"learning rate\" in ML)\n",
    "            * If $\\alpha$ is small, the algorithm will eventually converge towards a local minimum (but it may take long time)\n",
    "            * If $\\alpha$ is large, the algorithm may converge faster (but it may also overshoot and never find the minimum)\n",
    "            \n",
    "* analogy: lost in mountains surrounded by a dense fog\n",
    "    * feel the slope of the ground below your feet\n",
    "        * step DOWN the slope\n",
    "        * downhill in the direction of the steepest slope\n",
    "        * arrive at the bottom of the valley"
   ]
  },
  {
   "cell_type": "code",
   "execution_count": 2,
   "metadata": {
    "collapsed": true
   },
   "outputs": [],
   "source": [
    "def ddx(f, x, delta=0.0001):\n",
    "    return (f(x + delta) - f(x))/delta\n",
    "\n",
    "def gradient_descent(f, x, iterations=100, learningRate=0.1):\n",
    "    history = []\n",
    "    for _ in range(iterations):\n",
    "        history.append(x)\n",
    "        \n",
    "        x = x - learningRate * ddx(f, x)\n",
    "                # learningRate = \"hyperparameter\"\n",
    "        \n",
    "    return np.array(history)"
   ]
  },
  {
   "cell_type": "code",
   "execution_count": 3,
   "metadata": {},
   "outputs": [
    {
     "data": {
      "text/plain": [
       "<matplotlib.axes._subplots.AxesSubplot at 0x1cec1134a90>"
      ]
     },
     "execution_count": 3,
     "metadata": {},
     "output_type": "execute_result"
    }
   ],
   "source": [
    "def h(x):\n",
    "    return x ** 2 # convex\n",
    "\n",
    "x = np.linspace(-100, 100, 100)\n",
    "steps = gradient_descent(h, -100)\n",
    "\n",
    "sns.lineplot(x, h(x))\n",
    "sns.scatterplot(steps, h(steps), color=\"red\")"
   ]
  },
  {
   "cell_type": "markdown",
   "metadata": {},
   "source": [
    "### Non Convex Function"
   ]
  },
  {
   "cell_type": "markdown",
   "metadata": {},
   "source": [
    "* Local Minima may not be the same as the Global Mimima\n",
    "\n",
    "* Gradient Descent is sensitive to where you choose to start from"
   ]
  },
  {
   "cell_type": "code",
   "execution_count": 4,
   "metadata": {},
   "outputs": [
    {
     "data": {
      "text/plain": [
       "<matplotlib.axes._subplots.AxesSubplot at 0x1cec1134a90>"
      ]
     },
     "execution_count": 4,
     "metadata": {},
     "output_type": "execute_result"
    }
   ],
   "source": [
    "def h(x):\n",
    "    return 0.01*(x + 20) + 0.001*(x + 20)**2 + np.sin(x + 20) + 20\n",
    "\n",
    "x = np.linspace(-200, +200, 4000)\n",
    "steps = gradient_descent(h, -100)\n",
    "\n",
    "sns.lineplot(x, h(x))\n",
    "sns.scatterplot(steps, h(steps), color=\"red\")"
   ]
  },
  {
   "cell_type": "markdown",
   "metadata": {},
   "source": [
    "#### Zoom in"
   ]
  },
  {
   "cell_type": "code",
   "execution_count": 5,
   "metadata": {},
   "outputs": [
    {
     "data": {
      "text/plain": [
       "<matplotlib.axes._subplots.AxesSubplot at 0x1cec3223b38>"
      ]
     },
     "execution_count": 5,
     "metadata": {},
     "output_type": "execute_result"
    },
    {
     "data": {
      "image/png": "[encoded data removed]",
      "text/plain": [
       "<matplotlib.figure.Figure at 0x1cec3223518>"
      ]
     },
     "metadata": {},
     "output_type": "display_data"
    }
   ],
   "source": [
    "x = np.linspace(-110, -90, 400) # restrict x axis\n",
    "steps = gradient_descent(h, -100)\n",
    "\n",
    "%matplotlib inline\n",
    "\n",
    "sns.lineplot(x, h(x))\n",
    "sns.scatterplot(steps, h(steps), color=\"red\")"
   ]
  },
  {
   "cell_type": "markdown",
   "metadata": {},
   "source": [
    "* Varying the learning rate (step size, percentage of slope) can help"
   ]
  },
  {
   "cell_type": "markdown",
   "metadata": {},
   "source": [
    "### multivariable functions\n",
    "\n",
    "if a function is continuous and differentiable, all the partial derivatives will be 0 at a local maximum or minimum point.\n",
    "\n",
    "$\\nabla F(x,y,z,...)$ = $\\left(\\frac{\\delta F}{\\delta x}, \\frac{\\delta F}{\\delta y}, \\frac{\\delta F}{\\delta z}, ... \\right)^T$"
   ]
  }
 ],
 "metadata": {
  "kernelspec": {
   "display_name": "Python 3",
   "language": "python",
   "name": "python3"
  },
  "language_info": {
   "codemirror_mode": {
    "name": "ipython",
    "version": 3
   },
   "file_extension": ".py",
   "mimetype": "text/x-python",
   "name": "python",
   "nbconvert_exporter": "python",
   "pygments_lexer": "ipython3",
   "version": "3.6.3"
  }
 },
 "nbformat": 4,
 "nbformat_minor": 2
}
