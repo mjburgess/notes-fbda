{
 "cells": [
  {
   "cell_type": "markdown",
   "metadata": {},
   "source": [
    "# 1. Derivatives"
   ]
  },
  {
   "cell_type": "markdown",
   "metadata": {},
   "source": [
    "## Automatic Differentiation via Finite Differences"
   ]
  },
  {
   "cell_type": "markdown",
   "metadata": {},
   "source": [
    "### Estimation at a Point"
   ]
  },
  {
   "cell_type": "code",
   "execution_count": 1,
   "metadata": {
    "collapsed": true
   },
   "outputs": [],
   "source": [
    "def ddx(f, x, delta=0.0001):\n",
    "    return (f(x + delta) - f(x))/delta"
   ]
  },
  {
   "cell_type": "code",
   "execution_count": 2,
   "metadata": {},
   "outputs": [
    {
     "data": {
      "text/plain": [
       "20.000099999890608"
      ]
     },
     "execution_count": 2,
     "metadata": {},
     "output_type": "execute_result"
    }
   ],
   "source": [
    "# Example Function g(x) = x^2\n",
    "def g(x):\n",
    "    return x ** 2\n",
    "\n",
    "# Example Derivative: g'(x) = 2x\n",
    "# Example Derivative: g'(10) = 2*10 = 20\n",
    "ddx(g, 10)"
   ]
  },
  {
   "cell_type": "markdown",
   "metadata": {},
   "source": [
    "### Estimation over a Range"
   ]
  },
  {
   "cell_type": "code",
   "execution_count": 3,
   "metadata": {
    "collapsed": true
   },
   "outputs": [],
   "source": [
    "import numpy as np\n",
    "import seaborn as sns\n",
    "\n",
    "N = 100\n",
    "\n",
    "x = np.linspace(0, 2*np.pi, N)\n",
    "y = np.sin(x)\n",
    "\n",
    "dydx = np.diff(y)/np.diff(x)\n",
    "\n",
    "x = x[0 : N-1]\n",
    "y = y[0 : N-1]"
   ]
  },
  {
   "cell_type": "code",
   "execution_count": 4,
   "metadata": {},
   "outputs": [
    {
     "data": {
      "text/plain": [
       "((99,), (99,), (99,))"
      ]
     },
     "execution_count": 4,
     "metadata": {},
     "output_type": "execute_result"
    }
   ],
   "source": [
    "x.shape, y.shape, dydx.shape"
   ]
  },
  {
   "cell_type": "code",
   "execution_count": 5,
   "metadata": {},
   "outputs": [
    {
     "data": {
      "text/plain": [
       "<matplotlib.axes._subplots.AxesSubplot at 0x2225c415518>"
      ]
     },
     "execution_count": 5,
     "metadata": {},
     "output_type": "execute_result"
    },
    {
     "data": {
      "image/png": "[encoded data removed]",
      "text/plain": [
       "<matplotlib.figure.Figure at 0x2224ed90198>"
      ]
     },
     "metadata": {},
     "output_type": "display_data"
    }
   ],
   "source": [
    "import seaborn as sns\n",
    "\n",
    "import matplotlib.pyplot as plt\n",
    "%matplotlib inline\n",
    "\n",
    "sns.scatterplot(x, y)\n",
    "sns.scatterplot(x, dydx)"
   ]
  },
  {
   "cell_type": "markdown",
   "metadata": {},
   "source": [
    "### Question\n",
    "\n",
    "* Calcuate $\\frac{d}{dx} (2x^3 + x^2 + 10)$ at $x=0$ and at $x=10$\n",
    "\n",
    "* Plot $x^3$ and its derivative "
   ]
  },
  {
   "cell_type": "markdown",
   "metadata": {},
   "source": [
    "### Solution"
   ]
  },
  {
   "cell_type": "code",
   "execution_count": 6,
   "metadata": {},
   "outputs": [
    {
     "data": {
      "text/plain": [
       "(0.00020002000056251745, 640.0062000193429)"
      ]
     },
     "execution_count": 6,
     "metadata": {},
     "output_type": "execute_result"
    }
   ],
   "source": [
    "def g(x):\n",
    "    return (2 * x ** 3) + (2 * x ** 2 + 10)\n",
    "\n",
    "ddx(g, 0), ddx(g, 10)"
   ]
  },
  {
   "cell_type": "code",
   "execution_count": 7,
   "metadata": {},
   "outputs": [
    {
     "data": {
      "text/plain": [
       "<matplotlib.axes._subplots.AxesSubplot at 0x2225e4da7b8>"
      ]
     },
     "execution_count": 7,
     "metadata": {},
     "output_type": "execute_result"
    },
    {
     "data": {
      "image/png": "[encoded data removed]",
      "text/plain": [
       "<matplotlib.figure.Figure at 0x2225e4d5a58>"
      ]
     },
     "metadata": {},
     "output_type": "display_data"
    }
   ],
   "source": [
    "import seaborn as sns\n",
    "\n",
    "x = np.linspace(-5, +5)\n",
    "y = x**3\n",
    "\n",
    "dydx = np.diff(y)/np.diff(x)\n",
    "# dydx = 3*(x**2)  # produces accurate data for above approximation\n",
    "\n",
    "N = len(x)\n",
    "x = x[0 : N-1]\n",
    "y = y[0 : N-1]\n",
    "dydx = dydx[0 : N-1]\n",
    "\n",
    "sns.scatterplot(x, y)\n",
    "sns.scatterplot(x, dydx)"
   ]
  },
  {
   "cell_type": "code",
   "execution_count": null,
   "metadata": {
    "collapsed": true
   },
   "outputs": [],
   "source": []
  },
  {
   "cell_type": "markdown",
   "metadata": {},
   "source": [
    "# 2. Minimization"
   ]
  },
  {
   "cell_type": "code",
   "execution_count": 8,
   "metadata": {},
   "outputs": [
    {
     "data": {
      "text/plain": [
       "<matplotlib.axes._subplots.AxesSubplot at 0x2225e4b4b00>"
      ]
     },
     "execution_count": 8,
     "metadata": {},
     "output_type": "execute_result"
    },
    {
     "data": {
      "image/png": "[encoded data removed]",
      "text/plain": [
       "<matplotlib.figure.Figure at 0x2225e602ba8>"
      ]
     },
     "metadata": {},
     "output_type": "display_data"
    }
   ],
   "source": [
    "def gradient_descent(f, x, iterations=100, rate=0.1):\n",
    "    history = []\n",
    "    for _ in range(iterations):\n",
    "        history.append(x)\n",
    "        \n",
    "        x = x - rate * ddx(f, x)\n",
    "        \n",
    "    return np.array(history)\n",
    "        \n",
    "def h(x):\n",
    "    return x ** 2\n",
    "\n",
    "x = np.linspace(-100, 100, 100)\n",
    "steps = gradient_descent(h, -100)\n",
    "\n",
    "sns.lineplot(x, h(x))\n",
    "sns.scatterplot(steps, h(steps), color=\"red\")"
   ]
  },
  {
   "cell_type": "markdown",
   "metadata": {},
   "source": [
    "### Question\n",
    "\n",
    "* Run gradient descent on $x^3$ plotting its steps\n",
    "    * HINT: consider only the range $[-1, 1]$ in x at start at $x=0.5$\n",
    "\n",
    "\n",
    "* What happens if you start GD at 100?"
   ]
  },
  {
   "cell_type": "markdown",
   "metadata": {},
   "source": [
    "### Solution"
   ]
  },
  {
   "cell_type": "code",
   "execution_count": 16,
   "metadata": {},
   "outputs": [
    {
     "data": {
      "text/plain": [
       "<matplotlib.axes._subplots.AxesSubplot at 0x2225e8e45f8>"
      ]
     },
     "execution_count": 16,
     "metadata": {},
     "output_type": "execute_result"
    },
    {
     "data": {
      "image/png": "[encoded data removed]",
      "text/plain": [
       "<matplotlib.figure.Figure at 0x2225e9b2e48>"
      ]
     },
     "metadata": {},
     "output_type": "display_data"
    }
   ],
   "source": [
    "def h(x):\n",
    "    return x ** 3\n",
    "\n",
    "x = np.linspace(-1, 1, 100)\n",
    "steps = gradient_descent(h, 0.5)\n",
    "\n",
    "sns.lineplot(x, h(x))\n",
    "sns.scatterplot(steps, h(steps), color=\"red\")"
   ]
  }
 ],
 "metadata": {
  "kernelspec": {
   "display_name": "Python 3",
   "language": "python",
   "name": "python3"
  },
  "language_info": {
   "codemirror_mode": {
    "name": "ipython",
    "version": 3
   },
   "file_extension": ".py",
   "mimetype": "text/x-python",
   "name": "python",
   "nbconvert_exporter": "python",
   "pygments_lexer": "ipython3",
   "version": "3.6.3"
  }
 },
 "nbformat": 4,
 "nbformat_minor": 2
}
