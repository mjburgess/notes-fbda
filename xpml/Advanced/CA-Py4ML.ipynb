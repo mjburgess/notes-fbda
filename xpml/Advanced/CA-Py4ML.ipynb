{
 "cells": [
  {
   "cell_type": "markdown",
   "metadata": {},
   "source": [
    "# Python for Machine Learning"
   ]
  },
  {
   "cell_type": "markdown",
   "metadata": {},
   "source": [
    "## The (Supervised) Machine Learning Set Up\n",
    "\n",
    "### General\n",
    "#### target\n",
    "the variable we are trying to predict\n",
    "$y$ \n",
    "\n",
    "the estimate \n",
    "$\\hat{y}$ -- \n",
    "\n",
    "#### feature(s)    \n",
    "a single feature...\n",
    "\n",
    "$x$ \n",
    "\n",
    "multiple features...\n",
    "$X$ \n",
    "\n",
    "#### datasets\n",
    "the training dataset (in-sample)\n",
    "\n",
    "$\\mathcal{D_{train}} = \\{ (x_0^0, x_1^0, \\dots y^0),  (x_0^1, x_1^1, \\dots y^1) \\dots \\}$\n",
    "\n",
    "#### relationships\n",
    "you can calculate $y$ from $x$ ...\n",
    "\n",
    "$y = f(x)$\n",
    "    \n",
    "the estimate for $f$    \n",
    "$\\hat{y} = \\hat{f}(x)$ -- \n",
    "\n",
    "\n",
    "#### loss\n",
    "\n",
    "how bad an estimated *point*...\n",
    "\n",
    "$loss(\\hat{y^i}, y^i)$\n",
    "\n",
    "total loss\n",
    "how wrong *every* point is\n",
    "\n",
    "$L = \\sum loss(\\hat{y}, y)$ -- "
   ]
  },
  {
   "cell_type": "markdown",
   "metadata": {},
   "source": [
    "### An Example Problem\n",
    "\n",
    "* $y$ : a film rating\n",
    "* $x$ : a user's age"
   ]
  },
  {
   "cell_type": "code",
   "execution_count": 1,
   "metadata": {},
   "outputs": [],
   "source": [
    "def f_rating(x):\n",
    "    return 0.08 * x + 0.5"
   ]
  },
  {
   "cell_type": "code",
   "execution_count": 25,
   "metadata": {},
   "outputs": [],
   "source": [
    "y0 = f_rating(21)"
   ]
  },
  {
   "cell_type": "code",
   "execution_count": 26,
   "metadata": {},
   "outputs": [
    {
     "data": {
      "text/plain": [
       "2.1799999999999997"
      ]
     },
     "execution_count": 26,
     "metadata": {},
     "output_type": "execute_result"
    }
   ],
   "source": [
    "y0"
   ]
  },
  {
   "cell_type": "code",
   "execution_count": 9,
   "metadata": {},
   "outputs": [
    {
     "data": {
      "text/plain": [
       "{10: 1.3, 0: 0.5, 80: 6.9}"
      ]
     },
     "execution_count": 9,
     "metadata": {},
     "output_type": "execute_result"
    }
   ],
   "source": [
    "{\n",
    "    10  : f_rating(10),\n",
    "    0   : f_rating(0), \n",
    "    80  : f_rating(80)\n",
    "}"
   ]
  },
  {
   "cell_type": "code",
   "execution_count": 12,
   "metadata": {},
   "outputs": [],
   "source": [
    "def fhat_rating(x):\n",
    "    return 0.07 * x + 0.6"
   ]
  },
  {
   "cell_type": "code",
   "execution_count": 28,
   "metadata": {},
   "outputs": [],
   "source": [
    "yhat0 = fhat_rating(21)"
   ]
  },
  {
   "cell_type": "code",
   "execution_count": 29,
   "metadata": {},
   "outputs": [
    {
     "data": {
      "text/plain": [
       "2.0700000000000003"
      ]
     },
     "execution_count": 29,
     "metadata": {},
     "output_type": "execute_result"
    }
   ],
   "source": [
    "yhat0"
   ]
  },
  {
   "cell_type": "code",
   "execution_count": 17,
   "metadata": {},
   "outputs": [
    {
     "data": {
      "text/plain": [
       "0.10999999999999943"
      ]
     },
     "execution_count": 17,
     "metadata": {},
     "output_type": "execute_result"
    }
   ],
   "source": [
    "abs( fhat_rating(21) - f_rating(21) ) "
   ]
  },
  {
   "cell_type": "code",
   "execution_count": 18,
   "metadata": {},
   "outputs": [],
   "source": [
    "def loss_rating(yhat, y):\n",
    "    return (yhat - y) ** 2"
   ]
  },
  {
   "cell_type": "code",
   "execution_count": 30,
   "metadata": {},
   "outputs": [
    {
     "data": {
      "text/plain": [
       "0.012099999999999875"
      ]
     },
     "execution_count": 30,
     "metadata": {},
     "output_type": "execute_result"
    }
   ],
   "source": [
    "loss_rating(yhat0, y0)"
   ]
  },
  {
   "cell_type": "code",
   "execution_count": 31,
   "metadata": {},
   "outputs": [],
   "source": [
    "Dtrain = [\n",
    "    (10, 3), # (x, y)\n",
    "    (17, 3.1),\n",
    "    (18, 4.2),\n",
    "    (21, 5.6),\n",
    "    (32, 5.6),\n",
    "    (41, 7),\n",
    "    (70, 7.5),\n",
    "]"
   ]
  },
  {
   "cell_type": "code",
   "execution_count": 39,
   "metadata": {},
   "outputs": [],
   "source": [
    "yhat = []\n",
    "loss = []\n",
    "\n",
    "for (x, y) in Dtrain:\n",
    "    prediction = fhat_rating(x)\n",
    "    error = loss_rating(prediction, y)\n",
    "    \n",
    "    yhat.append(prediction)\n",
    "    loss.append(error)"
   ]
  },
  {
   "cell_type": "markdown",
   "metadata": {},
   "source": [
    "---"
   ]
  },
  {
   "cell_type": "markdown",
   "metadata": {},
   "source": [
    "Regression\n",
    "\n",
    "* $y \\in \\mathbb{R}$\n",
    "\n",
    "```python\n",
    "type(y) is float\n",
    "```"
   ]
  },
  {
   "cell_type": "code",
   "execution_count": 43,
   "metadata": {},
   "outputs": [
    {
     "data": {
      "text/plain": [
       "True"
      ]
     },
     "execution_count": 43,
     "metadata": {},
     "output_type": "execute_result"
    }
   ],
   "source": [
    "type(y) is float"
   ]
  },
  {
   "cell_type": "markdown",
   "metadata": {},
   "source": [
    "Classification\n",
    "\n",
    "* binary classification\n",
    "    * eg., Like vs Dislike\n",
    "    * $y \\in \\{ -1, +1 \\}$"
   ]
  },
  {
   "cell_type": "markdown",
   "metadata": {},
   "source": [
    "* multiclass classification\n",
    "    * $y \\in \\{London, Leeds, Manchester, \\dots \\}$"
   ]
  },
  {
   "cell_type": "markdown",
   "metadata": {},
   "source": [
    "Classes require a numerical representation to arrivate a computational solution...\n",
    "\n",
    "$y \\in \\{0, 1, 2, \\dots \\}$"
   ]
  },
  {
   "cell_type": "code",
   "execution_count": 44,
   "metadata": {},
   "outputs": [],
   "source": [
    "def f_classify(x):\n",
    "    if x > 200:\n",
    "        return -1 \n",
    "    else:\n",
    "        return +1"
   ]
  },
  {
   "cell_type": "code",
   "execution_count": 46,
   "metadata": {},
   "outputs": [],
   "source": [
    "y = f_classify(180)"
   ]
  },
  {
   "cell_type": "code",
   "execution_count": 47,
   "metadata": {},
   "outputs": [
    {
     "data": {
      "text/plain": [
       "True"
      ]
     },
     "execution_count": 47,
     "metadata": {},
     "output_type": "execute_result"
    }
   ],
   "source": [
    "classes = {-1, +1}\n",
    "\n",
    "y in classes"
   ]
  },
  {
   "cell_type": "markdown",
   "metadata": {},
   "source": [
    "### Example: Classifying a Film\n",
    "\n",
    "Given the age of a user and the length of a film, predict whether the user will like or dislike the film. \n",
    "\n",
    "$x_1 : age$\n",
    "\n",
    "$x_2 : length$\n",
    "\n",
    "$y : like?$\n",
    "\n",
    "\n",
    "given...\n",
    "\n",
    "$\\mathcal{D} = (x_1, x_2, y) \\dots$\n",
    "\n",
    "find... \n",
    "\n",
    "$\\hat{y} = \\hat{f}(x_1, x_2)$\n",
    "\n",
    "where... \n",
    "\n",
    "min $loss(\\hat{y}, y)$ "
   ]
  },
  {
   "cell_type": "code",
   "execution_count": 61,
   "metadata": {},
   "outputs": [],
   "source": [
    "training = {\n",
    "    'Age'   : [12, 13, 17, 19, 30],\n",
    "    'Length': [90, 100, 200, 180, 320],\n",
    "    'Like?' : [False, True, True, False, True]\n",
    "}"
   ]
  },
  {
   "cell_type": "code",
   "execution_count": 62,
   "metadata": {},
   "outputs": [],
   "source": [
    "x1 = training['Age']\n",
    "x2 = training['Length']\n",
    "y = training['Like?']"
   ]
  },
  {
   "cell_type": "code",
   "execution_count": 94,
   "metadata": {},
   "outputs": [
    {
     "data": {
      "text/plain": [
       "True"
      ]
     },
     "execution_count": 94,
     "metadata": {},
     "output_type": "execute_result"
    }
   ],
   "source": [
    "def fhat(x1, x2):\n",
    "    return (10*(x1 - 15) + (x2 - 150)) >= 0\n",
    "\n",
    "fhat(30, 200)"
   ]
  },
  {
   "cell_type": "code",
   "execution_count": 95,
   "metadata": {},
   "outputs": [
    {
     "data": {
      "text/plain": [
       "False"
      ]
     },
     "execution_count": 95,
     "metadata": {},
     "output_type": "execute_result"
    }
   ],
   "source": [
    "fhat(x1[0], x2[0])"
   ]
  },
  {
   "cell_type": "code",
   "execution_count": 96,
   "metadata": {},
   "outputs": [],
   "source": [
    "def loss(yhat, y):\n",
    "    if yhat == y:\n",
    "        return 0\n",
    "    else:\n",
    "        return 1"
   ]
  },
  {
   "cell_type": "code",
   "execution_count": 97,
   "metadata": {},
   "outputs": [
    {
     "data": {
      "text/plain": [
       "1"
      ]
     },
     "execution_count": 97,
     "metadata": {},
     "output_type": "execute_result"
    }
   ],
   "source": [
    "loss(fhat(x1[1], x2[1]),  y[1])"
   ]
  },
  {
   "cell_type": "code",
   "execution_count": 98,
   "metadata": {},
   "outputs": [
    {
     "data": {
      "text/plain": [
       "([False, False, True, True, True], [0, 1, 0, 1, 0])"
      ]
     },
     "execution_count": 98,
     "metadata": {},
     "output_type": "execute_result"
    }
   ],
   "source": [
    "yhat = []\n",
    "errors = []\n",
    "for age, length, like in zip(x1, x2, y):\n",
    "    pred = fhat(age, length)\n",
    "    yhat.append(pred)\n",
    "    errors.append(loss(pred, like))\n",
    "    \n",
    "yhat, errors"
   ]
  },
  {
   "cell_type": "code",
   "execution_count": 99,
   "metadata": {},
   "outputs": [
    {
     "data": {
      "text/plain": [
       "2"
      ]
     },
     "execution_count": 99,
     "metadata": {},
     "output_type": "execute_result"
    }
   ],
   "source": [
    "sum(errors)"
   ]
  },
  {
   "cell_type": "code",
   "execution_count": null,
   "metadata": {},
   "outputs": [],
   "source": []
  },
  {
   "cell_type": "code",
   "execution_count": null,
   "metadata": {},
   "outputs": [],
   "source": []
  }
 ],
 "metadata": {
  "kernelspec": {
   "display_name": "Python 3",
   "language": "python",
   "name": "python3"
  },
  "language_info": {
   "codemirror_mode": {
    "name": "ipython",
    "version": 3
   },
   "file_extension": ".py",
   "mimetype": "text/x-python",
   "name": "python",
   "nbconvert_exporter": "python",
   "pygments_lexer": "ipython3",
   "version": "3.7.3"
  }
 },
 "nbformat": 4,
 "nbformat_minor": 4
}
