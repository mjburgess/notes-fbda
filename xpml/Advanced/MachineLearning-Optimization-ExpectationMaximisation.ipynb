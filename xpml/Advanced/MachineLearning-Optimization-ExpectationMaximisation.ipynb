{
 "cells": [
  {
   "cell_type": "markdown",
   "metadata": {},
   "source": [
    "## Expectation-Maximisation Algorithm\n",
    "\n",
    "* enables **parameter estimation** in probabilistic models with **incomplete data**\n",
    "    * The parameters θ maximize the likelihood.\n",
    "    * The likelihood, p(y|θ), is the probability of the visible variables given the parameters.\n",
    "* was originally motivated by missing data imputation - 1977, Arthur Dempster, Nan Laird, and Donald Rubin\n",
    "* is a probabilistic clustering algorithm: determining the probabilities that instances belong to particular clusters\n",
    "* is simplier than Gradient Methods - no need to choose a step size.\n",
    "\n",
    "#### Application of this EM?\n",
    "\n",
    "Unsupervised clustering algorithms:\n",
    "- Hidden Markov Model\n",
    "- K-means (difficult if clusters overlap)\n",
    "- Gausian Mixture Model (clusters modelled as Gaussians)"
   ]
  },
  {
   "cell_type": "markdown",
   "metadata": {},
   "source": [
    "### The EM optimisation has two steps:\n",
    "\n",
    "1. Guess some cluster centers\n",
    "* Repeat until converged:\n",
    "    * E-step: assign points to the nearest cluster center\n",
    "        * treats *parameters as fixed*\n",
    "        * E for **Expectation**\n",
    "        * updating our expectation of which cluster each point belongs to\n",
    "            * i.e. **probabilistic assignments** (update for unobserved/hidden/latent variables)\n",
    "    * M-step: set the cluster centers to the mean\n",
    "        * treats *assignment probabilities as fixed*\n",
    "        * M for **Maximisation**\n",
    "        * maximising a objective function (e.g. mean) that defines the location of the cluster centers \n",
    "            * i.e. **update estimates of parameters**"
   ]
  },
  {
   "cell_type": "markdown",
   "metadata": {},
   "source": [
    "## Example: estimate the parameters of TWO Gaussian distributions"
   ]
  },
  {
   "cell_type": "markdown",
   "metadata": {},
   "source": [
    "### Imagine we have some data"
   ]
  },
  {
   "cell_type": "markdown",
   "metadata": {},
   "source": [
    "e.g. unlabelled data from a population made of two Gaussian distributions:\n",
    "\n",
    "1. $x^{(a)} \\sim N(\\mu_a, \\sigma^2_a)$\n",
    "* $x^{(b)} \\sim N(\\mu_b, \\sigma^2_b)$\n",
    "\n",
    "We observe the values for $x = [x^{(a)}, x^{(b)}]$ (unlabelled)\n",
    "\n",
    "We want to understand each distribution, and thus want to know their mean and variance."
   ]
  },
  {
   "cell_type": "code",
   "execution_count": 1,
   "metadata": {},
   "outputs": [
    {
     "data": {
      "text/plain": [
       "Text(0,0.5,'Frequency')"
      ]
     },
     "execution_count": 1,
     "metadata": {},
     "output_type": "execute_result"
    },
    {
     "data": {
      "image/png": "[encoded data removed]",
      "text/plain": [
       "<matplotlib.figure.Figure at 0x24f7bee35f8>"
      ]
     },
     "metadata": {},
     "output_type": "display_data"
    }
   ],
   "source": [
    "%matplotlib inline\n",
    "import numpy as np\n",
    "import matplotlib.pyplot as plt\n",
    "\n",
    "# np.random.seed(77)\n",
    "\n",
    "mean_popn = np.array([2, 8])\n",
    "stdev_popn = np.array([1.5, 2])\n",
    "proportion_true = 0.70 # probability of data being generated from the second distibution\n",
    "n = 1000\n",
    "\n",
    "z = np.random.binomial(1, proportion_true, n) # z = either 0 or 1, not directly observed\n",
    "x = np.random.normal(mean_popn[z], stdev_popn[z]) # observed\n",
    "\n",
    "plt.hist(x, bins=30, label='Samples')\n",
    "\n",
    "plt.xlabel('x')\n",
    "plt.ylabel('Frequency')"
   ]
  },
  {
   "cell_type": "markdown",
   "metadata": {},
   "source": [
    "#### To help visualise this, we can add the population pdfs, via the \"density=1\"\n",
    "\n",
    "What does \"density=1\" do?\n",
    "* counts normalized to form a probability density, i.e., the area (or integral) under the histogram will sum to 1\n",
    "    * dividing the count by the number of observations times the bin width"
   ]
  },
  {
   "cell_type": "code",
   "execution_count": 2,
   "metadata": {},
   "outputs": [
    {
     "data": {
      "text/plain": [
       "<matplotlib.legend.Legend at 0x24f7ec3f8d0>"
      ]
     },
     "execution_count": 2,
     "metadata": {},
     "output_type": "execute_result"
    },
    {
     "data": {
      "image/png": "[encoded data removed]",
      "text/plain": [
       "<matplotlib.figure.Figure at 0x24f74f09198>"
      ]
     },
     "metadata": {},
     "output_type": "display_data"
    }
   ],
   "source": [
    "plt.hist(x, bins=30, density=1, label='Samples')\n",
    "\n",
    "from scipy.stats import norm\n",
    "x_linspace = np.linspace(-4, 14, 100)\n",
    "plt.plot(x_linspace, norm.pdf(x_linspace, mean_popn[0], stdev_popn[0]), label = 'group a', c = 'orange')\n",
    "plt.plot(x_linspace, norm.pdf(x_linspace, mean_popn[1], stdev_popn[1]), label = 'group b', c = 'g')\n",
    "\n",
    "plt.legend(loc=0)"
   ]
  },
  {
   "cell_type": "markdown",
   "metadata": {},
   "source": [
    "## E step: probabilistic assignments (i.e. estimate probabilities, given parameters)"
   ]
  },
  {
   "cell_type": "code",
   "execution_count": 3,
   "metadata": {
    "collapsed": true
   },
   "outputs": [],
   "source": [
    "from scipy.stats import norm\n",
    "\n",
    "def e_step(x, mean, stdev, proportion):\n",
    "    a = proportion * norm.pdf(x, mean[0], stdev[0])\n",
    "                     # probability of x being from first distribution, \"orange\"\n",
    "    b = (1. - proportion) * norm.pdf(x, mean[1], stdev[1])\n",
    "                            # probability of x being from second distribution, \"green\"\n",
    "    return b / (a + b)\n",
    "           # (scaled) probability of x belongs to the second distribution, \"green\"\n",
    "           # \"responsibility allocated to cluster\"\n",
    "           # \"assignment probabilities\"\n",
    "        \n",
    "                # a + b\n",
    "                # = total probability of observing x in our data\n",
    "                # = sum of probabilities of observing x in each cluster weighted by that cluster’s probability"
   ]
  },
  {
   "cell_type": "markdown",
   "metadata": {},
   "source": [
    "#### probability that $x_i$ belonging to second distribution"
   ]
  },
  {
   "cell_type": "code",
   "execution_count": 4,
   "metadata": {},
   "outputs": [
    {
     "data": {
      "text/plain": [
       "0.09568717716301355"
      ]
     },
     "execution_count": 4,
     "metadata": {},
     "output_type": "execute_result"
    }
   ],
   "source": [
    "e_step(4, mean_popn, stdev_popn, proportion_true)\n",
    "# unlikely to belong to the second distribution\n",
    "# (we know that 2 is the mean of the first distribution)"
   ]
  },
  {
   "cell_type": "markdown",
   "metadata": {},
   "source": [
    "* why so small? \n",
    "\n",
    "    * let us calculate the e_step() at \"x=4\" manually"
   ]
  },
  {
   "cell_type": "code",
   "execution_count": 5,
   "metadata": {},
   "outputs": [
    {
     "data": {
      "text/plain": [
       "0.09568717716301353"
      ]
     },
     "execution_count": 5,
     "metadata": {},
     "output_type": "execute_result"
    },
    {
     "data": {
      "image/png": "[encoded data removed]",
      "text/plain": [
       "<matplotlib.figure.Figure at 0x24f7ecd3f28>"
      ]
     },
     "metadata": {},
     "output_type": "display_data"
    }
   ],
   "source": [
    "plt.plot(x_linspace, norm.pdf(x_linspace, mean_popn[0], stdev_popn[0]), label = 'group a', c = 'orange')\n",
    "plt.plot(x_linspace, norm.pdf(x_linspace, mean_popn[1], stdev_popn[1]), label = 'group b', c = 'g')\n",
    "plt.axvline(x=4, c = 'r')\n",
    "\n",
    "plt.legend(loc=0)\n",
    "\n",
    "# calculate the e_step at \"x=4\" manually\n",
    "a = 0.7 * norm.pdf(4, 2, 1.5)\n",
    "b = 0.3 * norm.pdf(4, 8, 2)\n",
    "b / (a + b)"
   ]
  },
  {
   "cell_type": "code",
   "execution_count": 6,
   "metadata": {},
   "outputs": [
    {
     "data": {
      "text/plain": [
       "0.0008773229243378644"
      ]
     },
     "execution_count": 6,
     "metadata": {},
     "output_type": "execute_result"
    }
   ],
   "source": [
    "e_step(1, mean_popn, stdev_popn, proportion_true)\n",
    "# \"1\" is unlikely to belong to the second distribution\n",
    "# (we know that the second distribution has a mean of 8 and stdev of 2)"
   ]
  },
  {
   "cell_type": "code",
   "execution_count": 7,
   "metadata": {},
   "outputs": [
    {
     "data": {
      "text/plain": [
       "0.8722026093400294"
      ]
     },
     "execution_count": 7,
     "metadata": {},
     "output_type": "execute_result"
    }
   ],
   "source": [
    "e_step(6, mean_popn, stdev_popn, proportion_true)\n",
    "\n",
    "# \"6\" is likely to belong to the second distribution"
   ]
  },
  {
   "cell_type": "markdown",
   "metadata": {},
   "source": [
    "#### probability that $x_i$ belonging to second distribution: visualisation"
   ]
  },
  {
   "cell_type": "code",
   "execution_count": 8,
   "metadata": {},
   "outputs": [
    {
     "data": {
      "text/plain": [
       "[<matplotlib.lines.Line2D at 0x24f7eda89b0>]"
      ]
     },
     "execution_count": 8,
     "metadata": {},
     "output_type": "execute_result"
    },
    {
     "data": {
      "image/png": "[encoded data removed]",
      "text/plain": [
       "<matplotlib.figure.Figure at 0x24f7e30e390>"
      ]
     },
     "metadata": {},
     "output_type": "display_data"
    }
   ],
   "source": [
    "x_range = np.linspace(-4,+14,1000)\n",
    "plt.plot(x_range, e_step(x_range, mean_popn, stdev_popn, proportion_true))"
   ]
  },
  {
   "cell_type": "markdown",
   "metadata": {},
   "source": [
    "## M step: estimates of parameters, given assigned probabilities"
   ]
  },
  {
   "cell_type": "markdown",
   "metadata": {},
   "source": [
    "Question to answer here: how likely is each data point to have come from each normal distribution with E step parameters (mean and standard deviation)"
   ]
  },
  {
   "cell_type": "code",
   "execution_count": 9,
   "metadata": {
    "collapsed": true
   },
   "outputs": [],
   "source": [
    "def m_step(x, w):\n",
    "    proportion = np.mean(w) \n",
    "    \n",
    "    # weighted mean of data\n",
    "    mean = [np.sum((1-w) * x)/np.sum(1-w), \n",
    "            np.sum(w * x)/np.sum(w)] \n",
    "    \n",
    "    # weighted cov of data\n",
    "    stdev = [np.sqrt(np.sum((1-w) * (x - mean[0])**2)/np.sum(1-w)), \n",
    "             np.sqrt(np.sum(w * (x - mean[1])**2)/np.sum(w))]\n",
    "    \n",
    "    return mean, stdev, proportion"
   ]
  },
  {
   "cell_type": "markdown",
   "metadata": {},
   "source": [
    "## EM Algorithm"
   ]
  },
  {
   "cell_type": "code",
   "execution_count": 10,
   "metadata": {},
   "outputs": [
    {
     "name": "stdout",
     "output_type": "stream",
     "text": [
      "\n",
      "initial random values\n",
      "proportion: 0.2047\n",
      "group a:    N(0.7407, 2.9287)\n",
      "group b:    N(0.4616, 8.1612)\n",
      "\n",
      "proportion:  0.8343\n",
      "group 0:     N(3.1633, 2.5020)\n",
      "group 1:     N(6.8459, 3.2295)\n",
      "\n",
      "proportion:  0.3759\n",
      "group 0:     N(4.6935, 3.0164)\n",
      "group 1:     N(8.7959, 2.2991)\n",
      "\n",
      "proportion:  0.5325\n",
      "group 0:     N(3.7773, 2.9076)\n",
      "group 1:     N(8.3936, 2.1036)\n",
      "\n",
      "proportion:  0.5031\n",
      "group 0:     N(3.8551, 2.8738)\n",
      "group 1:     N(8.5869, 1.9497)\n",
      "\n",
      "proportion:  0.5048\n",
      "group 0:     N(3.7671, 2.7977)\n",
      "group 1:     N(8.6573, 1.8670)\n",
      "\n",
      "proportion:  0.5059\n",
      "group 0:     N(3.7046, 2.7290)\n",
      "group 1:     N(8.7077, 1.8207)\n",
      "\n",
      "proportion:  0.5074\n",
      "group 0:     N(3.6579, 2.6765)\n",
      "group 1:     N(8.7383, 1.7942)\n",
      "\n",
      "proportion:  0.5088\n",
      "group 0:     N(3.6249, 2.6401)\n",
      "group 1:     N(8.7561, 1.7786)\n",
      "\n",
      "proportion:  0.5099\n",
      "group 0:     N(3.6025, 2.6160)\n",
      "group 1:     N(8.7662, 1.7694)\n",
      "\n",
      "proportion:  0.5108\n",
      "group 0:     N(3.5879, 2.6006)\n",
      "group 1:     N(8.7719, 1.7639)\n"
     ]
    }
   ],
   "source": [
    "# Initialize values\n",
    "mean = np.random.normal(size=2)\n",
    "stdev = np.random.uniform(0, 10, 2)\n",
    "proportion = np.random.random()\n",
    "\n",
    "print('\\ninitial random values')\n",
    "print('proportion: {0:.4f}\\ngroup a:    N({1:.4f}, {2:.4f})\\ngroup b:    N({3:.4f}, {4:.4f})'.format(\n",
    "                    proportion, mean[0], stdev[0], mean[1], stdev[1]))\n",
    "\n",
    "# Stopping criterion\n",
    "crit = 0.01 # 1e-2\n",
    "\n",
    "# Convergence flag\n",
    "converged = False\n",
    "\n",
    "# Loop until converged\n",
    "while not converged:\n",
    "    \n",
    "    # E-step\n",
    "    w = e_step(x, mean, stdev, proportion) # \"reshuffle\" data into clusters\n",
    "    # M-step\n",
    "    mean_new, stdev_new, proportion_new = m_step(x, w) # update estimates\n",
    "    \n",
    "    # Check convergence\n",
    "    converged = ((np.abs(proportion_new - proportion) < crit) \n",
    "                 & np.all(np.abs((np.array(mean_new) - np.array(mean)) < crit))\n",
    "                 & np.all(np.abs((np.array(stdev_new) - np.array(stdev)) < crit)))\n",
    "    mean, stdev, proportion = mean_new, stdev_new, proportion_new\n",
    "                    \n",
    "    print('\\nproportion:  {0:.4f}\\ngroup 0:     N({1:.4f}, {2:.4f})\\ngroup 1:     N({3:.4f}, {4:.4f})'.format(\n",
    "                        proportion_new, mean_new[0], stdev_new[0], mean_new[1], stdev_new[1]))"
   ]
  },
  {
   "cell_type": "markdown",
   "metadata": {},
   "source": [
    "### Compare estimates from sample data eith the original population"
   ]
  },
  {
   "cell_type": "code",
   "execution_count": 11,
   "metadata": {},
   "outputs": [
    {
     "name": "stdout",
     "output_type": "stream",
     "text": [
      "proportion:  0.7000\n",
      "group a:     N(2.0000, 1.5000)\n",
      "group b:     N(8.0000, 2.0000)\n"
     ]
    }
   ],
   "source": [
    "print('proportion:  {0:.4f}\\ngroup a:     N({1:.4f}, {2:.4f})\\ngroup b:     N({3:.4f}, {4:.4f})'.format(\n",
    "                        proportion_true, mean_popn[0], stdev_popn[0], mean_popn[1], stdev_popn[1]))"
   ]
  },
  {
   "cell_type": "code",
   "execution_count": 12,
   "metadata": {},
   "outputs": [
    {
     "data": {
      "text/plain": [
       "<matplotlib.legend.Legend at 0x24f7fe2bda0>"
      ]
     },
     "execution_count": 12,
     "metadata": {},
     "output_type": "execute_result"
    },
    {
     "data": {
      "image/png": "[encoded data removed]",
      "text/plain": [
       "<matplotlib.figure.Figure at 0x24f7e199710>"
      ]
     },
     "metadata": {},
     "output_type": "display_data"
    }
   ],
   "source": [
    "plt.hist(x, bins=30, density=1, label='Samples')\n",
    "\n",
    "from scipy.stats import norm\n",
    "x_linspace = np.linspace(-4, 14, 100)\n",
    "plt.plot(x_linspace, norm.pdf(x_linspace, mean_popn[0], stdev_popn[0]), label = 'group a', c = 'orange')\n",
    "plt.plot(x_linspace, norm.pdf(x_linspace, mean_popn[1], stdev_popn[1]), label = 'group b', c = 'g')\n",
    "plt.plot(x_linspace, norm.pdf(x_linspace, mean[0], stdev[0]), label = 'group a estimate', c = 'orange', linestyle='dashed')\n",
    "plt.plot(x_linspace, norm.pdf(x_linspace, mean[1], stdev[1]), label = 'group b estimate', c = 'g', linestyle='dashed')\n",
    "\n",
    "plt.legend(fontsize='small')"
   ]
  },
  {
   "cell_type": "markdown",
   "metadata": {},
   "source": [
    "## issues?"
   ]
  },
  {
   "cell_type": "markdown",
   "metadata": {},
   "source": [
    "* convergence is not guaranteed: for a global optimum \n",
    "* local optima: depends on initialisation (similar to gradient descent)"
   ]
  },
  {
   "cell_type": "markdown",
   "metadata": {},
   "source": [
    "## what if we want to know a single cluster/distribution for each data point $x_i$?"
   ]
  },
  {
   "cell_type": "markdown",
   "metadata": {},
   "source": [
    "* choose the most probable cluster/distribution\n",
    "\n",
    "    * the cluster or distribution with the largest \"assigned probability\""
   ]
  }
 ],
 "metadata": {
  "kernelspec": {
   "display_name": "Python 3",
   "language": "python",
   "name": "python3"
  },
  "language_info": {
   "codemirror_mode": {
    "name": "ipython",
    "version": 3
   },
   "file_extension": ".py",
   "mimetype": "text/x-python",
   "name": "python",
   "nbconvert_exporter": "python",
   "pygments_lexer": "ipython3",
   "version": "3.6.3"
  }
 },
 "nbformat": 4,
 "nbformat_minor": 2
}
