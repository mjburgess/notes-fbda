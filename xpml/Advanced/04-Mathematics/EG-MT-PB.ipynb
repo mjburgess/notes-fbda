{
 "cells": [
  {
   "cell_type": "code",
   "execution_count": 1,
   "metadata": {},
   "outputs": [],
   "source": [
    "%matplotlib inline \n",
    "!pip install -q matplotlib_venn"
   ]
  },
  {
   "cell_type": "code",
   "execution_count": 2,
   "metadata": {},
   "outputs": [],
   "source": [
    "import matplotlib.pyplot as plt\n",
    "import numpy as np\n",
    "from matplotlib_venn import venn2\n",
    "from itertools import *\n",
    "from random import *"
   ]
  },
  {
   "cell_type": "code",
   "execution_count": 3,
   "metadata": {},
   "outputs": [],
   "source": [
    "from fractions import Fraction \n",
    "\n",
    "# pretty fractions\n",
    "Fraction.__repr__ = Fraction.__str__\n",
    "html_formatter = get_ipython().display_formatter.formatters['text/latex']\n",
    "html_formatter.for_type(Fraction, lambda f: r\"$\\frac{%s}{%s}$\" % (f.numerator, f.denominator));"
   ]
  },
  {
   "cell_type": "code",
   "execution_count": 4,
   "metadata": {},
   "outputs": [],
   "source": [
    "from matplotlib_venn import venn2\n",
    "\n",
    "# pretty sets\n",
    "def plot_set(*sets):\n",
    "    venn2(sets)\n",
    "    plt.show()\n",
    "    return None"
   ]
  },
  {
   "cell_type": "markdown",
   "metadata": {},
   "source": [
    "# Exercise: Mathematics -- Probability & Statistics"
   ]
  },
  {
   "cell_type": "markdown",
   "metadata": {},
   "source": [
    "## Probability Questions\n",
    "\n",
    "* define the function `probability(event, space)` which returns the probability that event occurs \n",
    "\n",
    "* define a set of outcomes (using `{,}`) for:\n",
    "    * `one_coin`: a single coin flip\n",
    "    * `two_coin`: two coin flips (HINT: each element is a pair)\n",
    "    * `one_dice`: a single dice roll\n",
    "    * `two_dice`: two dice rolls\n",
    "        * define this using a set comprehension\n",
    "`{(first, second) for first in one_dice for second in one_dice}`\n",
    "        \n",
    "* by manually writing out the event sets:\n",
    "    * what is the probability of:\n",
    "        * an odd number in one dice roll\n",
    "        * heads in one coin flip\n",
    "        * heads in either coin, of two coin flips\n",
    "\n",
    "* EXTRA:\n",
    "* by generating the event set using a set comprehension:\n",
    "    * what is the probability of:\n",
    "        * getting a 6 on the second roll of a dice?\n",
    "        * getting a Tail on the first flip of a coin?\n",
    "\n",
    "HINT: `event_second6 = { e for e in outcomes if ...e...}`\n",
    "\n",
    "* define `P(predicate, space)` where `predicate` is a function from event -> bool\n",
    "    * HINT: perform the set comprehension within `P` using `predicate`\n",
    "    \n",
    "* call `P()` with, eg.  \n",
    "    * lambda die: (die[0] in {1, 2}) and (die[1] == 6)"
   ]
  },
  {
   "cell_type": "markdown",
   "metadata": {},
   "source": [
    "## Statistics Questions"
   ]
  },
  {
   "cell_type": "markdown",
   "metadata": {},
   "source": [
    "Let's simulate sampling from a distribution, so that we can find out how good our samples need to be to get close to the true mean."
   ]
  },
  {
   "cell_type": "markdown",
   "metadata": {},
   "source": [
    "* define the outcome space for two dice rolls..."
   ]
  },
  {
   "cell_type": "code",
   "execution_count": 37,
   "metadata": {},
   "outputs": [],
   "source": [
    "one_dice = {1,2,3,4,5,6}\n",
    "two_dice = {(first, second) for first in one_dice for second in one_dice}"
   ]
  },
  {
   "cell_type": "markdown",
   "metadata": {},
   "source": [
    "* define a function called `score(event)` (a random variable) which takes one event (ie., two rolls) and calculates a real number\n",
    "    * eg., the average of both rolls\n",
    "    \n",
    "* create a list of the population of all scores\n",
    "    * HINT: `[ rv(event) for event in space]`\n",
    "    \n",
    "* create a list of 100 samples of 10 rols \n",
    "    * HINT: `sample(pop, 10)` to sample\n",
    "    * HINT: `[ ...  for _ in range(100)]`\n",
    "    \n",
    "* create a list of 100 sample means \n",
    "    * HINT: `sum(s)/len(s)` for every s\n",
    "    \n",
    "* `sns.distplot()` the sample means\n",
    "\n",
    "* `plt.axvline(x, color=\"red\")` the mean of the sample means\n",
    "    * HINT: `sum()/len()`\n",
    "    \n",
    "* `plt.axvline(x, color=\"red\")` the mean of the population\n",
    "\n",
    "* What is the effect of taking fewer samples?\n",
    "\n",
    "\n",
    "### EXTRA -- find the probability of getting a score greater than 4\n",
    "* `from scipy import integrate, stats` and  use `integrate.quad(f, low, high)`\n",
    "2.  use the following as the function you're integrating, \n",
    "    * `norm = lambda x : stats.norm.pdf(x, mean, std)`\n",
    "    * where `mean` is the mean of your sample means, and `std` is their standard deviation\n",
    "3. integrate from 4 to `np.inf`\n",
    "        "
   ]
  },
  {
   "cell_type": "code",
   "execution_count": 97,
   "metadata": {},
   "outputs": [
    {
     "data": {
      "image/png": "[encoded data removed]",
      "text/plain": [
       "<Figure size 432x288 with 1 Axes>"
      ]
     },
     "metadata": {
      "needs_background": "light"
     },
     "output_type": "display_data"
    }
   ],
   "source": [
    "import seaborn as sns\n",
    "\n",
    "def rv_score(event):\n",
    "    return sum(event)/len(event)\n",
    "\n",
    "population = [rv_score(roll) for roll in two_dice]\n",
    "samples = [sample(population, 10) for _ in range(50)]\n",
    "sample_means = [sum(s)/len(s) for s in samples]\n",
    "\n",
    "plt.axvline(sum(population)/len(population), color=\"red\")\n",
    "plt.axvline(sum(sample_means)/len(sample_means), color=\"green\")\n",
    "sns.distplot(sample_means);"
   ]
  },
  {
   "cell_type": "code",
   "execution_count": 41,
   "metadata": {},
   "outputs": [],
   "source": [
    "from scipy import integrate, stats"
   ]
  },
  {
   "cell_type": "code",
   "execution_count": 99,
   "metadata": {},
   "outputs": [],
   "source": [
    "def norm(x):\n",
    "    return stats.norm.pdf(x, sample_means.mean(), sample_means.std())\n"
   ]
  },
  {
   "cell_type": "code",
   "execution_count": 98,
   "metadata": {},
   "outputs": [
    {
     "data": {
      "text/plain": [
       "'7.70 %'"
      ]
     },
     "execution_count": 98,
     "metadata": {},
     "output_type": "execute_result"
    }
   ],
   "source": [
    "sample_means = np.array(sample_means)\n",
    "\n",
    "norm = lambda x : stats.norm.pdf(x, sample_means.mean(), sample_means.std())\n",
    "prob, conf = integrate.quad(norm, 4, np.inf)\n",
    "\n",
    "f\"{prob * 100:.2f} %\""
   ]
  }
 ],
 "metadata": {
  "kernelspec": {
   "display_name": "Python 3",
   "language": "python",
   "name": "python3"
  },
  "language_info": {
   "codemirror_mode": {
    "name": "ipython",
    "version": 3
   },
   "file_extension": ".py",
   "mimetype": "text/x-python",
   "name": "python",
   "nbconvert_exporter": "python",
   "pygments_lexer": "ipython3",
   "version": "3.7.3"
  }
 },
 "nbformat": 4,
 "nbformat_minor": 4
}
