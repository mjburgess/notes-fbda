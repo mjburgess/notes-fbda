{
 "cells": [
  {
   "cell_type": "code",
   "execution_count": 1,
   "metadata": {},
   "outputs": [],
   "source": [
    "%matplotlib inline \n",
    "!pip install -q matplotlib_venn"
   ]
  },
  {
   "cell_type": "code",
   "execution_count": 2,
   "metadata": {},
   "outputs": [],
   "source": [
    "import matplotlib.pyplot as plt\n",
    "import numpy as np\n",
    "from itertools import *\n",
    "from random import *"
   ]
  },
  {
   "cell_type": "code",
   "execution_count": 3,
   "metadata": {},
   "outputs": [],
   "source": [
    "from fractions import Fraction \n",
    "\n",
    "# pretty fractions\n",
    "Fraction.__repr__ = Fraction.__str__\n",
    "html_formatter = get_ipython().display_formatter.formatters['text/latex']\n",
    "html_formatter.for_type(Fraction, lambda f: r\"$\\frac{%s}{%s}$\" % (f.numerator, f.denominator));"
   ]
  },
  {
   "cell_type": "code",
   "execution_count": 4,
   "metadata": {},
   "outputs": [],
   "source": [
    "from matplotlib_venn import venn2\n",
    "\n",
    "# pretty sets\n",
    "def plot_set(*sets):\n",
    "    venn2(sets)\n",
    "    plt.show()\n",
    "    return None"
   ]
  },
  {
   "cell_type": "markdown",
   "metadata": {},
   "source": [
    "# Mathematics: From Probability to Statitics"
   ]
  },
  {
   "cell_type": "markdown",
   "metadata": {},
   "source": [
    "- **[Trial](https://en.wikipedia.org/wiki/Experiment_(probability_theory%29):**\n",
    "  A single occurrence with an outcome that is uncertain until we observe it. \n",
    "  <br>*For example, rolling a single die.*\n",
    "- **[Outcome](https://en.wikipedia.org/wiki/Outcome_(probability%29):**\n",
    "  A possible result of a trial; one particular state of the world. What Laplace calls a **case.**\n",
    "  <br>*For example:* `4`.\n",
    "- **[Sample Space](https://en.wikipedia.org/wiki/Sample_space):**\n",
    "  The set of all possible outcomes for the trial. \n",
    "  <br>*For example,* `{1, 2, 3, 4, 5, 6}`.\n",
    "- **[Event](https://en.wikipedia.org/wiki/Event_(probability_theory%29):**\n",
    "  A subset of outcomes that together have some property we are interested in.\n",
    "  <br>*For example, the event \"even die roll\" is the set of outcomes* `{2, 4, 6}`. \n",
    "- **[Probability](https://en.wikipedia.org/wiki/Probability_theory):**\n",
    "  As Laplace said, the probability of an event with respect to a sample space is the \"number of favorable cases\" (outcomes from the sample space that are in the event) divided by the \"number of all the cases\" in the sample space (assuming \"nothing leads us to expect that any one of these cases should occur more than any other\"). Since this is a proper fraction, probability will always be a number between 0 (representing an impossible event) and 1 (representing a certain event).\n",
    "<br>*For example, the probability of an even die roll is 3/6 = 1/2.*\n"
   ]
  },
  {
   "cell_type": "markdown",
   "metadata": {},
   "source": [
    "## Classical Probability: Lapace"
   ]
  },
  {
   "cell_type": "code",
   "execution_count": 5,
   "metadata": {},
   "outputs": [],
   "source": [
    "dice_odd = {1, 3, 5}\n",
    "dice_outcomes =  {1, 2, 3, 4, 5, 6}\n",
    "\n",
    "dice_low = {1, 2}"
   ]
  },
  {
   "cell_type": "code",
   "execution_count": 6,
   "metadata": {},
   "outputs": [
    {
     "data": {
      "text/plain": [
       "(0.5, 0.3333333333333333)"
      ]
     },
     "execution_count": 6,
     "metadata": {},
     "output_type": "execute_result"
    }
   ],
   "source": [
    "def probability(event_set, outcome_set):\n",
    "    return len(event_set & outcome_set) / len(outcome_set)\n",
    "\n",
    "\n",
    "\n",
    "probability(dice_odd, dice_outcomes), probability(dice_low, dice_outcomes)"
   ]
  },
  {
   "cell_type": "code",
   "execution_count": 7,
   "metadata": {},
   "outputs": [
    {
     "data": {
      "text/plain": [
       "(1/2, 1/3)"
      ]
     },
     "execution_count": 7,
     "metadata": {},
     "output_type": "execute_result"
    }
   ],
   "source": [
    "chosen = set.intersection\n",
    "outcomes  = len\n",
    "\n",
    "def Pr(event, space): \n",
    "    return Fraction(\n",
    "            outcomes(chosen(event, space)), # /\n",
    "            outcomes(space)\n",
    "    )\n",
    "                    \n",
    "Pr(dice_odd, dice_outcomes), Pr(dice_low, dice_outcomes)"
   ]
  },
  {
   "cell_type": "markdown",
   "metadata": {},
   "source": [
    "Notationally in mathematics, we take the outcome space as \"context\" and rarely specifity it explicitly:\n",
    "\n",
    "$P(D_{odd}) = \\frac{1}{2}$"
   ]
  },
  {
   "cell_type": "code",
   "execution_count": 8,
   "metadata": {},
   "outputs": [
    {
     "data": {
      "text/latex": [
       "$\\frac{1}{2}$"
      ],
      "text/plain": [
       "1/2"
      ]
     },
     "execution_count": 8,
     "metadata": {},
     "output_type": "execute_result"
    }
   ],
   "source": [
    "def fix(f, fixed_outcomes):\n",
    "    return lambda event: f(event, fixed_outcomes)\n",
    "\n",
    "P = fix(Pr, dice_outcomes)\n",
    "\n",
    "P(dice_odd)"
   ]
  },
  {
   "cell_type": "markdown",
   "metadata": {},
   "source": [
    "A convention I'll follow in this note book is that `Pr` and other functions ending in `r` require *both* the event and the outcome space (you could read `r` as *relative*, but its chosen just because `Pr` as means \"probability\"). I'll use `P` when the outcome space is fixed (eg., as a default argument). "
   ]
  },
  {
   "cell_type": "markdown",
   "metadata": {},
   "source": [
    "### Combining Events"
   ]
  },
  {
   "cell_type": "markdown",
   "metadata": {},
   "source": [
    "$P(D_{odd} \\, \\& \\, D_{low}) = P(D_{odd} \\, and \\, D_{low}) $"
   ]
  },
  {
   "cell_type": "code",
   "execution_count": 9,
   "metadata": {},
   "outputs": [
    {
     "data": {
      "text/plain": [
       "0.16666666666666666"
      ]
     },
     "execution_count": 9,
     "metadata": {},
     "output_type": "execute_result"
    }
   ],
   "source": [
    "probability(dice_odd & dice_low, dice_outcomes)"
   ]
  },
  {
   "cell_type": "code",
   "execution_count": 10,
   "metadata": {},
   "outputs": [
    {
     "data": {
      "image/png": "[encoded data removed]",
      "text/plain": [
       "<Figure size 432x288 with 1 Axes>"
      ]
     },
     "metadata": {},
     "output_type": "display_data"
    }
   ],
   "source": [
    "plot_set(dice_odd & dice_low, dice_outcomes)"
   ]
  },
  {
   "cell_type": "markdown",
   "metadata": {},
   "source": [
    "$P(D_{odd} \\, | \\, D_{low}) = P(D_{odd} \\, or \\, D_{low}) $"
   ]
  },
  {
   "cell_type": "code",
   "execution_count": 11,
   "metadata": {},
   "outputs": [
    {
     "data": {
      "text/latex": [
       "$\\frac{2}{3}$"
      ],
      "text/plain": [
       "2/3"
      ]
     },
     "execution_count": 11,
     "metadata": {},
     "output_type": "execute_result"
    }
   ],
   "source": [
    "P(dice_odd | dice_low)"
   ]
  },
  {
   "cell_type": "code",
   "execution_count": 12,
   "metadata": {},
   "outputs": [
    {
     "data": {
      "image/png": "[encoded data removed]",
      "text/plain": [
       "<Figure size 432x288 with 1 Axes>"
      ]
     },
     "metadata": {},
     "output_type": "display_data"
    }
   ],
   "source": [
    "plot_set(dice_odd | dice_low, dice_outcomes)"
   ]
  },
  {
   "cell_type": "markdown",
   "metadata": {},
   "source": [
    "## Cards"
   ]
  },
  {
   "cell_type": "code",
   "execution_count": 13,
   "metadata": {},
   "outputs": [
    {
     "data": {
      "text/plain": [
       "(52, 2598960)"
      ]
     },
     "execution_count": 13,
     "metadata": {},
     "output_type": "execute_result"
    }
   ],
   "source": [
    "suit = '♥♠♦♣'\n",
    "rank = 'AKQJT98765432'\n",
    "\n",
    "deck  = {r + s for r in rank for s in suit}\n",
    "hands = set(combinations(deck, 5))\n",
    "\n",
    "len(deck), len(hands)"
   ]
  },
  {
   "cell_type": "code",
   "execution_count": 14,
   "metadata": {},
   "outputs": [
    {
     "data": {
      "text/plain": [
       "['3♥', 'J♦']"
      ]
     },
     "execution_count": 14,
     "metadata": {},
     "output_type": "execute_result"
    }
   ],
   "source": [
    "sample(deck, 2)"
   ]
  },
  {
   "cell_type": "code",
   "execution_count": 15,
   "metadata": {},
   "outputs": [
    {
     "data": {
      "text/plain": [
       "(4, 13)"
      ]
     },
     "execution_count": 15,
     "metadata": {},
     "output_type": "execute_result"
    }
   ],
   "source": [
    "len(suit), len(rank)"
   ]
  },
  {
   "cell_type": "code",
   "execution_count": 16,
   "metadata": {},
   "outputs": [
    {
     "data": {
      "text/plain": [
       "[('K♥', 'K♠', '2♣', 'Q♣', 'A♥'),\n",
       " ('6♥', 'J♠', 'A♦', '8♣', '6♦'),\n",
       " ('Q♦', 'T♦', '4♥', 'A♥', '2♥')]"
      ]
     },
     "execution_count": 16,
     "metadata": {},
     "output_type": "execute_result"
    }
   ],
   "source": [
    "players = sample(hands, 3)\n",
    "players"
   ]
  },
  {
   "cell_type": "code",
   "execution_count": 17,
   "metadata": {},
   "outputs": [
    {
     "data": {
      "text/plain": [
       "{'♠', '♣', '♥'}"
      ]
     },
     "execution_count": 17,
     "metadata": {},
     "output_type": "execute_result"
    }
   ],
   "source": [
    "{suit for (rank, suit) in players[0]}"
   ]
  },
  {
   "cell_type": "code",
   "execution_count": 18,
   "metadata": {},
   "outputs": [
    {
     "data": {
      "text/plain": [
       "5"
      ]
     },
     "execution_count": 18,
     "metadata": {},
     "output_type": "execute_result"
    }
   ],
   "source": [
    "len({rank for (rank, suit) in players[2]})"
   ]
  },
  {
   "cell_type": "code",
   "execution_count": 19,
   "metadata": {},
   "outputs": [],
   "source": [
    "def is_flush(hand):\n",
    "    return len({suit for (rank, suit) in hand}) == 1 # only one suit\n",
    "\n",
    "def is_couple(hand):\n",
    "    return len({rank for (rank, suit) in hand}) == 2 # only two ranks"
   ]
  },
  {
   "cell_type": "code",
   "execution_count": 20,
   "metadata": {},
   "outputs": [],
   "source": [
    "flush = {h for h in hands if is_flush(h)}\n",
    "couple = {h for h in hands if is_couple(h)}"
   ]
  },
  {
   "cell_type": "code",
   "execution_count": 21,
   "metadata": {},
   "outputs": [
    {
     "data": {
      "text/plain": [
       "(5148, 4368)"
      ]
     },
     "execution_count": 21,
     "metadata": {},
     "output_type": "execute_result"
    }
   ],
   "source": [
    "len(flush), len(couple)"
   ]
  },
  {
   "cell_type": "markdown",
   "metadata": {},
   "source": [
    "* probability of getting a flush"
   ]
  },
  {
   "cell_type": "code",
   "execution_count": 22,
   "metadata": {},
   "outputs": [
    {
     "data": {
      "text/latex": [
       "$\\frac{33}{16660}$"
      ],
      "text/plain": [
       "33/16660"
      ]
     },
     "execution_count": 22,
     "metadata": {},
     "output_type": "execute_result"
    }
   ],
   "source": [
    "Pr(flush, hands)"
   ]
  },
  {
   "cell_type": "code",
   "execution_count": 23,
   "metadata": {},
   "outputs": [
    {
     "data": {
      "text/plain": [
       "'1 in 505'"
      ]
     },
     "execution_count": 23,
     "metadata": {},
     "output_type": "execute_result"
    }
   ],
   "source": [
    "f\"1 in {16660/33 :.0f}\""
   ]
  },
  {
   "cell_type": "markdown",
   "metadata": {},
   "source": [
    "* probability of a four of a kind"
   ]
  },
  {
   "cell_type": "code",
   "execution_count": 24,
   "metadata": {},
   "outputs": [
    {
     "data": {
      "text/latex": [
       "$\\frac{1}{595}$"
      ],
      "text/plain": [
       "1/595"
      ]
     },
     "execution_count": 24,
     "metadata": {},
     "output_type": "execute_result"
    }
   ],
   "source": [
    "Pr(couple, hands)"
   ]
  },
  {
   "cell_type": "code",
   "execution_count": 26,
   "metadata": {},
   "outputs": [
    {
     "data": {
      "image/png": "[encoded data removed]",
      "text/plain": [
       "<Figure size 432x288 with 1 Axes>"
      ]
     },
     "metadata": {},
     "output_type": "display_data"
    }
   ],
   "source": [
    "plot_set(couple, hands)"
   ]
  },
  {
   "cell_type": "markdown",
   "metadata": {},
   "source": [
    "* probability of four of a kind, or a flush"
   ]
  },
  {
   "cell_type": "code",
   "execution_count": 27,
   "metadata": {},
   "outputs": [
    {
     "data": {
      "text/latex": [
       "$\\frac{61}{16660}$"
      ],
      "text/plain": [
       "61/16660"
      ]
     },
     "execution_count": 27,
     "metadata": {},
     "output_type": "execute_result"
    }
   ],
   "source": [
    "Pr(couple | flush, hands)"
   ]
  },
  {
   "cell_type": "code",
   "execution_count": 29,
   "metadata": {},
   "outputs": [
    {
     "data": {
      "image/png": "[encoded data removed]",
      "text/plain": [
       "<Figure size 432x288 with 1 Axes>"
      ]
     },
     "metadata": {},
     "output_type": "display_data"
    }
   ],
   "source": [
    "plot_set(couple| flush, hands)"
   ]
  },
  {
   "cell_type": "markdown",
   "metadata": {},
   "source": [
    "## Random Variabels and The Central Limit Theorm"
   ]
  },
  {
   "cell_type": "markdown",
   "metadata": {},
   "source": [
    "* A Random Variable is a *function* which maps from an outcome space to the real number line \n",
    "    * the real number line is the \"feature space\" we deal with often in machine learning and statistics\n",
    "    * ie., our data is contious and numerical, not \"cards\""
   ]
  },
  {
   "cell_type": "markdown",
   "metadata": {},
   "source": [
    "* In review, suppose we take all two-card draws as our outcomes:"
   ]
  },
  {
   "cell_type": "code",
   "execution_count": 41,
   "metadata": {},
   "outputs": [
    {
     "data": {
      "text/plain": [
       "(52, 1326)"
      ]
     },
     "execution_count": 41,
     "metadata": {},
     "output_type": "execute_result"
    }
   ],
   "source": [
    "suit = '♥♠♦♣'\n",
    "rank = 'AKQJT98765432'\n",
    "\n",
    "two_hands = set(combinations(deck, 2))\n",
    "\n",
    "len(deck), len(two_hands)"
   ]
  },
  {
   "cell_type": "code",
   "execution_count": 43,
   "metadata": {},
   "outputs": [
    {
     "data": {
      "text/plain": [
       "[('9♣', '2♠'), ('4♠', 'J♣')]"
      ]
     },
     "execution_count": 43,
     "metadata": {},
     "output_type": "execute_result"
    }
   ],
   "source": [
    "sample(two_hands, 2)"
   ]
  },
  {
   "cell_type": "code",
   "execution_count": 57,
   "metadata": {},
   "outputs": [
    {
     "name": "stdout",
     "output_type": "stream",
     "text": [
      "A Hand:  K♥ A♥\n",
      "Total Number: 1326\n"
     ]
    }
   ],
   "source": [
    "outcome_space = two_hands\n",
    "\n",
    "print('A Hand: ', ' '.join( sample(outcome_space, 1)[0] ))\n",
    "print('Total Number:', len(outcome_space))"
   ]
  },
  {
   "cell_type": "markdown",
   "metadata": {},
   "source": [
    "* Now define a random variable that can assign *for any outcome* a *real number*\n",
    "    * here the number of face cards in a hand is used "
   ]
  },
  {
   "cell_type": "code",
   "execution_count": 32,
   "metadata": {},
   "outputs": [],
   "source": [
    "def rv(outcome):\n",
    "    return len([rank for (rank, suit) in outcome if rank in ['A', 'K', 'Q', 'J']])"
   ]
  },
  {
   "cell_type": "code",
   "execution_count": 58,
   "metadata": {},
   "outputs": [
    {
     "data": {
      "text/plain": [
       "2"
      ]
     },
     "execution_count": 58,
     "metadata": {},
     "output_type": "execute_result"
    }
   ],
   "source": [
    "rv(('K♥', 'A♥'))"
   ]
  },
  {
   "cell_type": "markdown",
   "metadata": {},
   "source": [
    "* We get to the feature space (ie., the real number line) by transforming each outcome with `rv()`\n",
    "\n",
    "\n",
    "$X_i = RV(event_i)$"
   ]
  },
  {
   "cell_type": "code",
   "execution_count": 60,
   "metadata": {},
   "outputs": [
    {
     "data": {
      "text/plain": [
       "array([1, 0, 1, 0, 1, 1, 0, 0, 0, 0, 0, 1, 1, 2, 0, 0, 0, 0, 1, 0])"
      ]
     },
     "execution_count": 60,
     "metadata": {},
     "output_type": "execute_result"
    }
   ],
   "source": [
    "feature_space = np.array([rv(outcome) for outcome in outcome_space])\n",
    "feature_space[:20]"
   ]
  },
  {
   "cell_type": "markdown",
   "metadata": {},
   "source": [
    "* A probability can then be assign to any outcome by taking the ratio of each observation to the total  \n",
    "\n",
    "$P(X_i = o) = \\frac{o}{\\Sigma X_i}$ "
   ]
  },
  {
   "cell_type": "code",
   "execution_count": 34,
   "metadata": {},
   "outputs": [],
   "source": [
    "probability_space = feature_space / feature_space.sum()"
   ]
  },
  {
   "cell_type": "markdown",
   "metadata": {},
   "source": [
    "* The probability of any given hand is low."
   ]
  },
  {
   "cell_type": "code",
   "execution_count": 35,
   "metadata": {},
   "outputs": [
    {
     "data": {
      "text/plain": [
       "array([0.00122549, 0.        , 0.00122549, 0.        ])"
      ]
     },
     "execution_count": 35,
     "metadata": {},
     "output_type": "execute_result"
    }
   ],
   "source": [
    "probability_space[:4]"
   ]
  },
  {
   "cell_type": "markdown",
   "metadata": {},
   "source": [
    "* Let's return to the feature space, as that's what we're usually dealing with in statistics."
   ]
  },
  {
   "cell_type": "code",
   "execution_count": 61,
   "metadata": {},
   "outputs": [],
   "source": [
    "n_face, freq = np.unique(feature_space, return_counts=True)"
   ]
  },
  {
   "cell_type": "code",
   "execution_count": 62,
   "metadata": {},
   "outputs": [],
   "source": [
    "probability_mass = freq/freq.sum()"
   ]
  },
  {
   "cell_type": "code",
   "execution_count": 63,
   "metadata": {},
   "outputs": [
    {
     "data": {
      "text/plain": [
       "{0: 0.4751131221719457, 1: 0.4343891402714932, 2: 0.09049773755656108}"
      ]
     },
     "execution_count": 63,
     "metadata": {},
     "output_type": "execute_result"
    }
   ],
   "source": [
    "dict(zip(n_face, probability_mass))"
   ]
  },
  {
   "cell_type": "code",
   "execution_count": 65,
   "metadata": {},
   "outputs": [
    {
     "data": {
      "image/png": "[encoded data removed]",
      "text/plain": [
       "<Figure size 432x288 with 1 Axes>"
      ]
     },
     "metadata": {
      "needs_background": "light"
     },
     "output_type": "display_data"
    }
   ],
   "source": [
    "import seaborn as sns\n",
    "sns.barplot(n_face, probability_mass);"
   ]
  },
  {
   "cell_type": "markdown",
   "metadata": {},
   "source": [
    "### Random Variables and Sampling"
   ]
  },
  {
   "cell_type": "markdown",
   "metadata": {},
   "source": [
    "* Review"
   ]
  },
  {
   "cell_type": "code",
   "execution_count": 66,
   "metadata": {},
   "outputs": [],
   "source": [
    "rv = lambda outcome: len([rank for (rank, suit) in outcome if rank in ['A', 'K', 'Q', 'J']])\n",
    "\n",
    "outcome_space = two_hands\n",
    "feature_space = np.array([rv(outcome) for outcome in outcome_space])"
   ]
  },
  {
   "cell_type": "markdown",
   "metadata": {},
   "source": [
    "* Samples:\n",
    "    * suppose we play a game of pairs until we hit 100 hands\n",
    "    * each *game* is then a sample of 100 hands from our whole feature_space\n",
    "    * suppose we now observe 1000 such games"
   ]
  },
  {
   "cell_type": "code",
   "execution_count": 67,
   "metadata": {},
   "outputs": [],
   "source": [
    "feature_samples = [np.random.choice(feature_space, 100) for _ in range(1000)]"
   ]
  },
  {
   "cell_type": "markdown",
   "metadata": {},
   "source": [
    "So every game saw 30 flushes, and in the first game each flush had the following number of hearts: "
   ]
  },
  {
   "cell_type": "code",
   "execution_count": 68,
   "metadata": {},
   "outputs": [
    {
     "data": {
      "text/plain": [
       "array([2, 1, 1, 0, 0, 0, 1, 1, 1, 1, 0, 0, 0, 1, 0, 1, 0, 0, 0, 0, 0, 0,\n",
       "       1, 1, 1, 1, 1, 0, 0, 0, 0, 0, 1, 0, 1, 1, 0, 0, 1, 0, 0, 2, 0, 1,\n",
       "       0, 1, 1, 0, 2, 0, 1, 0, 0, 1, 0, 0, 0, 0, 2, 0, 0, 1, 1, 0, 0, 1,\n",
       "       1, 0, 0, 0, 0, 0, 0, 0, 0, 1, 0, 0, 0, 0, 1, 0, 1, 1, 0, 1, 0, 2,\n",
       "       0, 1, 0, 1, 1, 0, 0, 1, 0, 0, 0, 0])"
      ]
     },
     "execution_count": 68,
     "metadata": {},
     "output_type": "execute_result"
    }
   ],
   "source": [
    "feature_samples[0]"
   ]
  },
  {
   "cell_type": "markdown",
   "metadata": {},
   "source": [
    "The mean of the first sampled game (ie., the avg num  faces/game) is:"
   ]
  },
  {
   "cell_type": "code",
   "execution_count": 82,
   "metadata": {},
   "outputs": [
    {
     "data": {
      "text/plain": [
       "0.54"
      ]
     },
     "execution_count": 82,
     "metadata": {},
     "output_type": "execute_result"
    }
   ],
   "source": [
    "sum([feature_samples[0].mean(),feature_samples[1].mean(), feature_samples[2].mean()])/3"
   ]
  },
  {
   "cell_type": "markdown",
   "metadata": {},
   "source": [
    "* Mean of each sample (ie., each game):"
   ]
  },
  {
   "cell_type": "code",
   "execution_count": 83,
   "metadata": {},
   "outputs": [
    {
     "data": {
      "text/plain": [
       "[0.45, 0.57, 0.6, 0.56, 0.56]"
      ]
     },
     "execution_count": 83,
     "metadata": {},
     "output_type": "execute_result"
    }
   ],
   "source": [
    "sample_means = [sample.mean() for sample in feature_samples]\n",
    "sample_means[:5]"
   ]
  },
  {
   "cell_type": "code",
   "execution_count": 84,
   "metadata": {},
   "outputs": [
    {
     "data": {
      "image/png": "[encoded data removed]",
      "text/plain": [
       "<Figure size 432x288 with 1 Axes>"
      ]
     },
     "metadata": {
      "needs_background": "light"
     },
     "output_type": "display_data"
    }
   ],
   "source": [
    "sns.distplot(sample_means);"
   ]
  },
  {
   "cell_type": "code",
   "execution_count": 111,
   "metadata": {},
   "outputs": [
    {
     "data": {
      "application/vnd.jupyter.widget-view+json": {
       "model_id": "308e9f34c0d24c528687b01847304d20",
       "version_major": 2,
       "version_minor": 0
      },
      "text/plain": [
       "interactive(children=(IntSlider(value=100, description='hands', max=300, min=-100), IntSlider(value=1000, desc…"
      ]
     },
     "metadata": {},
     "output_type": "display_data"
    }
   ],
   "source": [
    "@interact(hands=100, N=1000)\n",
    "def draw(hands, N):\n",
    "    hands = 1 if hands <= 0 else hands\n",
    "    N = 1 if N <= 0 else N \n",
    "    \n",
    "    feature_samples = [np.random.choice(feature_space, hands) for _ in range(N)]\n",
    "    sample_means = np.array([sample.mean() for sample in feature_samples])\n",
    "    \n",
    "    std_sample = sample_means.std() / np.sqrt(N)\n",
    "    \n",
    "    plt.axvline(feature_space.mean(), color='green')\n",
    "    plt.axvline(feature_space.mean() + std_sample, color='red')\n",
    "    plt.axvline(feature_space.mean() - std_sample, color='red')\n",
    "    \n",
    "    plt.axvline(sample_means.mean(), color='yellow')\n",
    "    sns.distplot(sample_means);"
   ]
  },
  {
   "cell_type": "markdown",
   "metadata": {},
   "source": [
    "## Probability Density"
   ]
  },
  {
   "cell_type": "markdown",
   "metadata": {},
   "source": [
    "Everything up to here has been about discrete, finite sample spaces, where we can enumerate all the possible outcomes.\n",
    "\n",
    "But a reader asked about continuous sample spaces, such as the space of real numbers. The principles are the same: probability is still the ratio of the favorable cases to all the cases, but now instead of counting cases, we have to (in general) compute integrals to compare the sizes of cases. Here we will cover a simple example, which we first solve approximately by simulation, and then exactly by calculation."
   ]
  },
  {
   "cell_type": "markdown",
   "metadata": {},
   "source": [
    "### Vocab.\n",
    "\n",
    "* Density \n",
    "\n",
    "* [Frequency](https://en.wikipedia.org/wiki/Frequency_%28statistics%29): a non-negative number describing how often an outcome occurs. Can be a count like 5, or a ratio like 1/6.\n",
    "\n",
    "* [Distribution](http://mathworld.wolfram.com/StatisticalDistribution.html): A mapping from outcome to frequency of that outcome. We will allow sample spaces to be distributions. \n",
    "\n",
    "* [Probability Distribution](https://en.wikipedia.org/wiki/Probability_distribution): A probability distribution\n",
    "is a distribution whose frequencies sum to 1. \n"
   ]
  },
  {
   "cell_type": "markdown",
   "metadata": {},
   "source": [
    "* Uniform\n",
    "\n",
    "$U(x; a, b) = \\frac{1}{b - a}$"
   ]
  },
  {
   "cell_type": "code",
   "execution_count": null,
   "metadata": {},
   "outputs": [],
   "source": [
    "a = 0\n",
    "b = 10\n",
    "\n",
    "def uniform_ten(x, min=a, max=b):\n",
    "    return 1/(max - min)\n",
    "\n",
    "uni_range = list(range(a, b))\n",
    "uni_dist = [uniform_ten(x) for x in uni_range]\n",
    "\n",
    "sns.barplot(uni_range, uni_dist);"
   ]
  },
  {
   "cell_type": "markdown",
   "metadata": {},
   "source": [
    "$P( l < x < h ) = \\int_{l}^{h} U(x) dx $\n",
    "\n",
    "$\\int_{l}^{h} \\frac{1}{b - a} dx =  [\\frac{x}{b - a}]^l_h  $\n",
    "\n",
    "$\\therefore  P( l < x < h ) = \\frac{h - l}{b - a} $"
   ]
  },
  {
   "cell_type": "code",
   "execution_count": 93,
   "metadata": {},
   "outputs": [],
   "source": [
    "from scipy import integrate\n",
    "def area_of(f):\n",
    "    return lambda start, end : np.round(integrate.quad(f, start, end)[0], 4)"
   ]
  },
  {
   "cell_type": "code",
   "execution_count": null,
   "metadata": {},
   "outputs": [],
   "source": [
    "Pu = area_of(uniform_ten)\n",
    "\n",
    "Pu(0,1), Pu(1, 10), Pu(0,10)"
   ]
  },
  {
   "cell_type": "code",
   "execution_count": null,
   "metadata": {},
   "outputs": [],
   "source": [
    "def uniform_integral(low, high, min=a, max=b):\n",
    "    return (high / (max - min)) - (low / (max - min))\n",
    "    \n",
    "uniform_integral(0, 1)"
   ]
  },
  {
   "cell_type": "code",
   "execution_count": null,
   "metadata": {},
   "outputs": [],
   "source": [
    "sns.barplot(uni_range, [ Pu(x, x+1) for x in uni_range]);"
   ]
  },
  {
   "cell_type": "markdown",
   "metadata": {},
   "source": [
    "#### Normal"
   ]
  },
  {
   "cell_type": "markdown",
   "metadata": {},
   "source": [
    "$N(x; \\mu, \\sigma ) = (2\\pi\\sigma^2)^{-\\frac{1}{2}} \\, e^{ - \\frac{(x-\\mu)^2}{2\\sigma}}$"
   ]
  },
  {
   "cell_type": "code",
   "execution_count": 97,
   "metadata": {},
   "outputs": [],
   "source": [
    "iq_mean = 100\n",
    "iq_stdv = 15\n",
    "\n",
    "def iq_normal(x, m=iq_mean, s=iq_stdv):\n",
    "    v = 2 * s ** 2\n",
    "    c = (np.pi * v) ** -0.5\n",
    "    \n",
    "    return c * np.exp( - ((x - m) ** 2) / v )"
   ]
  },
  {
   "cell_type": "code",
   "execution_count": 98,
   "metadata": {},
   "outputs": [
    {
     "data": {
      "image/png": "[encoded data removed]",
      "text/plain": [
       "<Figure size 432x288 with 1 Axes>"
      ]
     },
     "metadata": {
      "needs_background": "light"
     },
     "output_type": "display_data"
    }
   ],
   "source": [
    "iq_range = list(range(iq_mean - 5*iq_stdv, iq_mean + 5*iq_stdv))\n",
    "\n",
    "iq_dist = [ iq_normal(x) for x in iq_range ]\n",
    "\n",
    "sns.lineplot(iq_range, iq_dist);"
   ]
  },
  {
   "cell_type": "code",
   "execution_count": 104,
   "metadata": {},
   "outputs": [],
   "source": [
    "Piq = area_of(iq_normal)"
   ]
  },
  {
   "cell_type": "code",
   "execution_count": 105,
   "metadata": {},
   "outputs": [
    {
     "data": {
      "text/plain": [
       "0.0532"
      ]
     },
     "execution_count": 105,
     "metadata": {},
     "output_type": "execute_result"
    }
   ],
   "source": [
    "Piq(99, 101)"
   ]
  },
  {
   "cell_type": "code",
   "execution_count": 106,
   "metadata": {},
   "outputs": [
    {
     "data": {
      "text/plain": [
       "(85, 115)"
      ]
     },
     "execution_count": 106,
     "metadata": {},
     "output_type": "execute_result"
    }
   ],
   "source": [
    "(iq_mean - iq_stdv, iq_mean + iq_stdv)"
   ]
  },
  {
   "cell_type": "code",
   "execution_count": 107,
   "metadata": {},
   "outputs": [
    {
     "data": {
      "text/plain": [
       "0.6827"
      ]
     },
     "execution_count": 107,
     "metadata": {},
     "output_type": "execute_result"
    }
   ],
   "source": [
    "Piq(iq_mean - 1*iq_stdv, iq_mean + 1*iq_stdv)"
   ]
  },
  {
   "cell_type": "code",
   "execution_count": 108,
   "metadata": {},
   "outputs": [
    {
     "data": {
      "text/plain": [
       "0.9545"
      ]
     },
     "execution_count": 108,
     "metadata": {},
     "output_type": "execute_result"
    }
   ],
   "source": [
    "Piq(iq_mean - 2*iq_stdv, iq_mean + 2*iq_stdv)"
   ]
  },
  {
   "cell_type": "code",
   "execution_count": 109,
   "metadata": {},
   "outputs": [
    {
     "data": {
      "text/plain": [
       "0.9973"
      ]
     },
     "execution_count": 109,
     "metadata": {},
     "output_type": "execute_result"
    }
   ],
   "source": [
    "Piq(iq_mean - 3*iq_stdv, iq_mean + 3*iq_stdv)"
   ]
  },
  {
   "cell_type": "code",
   "execution_count": null,
   "metadata": {},
   "outputs": [],
   "source": [
    "1 - Piq(iq_mean - 2*iq_stdv, iq_mean + 2*iq_stdv)"
   ]
  },
  {
   "cell_type": "code",
   "execution_count": 110,
   "metadata": {},
   "outputs": [
    {
     "data": {
      "application/vnd.jupyter.widget-view+json": {
       "model_id": "048756b8582c4ecda6de0a9af3b8e86a",
       "version_major": 2,
       "version_minor": 0
      },
      "text/plain": [
       "interactive(children=(IntSlider(value=85, description='low', max=255, min=-85), IntSlider(value=115, descripti…"
      ]
     },
     "metadata": {},
     "output_type": "display_data"
    }
   ],
   "source": [
    "from ipywidgets import interact\n",
    "\n",
    "@interact(low=85, high=115)\n",
    "def draw(low, high):\n",
    "    plt.axvline(low, color='red')\n",
    "    plt.axvline(high, color='red')\n",
    "    plt.plot(iq_range, iq_dist)\n",
    "    plt.ylabel('density(x)')\n",
    "    plt.xlabel('x')\n",
    "    plt.title(f\"P({low} < IQ < {high}) = {Piq(low, high): .3f}\")"
   ]
  },
  {
   "cell_type": "markdown",
   "metadata": {},
   "source": [
    "# Extra: Probability Mass"
   ]
  },
  {
   "cell_type": "markdown",
   "metadata": {},
   "source": [
    "The probaility and sets methods above only apply when you can define the outcome space, ie., the space of equiprobable events; which is often not the case. Eg., in an election, the space of \"equiprobable outcomes\" are all possible future worlds.\n",
    "\n",
    "*Statistics* beings to blur into probability here, where we go straight to defining the *probability distribution* rather than the probability of each possible individual event. At an intermediate point we have probability mass functions which assign a probability to discrete non-equal outcomes (rather than going via a random-variable transformation). \n",
    "\n",
    "\"Mass\" here is an equivalent term for \"probability\" but it is used to emphasize there is now a *uneven distribution* and some outcomes are \"heavier\"."
   ]
  },
  {
   "cell_type": "code",
   "execution_count": null,
   "metadata": {},
   "outputs": [],
   "source": [
    "from collections import Counter\n",
    "\n",
    "# a dictionary with special counting methods\n",
    "class pmf(Counter): \n",
    "    pass"
   ]
  },
  {
   "cell_type": "code",
   "execution_count": null,
   "metadata": {},
   "outputs": [],
   "source": [
    "dice = pmf({1, 2, 3, 4, 5, 6})\n",
    "dice"
   ]
  },
  {
   "cell_type": "code",
   "execution_count": null,
   "metadata": {},
   "outputs": [],
   "source": [
    "biased = pmf({1: 0.1, 2: 0.1, 3: 0.1, 4: 0.1, 5: 0.1, 6: 0.5})\n",
    "biased"
   ]
  },
  {
   "cell_type": "code",
   "execution_count": null,
   "metadata": {},
   "outputs": [],
   "source": [
    "dice.values(), sum(dice.values()), sum(biased.values())"
   ]
  },
  {
   "cell_type": "code",
   "execution_count": null,
   "metadata": {},
   "outputs": [],
   "source": [
    "def mass(dist):\n",
    "    return sum(dist.values())\n",
    "\n",
    "def favorable(event, space):\n",
    "    if callable(event):\n",
    "        event = thatr(event, space)\n",
    "        \n",
    "    return pmf({x: space[x] for x in  space if x in event})"
   ]
  },
  {
   "cell_type": "code",
   "execution_count": null,
   "metadata": {},
   "outputs": [],
   "source": [
    "def Pr(event, space): \n",
    "    space = pmf(space)\n",
    "    return mass(favorable(event, space)) / mass(space)"
   ]
  },
  {
   "cell_type": "code",
   "execution_count": null,
   "metadata": {},
   "outputs": [],
   "source": [
    "dice[1], mass(dice), dice[1]/mass(dice)"
   ]
  },
  {
   "cell_type": "code",
   "execution_count": null,
   "metadata": {},
   "outputs": [],
   "source": [
    "biased[1], mass(biased), biased[1]/mass(biased)"
   ]
  },
  {
   "cell_type": "code",
   "execution_count": null,
   "metadata": {},
   "outputs": [],
   "source": [
    "def even(event):\n",
    "    return event % 2 == 0\n",
    "\n",
    "\n",
    "Pr(even, dice), Pr(even, biased)"
   ]
  },
  {
   "cell_type": "code",
   "execution_count": null,
   "metadata": {},
   "outputs": [],
   "source": [
    "def die(n): \n",
    "    return set(range(1, n + 1))\n",
    "\n",
    "Pr(even, die(12)), Pr(even, die(13))"
   ]
  },
  {
   "cell_type": "markdown",
   "metadata": {},
   "source": [
    "## Extra: Events as Subsets "
   ]
  },
  {
   "cell_type": "markdown",
   "metadata": {},
   "source": [
    "# Hypothesis Testing: Solution"
   ]
  },
  {
   "cell_type": "markdown",
   "metadata": {},
   "source": [
    "## Exercise 1"
   ]
  },
  {
   "cell_type": "markdown",
   "metadata": {},
   "source": [
    "The local newspaper reported: Average debt of local university graduates is £3262.\n",
    "\n",
    "You think that local university gradautes have smaller debt balances.\n",
    "\n",
    "You conduct a study of 50 randomly selected local university graduates, and find the average debt is £2995.\n",
    "\n",
    "You also find that the population standard deviation is £1100.\n",
    "\n",
    "Is your opinion supported by the study conducted, at a 0.05 level of significance?"
   ]
  },
  {
   "cell_type": "markdown",
   "metadata": {},
   "source": [
    "### 🧐 Formulate Hypothesis"
   ]
  },
  {
   "cell_type": "markdown",
   "metadata": {},
   "source": [
    "$H_{0}$: $mu=3262$\n",
    "\n",
    "$H_{1}$: $mu<3262$, **i.e. we have a One Tailed Test**"
   ]
  },
  {
   "cell_type": "markdown",
   "metadata": {},
   "source": [
    "### 🧐 Set $\\alpha$"
   ]
  },
  {
   "cell_type": "markdown",
   "metadata": {},
   "source": [
    "$\\alpha$ = 5% = 0.05"
   ]
  },
  {
   "cell_type": "markdown",
   "metadata": {},
   "source": [
    "### 🧐 Calculate the z Test Statistic"
   ]
  },
  {
   "cell_type": "code",
   "execution_count": 1,
   "metadata": {
    "collapsed": true,
    "jupyter": {
     "outputs_hidden": true
    }
   },
   "outputs": [],
   "source": [
    "xbar = 2995\n",
    "mu = 3262\n",
    "sd = 1100\n",
    "n = 50"
   ]
  },
  {
   "cell_type": "code",
   "execution_count": 2,
   "metadata": {},
   "outputs": [
    {
     "data": {
      "text/plain": [
       "-1.7163410052437107"
      ]
     },
     "execution_count": 2,
     "metadata": {},
     "output_type": "execute_result"
    }
   ],
   "source": [
    "import numpy as np\n",
    "z = (xbar - mu) / ( sd / np.sqrt(n) )\n",
    "z"
   ]
  },
  {
   "cell_type": "markdown",
   "metadata": {},
   "source": [
    "### 🧐 Calculate the \"p-value\""
   ]
  },
  {
   "cell_type": "code",
   "execution_count": 3,
   "metadata": {},
   "outputs": [
    {
     "data": {
      "text/plain": [
       "0.04304982368670932"
      ]
     },
     "execution_count": 3,
     "metadata": {},
     "output_type": "execute_result"
    }
   ],
   "source": [
    "import scipy.stats\n",
    "Phi_z = scipy.stats.norm.cdf(z)\n",
    "Phi_z"
   ]
  },
  {
   "cell_type": "code",
   "execution_count": 4,
   "metadata": {},
   "outputs": [
    {
     "data": {
      "text/plain": [
       "0.04304982368670932"
      ]
     },
     "execution_count": 4,
     "metadata": {},
     "output_type": "execute_result"
    }
   ],
   "source": [
    "pval = Phi_z\n",
    "pval"
   ]
  },
  {
   "cell_type": "markdown",
   "metadata": {},
   "source": [
    "### 🧐 Decision"
   ]
  },
  {
   "cell_type": "markdown",
   "metadata": {},
   "source": [
    "p-value < $\\alpha$ \n",
    "\n",
    "$\\therefore$ we reject the null hypothesis and infer that the local univeristy graduates debt is less than the reported average debt."
   ]
  },
  {
   "cell_type": "markdown",
   "metadata": {},
   "source": [
    "### Bonus Quesitons"
   ]
  },
  {
   "cell_type": "markdown",
   "metadata": {},
   "source": [
    "**What is the Critical Value?**"
   ]
  },
  {
   "cell_type": "code",
   "execution_count": 5,
   "metadata": {},
   "outputs": [
    {
     "data": {
      "text/plain": [
       "-1.6448536269514729"
      ]
     },
     "execution_count": 5,
     "metadata": {},
     "output_type": "execute_result"
    }
   ],
   "source": [
    "scipy.stats.norm.ppf(0.05)"
   ]
  },
  {
   "cell_type": "markdown",
   "metadata": {},
   "source": [
    "**Is our Test Statistic calculated above higher or lower than this Critical Value?**"
   ]
  },
  {
   "cell_type": "code",
   "execution_count": 6,
   "metadata": {},
   "outputs": [
    {
     "data": {
      "text/plain": [
       "True"
      ]
     },
     "execution_count": 6,
     "metadata": {},
     "output_type": "execute_result"
    }
   ],
   "source": [
    "z < scipy.stats.norm.ppf(0.05)"
   ]
  },
  {
   "cell_type": "markdown",
   "metadata": {},
   "source": [
    "**Is our Test Statistic in the Critical Region?**"
   ]
  },
  {
   "cell_type": "markdown",
   "metadata": {},
   "source": [
    "yes"
   ]
  },
  {
   "cell_type": "markdown",
   "metadata": {},
   "source": [
    "**Decision?**"
   ]
  },
  {
   "cell_type": "markdown",
   "metadata": {},
   "source": [
    "$\\therefore$ we reject the null hypothesis and infer that the local univeristy graduates debt is less than the reported average debt."
   ]
  },
  {
   "cell_type": "code",
   "execution_count": null,
   "metadata": {},
   "outputs": [],
   "source": [
    "def marbles(color, n):\n",
    "    return {color + str(i) for i in range(1, n + 1)}\n",
    "\n",
    "marbles('B', 3) | marbles('R', 2)"
   ]
  },
  {
   "cell_type": "markdown",
   "metadata": {},
   "source": [
    "Urn contains 6 blue, 9 red and 8 white marbles. \n",
    "\n",
    "We select 6 marbles at random, what is $P(A)$ for \n",
    "\n",
    "\n",
    "$A_{red}$ = {all red}  $A_{mix}$ = {3 blue, 1 red, 2 white}, $A_{fourw}$ = {exactly 4 are white}\n",
    "\n"
   ]
  },
  {
   "cell_type": "code",
   "execution_count": null,
   "metadata": {},
   "outputs": [],
   "source": [
    "urn = marbles('B', 6) | marbles('R', 9) | marbles('W', 8) \n",
    "sample(urn, 6)"
   ]
  },
  {
   "cell_type": "code",
   "execution_count": null,
   "metadata": {},
   "outputs": [],
   "source": [
    "take_six = set(combinations(urn, 6))\n",
    "len(take_six)"
   ]
  },
  {
   "cell_type": "code",
   "execution_count": null,
   "metadata": {},
   "outputs": [],
   "source": [
    "draws = sample(take_six, 3)\n",
    "draws[0]"
   ]
  },
  {
   "cell_type": "markdown",
   "metadata": {},
   "source": [
    "$P(\\#Red = 6)$"
   ]
  },
  {
   "cell_type": "code",
   "execution_count": null,
   "metadata": {},
   "outputs": [],
   "source": [
    "def ncol(col, n):\n",
    "    return lambda event: [ m[0] for m in event ].count(col) == n\n",
    "\n",
    "def thatr(predicate, space):\n",
    "    return { event for event in space if predicate(event)}\n"
   ]
  },
  {
   "cell_type": "code",
   "execution_count": null,
   "metadata": {},
   "outputs": [],
   "source": [
    "six_red = thatr(ncol('R', 6), take_six)\n",
    "sample(six_red, 2)"
   ]
  },
  {
   "cell_type": "code",
   "execution_count": null,
   "metadata": {},
   "outputs": [],
   "source": [
    "Pr(thatr(ncol('R', 6), take_six), take_six)"
   ]
  },
  {
   "cell_type": "code",
   "execution_count": null,
   "metadata": {},
   "outputs": [],
   "source": [
    "P = fix(Pr, take_six)\n",
    "that = fix(thatr, take_six)"
   ]
  },
  {
   "cell_type": "code",
   "execution_count": null,
   "metadata": {},
   "outputs": [],
   "source": [
    "P(that(ncol('R', 6))) "
   ]
  },
  {
   "cell_type": "code",
   "execution_count": null,
   "metadata": {},
   "outputs": [],
   "source": [
    "P(\n",
    "    that(ncol('B', 3)) & \n",
    "    that(ncol('R', 1)) & \n",
    "    that(ncol('W', 2))  \n",
    ")"
   ]
  },
  {
   "cell_type": "code",
   "execution_count": null,
   "metadata": {},
   "outputs": [],
   "source": [
    "P( that(ncol('W', 4)) )"
   ]
  },
  {
   "cell_type": "code",
   "execution_count": null,
   "metadata": {},
   "outputs": [],
   "source": [
    "plot_set(that(ncol('W', 4)), take_six)"
   ]
  },
  {
   "cell_type": "markdown",
   "metadata": {},
   "source": [
    "## Counting Faster\n",
    "Let's verify these calculations using basic arithmetic, rather than exhaustive counting.\n",
    "\n",
    "the number of ways of choosing c out of n items is (n choose c) = n! / ((n - c)! × c!). We can translate that to code:"
   ]
  },
  {
   "cell_type": "code",
   "execution_count": null,
   "metadata": {},
   "outputs": [],
   "source": [
    "from math import factorial\n",
    "\n",
    "def choose(n, c):\n",
    "    \"Number of ways to choose c items from a list of n items.\"\n",
    "    return factorial(n) // (factorial(n - c) * factorial(c))\n",
    "\n",
    "\n",
    "choose(9, 6)"
   ]
  },
  {
   "cell_type": "code",
   "execution_count": null,
   "metadata": {},
   "outputs": [],
   "source": [
    "N = len(take_six)\n",
    "\n",
    "P(that(ncol('R', 6))) == Fraction(choose(9, 6), N)"
   ]
  },
  {
   "cell_type": "markdown",
   "metadata": {},
   "source": [
    "# NB. The Use of Python \n",
    "\n",
    "## Mathematical Context and Partial Application\n",
    "\n",
    "It's common in mathematics to leave out \"parameters\" of the expression -- which makes it quite hard to read if you haven't fully absorbed yourself in the problem. However the expression is *clearer* and *emphasizes the important terms* when you are. \n",
    "\n",
    "We can achive the same \"leaving things out\" effect with partial application -- which means, \"somehow\" filling in parameters of a function with defaults and leaving some free.\n",
    "\n",
    "In this notebook I partially apply just using basic python syntax in the following way: a function (eg., `fix`) takes a function (eg., `f`) and returns a new one. The new one has fewer parameters. It calls the original (ie., `fix`) filling in *all* of its parameters; but forwarding a few. See above.\n",
    "\n",
    "Currying is also useful and quite similar. This allows us to generate a function with some \"internals\" fixed by the parent function. In this case the inner-function is always the same one, ie., we don't take an `f`, we generate the same kind of function each time."
   ]
  },
  {
   "cell_type": "code",
   "execution_count": null,
   "metadata": {},
   "outputs": [],
   "source": [
    "def value_is(equals):\n",
    "    return lambda value: value == equals\n",
    "\n",
    "is_happy = value_is(\"happy\")\n",
    "\n",
    "is_happy(\"happy\"), is_happy(\"sad\")"
   ]
  }
 ],
 "metadata": {
  "kernelspec": {
   "display_name": "Python 3",
   "language": "python",
   "name": "python3"
  },
  "language_info": {
   "codemirror_mode": {
    "name": "ipython",
    "version": 3
   },
   "file_extension": ".py",
   "mimetype": "text/x-python",
   "name": "python",
   "nbconvert_exporter": "python",
   "pygments_lexer": "ipython3",
   "version": "3.7.3"
  }
 },
 "nbformat": 4,
 "nbformat_minor": 4
}
