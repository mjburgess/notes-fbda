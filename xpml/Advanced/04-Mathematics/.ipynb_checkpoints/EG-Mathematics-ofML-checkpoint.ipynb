{
 "cells": [
  {
   "cell_type": "markdown",
   "metadata": {},
   "source": [
    "# Exercise: The Mathematics of Machine Learning"
   ]
  },
  {
   "cell_type": "markdown",
   "metadata": {},
   "source": [
    "## Part 1: Linear Algebra"
   ]
  },
  {
   "cell_type": "markdown",
   "metadata": {},
   "source": [
    "### Question\n",
    "\n",
    "* Find examples of:\n",
    "    - dot product\n",
    "    - inner product\n",
    "    - euclidean (l2) norm of vector\n",
    "    - a matrix-vector product (matmul and @)\n",
    "    - transposing\n"
   ]
  },
  {
   "cell_type": "markdown",
   "metadata": {},
   "source": [
    "### Extra Question\n",
    "\n",
    "- matrix_power\n",
    "- eigenvalues of matrix\n"
   ]
  },
  {
   "cell_type": "markdown",
   "metadata": {},
   "source": [
    "## Part 2: Derivatives\n",
    "\n",
    "## Automatic Differentiation via Finite Differences"
   ]
  },
  {
   "cell_type": "markdown",
   "metadata": {},
   "source": [
    "### Estimation at a Point"
   ]
  },
  {
   "cell_type": "code",
   "execution_count": 8,
   "metadata": {},
   "outputs": [
    {
     "data": {
      "text/plain": [
       "20.000099999890608"
      ]
     },
     "execution_count": 8,
     "metadata": {},
     "output_type": "execute_result"
    }
   ],
   "source": [
    "def ddx(f, x, delta=0.0001):\n",
    "    return (f(x + delta) - f(x))/delta\n",
    "\n",
    "def g(x):\n",
    "    return x ** 2\n",
    "\n",
    "ddx(g, 10)"
   ]
  },
  {
   "cell_type": "markdown",
   "metadata": {},
   "source": [
    "### Estimation over a Range"
   ]
  },
  {
   "cell_type": "code",
   "execution_count": 2,
   "metadata": {},
   "outputs": [],
   "source": [
    "import numpy as np\n",
    "import seaborn as sns\n",
    "\n",
    "N = 100\n",
    "\n",
    "x = np.linspace(0, 2*np.pi, N)\n",
    "y = np.sin(x)\n",
    "\n",
    "dydx = np.diff(y)/np.diff(x)\n",
    "\n",
    "x = x[0 : N-1]\n",
    "y = y[0 : N-1]"
   ]
  },
  {
   "cell_type": "code",
   "execution_count": 3,
   "metadata": {},
   "outputs": [
    {
     "data": {
      "text/plain": [
       "((99,), (99,), (99,))"
      ]
     },
     "execution_count": 3,
     "metadata": {},
     "output_type": "execute_result"
    }
   ],
   "source": [
    "x.shape, y.shape, dydx.shape"
   ]
  },
  {
   "cell_type": "code",
   "execution_count": 4,
   "metadata": {},
   "outputs": [
    {
     "data": {
      "text/plain": [
       "<matplotlib.axes._subplots.AxesSubplot at 0x10326fc18>"
      ]
     },
     "execution_count": 4,
     "metadata": {},
     "output_type": "execute_result"
    },
    {
     "data": {
      "image/png": "[encoded data removed]",
      "text/plain": [
       "<Figure size 432x288 with 1 Axes>"
      ]
     },
     "metadata": {
      "needs_background": "light"
     },
     "output_type": "display_data"
    }
   ],
   "source": [
    "sns.scatterplot(x, y)\n",
    "sns.scatterplot(x, dydx)"
   ]
  },
  {
   "cell_type": "markdown",
   "metadata": {},
   "source": [
    "### Question\n",
    "\n",
    "* Calcuate $\\frac{d}{dx} (2x^3 + x^2 + 10)$ at $x=0$\n",
    "\n",
    "* Plot $x^3$ and its derivative "
   ]
  },
  {
   "cell_type": "markdown",
   "metadata": {},
   "source": [
    "## Part 3: Minimization"
   ]
  },
  {
   "cell_type": "code",
   "execution_count": 35,
   "metadata": {},
   "outputs": [
    {
     "data": {
      "text/plain": [
       "<matplotlib.axes._subplots.AxesSubplot at 0x1a0a43d278>"
      ]
     },
     "execution_count": 35,
     "metadata": {},
     "output_type": "execute_result"
    },
    {
     "data": {
      "image/png": "[encoded data removed]",
      "text/plain": [
       "<Figure size 432x288 with 1 Axes>"
      ]
     },
     "metadata": {
      "needs_background": "light"
     },
     "output_type": "display_data"
    }
   ],
   "source": [
    "def gradient_descent(f, x, iterations=100, rate=0.1):\n",
    "    history = []\n",
    "    for _ in range(iterations):\n",
    "        history.append(x)\n",
    "        \n",
    "        x = x - rate * ddx(f, x)\n",
    "        \n",
    "    return np.array(history)\n",
    "        \n",
    "def h(x):\n",
    "    return x ** 2\n",
    "\n",
    "x = np.linspace(-100, 100, 100)\n",
    "steps = gradient_descent(h, -100)\n",
    "\n",
    "sns.lineplot(x, h(x))\n",
    "sns.scatterplot(steps, h(steps), color=\"red\")"
   ]
  },
  {
   "cell_type": "markdown",
   "metadata": {},
   "source": [
    "### Question\n",
    "\n",
    "* Run gradient descent on $x^3$ plotting its steps\n",
    "* HINT: consider only the range -1 to 1 in x\n",
    "\n",
    "* What happens if you start GD at 100?"
   ]
  }
 ],
 "metadata": {
  "kernelspec": {
   "display_name": "Python 3",
   "language": "python",
   "name": "python3"
  },
  "language_info": {
   "codemirror_mode": {
    "name": "ipython",
    "version": 3
   },
   "file_extension": ".py",
   "mimetype": "text/x-python",
   "name": "python",
   "nbconvert_exporter": "python",
   "pygments_lexer": "ipython3",
   "version": "3.7.3"
  }
 },
 "nbformat": 4,
 "nbformat_minor": 4
}
