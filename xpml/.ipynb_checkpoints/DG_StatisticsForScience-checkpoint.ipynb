{
 "cells": [
  {
   "cell_type": "markdown",
   "metadata": {},
   "source": [
    "# Hypothesis Testing: Solution"
   ]
  },
  {
   "cell_type": "markdown",
   "metadata": {},
   "source": [
    "## Exercise 1"
   ]
  },
  {
   "cell_type": "markdown",
   "metadata": {},
   "source": [
    "The local newspaper reported: Average debt of local university graduates is £3262.\n",
    "\n",
    "You think that local university gradautes have smaller debt balances.\n",
    "\n",
    "You conduct a study of 50 randomly selected local university graduates, and find the average debt is £2995.\n",
    "\n",
    "You also find that the population standard deviation is £1100.\n",
    "\n",
    "Is your opinion supported by the study conducted, at a 0.05 level of significance?"
   ]
  },
  {
   "cell_type": "markdown",
   "metadata": {},
   "source": [
    "### 🧐 Formulate Hypothesis"
   ]
  },
  {
   "cell_type": "markdown",
   "metadata": {},
   "source": [
    "$H_{0}$: $mu=3262$\n",
    "\n",
    "$H_{1}$: $mu<3262$, **i.e. we have a One Tailed Test**"
   ]
  },
  {
   "cell_type": "markdown",
   "metadata": {},
   "source": [
    "### 🧐 Set $\\alpha$"
   ]
  },
  {
   "cell_type": "markdown",
   "metadata": {},
   "source": [
    "$\\alpha$ = 5% = 0.05"
   ]
  },
  {
   "cell_type": "markdown",
   "metadata": {},
   "source": [
    "### 🧐 Calculate the z Test Statistic"
   ]
  },
  {
   "cell_type": "code",
   "execution_count": 1,
   "metadata": {
    "collapsed": true,
    "jupyter": {
     "outputs_hidden": true
    }
   },
   "outputs": [],
   "source": [
    "xbar = 2995\n",
    "mu = 3262\n",
    "sd = 1100\n",
    "n = 50"
   ]
  },
  {
   "cell_type": "code",
   "execution_count": 2,
   "metadata": {},
   "outputs": [
    {
     "data": {
      "text/plain": [
       "-1.7163410052437107"
      ]
     },
     "execution_count": 2,
     "metadata": {},
     "output_type": "execute_result"
    }
   ],
   "source": [
    "import numpy as np\n",
    "z = (xbar - mu) / ( sd / np.sqrt(n) )\n",
    "z"
   ]
  },
  {
   "cell_type": "markdown",
   "metadata": {},
   "source": [
    "### 🧐 Calculate the \"p-value\""
   ]
  },
  {
   "cell_type": "code",
   "execution_count": 3,
   "metadata": {},
   "outputs": [
    {
     "data": {
      "text/plain": [
       "0.04304982368670932"
      ]
     },
     "execution_count": 3,
     "metadata": {},
     "output_type": "execute_result"
    }
   ],
   "source": [
    "import scipy.stats\n",
    "Phi_z = scipy.stats.norm.cdf(z)\n",
    "Phi_z"
   ]
  },
  {
   "cell_type": "code",
   "execution_count": 4,
   "metadata": {},
   "outputs": [
    {
     "data": {
      "text/plain": [
       "0.04304982368670932"
      ]
     },
     "execution_count": 4,
     "metadata": {},
     "output_type": "execute_result"
    }
   ],
   "source": [
    "pval = Phi_z\n",
    "pval"
   ]
  },
  {
   "cell_type": "markdown",
   "metadata": {},
   "source": [
    "### 🧐 Decision"
   ]
  },
  {
   "cell_type": "markdown",
   "metadata": {},
   "source": [
    "p-value < $\\alpha$ \n",
    "\n",
    "$\\therefore$ we reject the null hypothesis and infer that the local univeristy graduates debt is less than the reported average debt."
   ]
  },
  {
   "cell_type": "markdown",
   "metadata": {},
   "source": [
    "### Bonus Quesitons"
   ]
  },
  {
   "cell_type": "markdown",
   "metadata": {},
   "source": [
    "**What is the Critical Value?**"
   ]
  },
  {
   "cell_type": "code",
   "execution_count": 5,
   "metadata": {},
   "outputs": [
    {
     "data": {
      "text/plain": [
       "-1.6448536269514729"
      ]
     },
     "execution_count": 5,
     "metadata": {},
     "output_type": "execute_result"
    }
   ],
   "source": [
    "scipy.stats.norm.ppf(0.05)"
   ]
  },
  {
   "cell_type": "markdown",
   "metadata": {},
   "source": [
    "**Is our Test Statistic calculated above higher or lower than this Critical Value?**"
   ]
  },
  {
   "cell_type": "code",
   "execution_count": 6,
   "metadata": {},
   "outputs": [
    {
     "data": {
      "text/plain": [
       "True"
      ]
     },
     "execution_count": 6,
     "metadata": {},
     "output_type": "execute_result"
    }
   ],
   "source": [
    "z < scipy.stats.norm.ppf(0.05)"
   ]
  },
  {
   "cell_type": "markdown",
   "metadata": {},
   "source": [
    "**Is our Test Statistic in the Critical Region?**"
   ]
  },
  {
   "cell_type": "markdown",
   "metadata": {},
   "source": [
    "yes"
   ]
  },
  {
   "cell_type": "markdown",
   "metadata": {
    "jupyter": {
     "source_hidden": true
    }
   },
   "source": [
    "**Decision?**"
   ]
  },
  {
   "cell_type": "markdown",
   "metadata": {},
   "source": [
    "$\\therefore$ we reject the null hypothesis and infer that the local univeristy graduates debt is less than the reported average debt."
   ]
  },
  {
   "cell_type": "code",
   "execution_count": 2,
   "metadata": {
    "collapsed": true,
    "jupyter": {
     "outputs_hidden": true
    }
   },
   "outputs": [],
   "source": [
    "mu, sigma = 90, 15\n",
    "x = mu + sigma*np.random.randn(100000000)"
   ]
  },
  {
   "cell_type": "code",
   "execution_count": 3,
   "metadata": {
    "collapsed": true,
    "jupyter": {
     "outputs_hidden": true
    }
   },
   "outputs": [],
   "source": [
    "# the histogram of the data\n",
    "n, bins, patches = plt.hist(x, 50, normed=1, facecolor='green', alpha=0.75)"
   ]
  },
  {
   "cell_type": "code",
   "execution_count": 4,
   "metadata": {
    "collapsed": true,
    "jupyter": {
     "outputs_hidden": true
    }
   },
   "outputs": [],
   "source": [
    "# add a 'best fit' line\n",
    "y = mlab.normpdf( bins, mu, sigma)\n",
    "l = plt.plot(bins, y, 'r--', linewidth=1)"
   ]
  },
  {
   "cell_type": "code",
   "execution_count": 5,
   "metadata": {},
   "outputs": [
    {
     "data": {
      "image/png": "[encoded data removed]",
      "text/plain": [
       "<matplotlib.figure.Figure at 0x2a112c4a2b0>"
      ]
     },
     "metadata": {},
     "output_type": "display_data"
    }
   ],
   "source": [
    "plt.xlabel('Data')\n",
    "plt.ylabel('Probability')\n",
    "plt.title(r'$\\mathrm{Histogram:}\\ \\mu=90,\\ \\sigma=15$')\n",
    "plt.axis([20, 160, 0, 0.03])\n",
    "plt.grid(True)\n",
    "\n",
    "plt.show()"
   ]
  },
  {
   "cell_type": "markdown",
   "metadata": {},
   "source": [
    "#### Plotting the standard normal distribution "
   ]
  },
  {
   "cell_type": "code",
   "execution_count": 1,
   "metadata": {
    "collapsed": true,
    "jupyter": {
     "outputs_hidden": true
    }
   },
   "outputs": [],
   "source": [
    "import matplotlib.pyplot as plt # visualizing data\n",
    "import numpy as np              # fast descriptive stats\n",
    "from scipy.stats import norm    # scipy's normal distribution module"
   ]
  },
  {
   "cell_type": "code",
   "execution_count": 2,
   "metadata": {
    "collapsed": true,
    "jupyter": {
     "outputs_hidden": true
    }
   },
   "outputs": [],
   "source": [
    "fig = plt.figure(figsize=(10, 4))\n",
    "x = np.linspace(-4, 4, 101)\n",
    "y = norm.pdf(x)"
   ]
  },
  {
   "cell_type": "code",
   "execution_count": 3,
   "metadata": {},
   "outputs": [
    {
     "data": {
      "image/png": "[encoded data removed]",
      "text/plain": [
       "<matplotlib.figure.Figure at 0x21e508bff98>"
      ]
     },
     "metadata": {},
     "output_type": "display_data"
    }
   ],
   "source": [
    "ax = plt.subplot(111)\n",
    "ax.plot(x, y)\n",
    "ax.set_ylim(0, 0.5)\n",
    "plt.title(\"z-score\")\n",
    "plt.show()"
   ]
  },
  {
   "cell_type": "markdown",
   "metadata": {},
   "source": [
    "#### Understanding the standard normal distribution with Python"
   ]
  },
  {
   "cell_type": "markdown",
   "metadata": {},
   "source": [
    "* **scipy.stats.norm.cdf()**\n",
    "\n",
    "    * from \"x axis value\" to total probability of any x less than\n",
    "\n",
    "        * ** CDF ** of the standard normal distribution\n",
    "        * cdf = cumulative distribution function"
   ]
  },
  {
   "cell_type": "code",
   "execution_count": 4,
   "metadata": {},
   "outputs": [
    {
     "data": {
      "text/plain": [
       "0.025"
      ]
     },
     "execution_count": 4,
     "metadata": {},
     "output_type": "execute_result"
    }
   ],
   "source": [
    "round(norm.cdf(-1.96), 3)"
   ]
  },
  {
   "cell_type": "markdown",
   "metadata": {},
   "source": [
    "* **scipy.stats.norm.ppf()**\n",
    "\n",
    "    * from \"y prob %\" to x axis value via **norm.ppf()**\n",
    "\n",
    "        * ** inverse of the CDF ** of the standard normal distribution\n",
    "        * ppf = percent point function"
   ]
  },
  {
   "cell_type": "code",
   "execution_count": 5,
   "metadata": {},
   "outputs": [
    {
     "data": {
      "text/plain": [
       "-1.96"
      ]
     },
     "execution_count": 5,
     "metadata": {},
     "output_type": "execute_result"
    }
   ],
   "source": [
    "round(norm.ppf(0.025), 3)"
   ]
  },
  {
   "cell_type": "markdown",
   "metadata": {},
   "source": [
    "* **scipy.stats.norm.pdf()**\n",
    "\n",
    "    * from \"x axis value\" to the **value** of the pdf at that value\n",
    "    \n",
    "        * ** PDF ** of the standard normal distribution\n",
    "        * pdf = probability density function\n",
    "            * Technically, in statistics the \"pdf\" at any point is ZERO\n",
    "                * because the area under the distribution at any single value of x, will have an interval length of ZERO"
   ]
  },
  {
   "cell_type": "code",
   "execution_count": 6,
   "metadata": {},
   "outputs": [
    {
     "data": {
      "text/plain": [
       "0.058"
      ]
     },
     "execution_count": 6,
     "metadata": {},
     "output_type": "execute_result"
    }
   ],
   "source": [
    "round(norm.pdf(-1.96), 3)"
   ]
  },
  {
   "cell_type": "code",
   "execution_count": 7,
   "metadata": {},
   "outputs": [
    {
     "data": {
      "text/plain": [
       "0.058"
      ]
     },
     "execution_count": 7,
     "metadata": {},
     "output_type": "execute_result"
    }
   ],
   "source": [
    "# We can define a function to indicate what the above norm.pdf() is doing\n",
    "\n",
    "from math import pi, exp\n",
    "\n",
    "def normal_pdf(x, mu=0, sigma=1):\n",
    "    return 1.0 / (sigma * (2.0 * pi)**(1/2)) * exp(-1.0 * (x - mu)**2 / (2.0 * (sigma**2)))\n",
    "\n",
    "round(normal_pdf(-1.96), 3)"
   ]
  },
  {
   "cell_type": "markdown",
   "metadata": {},
   "source": [
    "* we can add the above three outputs to a plot of the standard normal distribution"
   ]
  },
  {
   "cell_type": "code",
   "execution_count": 8,
   "metadata": {},
   "outputs": [
    {
     "data": {
      "image/png": "[encoded data removed]",
      "text/plain": [
       "<matplotlib.figure.Figure at 0x21e52ab1390>"
      ]
     },
     "metadata": {},
     "output_type": "display_data"
    }
   ],
   "source": [
    "fig, ax = plt.subplots(1, 1)\n",
    "x = np.linspace(norm.ppf(0.01),\n",
    "                norm.ppf(0.99), 100)\n",
    "ax.plot(x, norm.pdf(x),\n",
    "       'purple', lw=2, alpha=0.8, label='norm pdf')\n",
    "plt.axvline(x=-1.96)          # from norm.ppf(0.025)\n",
    "plt.axhline(y=0.058)          # from norm.pdf(-1.96)\n",
    "plt.text(-2.35, 0.01, \"2.5%\") # from round(norm.cdf(-1.96), 3)\n",
    "plt.show()"
   ]
  },
  {
   "cell_type": "markdown",
   "metadata": {},
   "source": [
    "#### Highlight/Shade in the probability/area in tails of a standard normal distribution"
   ]
  },
  {
   "cell_type": "code",
   "execution_count": 9,
   "metadata": {
    "collapsed": true,
    "jupyter": {
     "outputs_hidden": true
    }
   },
   "outputs": [],
   "source": [
    "x = np.linspace(-4, 4, 101)\n",
    "y = norm.pdf(x)"
   ]
  },
  {
   "cell_type": "code",
   "execution_count": 10,
   "metadata": {
    "collapsed": true,
    "jupyter": {
     "outputs_hidden": true
    }
   },
   "outputs": [],
   "source": [
    "alpha_in_tail = 0.025                   # alpha = 5% split between two tails\n",
    "L_95pc  = x < norm.ppf(alpha_in_tail)   # any x values where the smaller than 0.025\n",
    "R_95pc  = x > norm.ppf(1-alpha_in_tail) # any x values greater than 1-0.025, i.e. 0.975"
   ]
  },
  {
   "cell_type": "code",
   "execution_count": 11,
   "metadata": {},
   "outputs": [
    {
     "data": {
      "text/plain": [
       "array([ True,  True,  True,  True,  True,  True,  True,  True,  True,\n",
       "        True,  True,  True,  True,  True,  True,  True,  True,  True,\n",
       "        True,  True,  True,  True,  True,  True,  True,  True, False,\n",
       "       False, False, False, False, False, False, False, False, False,\n",
       "       False, False, False, False, False, False, False, False, False,\n",
       "       False, False, False, False, False, False, False, False, False,\n",
       "       False, False, False, False, False, False, False, False, False,\n",
       "       False, False, False, False, False, False, False, False, False,\n",
       "       False, False, False, False, False, False, False, False, False,\n",
       "       False, False, False, False, False, False, False, False, False,\n",
       "       False, False, False, False, False, False, False, False, False,\n",
       "       False, False])"
      ]
     },
     "execution_count": 11,
     "metadata": {},
     "output_type": "execute_result"
    }
   ],
   "source": [
    "L_95pc # we have created boolean masking array"
   ]
  },
  {
   "cell_type": "code",
   "execution_count": 12,
   "metadata": {},
   "outputs": [
    {
     "data": {
      "text/plain": [
       "array([-4.  , -3.92, -3.84, -3.76, -3.68, -3.6 , -3.52, -3.44, -3.36,\n",
       "       -3.28, -3.2 , -3.12, -3.04, -2.96, -2.88, -2.8 , -2.72, -2.64,\n",
       "       -2.56, -2.48, -2.4 , -2.32, -2.24, -2.16, -2.08, -2.  ])"
      ]
     },
     "execution_count": 12,
     "metadata": {},
     "output_type": "execute_result"
    }
   ],
   "source": [
    "x[L_95pc] # apply masking to our x values"
   ]
  },
  {
   "cell_type": "markdown",
   "metadata": {},
   "source": [
    "#### Shade in 5% in tails of a standard normal distribution"
   ]
  },
  {
   "cell_type": "code",
   "execution_count": 13,
   "metadata": {},
   "outputs": [
    {
     "data": {
      "image/png": "[encoded data removed]",
      "text/plain": [
       "<matplotlib.figure.Figure at 0x21e52ac09e8>"
      ]
     },
     "metadata": {},
     "output_type": "display_data"
    }
   ],
   "source": [
    "ax = plt.subplot(111)\n",
    "ax.plot(x, y, c = 'purple')\n",
    "\n",
    "regions = [L_95pc, R_95pc]\n",
    "\n",
    "for region in regions:\n",
    "    \n",
    "    # Fill the area between two horizontal curves \n",
    "    ax.fill_between(\n",
    "        \n",
    "        # x coordinates of the nodes defining the curves\n",
    "        x[region],\n",
    "        # y coordinates of the nodes defining the first curve\n",
    "        np.zeros(sum(region)),\n",
    "        # y coordinates of the nodes defining the second curve\n",
    "        y[region],\n",
    "        \n",
    "        color='g', \n",
    "        alpha=0.3)\n",
    "\n",
    "ax.set_ylim(0, 0.5)\n",
    "plt.title(\"z-score: 2.5% in each tail\")\n",
    "plt.show()"
   ]
  },
  {
   "cell_type": "markdown",
   "metadata": {},
   "source": [
    "####  Shade in the \"regular\" tails of a standard normal distribution"
   ]
  },
  {
   "cell_type": "code",
   "execution_count": 14,
   "metadata": {
    "collapsed": true,
    "jupyter": {
     "outputs_hidden": true
    }
   },
   "outputs": [],
   "source": [
    "alpha_in_tail = 0.0125                   # alpha = 2.5% split between two tails\n",
    "L_975pc  = x < norm.ppf(alpha_in_tail)   # any x values smaller than 0.0125\n",
    "R_975pc  = x > norm.ppf(1-alpha_in_tail) # any x values greater than 1-0.1025, i.e. 0.9875\n",
    "\n",
    "alpha_in_tail = 0.005                   # alpha = 1% split between two tails\n",
    "L_99pc  = x < norm.ppf(alpha_in_tail)   # any x values smaller than 0.005\n",
    "R_99pc  = x > norm.ppf(1-alpha_in_tail) # any x values greater than 1-0.005, i.e. 0.995"
   ]
  },
  {
   "cell_type": "code",
   "execution_count": 15,
   "metadata": {},
   "outputs": [
    {
     "data": {
      "image/png": "[encoded data removed]",
      "text/plain": [
       "<matplotlib.figure.Figure at 0x21e52b3c630>"
      ]
     },
     "metadata": {},
     "output_type": "display_data"
    }
   ],
   "source": [
    "ax = plt.subplot(111)\n",
    "ax.plot(x, y, 'purple')\n",
    "\n",
    "regions = [L_95pc, R_95pc,\n",
    "         L_975pc, R_975pc,\n",
    "         L_99pc, R_99pc]\n",
    "\n",
    "for region in regions:\n",
    "    # Fill the area between two horizontal curves \n",
    "    ax.fill_between(x[region], # x coordinates of the nodes defining the curves\n",
    "                    np.zeros(sum(region)), # y coordinates of the nodes defining the first curve.\n",
    "                    y[region], # The y coordinates of the nodes defining the second curve\n",
    "                    color='g', \n",
    "                    alpha=0.3)\n",
    "\n",
    "ax.set_ylim(0, 0.5)\n",
    "plt.title(\"z-score: tails: 5% (i.e. 95% non shaded), 2.5% (i.e. 97.5% unshaded), 1% (i.e. 99% clear)\")\n",
    "plt.show()"
   ]
  },
  {
   "cell_type": "markdown",
   "metadata": {},
   "source": [
    "## Part 3: Hypothesis Testing"
   ]
  },
  {
   "cell_type": "markdown",
   "metadata": {},
   "source": [
    "* Formulating a Hypothesis\n",
    "* Confidence Intervals\n",
    "* Z-Scores"
   ]
  },
  {
   "cell_type": "markdown",
   "metadata": {},
   "source": [
    "## Performing a **$z$-test**"
   ]
  },
  {
   "cell_type": "markdown",
   "metadata": {},
   "source": [
    "### simple example: coin tossing"
   ]
  },
  {
   "cell_type": "markdown",
   "metadata": {},
   "source": [
    "1. flip a coin $n$ times\n",
    "2. observe $h$ heads\n",
    "3. want to know is this a fair coin?"
   ]
  },
  {
   "cell_type": "markdown",
   "metadata": {},
   "source": [
    "Model each coin flip as an independent random variable, $x_i$, that follows the Bernoulli distribution."
   ]
  },
  {
   "cell_type": "markdown",
   "metadata": {},
   "source": [
    "#### What is the Bernoulli distribution?"
   ]
  },
  {
   "cell_type": "markdown",
   "metadata": {},
   "source": [
    "The **Bernoulli distribution** is the discrete probability distribution of a random variable, $X$, which takes a boolean-valued outcome:\n",
    "    \n",
    "   - 1 (represent \"heads\") with probability $Pr(X=1)=p$, and \n",
    "   - 0 (represent \"tails\") with probability $Pr(X=0)=q=1-p$\n",
    "   \n",
    "The \"parameters\" of a Bernoulli distribution are:\n",
    "\n",
    "$0 \\leq p\\leq 1$\n",
    "\n",
    "$q=1-p$\n",
    "\n",
    "The mean is:\n",
    "\n",
    "$\\mu=E(X)=p$\n",
    "\n",
    "Proof:\n",
    "\n",
    "$E[X]=\\Pr(X=1)\\cdot 1+\\Pr(X=0)\\cdot 0=p\\cdot 1+q\\cdot 0=p$\n",
    "\n",
    "The variance is:\n",
    "\n",
    "$\\sigma^2=V(X)=pq$\n",
    "\n",
    "Proof:\n",
    "\n",
    "$E[X^{2}]=\\Pr(X=1)\\cdot 1^{2}+\\Pr(X=0)\\cdot 0^{2}=p\\cdot 1^{2}+q\\cdot 0^{2}=p$\n",
    "\n",
    "$V[X]=E[X^{2}]-E[X]^{2}=p-p^{2}=p(1-p)=pq$"
   ]
  },
  {
   "cell_type": "markdown",
   "metadata": {},
   "source": [
    "#### Visualise is the Bernoulli distribution"
   ]
  },
  {
   "cell_type": "code",
   "execution_count": 1,
   "metadata": {},
   "outputs": [
    {
     "data": {
      "image/png": "[encoded data removed]",
      "text/plain": [
       "<matplotlib.figure.Figure at 0x186949b2400>"
      ]
     },
     "metadata": {},
     "output_type": "display_data"
    },
    {
     "data": {
      "text/plain": [
       "array([1, 0, 1, 1, 1, 0, 0, 0, 1, 0])"
      ]
     },
     "execution_count": 1,
     "metadata": {},
     "output_type": "execute_result"
    }
   ],
   "source": [
    "# 10 coin tosses\n",
    "from scipy.stats import bernoulli\n",
    "coins = bernoulli.rvs(size=10,p=0.5)\n",
    "\n",
    "# display the outcomes of the 10 coin tosses\n",
    "import matplotlib.pyplot as plt\n",
    "fig, ax = plt.subplots()\n",
    "plt.hist(coins)\n",
    "plt.title('Example of 10 coin tosses, two possible outcomes')\n",
    "plt.ylabel('Number of coin tosses')\n",
    "plt.xlabel('Bernoulli Distribution')\n",
    "plt.xticks([0,1])\n",
    "labels = [item.get_text() for item in ax.get_xticklabels()]\n",
    "labels[0] = 'Tails'\n",
    "labels[1] = 'Heads'\n",
    "ax.set_xticklabels(labels)\n",
    "\n",
    "plt.show() # see the coin tosses outcomes as a histogram\n",
    "\n",
    "coins # see the coin tosses outcomes as series of zeros and ones"
   ]
  },
  {
   "cell_type": "markdown",
   "metadata": {},
   "source": [
    "### 🧐 Formulate Hypothesis\n",
    "\n",
    "$H_{0}$: the coin is fair, i.e. $p=1/2$\n",
    "\n",
    "$H_{1}$: the coin is not fair, **i.e. we have a Two Tailed Test**"
   ]
  },
  {
   "cell_type": "markdown",
   "metadata": {},
   "source": [
    "### 🧐 Set $\\alpha$\n",
    "\n",
    "$\\alpha$ = 5% = 0.05"
   ]
  },
  {
   "cell_type": "markdown",
   "metadata": {},
   "source": [
    "### 🧐 Collect Data\n",
    "\n",
    "1. flip the coin 1000 times, $n$\n",
    "2. count the number of heads, $h$"
   ]
  },
  {
   "cell_type": "code",
   "execution_count": 2,
   "metadata": {
    "collapsed": true,
    "jupyter": {
     "outputs_hidden": true
    }
   },
   "outputs": [],
   "source": [
    "# import Python libraries\n",
    "\n",
    "import numpy as np   # fast and efficient operations\n",
    "import scipy.stats   # statistical functions"
   ]
  },
  {
   "cell_type": "code",
   "execution_count": 3,
   "metadata": {
    "collapsed": true,
    "jupyter": {
     "outputs_hidden": true
    }
   },
   "outputs": [],
   "source": [
    "# input collected data\n",
    "\n",
    "n = 1000  # number of coin flips\n",
    "h = 600  # number of heads seen\n",
    "p = 0.5  # null-hypothesis of fair coin"
   ]
  },
  {
   "cell_type": "markdown",
   "metadata": {},
   "source": [
    "calculate the **sample mean** of the distribution\n",
    "\n",
    "$\n",
    "\\begin{align}\n",
    "\\overline x = \\sum_i \\frac{x_i}{n} = \\frac{1}{n} \\sum_i x_i = \\frac{1}{n} \\cdot h\n",
    "\\end{align}\n",
    "$"
   ]
  },
  {
   "cell_type": "code",
   "execution_count": 4,
   "metadata": {},
   "outputs": [
    {
     "data": {
      "text/plain": [
       "0.6"
      ]
     },
     "execution_count": 4,
     "metadata": {},
     "output_type": "execute_result"
    }
   ],
   "source": [
    "xbar = (1 / n) * h\n",
    "xbar"
   ]
  },
  {
   "cell_type": "markdown",
   "metadata": {},
   "source": [
    "### 🧐 Calculate the z Test Statistic"
   ]
  },
  {
   "cell_type": "markdown",
   "metadata": {},
   "source": [
    "1) remove the mean, which is:\n",
    "\n",
    "$\n",
    "\\begin{align}\n",
    "E[\\overline x] = \\mu_0 = p^{Bernoulli}\n",
    "\\end{align}\n",
    "$\n",
    "\n",
    "2) divide by the standard devation, which is:\n",
    "\n",
    "$\n",
    "\\begin{align}\n",
    "\\sqrt{V(\\overline x)} = \\sqrt{\\frac{\\sigma^2}{n}} = \\frac{\\sigma}{\\sqrt{n}} = \\frac{\\sqrt{p^{Bernoulli}(1-p^{Bernoulli})}}{\\sqrt{n}} = \\sqrt{\\frac{p^{Bernoulli}(1-p^{Bernoulli})}{n}}\n",
    "\\end{align}\n",
    "$\n",
    "\n",
    "i.e. calculate $z$:\n",
    "\n",
    "$\n",
    "\\begin{align}\n",
    "z = \\frac{\\overline x - \\mu_0}{\\frac{\\sigma}{\\sqrt{n}}} = \\frac{(\\overline x - p^{Bernoulli})}{ \\sqrt{\\frac{p^{Bernoulli}(1-p^{Bernoulli})}{n}}} = (\\overline x - p^{Bernoulli}) \\sqrt{\\frac{n}{p^{Bernoulli}(1-p^{Bernoulli})}}\n",
    "\\end{align}\n",
    "$"
   ]
  },
  {
   "cell_type": "code",
   "execution_count": 5,
   "metadata": {},
   "outputs": [
    {
     "data": {
      "text/plain": [
       "6.324555320336757"
      ]
     },
     "execution_count": 5,
     "metadata": {},
     "output_type": "execute_result"
    }
   ],
   "source": [
    "z = (xbar - p) * np.sqrt(n / (p * (1 - p)))\n",
    "z"
   ]
  },
  {
   "cell_type": "code",
   "execution_count": null,
   "metadata": {
    "collapsed": true,
    "jupyter": {
     "outputs_hidden": true
    }
   },
   "outputs": [],
   "source": []
  },
  {
   "cell_type": "markdown",
   "metadata": {},
   "source": [
    "### 🧐 Calculate the \"p-value\"\n",
    "(utilising the library \"scipy.stats\")\n",
    "\n",
    "$p = P[|z|>z_0] = 2P[z>z_0]$\n",
    "\n",
    "Technically, according to the central limit theorem, the z-test approximately follows a standard Gaussian distribution $N(0,1)$ for large $n$.\n",
    "\n",
    "$2P[z>z_0] \\simeq 2(1-\\Phi(z_0))$"
   ]
  },
  {
   "cell_type": "code",
   "execution_count": 6,
   "metadata": {},
   "outputs": [
    {
     "data": {
      "text/plain": [
       "0.9999999998730186"
      ]
     },
     "execution_count": 6,
     "metadata": {},
     "output_type": "execute_result"
    }
   ],
   "source": [
    "Phi_z = scipy.stats.norm.cdf(z)\n",
    "Phi_z"
   ]
  },
  {
   "cell_type": "code",
   "execution_count": 7,
   "metadata": {},
   "outputs": [
    {
     "data": {
      "text/plain": [
       "2.539628507491898e-10"
      ]
     },
     "execution_count": 7,
     "metadata": {},
     "output_type": "execute_result"
    }
   ],
   "source": [
    "pval = 2 * (1 - Phi_z)\n",
    "pval"
   ]
  },
  {
   "cell_type": "markdown",
   "metadata": {},
   "source": [
    "### 🧐 Decision\n",
    "\n",
    "p-value < $\\alpha$ \n",
    "\n",
    "$\\therefore$ we reject the null hypothesis and infer that the coin is biased"
   ]
  },
  {
   "cell_type": "markdown",
   "metadata": {},
   "source": [
    "### ⛅️ illustrate the z Test Statistic and the p-value"
   ]
  },
  {
   "cell_type": "code",
   "execution_count": 8,
   "metadata": {},
   "outputs": [
    {
     "data": {
      "image/png": "[encoded data removed]",
      "text/plain": [
       "<matplotlib.figure.Figure at 0x1869e634ac8>"
      ]
     },
     "metadata": {},
     "output_type": "display_data"
    }
   ],
   "source": [
    "import matplotlib.pyplot as plt\n",
    "\n",
    "z1 = -1.96\n",
    "z2 = +1.96\n",
    "z = np.arange(z1, z2, 0.001)\n",
    "z_all = np.arange(-10, 10, 0.001)\n",
    "y = scipy.stats.norm.pdf(z,0,1) # i.e. probability\n",
    "y2 = scipy.stats.norm.pdf(z_all,0,1) # i.e. probability\n",
    "\n",
    "# build plot\n",
    "fig, ax = plt.subplots(figsize=(9,6))\n",
    "ax.plot(z_all,y2)\n",
    "\n",
    "ax.fill_between(z,y,0, alpha=0.3, color='g')\n",
    "ax.fill_between(z_all,y2,0, alpha=0.3, color='r')\n",
    "ax.set_xlim([-7,7])\n",
    "\n",
    "z_ticks = [-2,-1,0,1,2, 6.3]\n",
    "mus = [r'-2$\\sigma$',r'-1$\\sigma$',r'$\\mu=0$',r'+1$\\sigma$',r'+2$\\sigma$', 6.3]\n",
    "ax.set_xticks(z_ticks)\n",
    "ax.set_xticklabels(mus)\n",
    "\n",
    "ax.set_yticklabels([])\n",
    "ax.set_title('Standard Normal Curve')\n",
    "\n",
    "plt.show()"
   ]
  },
  {
   "cell_type": "markdown",
   "metadata": {},
   "source": [
    "### ☀️ Understand the above illustration"
   ]
  },
  {
   "cell_type": "code",
   "execution_count": 9,
   "metadata": {},
   "outputs": [
    {
     "data": {
      "text/plain": [
       "False"
      ]
     },
     "execution_count": 9,
     "metadata": {},
     "output_type": "execute_result"
    }
   ],
   "source": [
    "# Repeat the major lines of code with 505 heads instead of 600\n",
    "h = 505\n",
    "xbar = (1 / n) * h\n",
    "z = (xbar - p) * np.sqrt(n / (p * (1 - p)))\n",
    "Phi_z = scipy.stats.norm.cdf(z)\n",
    "pval = 2 * (1 - Phi_z)\n",
    "pval < 0.05"
   ]
  },
  {
   "cell_type": "markdown",
   "metadata": {},
   "source": [
    "$\\therefore$ we FAIL reject the null hypothesis and infer that the coin is fair"
   ]
  },
  {
   "cell_type": "code",
   "execution_count": 10,
   "metadata": {},
   "outputs": [
    {
     "data": {
      "text/plain": [
       "False"
      ]
     },
     "execution_count": 10,
     "metadata": {},
     "output_type": "execute_result"
    }
   ],
   "source": [
    "# Repeat the major lines of code with 515 \"heads\" instead of 600\n",
    "h = 515\n",
    "xbar = (1 / n) * h\n",
    "z = (xbar - p) * np.sqrt(n / (p * (1 - p)))\n",
    "Phi_z = scipy.stats.norm.cdf(z)\n",
    "pval = 2 * (1 - Phi_z)\n",
    "pval < 0.05"
   ]
  },
  {
   "cell_type": "markdown",
   "metadata": {},
   "source": [
    "$\\therefore$ we FAIL reject the null hypothesis and infer that the coin is fair"
   ]
  },
  {
   "cell_type": "code",
   "execution_count": 11,
   "metadata": {},
   "outputs": [
    {
     "data": {
      "text/plain": [
       "array([500, 510, 520, 530, 540, 550, 560, 570, 580, 590])"
      ]
     },
     "execution_count": 11,
     "metadata": {},
     "output_type": "execute_result"
    }
   ],
   "source": [
    "# now we consider a range of \"heads\" (a range from 500 to 600)\n",
    "h = np.arange(500,600,10)\n",
    "h"
   ]
  },
  {
   "cell_type": "code",
   "execution_count": 12,
   "metadata": {},
   "outputs": [
    {
     "data": {
      "text/plain": [
       "array([False, False, False, False,  True,  True,  True,  True,  True,\n",
       "        True])"
      ]
     },
     "execution_count": 12,
     "metadata": {},
     "output_type": "execute_result"
    }
   ],
   "source": [
    "# Repeat the major lines of code with the range of \"heads\" instead of 600\n",
    "xbar = (1 / n) * h\n",
    "z = (xbar - p) * np.sqrt(n / (p * (1 - p)))\n",
    "Phi_z = scipy.stats.norm.cdf(z)\n",
    "pval = 2 * (1 - Phi_z)\n",
    "pval < 0.05"
   ]
  },
  {
   "cell_type": "markdown",
   "metadata": {},
   "source": [
    "=> if we experience up to 530 heads out of 1000 coin tosses, then we infer that the coin is fair"
   ]
  },
  {
   "cell_type": "code",
   "execution_count": null,
   "metadata": {
    "collapsed": true,
    "jupyter": {
     "outputs_hidden": true
    }
   },
   "outputs": [],
   "source": []
  },
  {
   "cell_type": "markdown",
   "metadata": {},
   "source": [
    "### 🌂Understand the Errors"
   ]
  },
  {
   "cell_type": "markdown",
   "metadata": {},
   "source": [
    "### 🦔 Type II Error"
   ]
  },
  {
   "cell_type": "markdown",
   "metadata": {},
   "source": [
    "We **reject** the null hypothesis when it is in fact **true**\n",
    "\n",
    "Example: Test the fairness of a coin\n",
    "\n",
    "$H_{0}$: the coin is fair, i.e. $p=1/2$\n",
    "\n",
    "$H_{1}$: the coin is not fair\n",
    "\n",
    "This time we test a sample of 10 coin tosses."
   ]
  },
  {
   "cell_type": "markdown",
   "metadata": {},
   "source": [
    "* if h = 5, then we fail to reject the null hypothesis, and infer that the *coin is fair*\n",
    "* if h = 6, then we fail to reject the null hypothesis, and infer that the *coin is fair*\n",
    "* if h = 7, then we fail to reject the null hypothesis, and infer that the *coin is fair*\n",
    "* if h = 8, then we fail to reject the null hypothesis, and infer that the **coin is fair**?\n",
    "* if h = 9, then we fail to reject the null hypothesis, and infer that the **coin is fair??**\n",
    "* if h = 10, then we fail to reject the null hypothesis, and infer that the **coin is fair???**\n",
    "\n",
    "i.e. if 8 or more tosses of a fair coin turn up heads, then we would reject the null hypothesis"
   ]
  },
  {
   "cell_type": "markdown",
   "metadata": {},
   "source": [
    "How frequently will the fair coin give us 8 or more heads in 10 tosses? i.e. *repeating the test of flipping the coin 10 times*\n",
    "\n",
    "\\begin{equation*}\n",
    "P(h≥8 | P(heads)=0.5) = \\sum_{h=8}^{10} {10 \\choose h} (0.5)^h (0.5)^{10−h} = 0.05\n",
    "\\end{equation*}\n",
    "\n",
    "**5% of the time, we would conclude that the fair coin is unfair**\n",
    "\n",
    "(here we have utilised the probability mass function of a binomial distribution, which is the sum of independent and identically distributed Bernoulli random variables)"
   ]
  },
  {
   "cell_type": "markdown",
   "metadata": {},
   "source": [
    "The probability of a \"type I error\"\n",
    "\n",
    "**Interpretation**:\n",
    "\n",
    "fraction of times we would end up rejecting the null hypothesis, even though it is **actually true**,\n",
    "\n",
    "given that we were to repeat our test using our rejection criterion **a very large number of times**\n",
    "\n",
    "We want this to be LOW, hence we set this to 5% in advance, and call this $\\alpha$"
   ]
  },
  {
   "cell_type": "markdown",
   "metadata": {},
   "source": [
    "### 🍄 Type II Error"
   ]
  },
  {
   "cell_type": "markdown",
   "metadata": {},
   "source": [
    "We **fail to reject** the null hypothesis when it is in fact **false**\n",
    "\n",
    "Example: Test the fairness of a coin\n",
    "\n",
    "$H_{0}$: the coin is fair, i.e. $p=1/2$\n",
    "\n",
    "$H_{1}$: the coin is not fair\n",
    "\n",
    "This time we test a sample of 10 coin tosses."
   ]
  },
  {
   "cell_type": "markdown",
   "metadata": {},
   "source": [
    "We suspect the coin is biased, with Probability of Heads = 0.7\n",
    "\n",
    "From above, we recall that our test infers that the *coin is fair* when we have less than 8 heads\n",
    "\n",
    "* if h = 5, then we fail to reject the null hypothesis, and infer that the *coin is fair*\n",
    "* if h = 6, then we fail to reject the null hypothesis, and infer that the *coin is fair*\n",
    "* if h = 7, then we fail to reject the null hypothesis, and infer that the *coin is fair*\n",
    "* if h = 8, then we fail to reject the null hypothesis, and infer that the **coin is fair**?\n",
    "* if h = 9, then we fail to reject the null hypothesis, and infer that the **coin is fair??**\n",
    "* if h = 10, then we fail to reject the null hypothesis, and infer that the **coin is fair???**\n",
    "\n",
    "i.e. if 7 or less tosses of our biased coin turn up heads, then we would fail to reject the null hypothesis, and infer that the *coin is fair*, when it is biased"
   ]
  },
  {
   "cell_type": "markdown",
   "metadata": {},
   "source": [
    "How frequently will the biased coin give us 7 or less heads in 10 tosses? i.e. *repeating the test of flipping the coin 10 times*\n",
    "\n",
    "\\begin{equation*}\n",
    "P(h<8 | P(heads)=0.7) = \\sum_{h=0}^{7} {10 \\choose h} (0.3)^h (0.7)^{10−h} = 0.62\n",
    "\\end{equation*}\n",
    "\n",
    "**62% of the time, we would conclude that this biased coin is fair**"
   ]
  },
  {
   "cell_type": "markdown",
   "metadata": {},
   "source": [
    "The probability of a \"type II error\"\n",
    "\n",
    "**Interpretation**: \n",
    "\n",
    "fraction of times we would end up failing to reject the null hypothesis, even though it is **actually false**,\n",
    "\n",
    "given that we were to repeat our test using our rejection criterion **a very large number of times**\n",
    "\n",
    "To calculate $P(Type\\; 2\\; Error | H_a) = \\beta$ we require the TRUE value of the parameter in the Null Hypothesis, as this is not normally possible, $\\beta$ cannot be known"
   ]
  },
  {
   "cell_type": "code",
   "execution_count": null,
   "metadata": {
    "collapsed": true,
    "jupyter": {
     "outputs_hidden": true
    }
   },
   "outputs": [],
   "source": []
  },
  {
   "cell_type": "code",
   "execution_count": 13,
   "metadata": {},
   "outputs": [
    {
     "data": {
      "image/png": "[encoded data removed]",
      "text/plain": [
       "<matplotlib.figure.Figure at 0x1869f8332b0>"
      ]
     },
     "metadata": {},
     "output_type": "display_data"
    }
   ],
   "source": [
    "plt.figure(figsize=(12,12))\n",
    "\n",
    "plt.text(x=-1, y=0.2, s= \"Null Hypothesis\")\n",
    "x_filler = np.arange(-1.96,+1.96,0.01)\n",
    "plt.fill_between(x  = x_filler, \n",
    "                 y1 = scipy.stats.norm.pdf(x_filler),\n",
    "                 facecolor='grey')\n",
    "\n",
    "plt.text(x=2, y=0.1, s= \"Alternative Hypothesis\")\n",
    "x_filler = np.arange(+1.96,12,0.01)\n",
    "plt.fill_between(x  = x_filler, \n",
    "                 y1 = scipy.stats.norm.pdf(x_filler,loc=3, scale=2.5),\n",
    "                 facecolor='grey',\n",
    "                 alpha=0.5)\n",
    "\n",
    "plt.text(x=2.2, y=0.003, s= \"Type I Error\", color='darkblue')\n",
    "x_filler_Type_1_Error = np.arange(-4,-1.96,0.01)\n",
    "plt.fill_between(x  = x_filler_Type_1_Error, \n",
    "                 y1 = scipy.stats.norm.pdf(x_filler_Type_1_Error) ,\n",
    "                 facecolor='r')\n",
    "\n",
    "plt.text(x=-3.5, y=0.003, s= \"Type I Error\", color='white')\n",
    "x_filler_Type_1_Error_right = np.arange(+1.96,+4,0.01)\n",
    "plt.fill_between(x  = x_filler_Type_1_Error_right, \n",
    "                 y1 = scipy.stats.norm.pdf(x_filler_Type_1_Error_right) ,\n",
    "                 facecolor='r')\n",
    "\n",
    "plt.text(x=-0.5, y=0.03, s= \"Type II Error\")\n",
    "x_filler_Type_II_Error_left = np.arange(-2,2,0.01)\n",
    "plt.fill_between(x  = x_filler_Type_II_Error_left, \n",
    "                 y1 = scipy.stats.norm.pdf(x_filler_Type_II_Error_left,\n",
    "                                          loc=3,\n",
    "                                          scale=2.5) ,\n",
    "                 facecolor='pink', alpha = 0.5)\n",
    "x_filler_Type_II_Error_right = np.arange(-4,-2,0.01)\n",
    "plt.fill_between(x  = x_filler_Type_II_Error_right, \n",
    "                 y1 = scipy.stats.norm.pdf(x_filler_Type_II_Error_right,\n",
    "                                          loc=3,\n",
    "                                          scale=2.5) ,\n",
    "                 facecolor='purple')\n",
    "\n",
    "plt.show()"
   ]
  },
  {
   "cell_type": "code",
   "execution_count": null,
   "metadata": {
    "collapsed": true,
    "jupyter": {
     "outputs_hidden": true
    }
   },
   "outputs": [],
   "source": []
  },
  {
   "cell_type": "markdown",
   "metadata": {},
   "source": [
    "### Exercise"
   ]
  },
  {
   "cell_type": "markdown",
   "metadata": {},
   "source": [
    "The local newspaper reported: Average debt of local university graduates is £3262.\n",
    "\n",
    "You think that local university gradautes have smaller debt balances.\n",
    "\n",
    "You conduct a study of 50 randomly selected local university graduates, and find the average debt is £2995.\n",
    "\n",
    "You also find that the population standard deviation is £1100.\n",
    "\n",
    "Is your opinion supported by the study conducted, at a 0.05 level of significance?"
   ]
  },
  {
   "cell_type": "markdown",
   "metadata": {},
   "source": [
    "### 🧐 Formulate Hypothesis"
   ]
  },
  {
   "cell_type": "markdown",
   "metadata": {},
   "source": [
    "$H_{0}$: $mu=3262$\n",
    "\n",
    "$H_{1}$: $mu<3262$, **i.e. we have a One Tailed Test**"
   ]
  },
  {
   "cell_type": "markdown",
   "metadata": {},
   "source": [
    "### 🧐 Set $\\alpha$"
   ]
  },
  {
   "cell_type": "markdown",
   "metadata": {},
   "source": [
    "$\\alpha$ = 5% = 0.05"
   ]
  },
  {
   "cell_type": "markdown",
   "metadata": {},
   "source": [
    "### 🧐 Calculate the z Test Statistic"
   ]
  },
  {
   "cell_type": "code",
   "execution_count": 1,
   "metadata": {
    "collapsed": true,
    "jupyter": {
     "outputs_hidden": true
    }
   },
   "outputs": [],
   "source": [
    "xbar = 2995\n",
    "mu = 3262\n",
    "sd = 1100\n",
    "n = 50"
   ]
  },
  {
   "cell_type": "code",
   "execution_count": 2,
   "metadata": {},
   "outputs": [
    {
     "data": {
      "text/plain": [
       "-1.7163410052437107"
      ]
     },
     "execution_count": 2,
     "metadata": {},
     "output_type": "execute_result"
    }
   ],
   "source": [
    "import numpy as np\n",
    "z = (xbar - mu) / ( sd / np.sqrt(n) )\n",
    "z"
   ]
  },
  {
   "cell_type": "markdown",
   "metadata": {},
   "source": [
    "### 🧐 Calculate the \"p-value\""
   ]
  },
  {
   "cell_type": "code",
   "execution_count": 3,
   "metadata": {},
   "outputs": [
    {
     "data": {
      "text/plain": [
       "0.04304982368670932"
      ]
     },
     "execution_count": 3,
     "metadata": {},
     "output_type": "execute_result"
    }
   ],
   "source": [
    "import scipy.stats\n",
    "Phi_z = scipy.stats.norm.cdf(z)\n",
    "Phi_z"
   ]
  },
  {
   "cell_type": "code",
   "execution_count": 4,
   "metadata": {},
   "outputs": [
    {
     "data": {
      "text/plain": [
       "0.04304982368670932"
      ]
     },
     "execution_count": 4,
     "metadata": {},
     "output_type": "execute_result"
    }
   ],
   "source": [
    "pval = Phi_z\n",
    "pval"
   ]
  },
  {
   "cell_type": "markdown",
   "metadata": {},
   "source": [
    "### 🧐 Decision"
   ]
  },
  {
   "cell_type": "markdown",
   "metadata": {},
   "source": [
    "p-value < $\\alpha$ \n",
    "\n",
    "$\\therefore$ we reject the null hypothesis and infer that the local univeristy graduates debt is less than the reported average debt."
   ]
  },
  {
   "cell_type": "markdown",
   "metadata": {},
   "source": [
    "### Bonus Quesitons"
   ]
  },
  {
   "cell_type": "markdown",
   "metadata": {},
   "source": [
    "**What is the Critical Value?**"
   ]
  },
  {
   "cell_type": "code",
   "execution_count": 5,
   "metadata": {},
   "outputs": [
    {
     "data": {
      "text/plain": [
       "-1.6448536269514729"
      ]
     },
     "execution_count": 5,
     "metadata": {},
     "output_type": "execute_result"
    }
   ],
   "source": [
    "scipy.stats.norm.ppf(0.05)"
   ]
  },
  {
   "cell_type": "markdown",
   "metadata": {},
   "source": [
    "**Is our Test Statistic calculated above higher or lower than this Critical Value?**"
   ]
  },
  {
   "cell_type": "code",
   "execution_count": 6,
   "metadata": {},
   "outputs": [
    {
     "data": {
      "text/plain": [
       "True"
      ]
     },
     "execution_count": 6,
     "metadata": {},
     "output_type": "execute_result"
    }
   ],
   "source": [
    "z < scipy.stats.norm.ppf(0.05)"
   ]
  },
  {
   "cell_type": "markdown",
   "metadata": {},
   "source": [
    "**Is our Test Statistic in the Critical Region?**"
   ]
  },
  {
   "cell_type": "markdown",
   "metadata": {},
   "source": [
    "yes"
   ]
  },
  {
   "cell_type": "markdown",
   "metadata": {},
   "source": [
    "**Decision?**"
   ]
  },
  {
   "cell_type": "markdown",
   "metadata": {},
   "source": [
    "$\\therefore$ we reject the null hypothesis and infer that the local univeristy graduates debt is less than the reported average debt."
   ]
  },
  {
   "cell_type": "markdown",
   "metadata": {},
   "source": [
    "## Aside: Sampling"
   ]
  },
  {
   "cell_type": "markdown",
   "metadata": {},
   "source": [
    "## Create population data"
   ]
  },
  {
   "cell_type": "code",
   "execution_count": 1,
   "metadata": {
    "collapsed": true,
    "jupyter": {
     "outputs_hidden": true
    }
   },
   "outputs": [],
   "source": [
    "import matplotlib.pyplot as plt"
   ]
  },
  {
   "cell_type": "code",
   "execution_count": 2,
   "metadata": {},
   "outputs": [
    {
     "data": {
      "image/png": "[encoded data removed]",
      "text/plain": [
       "<matplotlib.figure.Figure at 0x1554df3e4a8>"
      ]
     },
     "metadata": {},
     "output_type": "display_data"
    }
   ],
   "source": [
    "from scipy.stats import norm\n",
    "population_normal = norm.rvs(size=10000,loc=90,scale=2)\n",
    "plt.hist(population_normal,100) # 100 bins\n",
    "plt.show()"
   ]
  },
  {
   "cell_type": "code",
   "execution_count": 3,
   "metadata": {},
   "outputs": [
    {
     "data": {
      "image/png": "[encoded data removed]",
      "text/plain": [
       "<matplotlib.figure.Figure at 0x155540b0c88>"
      ]
     },
     "metadata": {},
     "output_type": "display_data"
    }
   ],
   "source": [
    "from scipy.stats import gamma\n",
    "population_gamma = gamma.rvs(a=90, size=10000)\n",
    "plt.hist(population_gamma,100) # 100 bins\n",
    "plt.show()"
   ]
  },
  {
   "cell_type": "code",
   "execution_count": 4,
   "metadata": {},
   "outputs": [
    {
     "data": {
      "image/png": "[encoded data removed]",
      "text/plain": [
       "<matplotlib.figure.Figure at 0x1554df31c50>"
      ]
     },
     "metadata": {},
     "output_type": "display_data"
    }
   ],
   "source": [
    "from scipy.stats import expon\n",
    "population_exponential = expon.rvs(scale=2,loc=90,size=1000)\n",
    "plt.hist(population_exponential,100) # 100 bins\n",
    "plt.show()"
   ]
  },
  {
   "cell_type": "code",
   "execution_count": 5,
   "metadata": {},
   "outputs": [
    {
     "data": {
      "image/png": "[encoded data removed]",
      "text/plain": [
       "<matplotlib.figure.Figure at 0x15557e08da0>"
      ]
     },
     "metadata": {},
     "output_type": "display_data"
    }
   ],
   "source": [
    "from scipy.stats import poisson\n",
    "population_poisson = poisson.rvs(mu=90, size=10000)\n",
    "plt.hist(population_poisson,100) # 100 bins\n",
    "plt.show()"
   ]
  },
  {
   "cell_type": "code",
   "execution_count": 6,
   "metadata": {},
   "outputs": [
    {
     "data": {
      "image/png": "[encoded data removed]",
      "text/plain": [
       "<matplotlib.figure.Figure at 0x1554df31c88>"
      ]
     },
     "metadata": {},
     "output_type": "display_data"
    }
   ],
   "source": [
    "from scipy.stats import uniform\n",
    "population_uniform = uniform.rvs(loc=90, scale=2, size=10000)\n",
    "plt.hist(population_uniform,100) # 100 bins\n",
    "plt.show()"
   ]
  },
  {
   "cell_type": "markdown",
   "metadata": {},
   "source": [
    "## The sampling distribution of the sample mean is approximately Normal"
   ]
  },
  {
   "cell_type": "markdown",
   "metadata": {},
   "source": [
    "* A sampling distribution is a probability distribution of a statistic obtained through a large number of samples drawn from a specific population. \n",
    "\n",
    "* The sampling distribution of a given population is the distribution of frequencies of a range of different outcomes that could possibly occur for a statistic of a population."
   ]
  },
  {
   "cell_type": "markdown",
   "metadata": {},
   "source": [
    "The underlying population distribution does not matter, try samples from:\n",
    "* population_normal\n",
    "* population_gamma\n",
    "* population_exponential\n",
    "* population_poisson\n",
    "* population_uniform"
   ]
  },
  {
   "cell_type": "code",
   "execution_count": 7,
   "metadata": {},
   "outputs": [
    {
     "data": {
      "image/png": "[encoded data removed]",
      "text/plain": [
       "<matplotlib.figure.Figure at 0x155546d7e10>"
      ]
     },
     "metadata": {},
     "output_type": "display_data"
    },
    {
     "name": "stdout",
     "output_type": "stream",
     "text": [
      "the sample means have a mean of    91.00, whilst we know that population data had a mean of 90\n",
      "\n",
      "the sample means have a standard deviation of  0.10488180309374182\n",
      "\n",
      "   67.70 % is within one stanard deviation of the mean of the sample means\n",
      "\n",
      "   95.30 % is within two stanard deviations of the mean of the sample means\n",
      "\n",
      "  100.00 % is within three stanard deviations of the mean of the sample means\n"
     ]
    }
   ],
   "source": [
    "import numpy as np\n",
    "\n",
    "population_distribution = population_uniform\n",
    "\n",
    "sampleMeans = []\n",
    "for _ in range(1000):\n",
    "    samples = np.random.choice(population_distribution,30)\n",
    "    sampleMean = np.mean(samples)\n",
    "    sampleMeans.append(sampleMean)\n",
    "sampleMeans = np.array(sampleMeans)\n",
    "\n",
    "fig, axes= plt.subplots(nrows=1, ncols=2,figsize=(10,5))\n",
    "\n",
    "axes[0].hist(population_distribution,100) # 100 bins\n",
    "axes[0].set_title('population distribution')\n",
    "\n",
    "axes[1].hist(sampleMeans,50) # 50 bins\n",
    "axes[1].set_title('sample distribution of 1000 sample means')\n",
    "\n",
    "plt.show()\n",
    "\n",
    "mu = np.mean(sampleMeans)\n",
    "print(\"the sample means have a mean of {a:8.2f}, whilst we know that population data had a mean of 90\".format(a=mu))\n",
    "print(\"\")\n",
    "\n",
    "se = np.std(sampleMeans)\n",
    "print(\"the sample means have a standard deviation of \", se)\n",
    "print(\"\")\n",
    "\n",
    "within1sd = len(sampleMeans[(sampleMeans > mu - se) & (sampleMeans < mu + se)]) / len(sampleMeans)\n",
    "print(\"{a:8.2f} % is within one stanard deviation of the mean of the sample means\".format(a = 100*within1sd))\n",
    "print(\"\")\n",
    "\n",
    "within2sd = len(sampleMeans[(sampleMeans > mu - se*2) & (sampleMeans < mu + se*2)]) / len(sampleMeans)\n",
    "print(\"{a:8.2f} % is within two stanard deviations of the mean of the sample means\".format(a = 100*within2sd))\n",
    "print(\"\")\n",
    "\n",
    "within3sd = len(sampleMeans[(sampleMeans > mu - se*3) & (sampleMeans < mu + se*3)]) / len(sampleMeans)\n",
    "print(\"{a:8.2f} % is within three stanard deviations of the mean of the sample means\".format(a = 100*within3sd))"
   ]
  }
 ],
 "metadata": {
  "kernelspec": {
   "display_name": "Python 3.5",
   "language": "python",
   "name": "python3"
  },
  "language_info": {
   "codemirror_mode": {
    "name": "ipython",
    "version": 3
   },
   "file_extension": ".py",
   "mimetype": "text/x-python",
   "name": "python",
   "nbconvert_exporter": "python",
   "pygments_lexer": "ipython3",
   "version": "3.5.6"
  }
 },
 "nbformat": 4,
 "nbformat_minor": 4
}
