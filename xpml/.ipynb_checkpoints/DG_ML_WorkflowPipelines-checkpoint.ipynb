{
 "cells": [
  {
   "cell_type": "markdown",
   "metadata": {},
   "source": [
    "# Machine Learning: Workflows & Pipelines\n",
    "### For Data, Analytics & AI"
   ]
  },
  {
   "cell_type": "markdown",
   "metadata": {},
   "source": [
    "### Workflow"
   ]
  },
  {
   "cell_type": "markdown",
   "metadata": {},
   "source": [
    "### Pipelines"
   ]
  },
  {
   "cell_type": "markdown",
   "metadata": {},
   "source": [
    "<img src=\"seng-pipeline.png\" />"
   ]
  },
  {
   "cell_type": "markdown",
   "metadata": {},
   "source": [
    "## Exercise: Machine Learning Software Project\n",
    "\n",
    "* Goal:\n",
    "    * to create a reporducible software engineering project with a predictive deployment \n",
    "    * using the `pipeline` project as an example\n",
    "    \n",
    "* The project should include (vesionable) code for:\n",
    "    * data injestion\n",
    "    * data preparation\n",
    "    * modelling\n",
    "    * evaluaiton\n",
    "    * retraining and weight sharing\n",
    "    * model deployment (ie., weight import & prediction)\n",
    "\n",
    "* EXTRA:\n",
    "    * consider creating a user interface for prediction\n",
    "        * eg., use `input()` to obtain features, or an HTML form "
   ]
  },
  {
   "cell_type": "markdown",
   "metadata": {},
   "source": [
    "## Examples"
   ]
  },
  {
   "cell_type": "code",
   "execution_count": 6,
   "metadata": {},
   "outputs": [],
   "source": [
    "import numpy as np"
   ]
  },
  {
   "cell_type": "code",
   "execution_count": 7,
   "metadata": {
    "collapsed": true,
    "jupyter": {
     "outputs_hidden": true
    }
   },
   "outputs": [
    {
     "data": {
      "text/plain": [
       "[0,\n",
       " 0,\n",
       " 0,\n",
       " 0,\n",
       " 0,\n",
       " 0,\n",
       " 0,\n",
       " 0,\n",
       " 0,\n",
       " 0,\n",
       " 1,\n",
       " 1,\n",
       " 1,\n",
       " 1,\n",
       " 1,\n",
       " 1,\n",
       " 1,\n",
       " 1,\n",
       " 1,\n",
       " 1,\n",
       " 2,\n",
       " 2,\n",
       " 2,\n",
       " 2,\n",
       " 2,\n",
       " 2,\n",
       " 2,\n",
       " 2,\n",
       " 2,\n",
       " 2,\n",
       " 3,\n",
       " 3,\n",
       " 3,\n",
       " 3,\n",
       " 3,\n",
       " 3,\n",
       " 3,\n",
       " 3,\n",
       " 3,\n",
       " 3]"
      ]
     },
     "execution_count": 7,
     "metadata": {},
     "output_type": "execute_result"
    }
   ],
   "source": [
    "class_names = [\n",
    "    'light',\n",
    "    'arabian light',\n",
    "    'heavy',\n",
    "    'superlight'\n",
    "]\n",
    "\n",
    "y = [0] * 10 + [1] * 10 + [2] * 10 + [3] * 10\n",
    "\n",
    "y"
   ]
  },
  {
   "cell_type": "code",
   "execution_count": 10,
   "metadata": {},
   "outputs": [],
   "source": [
    "x1_light = np.random.normal(5, 3, 10) # dense\n",
    "x2_light = np.random.normal(65, 3, 10) # boil\n",
    "\n",
    "x1_alight = np.random.normal(10, 3, 10) # dense\n",
    "x2_alight = np.random.normal(60, 3, 10) # boil\n",
    "\n",
    "x1_heavy = np.random.normal(15, 3, 10) # dense\n",
    "x2_heavy = np.random.normal(80, 3, 10) # boil\n",
    "\n",
    "x1_slight = np.random.normal(2, 3, 10) # dense\n",
    "x2_slight = np.random.normal(50, 3, 10) # boil\n",
    "\n",
    "X = np.r_[\n",
    "    np.c_[x1_light, x2_light],\n",
    "    np.c_[x1_alight, x2_alight],\n",
    "    np.c_[x1_heavy, x2_heavy],\n",
    "    np.c_[x1_slight, x2_slight],\n",
    "]"
   ]
  },
  {
   "cell_type": "code",
   "execution_count": 13,
   "metadata": {
    "collapsed": true,
    "jupyter": {
     "outputs_hidden": true
    }
   },
   "outputs": [
    {
     "data": {
      "text/plain": [
       "\u001b[1;31mSignature:\u001b[0m\n",
       "\u001b[0msns\u001b[0m\u001b[1;33m.\u001b[0m\u001b[0mscatterplot\u001b[0m\u001b[1;33m(\u001b[0m\u001b[1;33m\n",
       "\u001b[0m    \u001b[0mx\u001b[0m\u001b[1;33m=\u001b[0m\u001b[1;32mNone\u001b[0m\u001b[1;33m,\u001b[0m\u001b[1;33m\n",
       "\u001b[0m    \u001b[0my\u001b[0m\u001b[1;33m=\u001b[0m\u001b[1;32mNone\u001b[0m\u001b[1;33m,\u001b[0m\u001b[1;33m\n",
       "\u001b[0m    \u001b[0mhue\u001b[0m\u001b[1;33m=\u001b[0m\u001b[1;32mNone\u001b[0m\u001b[1;33m,\u001b[0m\u001b[1;33m\n",
       "\u001b[0m    \u001b[0mstyle\u001b[0m\u001b[1;33m=\u001b[0m\u001b[1;32mNone\u001b[0m\u001b[1;33m,\u001b[0m\u001b[1;33m\n",
       "\u001b[0m    \u001b[0msize\u001b[0m\u001b[1;33m=\u001b[0m\u001b[1;32mNone\u001b[0m\u001b[1;33m,\u001b[0m\u001b[1;33m\n",
       "\u001b[0m    \u001b[0mdata\u001b[0m\u001b[1;33m=\u001b[0m\u001b[1;32mNone\u001b[0m\u001b[1;33m,\u001b[0m\u001b[1;33m\n",
       "\u001b[0m    \u001b[0mpalette\u001b[0m\u001b[1;33m=\u001b[0m\u001b[1;32mNone\u001b[0m\u001b[1;33m,\u001b[0m\u001b[1;33m\n",
       "\u001b[0m    \u001b[0mhue_order\u001b[0m\u001b[1;33m=\u001b[0m\u001b[1;32mNone\u001b[0m\u001b[1;33m,\u001b[0m\u001b[1;33m\n",
       "\u001b[0m    \u001b[0mhue_norm\u001b[0m\u001b[1;33m=\u001b[0m\u001b[1;32mNone\u001b[0m\u001b[1;33m,\u001b[0m\u001b[1;33m\n",
       "\u001b[0m    \u001b[0msizes\u001b[0m\u001b[1;33m=\u001b[0m\u001b[1;32mNone\u001b[0m\u001b[1;33m,\u001b[0m\u001b[1;33m\n",
       "\u001b[0m    \u001b[0msize_order\u001b[0m\u001b[1;33m=\u001b[0m\u001b[1;32mNone\u001b[0m\u001b[1;33m,\u001b[0m\u001b[1;33m\n",
       "\u001b[0m    \u001b[0msize_norm\u001b[0m\u001b[1;33m=\u001b[0m\u001b[1;32mNone\u001b[0m\u001b[1;33m,\u001b[0m\u001b[1;33m\n",
       "\u001b[0m    \u001b[0mmarkers\u001b[0m\u001b[1;33m=\u001b[0m\u001b[1;32mTrue\u001b[0m\u001b[1;33m,\u001b[0m\u001b[1;33m\n",
       "\u001b[0m    \u001b[0mstyle_order\u001b[0m\u001b[1;33m=\u001b[0m\u001b[1;32mNone\u001b[0m\u001b[1;33m,\u001b[0m\u001b[1;33m\n",
       "\u001b[0m    \u001b[0mx_bins\u001b[0m\u001b[1;33m=\u001b[0m\u001b[1;32mNone\u001b[0m\u001b[1;33m,\u001b[0m\u001b[1;33m\n",
       "\u001b[0m    \u001b[0my_bins\u001b[0m\u001b[1;33m=\u001b[0m\u001b[1;32mNone\u001b[0m\u001b[1;33m,\u001b[0m\u001b[1;33m\n",
       "\u001b[0m    \u001b[0munits\u001b[0m\u001b[1;33m=\u001b[0m\u001b[1;32mNone\u001b[0m\u001b[1;33m,\u001b[0m\u001b[1;33m\n",
       "\u001b[0m    \u001b[0mestimator\u001b[0m\u001b[1;33m=\u001b[0m\u001b[1;32mNone\u001b[0m\u001b[1;33m,\u001b[0m\u001b[1;33m\n",
       "\u001b[0m    \u001b[0mci\u001b[0m\u001b[1;33m=\u001b[0m\u001b[1;36m95\u001b[0m\u001b[1;33m,\u001b[0m\u001b[1;33m\n",
       "\u001b[0m    \u001b[0mn_boot\u001b[0m\u001b[1;33m=\u001b[0m\u001b[1;36m1000\u001b[0m\u001b[1;33m,\u001b[0m\u001b[1;33m\n",
       "\u001b[0m    \u001b[0malpha\u001b[0m\u001b[1;33m=\u001b[0m\u001b[1;34m'auto'\u001b[0m\u001b[1;33m,\u001b[0m\u001b[1;33m\n",
       "\u001b[0m    \u001b[0mx_jitter\u001b[0m\u001b[1;33m=\u001b[0m\u001b[1;32mNone\u001b[0m\u001b[1;33m,\u001b[0m\u001b[1;33m\n",
       "\u001b[0m    \u001b[0my_jitter\u001b[0m\u001b[1;33m=\u001b[0m\u001b[1;32mNone\u001b[0m\u001b[1;33m,\u001b[0m\u001b[1;33m\n",
       "\u001b[0m    \u001b[0mlegend\u001b[0m\u001b[1;33m=\u001b[0m\u001b[1;34m'brief'\u001b[0m\u001b[1;33m,\u001b[0m\u001b[1;33m\n",
       "\u001b[0m    \u001b[0max\u001b[0m\u001b[1;33m=\u001b[0m\u001b[1;32mNone\u001b[0m\u001b[1;33m,\u001b[0m\u001b[1;33m\n",
       "\u001b[0m    \u001b[1;33m**\u001b[0m\u001b[0mkwargs\u001b[0m\u001b[1;33m,\u001b[0m\u001b[1;33m\n",
       "\u001b[0m\u001b[1;33m)\u001b[0m\u001b[1;33m\u001b[0m\u001b[1;33m\u001b[0m\u001b[0m\n",
       "\u001b[1;31mDocstring:\u001b[0m\n",
       "Draw a scatter plot with possibility of several semantic groupings.\n",
       "\n",
       "The relationship between ``x`` and ``y`` can be shown for different subsets\n",
       "of the data using the ``hue``, ``size``, and ``style`` parameters. These\n",
       "parameters control what visual semantics are used to identify the different\n",
       "subsets. It is possible to show up to three dimensions independently by\n",
       "using all three semantic types, but this style of plot can be hard to\n",
       "interpret and is often ineffective. Using redundant semantics (i.e. both\n",
       "``hue`` and ``style`` for the same variable) can be helpful for making\n",
       "graphics more accessible.\n",
       "\n",
       "See the :ref:`tutorial <relational_tutorial>` for more information.    \n",
       "\n",
       "Parameters\n",
       "----------\n",
       "x, y : names of variables in ``data`` or vector data, optional\n",
       "    Input data variables; must be numeric. Can pass data directly or\n",
       "    reference columns in ``data``.    \n",
       "hue : name of variables in ``data`` or vector data, optional\n",
       "    Grouping variable that will produce points with different colors.\n",
       "    Can be either categorical or numeric, although color mapping will\n",
       "    behave differently in latter case.\n",
       "size : name of variables in ``data`` or vector data, optional\n",
       "    Grouping variable that will produce points with different sizes.\n",
       "    Can be either categorical or numeric, although size mapping will\n",
       "    behave differently in latter case.\n",
       "style : name of variables in ``data`` or vector data, optional\n",
       "    Grouping variable that will produce points with different markers.\n",
       "    Can have a numeric dtype but will always be treated as categorical.\n",
       "data : DataFrame\n",
       "    Tidy (\"long-form\") dataframe where each column is a variable and each\n",
       "    row is an observation.    \n",
       "palette : palette name, list, or dict, optional\n",
       "    Colors to use for the different levels of the ``hue`` variable. Should\n",
       "    be something that can be interpreted by :func:`color_palette`, or a\n",
       "    dictionary mapping hue levels to matplotlib colors.    \n",
       "hue_order : list, optional\n",
       "    Specified order for the appearance of the ``hue`` variable levels,\n",
       "    otherwise they are determined from the data. Not relevant when the\n",
       "    ``hue`` variable is numeric.    \n",
       "hue_norm : tuple or Normalize object, optional\n",
       "    Normalization in data units for colormap applied to the ``hue``\n",
       "    variable when it is numeric. Not relevant if it is categorical.    \n",
       "sizes : list, dict, or tuple, optional\n",
       "    An object that determines how sizes are chosen when ``size`` is used.\n",
       "    It can always be a list of size values or a dict mapping levels of the\n",
       "    ``size`` variable to sizes. When ``size``  is numeric, it can also be\n",
       "    a tuple specifying the minimum and maximum size to use such that other\n",
       "    values are normalized within this range.    \n",
       "size_order : list, optional\n",
       "    Specified order for appearance of the ``size`` variable levels,\n",
       "    otherwise they are determined from the data. Not relevant when the\n",
       "    ``size`` variable is numeric.    \n",
       "size_norm : tuple or Normalize object, optional\n",
       "    Normalization in data units for scaling plot objects when the\n",
       "    ``size`` variable is numeric.    \n",
       "markers : boolean, list, or dictionary, optional\n",
       "    Object determining how to draw the markers for different levels of the\n",
       "    ``style`` variable. Setting to ``True`` will use default markers, or\n",
       "    you can pass a list of markers or a dictionary mapping levels of the\n",
       "    ``style`` variable to markers. Setting to ``False`` will draw\n",
       "    marker-less lines.  Markers are specified as in matplotlib.    \n",
       "style_order : list, optional\n",
       "    Specified order for appearance of the ``style`` variable levels\n",
       "    otherwise they are determined from the data. Not relevant when the\n",
       "    ``style`` variable is numeric.    \n",
       "{x,y}_bins : lists or arrays or functions\n",
       "    *Currently non-functional.*\n",
       "units : {long_form_var}\n",
       "    Grouping variable identifying sampling units. When used, a separate\n",
       "    line will be drawn for each unit with appropriate semantics, but no\n",
       "    legend entry will be added. Useful for showing distribution of\n",
       "    experimental replicates when exact identities are not needed.\n",
       "\n",
       "    *Currently non-functional.*\n",
       "estimator : name of pandas method or callable or None, optional\n",
       "    Method for aggregating across multiple observations of the ``y``\n",
       "    variable at the same ``x`` level. If ``None``, all observations will\n",
       "    be drawn.    \n",
       "    *Currently non-functional.*\n",
       "ci : int or \"sd\" or None, optional\n",
       "    Size of the confidence interval to draw when aggregating with an\n",
       "    estimator. \"sd\" means to draw the standard deviation of the data.\n",
       "    Setting to ``None`` will skip bootstrapping.    \n",
       "    *Currently non-functional.*\n",
       "n_boot : int, optional\n",
       "    Number of bootstraps to use for computing the confidence interval.    \n",
       "    *Currently non-functional.*\n",
       "alpha : float\n",
       "    Proportional opacity of the points.\n",
       "{x,y}_jitter : booleans or floats\n",
       "    *Currently non-functional.*\n",
       "legend : \"brief\", \"full\", or False, optional\n",
       "    How to draw the legend. If \"brief\", numeric ``hue`` and ``size``\n",
       "    variables will be represented with a sample of evenly spaced values.\n",
       "    If \"full\", every group will get an entry in the legend. If ``False``,\n",
       "    no legend data is added and no legend is drawn.    \n",
       "ax : matplotlib Axes, optional\n",
       "    Axes object to draw the plot onto, otherwise uses the current Axes.    \n",
       "kwargs : key, value mappings\n",
       "    Other keyword arguments are passed down to ``plt.scatter`` at draw\n",
       "    time.\n",
       "\n",
       "Returns\n",
       "-------\n",
       "ax : matplotlib Axes\n",
       "    Returns the Axes object with the plot drawn onto it.    \n",
       "\n",
       "See Also\n",
       "--------\n",
       "lineplot : Show the relationship between two variables connected with\n",
       "           lines to emphasize continuity.\n",
       "swarmplot : Draw a scatter plot with one categorical variable, arranging\n",
       "            the points to show the distribution of values.\n",
       "\n",
       "Examples\n",
       "--------\n",
       "\n",
       "Draw a simple scatter plot between two variables:\n",
       "\n",
       ".. plot::\n",
       "    :context: close-figs\n",
       "\n",
       "    >>> import seaborn as sns; sns.set()\n",
       "    >>> import matplotlib.pyplot as plt\n",
       "    >>> tips = sns.load_dataset(\"tips\")\n",
       "    >>> ax = sns.scatterplot(x=\"total_bill\", y=\"tip\", data=tips)\n",
       "\n",
       "Group by another variable and show the groups with different colors:\n",
       "\n",
       ".. plot::\n",
       "    :context: close-figs\n",
       "\n",
       "    >>> ax = sns.scatterplot(x=\"total_bill\", y=\"tip\", hue=\"time\",\n",
       "    ...                      data=tips)\n",
       "\n",
       "Show the grouping variable by varying both color and marker:\n",
       "\n",
       ".. plot::\n",
       "    :context: close-figs\n",
       "\n",
       "    >>> ax = sns.scatterplot(x=\"total_bill\", y=\"tip\",\n",
       "    ...                      hue=\"time\", style=\"time\", data=tips)\n",
       "\n",
       "Vary colors and markers to show two different grouping variables:\n",
       "\n",
       ".. plot::\n",
       "    :context: close-figs\n",
       "\n",
       "    >>> ax = sns.scatterplot(x=\"total_bill\", y=\"tip\",\n",
       "    ...                      hue=\"day\", style=\"time\", data=tips)\n",
       "\n",
       "Show a quantitative variable by varying the size of the points:\n",
       "\n",
       ".. plot::\n",
       "    :context: close-figs\n",
       "\n",
       "    >>> ax = sns.scatterplot(x=\"total_bill\", y=\"tip\", size=\"size\",\n",
       "    ...                      data=tips)\n",
       "\n",
       "Also show the quantitative variable by also using continuous colors:\n",
       "\n",
       ".. plot::\n",
       "    :context: close-figs\n",
       "\n",
       "    >>> ax = sns.scatterplot(x=\"total_bill\", y=\"tip\",\n",
       "    ...                      hue=\"size\", size=\"size\",\n",
       "    ...                      data=tips)\n",
       "\n",
       "Use a different continuous color map:\n",
       "\n",
       ".. plot::\n",
       "    :context: close-figs\n",
       "\n",
       "    >>> cmap = sns.cubehelix_palette(dark=.3, light=.8, as_cmap=True)\n",
       "    >>> ax = sns.scatterplot(x=\"total_bill\", y=\"tip\",\n",
       "    ...                      hue=\"size\", size=\"size\",\n",
       "    ...                      palette=cmap,\n",
       "    ...                      data=tips)\n",
       "\n",
       "Change the minimum and maximum point size and show all sizes in legend:\n",
       "\n",
       ".. plot::\n",
       "    :context: close-figs\n",
       "\n",
       "    >>> cmap = sns.cubehelix_palette(dark=.3, light=.8, as_cmap=True)\n",
       "    >>> ax = sns.scatterplot(x=\"total_bill\", y=\"tip\",\n",
       "    ...                      hue=\"size\", size=\"size\",\n",
       "    ...                      sizes=(20, 200), palette=cmap,\n",
       "    ...                      legend=\"full\", data=tips)\n",
       "\n",
       "Use a narrower range of color map intensities:\n",
       "\n",
       ".. plot::\n",
       "    :context: close-figs\n",
       "\n",
       "    >>> cmap = sns.cubehelix_palette(dark=.3, light=.8, as_cmap=True)\n",
       "    >>> ax = sns.scatterplot(x=\"total_bill\", y=\"tip\",\n",
       "    ...                      hue=\"size\", size=\"size\",\n",
       "    ...                      sizes=(20, 200), hue_norm=(0, 7),\n",
       "    ...                      legend=\"full\", data=tips)\n",
       "\n",
       "Vary the size with a categorical variable, and use a different palette:\n",
       "\n",
       ".. plot::\n",
       "    :context: close-figs\n",
       "\n",
       "    >>> cmap = sns.cubehelix_palette(dark=.3, light=.8, as_cmap=True)\n",
       "    >>> ax = sns.scatterplot(x=\"total_bill\", y=\"tip\",\n",
       "    ...                      hue=\"day\", size=\"smoker\",\n",
       "    ...                      palette=\"Set2\",\n",
       "    ...                      data=tips)\n",
       "\n",
       "Use a specific set of markers:\n",
       "\n",
       ".. plot::\n",
       "    :context: close-figs\n",
       "\n",
       "    >>> markers = {\"Lunch\": \"s\", \"Dinner\": \"X\"}\n",
       "    >>> ax = sns.scatterplot(x=\"total_bill\", y=\"tip\", style=\"time\",\n",
       "    ...                      markers=markers,\n",
       "    ...                      data=tips)\n",
       "\n",
       "Control plot attributes using matplotlib parameters:\n",
       "\n",
       ".. plot::\n",
       "    :context: close-figs\n",
       "\n",
       "    >>> ax = sns.scatterplot(x=\"total_bill\", y=\"tip\",\n",
       "    ...                      s=100, color=\".2\", marker=\"+\",\n",
       "    ...                      data=tips)\n",
       "\n",
       "Pass data vectors instead of names in a data frame:\n",
       "\n",
       ".. plot::\n",
       "    :context: close-figs\n",
       "\n",
       "    >>> iris = sns.load_dataset(\"iris\")\n",
       "    >>> ax = sns.scatterplot(x=iris.sepal_length, y=iris.sepal_width,\n",
       "    ...                      hue=iris.species, style=iris.species)\n",
       "\n",
       "Pass a wide-form dataset and plot against its index:\n",
       "\n",
       ".. plot::\n",
       "    :context: close-figs\n",
       "\n",
       "    >>> import numpy as np, pandas as pd; plt.close(\"all\")\n",
       "    >>> index = pd.date_range(\"1 1 2000\", periods=100,\n",
       "    ...                       freq=\"m\", name=\"date\")\n",
       "    >>> data = np.random.randn(100, 4).cumsum(axis=0)\n",
       "    >>> wide_df = pd.DataFrame(data, index, [\"a\", \"b\", \"c\", \"d\"])\n",
       "    >>> ax = sns.scatterplot(data=wide_df)\n",
       "\u001b[1;31mFile:\u001b[0m      c:\\programdata\\anaconda3\\lib\\site-packages\\seaborn\\relational.py\n",
       "\u001b[1;31mType:\u001b[0m      function\n"
      ]
     },
     "metadata": {},
     "output_type": "display_data"
    }
   ],
   "source": [
    "sns.scatterplot?"
   ]
  },
  {
   "cell_type": "code",
   "execution_count": 15,
   "metadata": {},
   "outputs": [
    {
     "data": {
      "text/plain": [
       "<matplotlib.legend.Legend at 0x27a6d42c9b0>"
      ]
     },
     "execution_count": 15,
     "metadata": {},
     "output_type": "execute_result"
    },
    {
     "data": {
      "image/png": "[encoded data removed]",
      "text/plain": [
       "<Figure size 432x288 with 1 Axes>"
      ]
     },
     "metadata": {
      "needs_background": "light"
     },
     "output_type": "display_data"
    }
   ],
   "source": [
    "import seaborn as sns\n",
    "import matplotlib.pyplot as plt\n",
    "sns.scatterplot(X[:, 0], X[:, 1], hue=y);\n",
    "\n",
    "plt.legend(title='Oil', loc='upper left', labels=class_names)"
   ]
  },
  {
   "cell_type": "code",
   "execution_count": 18,
   "metadata": {},
   "outputs": [],
   "source": [
    "from sklearn.linear_model import LogisticRegression\n",
    "\n",
    "model = LogisticRegression(solver='liblinear', multi_class='auto').fit(X, y)"
   ]
  },
  {
   "cell_type": "code",
   "execution_count": 44,
   "metadata": {},
   "outputs": [],
   "source": [
    "byt = pickle.dumps(y)"
   ]
  },
  {
   "cell_type": "code",
   "execution_count": 46,
   "metadata": {},
   "outputs": [
    {
     "data": {
      "text/plain": [
       "[0, 0, 0, 0, 0]"
      ]
     },
     "execution_count": 46,
     "metadata": {},
     "output_type": "execute_result"
    }
   ],
   "source": [
    "pickle.loads(byt)[:5]"
   ]
  },
  {
   "cell_type": "code",
   "execution_count": 48,
   "metadata": {},
   "outputs": [],
   "source": [
    "import pickle\n",
    "pickle.dump(model, open('oil_model.pkl', 'wb'))"
   ]
  },
  {
   "cell_type": "code",
   "execution_count": 52,
   "metadata": {},
   "outputs": [
    {
     "data": {
      "text/plain": [
       "array([3])"
      ]
     },
     "execution_count": 52,
     "metadata": {},
     "output_type": "execute_result"
    }
   ],
   "source": [
    "loaded = pickle.load(open('oil_model.pkl', 'rb'))\n",
    "loaded.predict([[0, 0]])"
   ]
  },
  {
   "cell_type": "code",
   "execution_count": 28,
   "metadata": {},
   "outputs": [],
   "source": [
    "index = model.predict([\n",
    "    [-3, 50],\n",
    "])[0]"
   ]
  },
  {
   "cell_type": "code",
   "execution_count": 29,
   "metadata": {},
   "outputs": [
    {
     "data": {
      "text/plain": [
       "'superlight'"
      ]
     },
     "execution_count": 29,
     "metadata": {},
     "output_type": "execute_result"
    }
   ],
   "source": [
    "class_names[index]"
   ]
  },
  {
   "cell_type": "code",
   "execution_count": 33,
   "metadata": {},
   "outputs": [
    {
     "data": {
      "text/plain": [
       "array([[0.41356266, 0.10179753, 0.00512859, 0.47951122]])"
      ]
     },
     "execution_count": 33,
     "metadata": {},
     "output_type": "execute_result"
    }
   ],
   "source": [
    "model.predict_proba([\n",
    "    [-10, -10],\n",
    "])"
   ]
  },
  {
   "cell_type": "code",
   "execution_count": 34,
   "metadata": {},
   "outputs": [
    {
     "name": "stdin",
     "output_type": "stream",
     "text": [
      "Density?  10\n",
      "Boiling pt?  30\n"
     ]
    }
   ],
   "source": [
    "dense = float(input('Density? '))\n",
    "boil = float(input('Boiling pt? '))"
   ]
  },
  {
   "cell_type": "code",
   "execution_count": 36,
   "metadata": {},
   "outputs": [],
   "source": [
    "x_unknown = [ [dense, boil] ]"
   ]
  },
  {
   "cell_type": "code",
   "execution_count": 39,
   "metadata": {},
   "outputs": [
    {
     "data": {
      "text/plain": [
       "'arabian light'"
      ]
     },
     "execution_count": 39,
     "metadata": {},
     "output_type": "execute_result"
    }
   ],
   "source": [
    "class_names[ model.predict(x_unknown)[0] ]"
   ]
  },
  {
   "cell_type": "markdown",
   "metadata": {},
   "source": [
    "## Exercise\n",
    "\n",
    "* Starting with this example....\n",
    "\n",
    "### Part 1\n",
    "* change the characteristics of the oil... \n",
    "    * a. so they are more alike, \n",
    "    * b. and more distinct\n",
    "\n",
    "### Part 2\n",
    "* add a new features, x3_pressure = .... \n",
    "* and see how the algorithm performs\n",
    "    \n",
    "#### EXTRA:\n",
    "* use cross_validate to score the model "
   ]
  },
  {
   "cell_type": "markdown",
   "metadata": {},
   "source": [
    "```python\n",
    "\n",
    "import pickle\n",
    "\n",
    "model = pickle.load(open('oil_model.pkl', 'rb'))\n",
    "\n",
    "x_d = float(input('Dense? '))\n",
    "x_b = float(input('Boil? '))\n",
    "\n",
    "yhat = model.predict([\n",
    " [x_d, x_b]\n",
    "])[0]\n",
    "\n",
    "class_names = [\n",
    "    'light',\n",
    "    'arabian light',\n",
    "    'heavy',\n",
    "    'superlight'\n",
    "]\n",
    "\n",
    "print(class_names[yhat])\n",
    "\n",
    "```"
   ]
  },
  {
   "cell_type": "markdown",
   "metadata": {},
   "source": [
    "### Exercise\n",
    "\n",
    "* Create an `oil.py` to receive user input and predict a type of oil\n",
    "    * modify the above to extend it to include your `x3`\n",
    "    \n",
    "* Use Anaconda Prompt\n",
    "    * Start > Anaconda Prompt\n",
    "    * cd Documents/\n",
    "        * or whatever folder your `oil.py` is in"
   ]
  },
  {
   "cell_type": "code",
   "execution_count": null,
   "metadata": {},
   "outputs": [],
   "source": []
  }
 ],
 "metadata": {
  "kernelspec": {
   "display_name": "Python 3",
   "language": "python",
   "name": "python3"
  },
  "language_info": {
   "codemirror_mode": {
    "name": "ipython",
    "version": 3
   },
   "file_extension": ".py",
   "mimetype": "text/x-python",
   "name": "python",
   "nbconvert_exporter": "python",
   "pygments_lexer": "ipython3",
   "version": "3.7.3"
  }
 },
 "nbformat": 4,
 "nbformat_minor": 4
}
