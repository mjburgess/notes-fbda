{
 "cells": [
  {
   "cell_type": "code",
   "execution_count": 1,
   "metadata": {},
   "outputs": [],
   "source": [
    "import numpy as np"
   ]
  },
  {
   "cell_type": "markdown",
   "metadata": {},
   "source": [
    "# Statistics\n",
    "### for Data Analytics & Science"
   ]
  },
  {
   "cell_type": "markdown",
   "metadata": {},
   "source": [
    "\n",
    "* Motivating Example:\n",
    "    * Hypothesis Testing\n",
    "        * Does a person have a malignant tumor?\n",
    "    * Classification\n",
    "        * Build a detector\n",
    "    * Comparing Classifiers\n",
    "        * Is it any good?\n",
    "    \n",
    "* Probability\n",
    "    * Classical Probability\n",
    "    * Frequentist\n",
    "    * Bayesian\n",
    "    * Bayes' Rule\n",
    "    * Bayesian Hypothesis Testing \n",
    "    \n",
    "* Statistics\n",
    "    * Random Variables: Probability -> Statistics\n",
    "    * The Central Limit Theorem and The Normal Distribution\n",
    "    * Frequency vs. Probability Distributions\n",
    "    * Z-Scores and Probabilities of Hypotheses\n",
    "    * Frequentist Hypothesis Testing"
   ]
  },
  {
   "cell_type": "markdown",
   "metadata": {},
   "source": [
    "### Frequentist Hypothesis Testing"
   ]
  },
  {
   "cell_type": "markdown",
   "metadata": {},
   "source": [
    "* Starting with your data set , x\n",
    "    * dist(x) is a freq. dist\n",
    "* Convert to probability \n",
    "    * findnig a z in terms of x \n",
    "* FInd the area of the interesting reigion of your new disti.\n",
    "\n"
   ]
  },
  {
   "cell_type": "markdown",
   "metadata": {},
   "source": [
    "The local newspaper reported: Average debt of local university graduates is £3262.\n",
    "\n",
    "You think that local university gradautes have smaller debt balances.\n",
    "\n",
    "You conduct a study of 50 randomly selected local university graduates, and find the average debt is £2995.\n",
    "\n",
    "You also find that the population standard deviation is £1100.\n",
    "\n",
    "Is your opinion supported by the study conducted, at a 0.05 level of significance?"
   ]
  },
  {
   "cell_type": "markdown",
   "metadata": {},
   "source": [
    "* Formulate Hypothesis"
   ]
  },
  {
   "cell_type": "markdown",
   "metadata": {},
   "source": [
    "$H_{0}: \\mu=3262$\n",
    "\n",
    "$H_{1}: \\mu<3262$\n",
    "\n",
    "A One-Tailed Test\n",
    "\n",
    "$H_{2}: \\mu \\neq 3262$\n",
    "\n",
    "A Two-Tailed Test"
   ]
  },
  {
   "cell_type": "markdown",
   "metadata": {},
   "source": [
    "* Set $\\alpha$"
   ]
  },
  {
   "cell_type": "markdown",
   "metadata": {},
   "source": [
    "$\\alpha$ = 5% = 0.05"
   ]
  },
  {
   "cell_type": "markdown",
   "metadata": {},
   "source": [
    "* Calculate the z Test Statistic"
   ]
  },
  {
   "cell_type": "code",
   "execution_count": 11,
   "metadata": {},
   "outputs": [],
   "source": [
    "from scipy.stats import norm "
   ]
  },
  {
   "cell_type": "code",
   "execution_count": 2,
   "metadata": {},
   "outputs": [],
   "source": [
    "xbar = 2995 # mean of the new evidence\n",
    "mu = 3262 # mean of assumed reality\n",
    "sd = 1100 # how much evidence varies\n",
    "n = 50 # how many points there are"
   ]
  },
  {
   "cell_type": "code",
   "execution_count": 3,
   "metadata": {},
   "outputs": [
    {
     "data": {
      "text/plain": [
       "-1.7163410052437107"
      ]
     },
     "execution_count": 3,
     "metadata": {},
     "output_type": "execute_result"
    }
   ],
   "source": [
    "z = (xbar - mu) / ( sd / np.sqrt(n) )\n",
    "z"
   ]
  },
  {
   "cell_type": "markdown",
   "metadata": {},
   "source": [
    "* Calculate the \"p-value\""
   ]
  },
  {
   "cell_type": "code",
   "execution_count": 12,
   "metadata": {},
   "outputs": [
    {
     "data": {
      "text/plain": [
       "0.04304982368670932"
      ]
     },
     "execution_count": 12,
     "metadata": {},
     "output_type": "execute_result"
    }
   ],
   "source": [
    "PrXbar = norm.cdf(z)\n",
    "PrXbar # probability that new evidence is consistent with assumed reality"
   ]
  },
  {
   "cell_type": "markdown",
   "metadata": {},
   "source": [
    "* Decision"
   ]
  },
  {
   "cell_type": "markdown",
   "metadata": {},
   "source": [
    "p-value < $\\alpha$ \n",
    "\n",
    "$\\therefore$ we reject the null hypothesis and infer that the local univeristy graduates debt is less than the reported average debt."
   ]
  },
  {
   "cell_type": "code",
   "execution_count": 27,
   "metadata": {},
   "outputs": [
    {
     "data": {
      "text/plain": [
       "False"
      ]
     },
     "execution_count": 27,
     "metadata": {},
     "output_type": "execute_result"
    }
   ],
   "source": [
    "z = (xbar - mu) / ( sd / np.sqrt(n) )\n",
    "\n",
    "z < scipy.stats.norm.ppf(0.05)"
   ]
  },
  {
   "cell_type": "code",
   "execution_count": 20,
   "metadata": {},
   "outputs": [
    {
     "data": {
      "text/plain": [
       "False"
      ]
     },
     "execution_count": 20,
     "metadata": {},
     "output_type": "execute_result"
    }
   ],
   "source": [
    "z < scipy.stats.norm.ppf(0.025)"
   ]
  },
  {
   "cell_type": "markdown",
   "metadata": {},
   "source": [
    "### Exercise\n",
    "\n",
    "* Choose a problem of interest eg., \n",
    "    * a cinema tells you their viewers rate their films 8/10\n",
    "    * a survey reports ratings of $7 \\pm 2$ for 100 people\n",
    "    * is the survey consistent with the cinema's claim?\n",
    "     "
   ]
  },
  {
   "cell_type": "code",
   "execution_count": 26,
   "metadata": {},
   "outputs": [
    {
     "data": {
      "text/plain": [
       "0.9999997133484281"
      ]
     },
     "execution_count": 26,
     "metadata": {},
     "output_type": "execute_result"
    }
   ],
   "source": [
    "xbar = 8 # mean of the new evidence\n",
    "mu = 7 # mean of assumed reality\n",
    "sd = 2 # how much evidence varies\n",
    "n = 100 # how many points there are\n",
    "z = (xbar - mu) / ( sd / np.sqrt(n) )\n",
    "norm.cdf(z)"
   ]
  },
  {
   "cell_type": "markdown",
   "metadata": {},
   "source": [
    "\n",
    "#### Aside: via Critical Values:\n",
    "\n",
    "* What is the Critical Value?\n",
    "* Is our Test Statistic calculated above higher or lower than this Critical Value?\n",
    "    * ie., Is our Test Statistic in the Critical Region?\n",
    "\n",
    "Yes, $\\therefore$ we reject the null hypothesis and infer that the local univeristy graduates debt is less than the reported average debt."
   ]
  },
  {
   "cell_type": "code",
   "execution_count": 13,
   "metadata": {},
   "outputs": [
    {
     "data": {
      "text/plain": [
       "True"
      ]
     },
     "execution_count": 13,
     "metadata": {},
     "output_type": "execute_result"
    }
   ],
   "source": [
    "z < scipy.stats.norm.ppf(0.05)"
   ]
  }
 ],
 "metadata": {
  "kernelspec": {
   "display_name": "Python 3",
   "language": "python",
   "name": "python3"
  },
  "language_info": {
   "codemirror_mode": {
    "name": "ipython",
    "version": 3
   },
   "file_extension": ".py",
   "mimetype": "text/x-python",
   "name": "python",
   "nbconvert_exporter": "python",
   "pygments_lexer": "ipython3",
   "version": "3.7.3"
  }
 },
 "nbformat": 4,
 "nbformat_minor": 4
}
