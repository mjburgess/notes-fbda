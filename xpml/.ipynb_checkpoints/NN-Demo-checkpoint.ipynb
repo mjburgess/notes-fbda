{
 "cells": [
  {
   "cell_type": "code",
   "execution_count": 24,
   "metadata": {
    "collapsed": true,
    "jupyter": {
     "outputs_hidden": true
    }
   },
   "outputs": [
    {
     "data": {
      "image/png": "[encoded data removed]",
      "text/plain": [
       "<Figure size 432x288 with 1 Axes>"
      ]
     },
     "metadata": {
      "needs_background": "light"
     },
     "output_type": "display_data"
    }
   ],
   "source": [
    "import seaborn as sns\n",
    "import numpy as np\n",
    "\n",
    "def a(x):\n",
    "    return 1/(1-np.exp(-x))\n",
    "\n",
    "w=[2, 2, 2]\n",
    "b=[-1, -2, -3]\n",
    "\n",
    "def f(x, w=w, b=b):\n",
    "    return w[2] * a(w[1] * a(w[0] * x + b[0]) + b[1]) + b[2]\n",
    "\n",
    "x = np.arange(0, 10)\n",
    "sns.lineplot(x, f(x));"
   ]
  },
  {
   "cell_type": "code",
   "execution_count": 17,
   "metadata": {},
   "outputs": [
    {
     "data": {
      "text/plain": [
       "array([-3.08824581e+00, -9.19695729e-02,  1.71029990e+01,  1.45415420e+02,\n",
       "        1.09363346e+03,  8.10008397e+03,  5.98711417e+04,  4.42410392e+05,\n",
       "        3.26901437e+06,  2.41549498e+07])"
      ]
     },
     "execution_count": 17,
     "metadata": {},
     "output_type": "execute_result"
    }
   ],
   "source": [
    "z = [x, 0, 0]\n",
    "\n",
    "for i in range(len(b) - 1):\n",
    "    z[i + 1] = a(z[i] * w[i] + b[i])\n",
    "    \n",
    "w[-1] * z[-1] + b[-1]"
   ]
  },
  {
   "cell_type": "code",
   "execution_count": 16,
   "metadata": {},
   "outputs": [
    {
     "data": {
      "text/plain": [
       "array([-3.08824581e+00, -9.19695729e-02,  1.71029990e+01,  1.45415420e+02,\n",
       "        1.09363346e+03,  8.10008397e+03,  5.98711417e+04,  4.42410392e+05,\n",
       "        3.26901437e+06,  2.41549498e+07])"
      ]
     },
     "execution_count": 16,
     "metadata": {},
     "output_type": "execute_result"
    }
   ],
   "source": [
    "f(x)"
   ]
  }
 ],
 "metadata": {
  "kernelspec": {
   "display_name": "Python 3",
   "language": "python",
   "name": "python3"
  },
  "language_info": {
   "codemirror_mode": {
    "name": "ipython",
    "version": 3
   },
   "file_extension": ".py",
   "mimetype": "text/x-python",
   "name": "python",
   "nbconvert_exporter": "python",
   "pygments_lexer": "ipython3",
   "version": "3.7.3"
  }
 },
 "nbformat": 4,
 "nbformat_minor": 4
}
