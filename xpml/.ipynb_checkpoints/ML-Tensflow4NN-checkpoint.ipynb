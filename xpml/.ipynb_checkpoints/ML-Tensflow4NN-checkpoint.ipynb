{
 "cells": [
  {
   "cell_type": "markdown",
   "metadata": {},
   "source": [
    "\n",
    "# Tensflow II\n",
    "### Building Neural Networks"
   ]
  },
  {
   "cell_type": "markdown",
   "metadata": {},
   "source": [
    "## Datasets"
   ]
  },
  {
   "cell_type": "markdown",
   "metadata": {},
   "source": [
    "* placeholders are fine for simple experiments\n",
    "* tf.data is the preferred method"
   ]
  },
  {
   "cell_type": "code",
   "execution_count": 72,
   "metadata": {},
   "outputs": [
    {
     "data": {
      "text/plain": [
       "<TensorSliceDataset shapes: (2,), types: tf.int32>"
      ]
     },
     "execution_count": 72,
     "metadata": {},
     "output_type": "execute_result"
    }
   ],
   "source": [
    "X = [\n",
    "    [0, 1,],\n",
    "    [2, 3,],\n",
    "    [4, 5,],\n",
    "    [6, 7,],\n",
    "]\n",
    "\n",
    "slices = tf.data.Dataset.from_tensor_slices(X)\n",
    "slices"
   ]
  },
  {
   "cell_type": "markdown",
   "metadata": {},
   "source": [
    "* datasets are not runnable\n",
    "* convert them to iterators to run"
   ]
  },
  {
   "cell_type": "code",
   "execution_count": 73,
   "metadata": {},
   "outputs": [],
   "source": [
    "item = slices.make_one_shot_iterator().get_next()"
   ]
  },
  {
   "cell_type": "code",
   "execution_count": 68,
   "metadata": {},
   "outputs": [
    {
     "data": {
      "text/plain": [
       "<tf.Tensor 'IteratorGetNext_1:0' shape=(2,) dtype=int32>"
      ]
     },
     "execution_count": 68,
     "metadata": {},
     "output_type": "execute_result"
    }
   ],
   "source": [
    "item"
   ]
  },
  {
   "cell_type": "markdown",
   "metadata": {},
   "source": [
    "* to run through the data set use a manual iterator pattern\n",
    "* ie., loop until a stopping exception\n",
    "\n",
    "* (with tf's eagar execution model tensors are directly iterable with `for`)"
   ]
  },
  {
   "cell_type": "code",
   "execution_count": 74,
   "metadata": {},
   "outputs": [
    {
     "name": "stdout",
     "output_type": "stream",
     "text": [
      "[0 1]\n",
      "[2 3]\n",
      "[4 5]\n",
      "[6 7]\n"
     ]
    }
   ],
   "source": [
    "while True:\n",
    "    try:\n",
    "        print(s.run(item))\n",
    "    except tf.errors.OutOfRangeError:\n",
    "        break"
   ]
  },
  {
   "cell_type": "markdown",
   "metadata": {},
   "source": [
    "ERROR: random_normal needs initialized\n",
    "\n",
    "    it = (\n",
    "        tf\n",
    "            .data\n",
    "            .Dataset\n",
    "            .from_tensor_slices(tf.random_normal([10,3]))\n",
    "            .make_one_shot_iterator()\n",
    "            .get_next()\n",
    "     )\n"
   ]
  },
  {
   "cell_type": "code",
   "execution_count": 90,
   "metadata": {},
   "outputs": [
    {
     "name": "stdout",
     "output_type": "stream",
     "text": [
      "[-0.1335921   0.33635566  1.731614  ]\n",
      "[-0.9323012  0.5535979 -2.0522835]\n",
      "[0.07124216 0.504885   0.45289746]\n",
      "[1.1397598  0.05899297 1.2416643 ]\n",
      "[-0.72836334  0.77609944 -0.01532903]\n",
      "[-0.05024651  0.79697824  1.1903654 ]\n",
      "[ 0.44259307  0.98466796 -1.786341  ]\n",
      "[-1.300363   -0.67261446 -1.695303  ]\n",
      "[-0.7308544   0.97370815 -0.32866055]\n",
      "[-0.631867  -0.439359  -1.1223596]\n"
     ]
    }
   ],
   "source": [
    "r = tf.random_normal([10,3])\n",
    "\n",
    "it = (\n",
    "    tf\n",
    "      .data\n",
    "      .Dataset\n",
    "      .from_tensor_slices(r)\n",
    "      .make_initializable_iterator()\n",
    ")\n",
    "\n",
    "s.run(it.initializer)\n",
    "\n",
    "next_row = it.get_next()\n",
    "while True:\n",
    "    try:\n",
    "        print(s.run(next_row))\n",
    "    except tf.errors.OutOfRangeError:\n",
    "        break"
   ]
  },
  {
   "cell_type": "markdown",
   "metadata": {},
   "source": [
    "## Layers"
   ]
  },
  {
   "cell_type": "markdown",
   "metadata": {},
   "source": [
    "* layers add *trainable* parameters\n",
    "    * cf. constants (fixed), placeholders (provided later)\n",
    "\n",
    "* layers are packages of variables and operations\n",
    "    * eg., the Dense layer performs a weighted sum over its input"
   ]
  },
  {
   "cell_type": "markdown",
   "metadata": {},
   "source": [
    "* x is a placeholder for the input we'll provide at run time\n",
    "* `None` indicates the shape is incomplete\n",
    "* it will be filled-in by the layer, to be whatever number of calculated weights it provides"
   ]
  },
  {
   "cell_type": "code",
   "execution_count": 136,
   "metadata": {},
   "outputs": [],
   "source": [
    "x = tf.placeholder(tf.float32, shape=[None, 3])"
   ]
  },
  {
   "cell_type": "markdown",
   "metadata": {},
   "source": [
    "* to calculate the output `y` we'll use a dense layer\n",
    "* defining y in terms of x, via this layer"
   ]
  },
  {
   "cell_type": "markdown",
   "metadata": {},
   "source": [
    "    units: Integer or Long, dimensionality of the output space."
   ]
  },
  {
   "cell_type": "code",
   "execution_count": 137,
   "metadata": {},
   "outputs": [],
   "source": [
    "linear_model = tf.layers.Dense(units=1)\n",
    "y = linear_model(x) # function syntax"
   ]
  },
  {
   "cell_type": "markdown",
   "metadata": {},
   "source": [
    "* layers must be initialized\n",
    "    * eg., to set random initial state of weights\n",
    "* `global_variables_initializer` initializes all layers in a graph\n",
    "    * (so do it after the whole graph is assembled)"
   ]
  },
  {
   "cell_type": "code",
   "execution_count": 138,
   "metadata": {},
   "outputs": [],
   "source": [
    "s.run(tf.global_variables_initializer())"
   ]
  },
  {
   "cell_type": "code",
   "execution_count": 144,
   "metadata": {},
   "outputs": [],
   "source": [
    "X = [[1, 2, 3], [4, 5, 6]]\n",
    "Y = s.run(y, {x: X})"
   ]
  },
  {
   "cell_type": "code",
   "execution_count": 145,
   "metadata": {},
   "outputs": [
    {
     "data": {
      "text/plain": [
       "array([[-3.2896428],\n",
       "       [-9.088056 ]], dtype=float32)"
      ]
     },
     "execution_count": 145,
     "metadata": {},
     "output_type": "execute_result"
    }
   ],
   "source": [
    "Y"
   ]
  },
  {
   "cell_type": "code",
   "execution_count": 168,
   "metadata": {},
   "outputs": [],
   "source": [
    "w = s.run(linear_model.kernel)"
   ]
  },
  {
   "cell_type": "code",
   "execution_count": 170,
   "metadata": {},
   "outputs": [
    {
     "data": {
      "text/plain": [
       "array([[-1.101542  ],\n",
       "       [-0.3056863 ],\n",
       "       [-0.52557606]], dtype=float32)"
      ]
     },
     "execution_count": 170,
     "metadata": {},
     "output_type": "execute_result"
    }
   ],
   "source": [
    "w"
   ]
  },
  {
   "cell_type": "code",
   "execution_count": 174,
   "metadata": {},
   "outputs": [
    {
     "data": {
      "text/plain": [
       "array([-3.28964275])"
      ]
     },
     "execution_count": 174,
     "metadata": {},
     "output_type": "execute_result"
    }
   ],
   "source": [
    "np.dot(w.T, X[0])"
   ]
  },
  {
   "cell_type": "code",
   "execution_count": 175,
   "metadata": {},
   "outputs": [
    {
     "data": {
      "text/plain": [
       "array([-9.08805579])"
      ]
     },
     "execution_count": 175,
     "metadata": {},
     "output_type": "execute_result"
    }
   ],
   "source": [
    "np.dot(w.T, X[1])"
   ]
  },
  {
   "cell_type": "markdown",
   "metadata": {},
   "source": [
    "## Features"
   ]
  },
  {
   "cell_type": "markdown",
   "metadata": {},
   "source": [
    "* features often come in columns (eg., DataFrames, dicts, ...)\n",
    "* tf computational graphs generally expect dense tensors as input\n",
    "* the feature column lib can process data into dense expected forms"
   ]
  },
  {
   "cell_type": "code",
   "execution_count": 186,
   "metadata": {},
   "outputs": [],
   "source": [
    "features = {\n",
    "    'sales' : [[5], [10], [8], [9]],\n",
    "    'department': ['sports', 'sports', 'gardening', 'gardening']\n",
    "}"
   ]
  },
  {
   "cell_type": "code",
   "execution_count": 187,
   "metadata": {},
   "outputs": [],
   "source": [
    "department_column = (\n",
    "    tf\n",
    "    .feature_column\n",
    "    .categorical_column_with_vocabulary_list(\n",
    "        'department', ['sports', 'gardening']\n",
    "    )\n",
    ")\n",
    "\n",
    "department_column = (\n",
    "    tf\n",
    "    .feature_column\n",
    "    .indicator_column(department_column)\n",
    ")"
   ]
  },
  {
   "cell_type": "code",
   "execution_count": 188,
   "metadata": {},
   "outputs": [],
   "source": [
    "columns = [\n",
    "    tf.feature_column.numeric_column('sales'),\n",
    "    department_column\n",
    "]\n",
    "\n",
    "inputs = tf.feature_column.input_layer(features, columns)"
   ]
  },
  {
   "cell_type": "markdown",
   "metadata": {},
   "source": [
    "* categorical columns require a separate `tables_initializer` to be run"
   ]
  },
  {
   "cell_type": "code",
   "execution_count": null,
   "metadata": {},
   "outputs": [],
   "source": [
    "s.run([tf.global_variables_initializer(), tf.tables_initializer()])"
   ]
  },
  {
   "cell_type": "code",
   "execution_count": 191,
   "metadata": {},
   "outputs": [
    {
     "data": {
      "text/plain": [
       "array([[ 1.,  0.,  5.],\n",
       "       [ 1.,  0., 10.],\n",
       "       [ 0.,  1.,  8.],\n",
       "       [ 0.,  1.,  9.]], dtype=float32)"
      ]
     },
     "execution_count": 191,
     "metadata": {},
     "output_type": "execute_result"
    }
   ],
   "source": [
    "s.run(inputs)"
   ]
  },
  {
   "cell_type": "markdown",
   "metadata": {},
   "source": [
    "## Training"
   ]
  },
  {
   "cell_type": "markdown",
   "metadata": {},
   "source": [
    "* define the data"
   ]
  },
  {
   "cell_type": "code",
   "execution_count": 39,
   "metadata": {},
   "outputs": [],
   "source": [
    "x = np.linspace(1, 10, 10).reshape(-1, 1)\n",
    "e = np.random.normal(0, 0.5, 10).reshape(-1, 1)"
   ]
  },
  {
   "cell_type": "code",
   "execution_count": 320,
   "metadata": {},
   "outputs": [
    {
     "data": {
      "text/plain": [
       "(10, 1)"
      ]
     },
     "execution_count": 320,
     "metadata": {},
     "output_type": "execute_result"
    }
   ],
   "source": [
    "x.shape"
   ]
  },
  {
   "cell_type": "code",
   "execution_count": 321,
   "metadata": {},
   "outputs": [],
   "source": [
    "X = tf.constant(x)\n",
    "Yo = tf.constant(-2*x + e)"
   ]
  },
  {
   "cell_type": "markdown",
   "metadata": {},
   "source": [
    "* define the model"
   ]
  },
  {
   "cell_type": "code",
   "execution_count": 322,
   "metadata": {},
   "outputs": [],
   "source": [
    "model = tf.layers.Dense(units=1)\n",
    "Yp = model(X)"
   ]
  },
  {
   "cell_type": "markdown",
   "metadata": {},
   "source": [
    "* choose a loss"
   ]
  },
  {
   "cell_type": "code",
   "execution_count": 323,
   "metadata": {},
   "outputs": [],
   "source": [
    "loss = tf.losses.mean_squared_error(labels=Yo, predictions=Yp)"
   ]
  },
  {
   "cell_type": "markdown",
   "metadata": {},
   "source": [
    "* train"
   ]
  },
  {
   "cell_type": "code",
   "execution_count": 324,
   "metadata": {},
   "outputs": [],
   "source": [
    "optimizer = tf.train.GradientDescentOptimizer(0.01)\n",
    "train = optimizer.minimize(loss)\n",
    "\n",
    "\n",
    "s.run(tf.global_variables_initializer())\n",
    "\n",
    "\n",
    "history = []\n",
    "predictions = []\n",
    "for i in range(20):\n",
    "    _, loss_value = s.run(\n",
    "        (train, loss)\n",
    "    )\n",
    "    predictions.append(s.run(Yp))\n",
    "    history.append(loss_value)"
   ]
  },
  {
   "cell_type": "code",
   "execution_count": 325,
   "metadata": {},
   "outputs": [
    {
     "data": {
      "text/plain": [
       "<matplotlib.axes._subplots.AxesSubplot at 0x1a1a333d68>"
      ]
     },
     "execution_count": 325,
     "metadata": {},
     "output_type": "execute_result"
    },
    {
     "data": {
      "image/png": "[encoded data removed]",
      "text/plain": [
       "<Figure size 432x288 with 1 Axes>"
      ]
     },
     "metadata": {
      "needs_background": "light"
     },
     "output_type": "display_data"
    }
   ],
   "source": [
    "import seaborn as sns\n",
    "\n",
    "sns.lineplot(range(len(history)), history)"
   ]
  },
  {
   "cell_type": "code",
   "execution_count": null,
   "metadata": {},
   "outputs": [],
   "source": []
  },
  {
   "cell_type": "code",
   "execution_count": 326,
   "metadata": {},
   "outputs": [
    {
     "name": "stdout",
     "output_type": "stream",
     "text": [
      "[[ -2.38384428]\n",
      " [ -4.28409587]\n",
      " [ -6.18434745]\n",
      " [ -8.08459904]\n",
      " [ -9.98485063]\n",
      " [-11.88510222]\n",
      " [-13.78535381]\n",
      " [-15.6856054 ]\n",
      " [-17.58585699]\n",
      " [-19.48610857]]\n"
     ]
    }
   ],
   "source": [
    "predicted = s.run(Yp)\n",
    "\n",
    "print(predicted)"
   ]
  },
  {
   "cell_type": "code",
   "execution_count": 327,
   "metadata": {},
   "outputs": [
    {
     "name": "stdout",
     "output_type": "stream",
     "text": [
      "[[  8.]\n",
      " [  6.]\n",
      " [  4.]\n",
      " [  2.]\n",
      " [  0.]\n",
      " [ -2.]\n",
      " [ -4.]\n",
      " [ -6.]\n",
      " [ -8.]\n",
      " [-10.]]\n"
     ]
    }
   ],
   "source": [
    "print(-2*x + 10)"
   ]
  },
  {
   "cell_type": "code",
   "execution_count": 330,
   "metadata": {},
   "outputs": [
    {
     "data": {
      "text/plain": [
       "<matplotlib.axes._subplots.AxesSubplot at 0x1a1a61d940>"
      ]
     },
     "execution_count": 330,
     "metadata": {},
     "output_type": "execute_result"
    },
    {
     "data": {
      "image/png": "[encoded data removed]",
      "text/plain": [
       "<Figure size 432x288 with 1 Axes>"
      ]
     },
     "metadata": {
      "needs_background": "light"
     },
     "output_type": "display_data"
    }
   ],
   "source": [
    "data = x.ravel()\n",
    "error = e.ravel()\n",
    "predicted = predicted.ravel()\n",
    "\n",
    "sns.scatterplot(data, -2*data + error)\n",
    "sns.lineplot(data, predicted)"
   ]
  },
  {
   "cell_type": "code",
   "execution_count": 334,
   "metadata": {},
   "outputs": [
    {
     "data": {
      "image/png": "[encoded data removed]",
      "text/plain": [
       "<Figure size 432x288 with 1 Axes>"
      ]
     },
     "metadata": {
      "needs_background": "light"
     },
     "output_type": "display_data"
    }
   ],
   "source": [
    "sns.scatterplot(data, -2*data + error, color=\"red\")\n",
    "\n",
    "for line in predictions:\n",
    "    sns.lineplot(data, line.ravel())"
   ]
  }
 ],
 "metadata": {
  "kernelspec": {
   "display_name": "Python 3",
   "language": "python",
   "name": "python3"
  },
  "language_info": {
   "codemirror_mode": {
    "name": "ipython",
    "version": 3
   },
   "file_extension": ".py",
   "mimetype": "text/x-python",
   "name": "python",
   "nbconvert_exporter": "python",
   "pygments_lexer": "ipython3",
   "version": "3.7.3"
  }
 },
 "nbformat": 4,
 "nbformat_minor": 4
}
