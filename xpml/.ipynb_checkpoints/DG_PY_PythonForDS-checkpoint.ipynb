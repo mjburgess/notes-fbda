{
 "cells": [
  {
   "cell_type": "markdown",
   "metadata": {},
   "source": [
    "# Python Programming\n",
    "### for Data Analytics & Science"
   ]
  },
  {
   "cell_type": "markdown",
   "metadata": {},
   "source": [
    "## Jupyter Notebooks\n",
    "\n",
    "* IDEs\n",
    "    * Integrated Dev. Environement = Notepad + Python\n",
    "    * code-first, no results, \n",
    "    * software engineer\n",
    "    * 100k - 1m+ lines\n",
    "    \n",
    "* Notebok\n",
    "    * Results-First (viz)\n",
    "    * Pretty\n",
    "    * Analysts, Scientists\n",
    "    * 100 - 500 lines of code\n",
    "\n",
    "    * Markdown \n",
    "        * Unstructured TExt -> Structud visualis\n",
    "            * stars bullets\n",
    "            * hashs headings\n",
    "    * Code\n",
    "        * python & its output\n",
    "\n",
    "    \n",
    "* notes \n",
    "    * markdown -- text markup \n",
    "    * `$` -- math\n",
    "    * `#` a heading\n",
    "    * `*` is a bullet point\n",
    "    * *emphasis* (italic)\n",
    "    * **strong emphasis** (bold)\n",
    "\n",
    "        \n",
    "### Keyboard Shortcuts\n",
    "\n",
    "* CTRL+ENTER\n",
    "    * run a cell\n",
    "    \n",
    "* ENTER\n",
    "    * edit\n",
    "    * TAB -- indent\n",
    "    * SHIFT-TAB -- unindent\n",
    "    \n",
    "* ESC /  CTRL+ENTER (run) -> COMMAND MODE\n",
    "    * a -- add a cell above\n",
    "    * b -- add a cell below\n",
    "    * dd -- delete a cell\n",
    "    * z -- undo delete\n",
    "    * arrows -- move aorund \n",
    "    * m -- text\n",
    "    * y -- code \n",
    "    * by default, a cell runs `python`!\n",
    "    "
   ]
  },
  {
   "cell_type": "markdown",
   "metadata": {},
   "source": [
    "### Demo"
   ]
  },
  {
   "cell_type": "code",
   "execution_count": 3,
   "metadata": {},
   "outputs": [],
   "source": [
    "import seaborn as sns"
   ]
  },
  {
   "cell_type": "code",
   "execution_count": 5,
   "metadata": {},
   "outputs": [
    {
     "data": {
      "image/png": "[encoded data removed]",
      "text/plain": [
       "<Figure size 432x288 with 1 Axes>"
      ]
     },
     "metadata": {
      "needs_background": "light"
     },
     "output_type": "display_data"
    }
   ],
   "source": [
    "sns.scatterplot([1, 2, 3, 4, 5], [1, 4, 9, 16, 25]);"
   ]
  },
  {
   "cell_type": "markdown",
   "metadata": {},
   "source": [
    "## Python Programming\n",
    "\n",
    "### Example Problems\n",
    "\n",
    "#### Machine Learning\n",
    "* Regression\n",
    "    * $y$ -- predict\n",
    "    * $x$ -- known \n",
    "    * $y = f(x)$\n",
    "    * $y$ is just a quantity / real number / continious number\n",
    "    \n",
    "    * `y` -- the variable in python called `y`\n",
    "    * $y$ -- the mathematical idea y \n",
    "    \n",
    "    * eg., predict profit from age of customer\n",
    "        * supermarket\n",
    "        * sell sweets\n",
    "        * how much we make from differen customers\n",
    "        * plan what we should be \n",
    "        \n",
    "        * $y$ -- profit\n",
    "        * $x$ -- age\n",
    "        \n",
    "* Classification\n",
    "    * $y$, $x$\n",
    "    * this time: $y$ is a label / class  / category / discrete number\n",
    "    \n",
    "    * eg.,  netflix -- will a customer like/dislike a film\n",
    "        * $y$ -- good/bad rating (eg., like/disliek) on netflix\n",
    "        * $x$ -- how long the film is\n",
    "\n",
    "#### Big Data\n",
    "\n",
    "* Graph\n",
    "    * some nodes (\"rows\") with an edge (or connection)\n",
    "        * alice -knows-> bob -> sue -> \n",
    "        \n",
    "    * eg., product graph\n",
    "        * amazon\n",
    "        * pinot grigo -> friends -> chocolate -> ...\n",
    "        \n",
    "        \n",
    "#### Data Science\n",
    "\n",
    "* exploratory, explanatory \n",
    "    * visualizing data sets\n",
    "    \n",
    "    * eg., suppose we are looking at titanic data\n",
    "        * on what grounds did people surive?\n",
    "        * ie., what were the key factors the *caused* people to survive?\n"
   ]
  },
  {
   "cell_type": "markdown",
   "metadata": {},
   "source": [
    "## Part 1: Representing Problems & Data\n",
    "\n",
    "\n",
    "### Regression\n",
    "* You are a retail supermaket business and the challenge to predict how profitable a store will be next year"
   ]
  },
  {
   "cell_type": "markdown",
   "metadata": {},
   "source": [
    "* int vs float"
   ]
  },
  {
   "cell_type": "code",
   "execution_count": 9,
   "metadata": {},
   "outputs": [
    {
     "data": {
      "text/plain": [
       "4.5"
      ]
     },
     "execution_count": 9,
     "metadata": {},
     "output_type": "execute_result"
    }
   ],
   "source": [
    "9.0 / 2.0"
   ]
  },
  {
   "cell_type": "code",
   "execution_count": 10,
   "metadata": {},
   "outputs": [
    {
     "data": {
      "text/plain": [
       "4"
      ]
     },
     "execution_count": 10,
     "metadata": {},
     "output_type": "execute_result"
    }
   ],
   "source": [
    "9 // 2"
   ]
  },
  {
   "cell_type": "markdown",
   "metadata": {},
   "source": [
    "## Lists"
   ]
  },
  {
   "cell_type": "code",
   "execution_count": 7,
   "metadata": {},
   "outputs": [],
   "source": [
    "y_profit = [100.5, 80.1, 75.0, 25.2]\n",
    "x_size = [50, 25, 30, 15]"
   ]
  },
  {
   "cell_type": "markdown",
   "metadata": {
    "jupyter": {
     "source_hidden": true
    }
   },
   "source": [
    "length"
   ]
  },
  {
   "cell_type": "code",
   "execution_count": 17,
   "metadata": {
    "collapsed": true,
    "jupyter": {
     "outputs_hidden": true
    }
   },
   "outputs": [
    {
     "data": {
      "text/plain": [
       "4"
      ]
     },
     "execution_count": 17,
     "metadata": {},
     "output_type": "execute_result"
    }
   ],
   "source": [
    "len(y_profit)"
   ]
  },
  {
   "cell_type": "code",
   "execution_count": 18,
   "metadata": {
    "collapsed": true,
    "jupyter": {
     "outputs_hidden": true
    }
   },
   "outputs": [
    {
     "data": {
      "text/plain": [
       "4"
      ]
     },
     "execution_count": 18,
     "metadata": {},
     "output_type": "execute_result"
    }
   ],
   "source": [
    "len(x_size)"
   ]
  },
  {
   "cell_type": "markdown",
   "metadata": {
    "jupyter": {
     "source_hidden": true
    }
   },
   "source": [
    "#### Aside: `assert` & Comparisons"
   ]
  },
  {
   "cell_type": "code",
   "execution_count": 19,
   "metadata": {},
   "outputs": [],
   "source": [
    "assert len(y_profit) == len(x_size)"
   ]
  },
  {
   "cell_type": "code",
   "execution_count": 20,
   "metadata": {
    "collapsed": true,
    "jupyter": {
     "outputs_hidden": true
    }
   },
   "outputs": [
    {
     "ename": "AssertionError",
     "evalue": "",
     "output_type": "error",
     "traceback": [
      "\u001b[1;31m---------------------------------------------------------------------------\u001b[0m",
      "\u001b[1;31mAssertionError\u001b[0m                            Traceback (most recent call last)",
      "\u001b[1;32m<ipython-input-20-5a666798302e>\u001b[0m in \u001b[0;36m<module>\u001b[1;34m\u001b[0m\n\u001b[1;32m----> 1\u001b[1;33m \u001b[1;32massert\u001b[0m \u001b[0mlen\u001b[0m\u001b[1;33m(\u001b[0m\u001b[0my_profit\u001b[0m\u001b[1;33m)\u001b[0m \u001b[1;33m!=\u001b[0m \u001b[0mlen\u001b[0m\u001b[1;33m(\u001b[0m\u001b[0mx_size\u001b[0m\u001b[1;33m)\u001b[0m\u001b[1;33m\u001b[0m\u001b[1;33m\u001b[0m\u001b[0m\n\u001b[0m",
      "\u001b[1;31mAssertionError\u001b[0m: "
     ]
    }
   ],
   "source": [
    "assert len(y_profit) != len(x_size)"
   ]
  },
  {
   "cell_type": "code",
   "execution_count": 22,
   "metadata": {},
   "outputs": [],
   "source": [
    "assert x_size[0] >= 50"
   ]
  },
  {
   "cell_type": "markdown",
   "metadata": {},
   "source": [
    "first store size"
   ]
  },
  {
   "cell_type": "markdown",
   "metadata": {
    "jupyter": {
     "source_hidden": true
    }
   },
   "source": [
    "### List Indexing"
   ]
  },
  {
   "cell_type": "code",
   "execution_count": 11,
   "metadata": {},
   "outputs": [
    {
     "data": {
      "text/plain": [
       "50"
      ]
     },
     "execution_count": 11,
     "metadata": {},
     "output_type": "execute_result"
    }
   ],
   "source": [
    "x_size[0]"
   ]
  },
  {
   "cell_type": "markdown",
   "metadata": {},
   "source": [
    "last store size"
   ]
  },
  {
   "cell_type": "code",
   "execution_count": 12,
   "metadata": {},
   "outputs": [
    {
     "data": {
      "text/plain": [
       "15"
      ]
     },
     "execution_count": 12,
     "metadata": {},
     "output_type": "execute_result"
    }
   ],
   "source": [
    "x_size[-1]"
   ]
  },
  {
   "cell_type": "markdown",
   "metadata": {},
   "source": [
    "##### Slice"
   ]
  },
  {
   "cell_type": "markdown",
   "metadata": {},
   "source": [
    "the first two sizes: from 0 until 2"
   ]
  },
  {
   "cell_type": "code",
   "execution_count": 13,
   "metadata": {},
   "outputs": [
    {
     "data": {
      "text/plain": [
       "[50, 25]"
      ]
     },
     "execution_count": 13,
     "metadata": {},
     "output_type": "execute_result"
    }
   ],
   "source": [
    "x_size[0:2]"
   ]
  },
  {
   "cell_type": "code",
   "execution_count": 14,
   "metadata": {},
   "outputs": [
    {
     "data": {
      "text/plain": [
       "[25, 30]"
      ]
     },
     "execution_count": 14,
     "metadata": {},
     "output_type": "execute_result"
    }
   ],
   "source": [
    "x_size[-3:-1]"
   ]
  },
  {
   "cell_type": "code",
   "execution_count": 15,
   "metadata": {},
   "outputs": [
    {
     "data": {
      "text/plain": [
       "[50, 25, 30]"
      ]
     },
     "execution_count": 15,
     "metadata": {},
     "output_type": "execute_result"
    }
   ],
   "source": [
    "x_size[:3]"
   ]
  },
  {
   "cell_type": "code",
   "execution_count": 16,
   "metadata": {},
   "outputs": [
    {
     "data": {
      "text/plain": [
       "[30, 15]"
      ]
     },
     "execution_count": 16,
     "metadata": {},
     "output_type": "execute_result"
    }
   ],
   "source": [
    "x_size[-2:]"
   ]
  },
  {
   "cell_type": "markdown",
   "metadata": {},
   "source": [
    "#### Aside: `str`"
   ]
  },
  {
   "cell_type": "code",
   "execution_count": 24,
   "metadata": {},
   "outputs": [
    {
     "data": {
      "text/plain": [
       "'be the change you wish to see in the bedroom'"
      ]
     },
     "execution_count": 24,
     "metadata": {},
     "output_type": "execute_result"
    }
   ],
   "source": [
    "quote = \"be the change you wish to see in the world\"\n",
    "\n",
    "quote[0:-5] + \"bedroom\""
   ]
  },
  {
   "cell_type": "code",
   "execution_count": 26,
   "metadata": {},
   "outputs": [
    {
     "data": {
      "text/plain": [
       "' The parameter weight was 100 '"
      ]
     },
     "execution_count": 26,
     "metadata": {},
     "output_type": "execute_result"
    }
   ],
   "source": [
    "weight = 100\n",
    "\n",
    "f\" The parameter weight was {weight} \""
   ]
  },
  {
   "cell_type": "code",
   "execution_count": 30,
   "metadata": {},
   "outputs": [
    {
     "data": {
      "text/plain": [
       "' The parameter weight was {weight} '"
      ]
     },
     "execution_count": 30,
     "metadata": {},
     "output_type": "execute_result"
    }
   ],
   "source": [
    "\" The parameter weight was {weight} \""
   ]
  },
  {
   "cell_type": "markdown",
   "metadata": {},
   "source": [
    "formatting"
   ]
  },
  {
   "cell_type": "code",
   "execution_count": 31,
   "metadata": {},
   "outputs": [
    {
     "data": {
      "text/plain": [
       "' The parameter weight was  100.00 '"
      ]
     },
     "execution_count": 31,
     "metadata": {},
     "output_type": "execute_result"
    }
   ],
   "source": [
    "f\" The parameter weight was {weight : .2f} \""
   ]
  },
  {
   "cell_type": "markdown",
   "metadata": {},
   "source": [
    "multiple prints"
   ]
  },
  {
   "cell_type": "code",
   "execution_count": 29,
   "metadata": {},
   "outputs": [
    {
     "name": "stdout",
     "output_type": "stream",
     "text": [
      "The first x was 50, 000 items / quater\n",
      "The first y was £ 100.5, 000\n"
     ]
    }
   ],
   "source": [
    "print(f\"The first x was {x_size[0]}, 000 items / quater\")\n",
    "print(f\"The first y was £ {y_profit[0]}, 000\")"
   ]
  },
  {
   "cell_type": "markdown",
   "metadata": {},
   "source": [
    "### Exericse\n",
    "\n",
    "* Choose a company in an industry of interest\n",
    "    * Set up (represent) a regression problem for that company using a pair of lists $x$ and $y$\n",
    "        * $y$ is the (unknown) target of prediction\n",
    "        * $x$ is what you'll know when predicting\n",
    "        * define a historical data set of previous observations\n",
    "    * Answer basic historical question about that data set:\n",
    "        * first observation, last, first two, last two\n",
    "        * number that there are \n",
    "        * EXTRA:\n",
    "            * use `sum()`, and `len()` to get the total and mean of your `y`\n",
    "            * use `assert` to document key assumptinos\n",
    "                * eg., that your x and y have the same number of observations\n",
    "                \n",
    "    * EXTRA:\n",
    "        * using markdown cells and print(f\"\"), present your results in the style of a report\n",
    "        "
   ]
  },
  {
   "cell_type": "markdown",
   "metadata": {},
   "source": [
    "## Part 1.2: Classification with Dictionaries"
   ]
  },
  {
   "cell_type": "markdown",
   "metadata": {},
   "source": [
    "* binary classification problem\n",
    "    * predicting yes/no, good/bad, profit/noprofit, fraud/nofraud\n",
    "    * two cases for the prediction\n",
    "        * -1 negative\n",
    "        * +1 postive\n",
    "    "
   ]
  },
  {
   "cell_type": "markdown",
   "metadata": {
    "jupyter": {
     "source_hidden": true
    }
   },
   "source": [
    "* dictionary\n",
    "    * series of key-value paris, separaterd by `:`\n",
    "    * key-value, values are \"tagged\" by a string\n",
    "        * retrive the value using the tag\n"
   ]
  },
  {
   "cell_type": "code",
   "execution_count": 45,
   "metadata": {
    "jupyter": {
     "source_hidden": true
    }
   },
   "outputs": [
    {
     "data": {
      "text/plain": [
       "'pig'"
      ]
     },
     "execution_count": 45,
     "metadata": {},
     "output_type": "execute_result"
    }
   ],
   "source": [
    "love = {'michael': 'pig', 'lucie': 'couscous'}\n",
    "love['michael']"
   ]
  },
  {
   "cell_type": "markdown",
   "metadata": {},
   "source": [
    "* dictionary whose values are lists\n",
    "    * table, table-like\n",
    "    * csv file"
   ]
  },
  {
   "cell_type": "code",
   "execution_count": 46,
   "metadata": {},
   "outputs": [],
   "source": [
    "data = {\n",
    "    'age' : [18, 19, 35, 40],  # x_1: age of claimant \n",
    "    'days': [2, 30, 365, 400], # x_2: days since purchase of insurance\n",
    "    'fraud': [+1, +1, -1, -1] # y : yes/nop\n",
    "}"
   ]
  },
  {
   "cell_type": "code",
   "execution_count": 37,
   "metadata": {
    "collapsed": true,
    "jupyter": {
     "outputs_hidden": true
    }
   },
   "outputs": [
    {
     "data": {
      "text/plain": [
       "{'age': [18, 19, 35, 40], 'days': [2, 30, 365, 400], 'fraud': [1, 1, -1, -1]}"
      ]
     },
     "execution_count": 37,
     "metadata": {},
     "output_type": "execute_result"
    }
   ],
   "source": [
    "data"
   ]
  },
  {
   "cell_type": "code",
   "execution_count": 47,
   "metadata": {},
   "outputs": [
    {
     "data": {
      "text/plain": [
       "dict"
      ]
     },
     "execution_count": 47,
     "metadata": {},
     "output_type": "execute_result"
    }
   ],
   "source": [
    "type(data)"
   ]
  },
  {
   "cell_type": "code",
   "execution_count": 44,
   "metadata": {},
   "outputs": [],
   "source": [
    "x_1 = data['age']\n",
    "x_2 = data['days']\n",
    "y = data['fraud']"
   ]
  },
  {
   "cell_type": "markdown",
   "metadata": {},
   "source": [
    "querying the `data` db for the `age` column"
   ]
  },
  {
   "cell_type": "code",
   "execution_count": 38,
   "metadata": {
    "collapsed": true,
    "jupyter": {
     "outputs_hidden": true
    }
   },
   "outputs": [
    {
     "data": {
      "text/plain": [
       "[18, 19, 35, 40]"
      ]
     },
     "execution_count": 38,
     "metadata": {},
     "output_type": "execute_result"
    }
   ],
   "source": [
    "data['age']"
   ]
  },
  {
   "cell_type": "markdown",
   "metadata": {},
   "source": [
    "the first row of the `age` column"
   ]
  },
  {
   "cell_type": "code",
   "execution_count": 41,
   "metadata": {
    "collapsed": true,
    "jupyter": {
     "outputs_hidden": true
    }
   },
   "outputs": [
    {
     "data": {
      "text/plain": [
       "2"
      ]
     },
     "execution_count": 41,
     "metadata": {},
     "output_type": "execute_result"
    }
   ],
   "source": [
    "data['days'][0]"
   ]
  },
  {
   "cell_type": "code",
   "execution_count": 42,
   "metadata": {},
   "outputs": [],
   "source": [
    "data['age'][-1] = 42"
   ]
  },
  {
   "cell_type": "code",
   "execution_count": 48,
   "metadata": {},
   "outputs": [
    {
     "name": "stdout",
     "output_type": "stream",
     "text": [
      "[1, 1, -1, -1]\n"
     ]
    }
   ],
   "source": [
    "print(data['fraud'])"
   ]
  },
  {
   "cell_type": "code",
   "execution_count": 50,
   "metadata": {},
   "outputs": [
    {
     "data": {
      "text/plain": [
       "[1, 1]"
      ]
     },
     "execution_count": 50,
     "metadata": {},
     "output_type": "execute_result"
    }
   ],
   "source": [
    "data['fraud'][0:2]"
   ]
  },
  {
   "cell_type": "code",
   "execution_count": 51,
   "metadata": {},
   "outputs": [],
   "source": [
    "data['fraud'][0] *= -1"
   ]
  },
  {
   "cell_type": "code",
   "execution_count": 43,
   "metadata": {
    "collapsed": true,
    "jupyter": {
     "outputs_hidden": true,
     "source_hidden": true
    }
   },
   "outputs": [
    {
     "data": {
      "text/plain": [
       "{'age': [18, 19, 35, 42], 'days': [2, 30, 365, 400], 'fraud': [1, 1, -1, -1]}"
      ]
     },
     "execution_count": 43,
     "metadata": {},
     "output_type": "execute_result"
    }
   ],
   "source": [
    "data"
   ]
  },
  {
   "cell_type": "markdown",
   "metadata": {},
   "source": [
    "#### Aside: Conventions\n",
    "\n",
    "* capital letters in math, generally mean matrices (multiple rows) $X$\n",
    "* small single letter in math, generall means vector (a single row) $x$"
   ]
  },
  {
   "cell_type": "markdown",
   "metadata": {},
   "source": [
    "### Exericse\n",
    "#### Time: 10min $\\pm$ 5\n",
    "* Choose a company in an industry of interest\n",
    "    * Set up (represent) a classification problem for that company using a dictionary as the db\n",
    "    * Answer basic historical question about that data set:\n",
    "        * show the $x$ columns\n",
    "        * show the $y$ column -- that's the +1, -1 \n",
    "        * first observations, last, first two, last two\n",
    "            * in every column\n",
    "            \n",
    "    * Update the first observation in the $y$ column, change it to the opposite case\n",
    "    * EXTRA:\n",
    "        * using markdown cells and print(f\"\"), present your results in the style of a report\n",
    "        "
   ]
  },
  {
   "cell_type": "markdown",
   "metadata": {},
   "source": [
    "## Aside: Graphs with Product Graph"
   ]
  },
  {
   "cell_type": "markdown",
   "metadata": {},
   "source": [
    "* Graph\n",
    "    * (rows are)      nodes\n",
    "    * (connected via) edges\n",
    "    * (which have)    weights\n",
    "    \n",
    "* one way of represeting a graph is an edge list\n",
    "* $edges = [(u, v, w), \\dots]$\n",
    "    * u is the first node (id)\n",
    "    * v is the second node (id)\n",
    "    * w is the weight node (id)"
   ]
  },
  {
   "cell_type": "code",
   "execution_count": 59,
   "metadata": {},
   "outputs": [],
   "source": [
    "G_product = [\n",
    "    (\"Pinot\", \"LoveActually\", 0.9), # people who buy PG buy LA at a rate of 70%\n",
    "    (\"LoveActually\", \"Chocolate\", 0.95),\n",
    "    (\"Lynx\", \"Chocolate\", 0.9),\n",
    "    (\"Pinot\", \"Rioja\", 0.75),\n",
    "]"
   ]
  },
  {
   "cell_type": "code",
   "execution_count": 53,
   "metadata": {},
   "outputs": [
    {
     "data": {
      "text/plain": [
       "list"
      ]
     },
     "execution_count": 53,
     "metadata": {},
     "output_type": "execute_result"
    }
   ],
   "source": [
    "type(G_product)"
   ]
  },
  {
   "cell_type": "code",
   "execution_count": 54,
   "metadata": {},
   "outputs": [
    {
     "data": {
      "text/plain": [
       "('Pinot', 'LoveActually', 0.7)"
      ]
     },
     "execution_count": 54,
     "metadata": {},
     "output_type": "execute_result"
    }
   ],
   "source": [
    "G_product[0]"
   ]
  },
  {
   "cell_type": "markdown",
   "metadata": {},
   "source": [
    "#### Aside: Tuples\n",
    "\n",
    "* these are unmodifiable lists\n",
    "* chosen here just for similarity with mathematical notation"
   ]
  },
  {
   "cell_type": "code",
   "execution_count": 55,
   "metadata": {},
   "outputs": [
    {
     "data": {
      "text/plain": [
       "tuple"
      ]
     },
     "execution_count": 55,
     "metadata": {},
     "output_type": "execute_result"
    }
   ],
   "source": [
    "type(G_product[0])"
   ]
  },
  {
   "cell_type": "markdown",
   "metadata": {},
   "source": [
    "* Querying the Graph"
   ]
  },
  {
   "cell_type": "code",
   "execution_count": 63,
   "metadata": {},
   "outputs": [
    {
     "data": {
      "text/plain": [
       "[('Pinot', 'LoveActually', 0.9),\n",
       " ('LoveActually', 'Chocolate', 0.95),\n",
       " ('Lynx', 'Chocolate', 0.9),\n",
       " ('Pinot', 'Rioja', 0.75)]"
      ]
     },
     "execution_count": 63,
     "metadata": {},
     "output_type": "execute_result"
    }
   ],
   "source": [
    "G_product"
   ]
  },
  {
   "cell_type": "code",
   "execution_count": 64,
   "metadata": {},
   "outputs": [
    {
     "name": "stdout",
     "output_type": "stream",
     "text": [
      "Prob(LA | Pinot) = \n"
     ]
    },
    {
     "data": {
      "text/plain": [
       "0.9"
      ]
     },
     "execution_count": 64,
     "metadata": {},
     "output_type": "execute_result"
    }
   ],
   "source": [
    "print(\"Prob(LA | Pinot) = \")\n",
    "G_product[0][-1]"
   ]
  },
  {
   "cell_type": "code",
   "execution_count": 68,
   "metadata": {},
   "outputs": [
    {
     "name": "stdout",
     "output_type": "stream",
     "text": [
      "Prob(Choc | Pinot) = Prob(LoveActually | Pinot) * Prob(Choc | LoveActually) = \n"
     ]
    },
    {
     "data": {
      "text/plain": [
       "0.855"
      ]
     },
     "execution_count": 68,
     "metadata": {},
     "output_type": "execute_result"
    }
   ],
   "source": [
    "print(\"Prob(Choc | Pinot) = Prob(LoveActually | Pinot) * Prob(Choc | LoveActually) = \")\n",
    "G_product[0][-1] * G_product[1][-1]"
   ]
  },
  {
   "cell_type": "code",
   "execution_count": 66,
   "metadata": {},
   "outputs": [
    {
     "name": "stdout",
     "output_type": "stream",
     "text": [
      "Prob(Rioja | Pinot) = \n"
     ]
    },
    {
     "data": {
      "text/plain": [
       "0.75"
      ]
     },
     "execution_count": 66,
     "metadata": {},
     "output_type": "execute_result"
    }
   ],
   "source": [
    "print(\"Prob(Rioja | Pinot) = \")\n",
    "G_product[-1][-1]"
   ]
  },
  {
   "cell_type": "markdown",
   "metadata": {},
   "source": [
    "## Part 2: Data Processing"
   ]
  },
  {
   "cell_type": "markdown",
   "metadata": {},
   "source": [
    "We know historical $(x,y)$ -- if we can gfind a rule relating x to y, tehn when we dont have y, we can guess it frm the x"
   ]
  },
  {
   "cell_type": "code",
   "execution_count": 69,
   "metadata": {},
   "outputs": [
    {
     "data": {
      "text/plain": [
       "[50, 25, 30, 15]"
      ]
     },
     "execution_count": 69,
     "metadata": {},
     "output_type": "execute_result"
    }
   ],
   "source": [
    "x_size"
   ]
  },
  {
   "cell_type": "code",
   "execution_count": 72,
   "metadata": {},
   "outputs": [
    {
     "data": {
      "text/plain": [
       "[100.5, 80.1, 75.0, 25.2]"
      ]
     },
     "execution_count": 72,
     "metadata": {},
     "output_type": "execute_result"
    }
   ],
   "source": [
    "y_profit"
   ]
  },
  {
   "cell_type": "markdown",
   "metadata": {},
   "source": [
    "$\\hat{y}$ -- guess for $y$"
   ]
  },
  {
   "cell_type": "code",
   "execution_count": 76,
   "metadata": {},
   "outputs": [
    {
     "data": {
      "text/plain": [
       "100.5"
      ]
     },
     "execution_count": 76,
     "metadata": {},
     "output_type": "execute_result"
    }
   ],
   "source": [
    "yhat_profit = 2 * x_size[0] + 0.5\n",
    "yhat_profit"
   ]
  },
  {
   "cell_type": "markdown",
   "metadata": {},
   "source": [
    "### Looping"
   ]
  },
  {
   "cell_type": "markdown",
   "metadata": {},
   "source": [
    "* indention is meaningful and groups actions under keywords\n",
    "    * eg., for .... { group of actions}\n",
    "* for is the looping construct to repeat an action for each element of a dataset"
   ]
  },
  {
   "cell_type": "code",
   "execution_count": 80,
   "metadata": {},
   "outputs": [
    {
     "name": "stdout",
     "output_type": "stream",
     "text": [
      "[100.5, 50.5, 60.5, 30.5]\n"
     ]
    }
   ],
   "source": [
    "yhat = [] # predictions -- empty list, could call it y_pred \n",
    "\n",
    "# forevery element, call it x, in some existing dataset\n",
    "for x in x_size:\n",
    "    # take that element, *2, +0.5 and add it to the new set\n",
    "    yhat.append( 2 * x + 0.5 )\n",
    "    \n",
    "    \n",
    "# print the new set\n",
    "print(yhat)"
   ]
  },
  {
   "cell_type": "markdown",
   "metadata": {},
   "source": [
    "\n",
    "    \n",
    "    "
   ]
  },
  {
   "cell_type": "markdown",
   "metadata": {},
   "source": [
    "### Comprehensions"
   ]
  },
  {
   "cell_type": "markdown",
   "metadata": {},
   "source": [
    "* ` [ ]  ` <- define a new list\n",
    "\n",
    "\n",
    "* ` [ SELECT 2x + 0.5 FROM x_size ]`\n",
    "* ` [ SELECT 2x + 0.5 FROM x_size WHERE x >= 30]`\n",
    "\n",
    "* Read comprehensions like SQL\n",
    "    * SELECT FROM WHERE\n",
    "    * FROM SELECT WHERE\n"
   ]
  },
  {
   "cell_type": "code",
   "execution_count": 81,
   "metadata": {},
   "outputs": [
    {
     "data": {
      "text/plain": [
       "[100.5, 50.5, 60.5, 30.5]"
      ]
     },
     "execution_count": 81,
     "metadata": {},
     "output_type": "execute_result"
    }
   ],
   "source": [
    "[ 2 * x + 0.5 for x in x_size ]"
   ]
  },
  {
   "cell_type": "code",
   "execution_count": 82,
   "metadata": {},
   "outputs": [
    {
     "data": {
      "text/plain": [
       "[100.5, 60.5]"
      ]
     },
     "execution_count": 82,
     "metadata": {},
     "output_type": "execute_result"
    }
   ],
   "source": [
    "[ 2*x + 0.5 for x in x_size if x >= 30]"
   ]
  },
  {
   "cell_type": "markdown",
   "metadata": {},
   "source": [
    "### Exercise\n",
    "\n",
    "* Using a comprehension:\n",
    "    * apply rules\n",
    "        * $0.1x + 10$, \n",
    "        * $-5x + 30$ \n",
    "        * on your data set\n"
   ]
  },
  {
   "cell_type": "markdown",
   "metadata": {},
   "source": [
    "### Aside: Comprehensions over Graphs"
   ]
  },
  {
   "cell_type": "markdown",
   "metadata": {},
   "source": [
    "```python\n",
    "[ for ... in G_product if ...]\n",
    "```\n"
   ]
  },
  {
   "cell_type": "code",
   "execution_count": 90,
   "metadata": {},
   "outputs": [
    {
     "data": {
      "text/plain": [
       "[('Pinot', 'LoveActually', 0.9),\n",
       " ('LoveActually', 'Chocolate', 0.95),\n",
       " ('Lynx', 'Chocolate', 0.9),\n",
       " ('Pinot', 'Rioja', 0.75)]"
      ]
     },
     "execution_count": 90,
     "metadata": {},
     "output_type": "execute_result"
    }
   ],
   "source": [
    "G_product"
   ]
  },
  {
   "cell_type": "code",
   "execution_count": 88,
   "metadata": {},
   "outputs": [
    {
     "data": {
      "text/plain": [
       "['Pinot', 'LoveActually', 'Lynx', 'Pinot']"
      ]
     },
     "execution_count": 88,
     "metadata": {},
     "output_type": "execute_result"
    }
   ],
   "source": [
    "[ e[0] for e in G_product ]"
   ]
  },
  {
   "cell_type": "code",
   "execution_count": 89,
   "metadata": {},
   "outputs": [
    {
     "data": {
      "text/plain": [
       "['Pinot', 'LoveActually', 'Lynx', 'Pinot']"
      ]
     },
     "execution_count": 89,
     "metadata": {},
     "output_type": "execute_result"
    }
   ],
   "source": [
    "[ u for (u, v, w) in G_product ]"
   ]
  },
  {
   "cell_type": "code",
   "execution_count": 98,
   "metadata": {},
   "outputs": [
    {
     "data": {
      "text/plain": [
       "['LoveActually', 'Rioja']"
      ]
     },
     "execution_count": 98,
     "metadata": {},
     "output_type": "execute_result"
    }
   ],
   "source": [
    "\n",
    "[ v for (u, v, w) in G_product if 'Pinot' == u]"
   ]
  },
  {
   "cell_type": "markdown",
   "metadata": {},
   "source": [
    "### Functions"
   ]
  },
  {
   "cell_type": "markdown",
   "metadata": {},
   "source": [
    "* recall: indentation is meaning\n",
    "    * associates multiple lines with a keyword\n",
    "    "
   ]
  },
  {
   "cell_type": "markdown",
   "metadata": {},
   "source": [
    "#### Calculations"
   ]
  },
  {
   "cell_type": "code",
   "execution_count": 103,
   "metadata": {},
   "outputs": [],
   "source": [
    "# define a term f, known as a function\n",
    "# which accepts one parameter, call it x\n",
    "def f(x):\n",
    "    # and produces, when run, 2x+0.5\n",
    "    return 2*x + 0.5 # return to memory for further calculation"
   ]
  },
  {
   "cell_type": "code",
   "execution_count": 100,
   "metadata": {},
   "outputs": [
    {
     "data": {
      "text/plain": [
       "200.5"
      ]
     },
     "execution_count": 100,
     "metadata": {},
     "output_type": "execute_result"
    }
   ],
   "source": [
    "f(100)"
   ]
  },
  {
   "cell_type": "code",
   "execution_count": 104,
   "metadata": {},
   "outputs": [
    {
     "data": {
      "text/plain": [
       "4005.0"
      ]
     },
     "execution_count": 104,
     "metadata": {},
     "output_type": "execute_result"
    }
   ],
   "source": [
    "f(200) * 10"
   ]
  },
  {
   "cell_type": "markdown",
   "metadata": {},
   "source": [
    "#### Aside: (Non-Caluative) Procedures / Actions"
   ]
  },
  {
   "cell_type": "code",
   "execution_count": 105,
   "metadata": {},
   "outputs": [],
   "source": [
    "def show(name):\n",
    "    print(name.upper())"
   ]
  },
  {
   "cell_type": "markdown",
   "metadata": {},
   "source": [
    "send \"Micahel\" to the screen -- but return NOTHING!"
   ]
  },
  {
   "cell_type": "code",
   "execution_count": 107,
   "metadata": {
    "collapsed": true,
    "jupyter": {
     "outputs_hidden": true
    }
   },
   "outputs": [
    {
     "name": "stdout",
     "output_type": "stream",
     "text": [
      "MICHAEL\n"
     ]
    },
    {
     "ename": "TypeError",
     "evalue": "unsupported operand type(s) for +: 'NoneType' and 'str'",
     "output_type": "error",
     "traceback": [
      "\u001b[1;31m---------------------------------------------------------------------------\u001b[0m",
      "\u001b[1;31mTypeError\u001b[0m                                 Traceback (most recent call last)",
      "\u001b[1;32m<ipython-input-107-27643b4f39fd>\u001b[0m in \u001b[0;36m<module>\u001b[1;34m\u001b[0m\n\u001b[1;32m----> 1\u001b[1;33m \u001b[0mshow\u001b[0m\u001b[1;33m(\u001b[0m\u001b[1;34m\"Michael\"\u001b[0m\u001b[1;33m)\u001b[0m \u001b[1;33m+\u001b[0m \u001b[1;34m\"Burgess\"\u001b[0m\u001b[1;33m\u001b[0m\u001b[1;33m\u001b[0m\u001b[0m\n\u001b[0m",
      "\u001b[1;31mTypeError\u001b[0m: unsupported operand type(s) for +: 'NoneType' and 'str'"
     ]
    }
   ],
   "source": [
    "show(\"Michael\") + \"Burgess\""
   ]
  },
  {
   "cell_type": "markdown",
   "metadata": {},
   "source": [
    "#### Aside: Functions within Functions..."
   ]
  },
  {
   "cell_type": "code",
   "execution_count": 119,
   "metadata": {},
   "outputs": [],
   "source": [
    "def rule_maker(a, b):\n",
    "    # variable rule = ..code...\n",
    "    \n",
    "    def rule(x):          # define the term `rule`\n",
    "        return a*x + b\n",
    "    \n",
    "    return rule           # return *the function* `rule`"
   ]
  },
  {
   "cell_type": "code",
   "execution_count": 120,
   "metadata": {},
   "outputs": [],
   "source": [
    "f1 = rule_maker(1, 0)    # f1 = (def rule(x): return 1*x + 0)\n",
    "f10 = rule_maker(10, 2)  # f2 = (def rule(x): return 10*x + 2)\n",
    "f5 = rule_maker(5, 3)"
   ]
  },
  {
   "cell_type": "code",
   "execution_count": 113,
   "metadata": {},
   "outputs": [
    {
     "name": "stdout",
     "output_type": "stream",
     "text": [
      "5\n",
      "52\n",
      "28\n"
     ]
    }
   ],
   "source": [
    "print(f1(5))\n",
    "print(f10(5))\n",
    "print(f5(5))"
   ]
  },
  {
   "cell_type": "markdown",
   "metadata": {},
   "source": [
    "## Part 3: Libraries & Modules"
   ]
  },
  {
   "cell_type": "markdown",
   "metadata": {},
   "source": [
    "#### `import`\n",
    "* loads a python file which represents a library\n",
    "    * library = collection of functions\n",
    "        * a vocabulary for workign with a problem\n",
    "        "
   ]
  },
  {
   "cell_type": "code",
   "execution_count": 124,
   "metadata": {},
   "outputs": [],
   "source": [
    "# run the module called \"seaborn\"\n",
    "# define the term sns to be the module seaborn\n",
    "import seaborn as sns"
   ]
  },
  {
   "cell_type": "markdown",
   "metadata": {},
   "source": [
    "* dot notation\n",
    "    * module.verb(data)\n",
    "    * object.method(argument)\n",
    "    * container.action(input)\n",
    "        * ask container to do action with these inputs"
   ]
  },
  {
   "cell_type": "code",
   "execution_count": 126,
   "metadata": {},
   "outputs": [
    {
     "data": {
      "image/png": "[encoded data removed]",
      "text/plain": [
       "<Figure size 432x288 with 1 Axes>"
      ]
     },
     "metadata": {
      "needs_background": "light"
     },
     "output_type": "display_data"
    }
   ],
   "source": [
    "sns.scatterplot(x_size, y_profit); # semi-colon means \"do not print\""
   ]
  },
  {
   "cell_type": "markdown",
   "metadata": {},
   "source": [
    "#### Modules\n",
    "* How do I create my own library?\n",
    "    * File > New Text File > Rename >\n",
    "        * eda.py\n",
    "        * `import eda`\n",
    "* If you modify your module, you may need to \n",
    "    * Kernal > Restart (and run all)"
   ]
  },
  {
   "cell_type": "code",
   "execution_count": 2,
   "metadata": {},
   "outputs": [],
   "source": [
    "import eda"
   ]
  },
  {
   "cell_type": "code",
   "execution_count": 4,
   "metadata": {},
   "outputs": [
    {
     "data": {
      "text/plain": [
       "13"
      ]
     },
     "execution_count": 4,
     "metadata": {},
     "output_type": "execute_result"
    }
   ],
   "source": [
    "eda.f(10, a=1, b=3)"
   ]
  },
  {
   "cell_type": "markdown",
   "metadata": {},
   "source": [
    "#### Developing ML Software \n",
    "\n",
    "* This system of extracting functionality from notebooks into its own module is the core approach of a good data science project\n",
    "\n",
    "* Notebooks should contain little code and are not a reliable *programming* environment\n",
    "\n",
    "* Modules can be reused across noetbooks and are easier for software engineers to work with"
   ]
  },
  {
   "cell_type": "markdown",
   "metadata": {},
   "source": [
    "### Exercise\n",
    "\n",
    "* create a new `.py` file\n",
    "    * call it, eg., mylib\n",
    "\n",
    "* inside this file define:\n",
    "    * a function which represents your rule above\n",
    "    * eg., f(x) returning 2x+3\n",
    "    \n",
    "* import this\n",
    "\n",
    "* use it to generate some predictions\n",
    "    * ie., run the function"
   ]
  }
 ],
 "metadata": {
  "kernelspec": {
   "display_name": "Python 3",
   "language": "python",
   "name": "python3"
  },
  "language_info": {
   "codemirror_mode": {
    "name": "ipython",
    "version": 3
   },
   "file_extension": ".py",
   "mimetype": "text/x-python",
   "name": "python",
   "nbconvert_exporter": "python",
   "pygments_lexer": "ipython3",
   "version": "3.7.3"
  }
 },
 "nbformat": 4,
 "nbformat_minor": 4
}
